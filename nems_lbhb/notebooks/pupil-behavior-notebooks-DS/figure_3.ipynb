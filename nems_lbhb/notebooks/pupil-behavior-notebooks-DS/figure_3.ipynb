{
 "cells": [
  {
   "cell_type": "markdown",
   "metadata": {},
   "source": [
    "# Figure 3\n",
    "\n",
    "**A.** Number of units significantly modulated by task, arousal, or both in A1 (left) and IC (right). The total number of recorded units is reported in the center of the doughnut plots. Significance was determined by cross-validated jackknifed t-test, at a cut-off p < 0.05. Purple and green symbols correspond to units with significant unique modulation of task or pupil, respectively. Black symbols correspond to units for which both unique task and pupil contributions are significant. Dark grey symbols correspond to units for which the contribution of task and pupil to model prediction is significant only when both variables are present in the model. Light gray indicates units for which there is no significant improvement in prediction accuracy between full and null models. \n",
    "\n",
    "**B.** Variance explained (R2) in single-trial activity by full model versus null model. Each symbol represents a unit in AC (left) or IC (right; circles for NCIC and triangles for ICC units). Colors as in A. \n",
    "\n",
    "**C.** Active/passive unique variance explained by pupil size (R_AP^2  pupil unique, x-axis) plotted against unique variance explained by task engagement (R_AP^2  task unique, y-axis). Star symbols correspond to examples in Figure 3.2A-D (purple) and E-H (green). Arrow indicates unit with significant R_AP^2  task unique value of 0.23. "
   ]
  },
  {
   "cell_type": "code",
   "execution_count": 1,
   "metadata": {},
   "outputs": [
    {
     "name": "stderr",
     "output_type": "stream",
     "text": [
      "[nems.configs.defaults INFO] Saving log messages to /tmp/nems/NEMS 2019-07-18 154946.log\n"
     ]
    }
   ],
   "source": [
    "import os\n",
    "import numpy as np\n",
    "import matplotlib.pyplot as plt\n",
    "import pandas as pd\n",
    "import seaborn as sns\n",
    "import scipy.stats as sci\n",
    "import statsmodels.formula.api as smf\n",
    "import matplotlib.collections as clt\n",
    "import re\n",
    "import pylab as pl\n",
    "from nems_lbhb.pupil_behavior_scripts.mod_per_state import get_model_results_per_state_model\n",
    "from nems_lbhb.pupil_behavior_scripts.mod_per_state import aud_vs_state\n",
    "from nems_lbhb.pupil_behavior_scripts.mod_per_state import hlf_analysis\n",
    "from nems_lbhb.stateplots import model_per_time_wrapper, beta_comp\n",
    "from functions import *\n",
    "\n",
    "%matplotlib inline\n",
    "os.getcwd()\n",
    "\n",
    "color_b = '#C768D8'\n",
    "color_p = '#47BF55'\n",
    "color_both = 'black'\n",
    "color_either = '#595959'\n",
    "color_ns = 'lightgrey'\n",
    "\n",
    "savefigs = True\n",
    "figs_dir = '/Users/daniela/Documents/2018/AC_IC_project_2018/Task_engagement_pupil_paper/figures'\n",
    "path=os.getcwd()"
   ]
  },
  {
   "cell_type": "code",
   "execution_count": 2,
   "metadata": {},
   "outputs": [],
   "source": [
    "# RUN IF NOT CONNECTED TO SERVER \n",
    "# A1 SUA+MUA: pup vs. beh 307 per state dataframe\n",
    "#d_pb307 = pd.read_csv('d_307_pb.csv') #model sdexp.S rerun November 8 \n",
    "d_pb307 = pd.read_csv('d_307_pb_updated.csv') #model s_sdexp.S rerun January 5 by SVD\n",
    "d_pb307 = d_pb307.drop(['Unnamed: 0'], axis=1)\n",
    "\n",
    "# Add column with R2 for variance analysis\n",
    "d_pb307['R2'] = d_pb307['r']**2 * np.sign(d_pb307['r'])"
   ]
  },
  {
   "cell_type": "code",
   "execution_count": 3,
   "metadata": {},
   "outputs": [
    {
     "data": {
      "text/html": [
       "<div>\n",
       "<style scoped>\n",
       "    .dataframe tbody tr th:only-of-type {\n",
       "        vertical-align: middle;\n",
       "    }\n",
       "\n",
       "    .dataframe tbody tr th {\n",
       "        vertical-align: top;\n",
       "    }\n",
       "\n",
       "    .dataframe thead th {\n",
       "        text-align: right;\n",
       "    }\n",
       "</style>\n",
       "<table border=\"1\" class=\"dataframe\">\n",
       "  <thead>\n",
       "    <tr style=\"text-align: right;\">\n",
       "      <th></th>\n",
       "      <th>cellid</th>\n",
       "      <th>modelname</th>\n",
       "      <th>state_sig</th>\n",
       "      <th>state_chan</th>\n",
       "      <th>MI</th>\n",
       "      <th>isolation</th>\n",
       "      <th>r</th>\n",
       "      <th>r_se</th>\n",
       "      <th>d</th>\n",
       "      <th>g</th>\n",
       "      <th>state_chan_alt</th>\n",
       "      <th>R2</th>\n",
       "    </tr>\n",
       "  </thead>\n",
       "  <tbody>\n",
       "    <tr>\n",
       "      <th>0</th>\n",
       "      <td>BRT039c-40-1</td>\n",
       "      <td>psth.fs20.pup-ld-st.pup0.beh0-ref-psthfr.s_sde...</td>\n",
       "      <td>st.pup0.beh0</td>\n",
       "      <td>baseline</td>\n",
       "      <td>NaN</td>\n",
       "      <td>95.4293</td>\n",
       "      <td>0.452884</td>\n",
       "      <td>0.025611</td>\n",
       "      <td>0.026288</td>\n",
       "      <td>1.022688</td>\n",
       "      <td>baseline</td>\n",
       "      <td>0.205103</td>\n",
       "    </tr>\n",
       "    <tr>\n",
       "      <th>1</th>\n",
       "      <td>BRT039c-40-1</td>\n",
       "      <td>psth.fs20.pup-ld-st.pup0.beh0-ref-psthfr.s_sde...</td>\n",
       "      <td>st.pup0.beh0</td>\n",
       "      <td>pupil</td>\n",
       "      <td>0.010855</td>\n",
       "      <td>95.4293</td>\n",
       "      <td>0.452884</td>\n",
       "      <td>0.025611</td>\n",
       "      <td>0.013340</td>\n",
       "      <td>0.027984</td>\n",
       "      <td>pupil</td>\n",
       "      <td>0.205103</td>\n",
       "    </tr>\n",
       "    <tr>\n",
       "      <th>2</th>\n",
       "      <td>BRT039c-40-1</td>\n",
       "      <td>psth.fs20.pup-ld-st.pup0.beh0-ref-psthfr.s_sde...</td>\n",
       "      <td>st.pup0.beh0</td>\n",
       "      <td>active</td>\n",
       "      <td>-0.000702</td>\n",
       "      <td>95.4293</td>\n",
       "      <td>0.452884</td>\n",
       "      <td>0.025611</td>\n",
       "      <td>0.031175</td>\n",
       "      <td>0.021035</td>\n",
       "      <td>active</td>\n",
       "      <td>0.205103</td>\n",
       "    </tr>\n",
       "    <tr>\n",
       "      <th>3</th>\n",
       "      <td>BRT039c-03-1</td>\n",
       "      <td>psth.fs20.pup-ld-st.pup0.beh0-ref-psthfr.s_sde...</td>\n",
       "      <td>st.pup0.beh0</td>\n",
       "      <td>baseline</td>\n",
       "      <td>NaN</td>\n",
       "      <td>95.0000</td>\n",
       "      <td>0.503120</td>\n",
       "      <td>0.023189</td>\n",
       "      <td>0.000657</td>\n",
       "      <td>1.033564</td>\n",
       "      <td>baseline</td>\n",
       "      <td>0.253130</td>\n",
       "    </tr>\n",
       "    <tr>\n",
       "      <th>4</th>\n",
       "      <td>BRT039c-03-1</td>\n",
       "      <td>psth.fs20.pup-ld-st.pup0.beh0-ref-psthfr.s_sde...</td>\n",
       "      <td>st.pup0.beh0</td>\n",
       "      <td>pupil</td>\n",
       "      <td>-0.005557</td>\n",
       "      <td>95.0000</td>\n",
       "      <td>0.503120</td>\n",
       "      <td>0.023189</td>\n",
       "      <td>0.005256</td>\n",
       "      <td>0.022866</td>\n",
       "      <td>pupil</td>\n",
       "      <td>0.253130</td>\n",
       "    </tr>\n",
       "  </tbody>\n",
       "</table>\n",
       "</div>"
      ],
      "text/plain": [
       "         cellid                                          modelname  \\\n",
       "0  BRT039c-40-1  psth.fs20.pup-ld-st.pup0.beh0-ref-psthfr.s_sde...   \n",
       "1  BRT039c-40-1  psth.fs20.pup-ld-st.pup0.beh0-ref-psthfr.s_sde...   \n",
       "2  BRT039c-40-1  psth.fs20.pup-ld-st.pup0.beh0-ref-psthfr.s_sde...   \n",
       "3  BRT039c-03-1  psth.fs20.pup-ld-st.pup0.beh0-ref-psthfr.s_sde...   \n",
       "4  BRT039c-03-1  psth.fs20.pup-ld-st.pup0.beh0-ref-psthfr.s_sde...   \n",
       "\n",
       "      state_sig state_chan        MI  isolation         r      r_se         d  \\\n",
       "0  st.pup0.beh0   baseline       NaN    95.4293  0.452884  0.025611  0.026288   \n",
       "1  st.pup0.beh0      pupil  0.010855    95.4293  0.452884  0.025611  0.013340   \n",
       "2  st.pup0.beh0     active -0.000702    95.4293  0.452884  0.025611  0.031175   \n",
       "3  st.pup0.beh0   baseline       NaN    95.0000  0.503120  0.023189  0.000657   \n",
       "4  st.pup0.beh0      pupil -0.005557    95.0000  0.503120  0.023189  0.005256   \n",
       "\n",
       "          g state_chan_alt        R2  \n",
       "0  1.022688       baseline  0.205103  \n",
       "1  0.027984          pupil  0.205103  \n",
       "2  0.021035         active  0.205103  \n",
       "3  1.033564       baseline  0.253130  \n",
       "4  0.022866          pupil  0.253130  "
      ]
     },
     "execution_count": 3,
     "metadata": {},
     "output_type": "execute_result"
    }
   ],
   "source": [
    "d_pb307.head()"
   ]
  },
  {
   "cell_type": "markdown",
   "metadata": {},
   "source": [
    "**Find A1 units for which the model prediction with behavior as only state variable signifantly predicts behavior modulation**  \n",
    "significant beh only cells = r_pup0_beh - r_pup0_beh0 > rse_pup0_beh + rse_pup0_beh0 where 'r' is Pearson's correlation"
   ]
  },
  {
   "cell_type": "code",
   "execution_count": 4,
   "metadata": {},
   "outputs": [],
   "source": [
    "cellid_sig_307_beh = find_sig_cellids(d_pb307, state_chan_val='active', condition='pb', sign_type = 'beh')"
   ]
  },
  {
   "cell_type": "markdown",
   "metadata": {},
   "source": [
    "**Find A1 units for which the unique contribution of behavior is significant**  \n",
    "significant beh unique cells = r_pup_beh - r_pup_beh0 > rse_pup_beh + rse_pup_beh0 where 'r' is Pearson's correlation"
   ]
  },
  {
   "cell_type": "code",
   "execution_count": 5,
   "metadata": {},
   "outputs": [],
   "source": [
    "cellid_sig_307_ubeh = find_sig_cellids(d_pb307, state_chan_val='active', condition='pb', sign_type = 'ubeh')"
   ]
  },
  {
   "cell_type": "markdown",
   "metadata": {},
   "source": [
    "**Find A1 units for which the unique contribution of pupil is significant**  \n",
    "significant pupil unique cells = r_pup_beh - r_pup0_beh > rse_pup_beh + rse_pup0_beh where 'r' is Pearson's correlation"
   ]
  },
  {
   "cell_type": "code",
   "execution_count": 6,
   "metadata": {},
   "outputs": [],
   "source": [
    "cellid_sig_307_upup = find_sig_cellids(d_pb307, state_chan_val='active', condition='pb', sign_type = 'upup')"
   ]
  },
  {
   "cell_type": "markdown",
   "metadata": {},
   "source": [
    "**Find A1 units for which the full state model is significant better than the null model (ambiguous)**   \n",
    "significant state cells = r_pup_beh - r_pup0_beh0 > rse_pup_beh + rse_pup0_beh0 where 'r' is Pearson's correlation"
   ]
  },
  {
   "cell_type": "code",
   "execution_count": 7,
   "metadata": {},
   "outputs": [],
   "source": [
    "cellid_sig_307_state = find_sig_cellids(d_pb307, state_chan_val='active', condition='pb', sign_type = 'state')"
   ]
  },
  {
   "cell_type": "code",
   "execution_count": 8,
   "metadata": {},
   "outputs": [
    {
     "name": "stdout",
     "output_type": "stream",
     "text": [
      "51\n",
      "16\n",
      "15\n"
     ]
    }
   ],
   "source": [
    "print(len(cellid_sig_307_state))\n",
    "print(len(cellid_sig_307_upup))\n",
    "print(len(cellid_sig_307_ubeh))"
   ]
  },
  {
   "cell_type": "code",
   "execution_count": 9,
   "metadata": {},
   "outputs": [],
   "source": [
    "# add three columns to original data frame with sign cells per category\n",
    "d_pb307['sig_ubeh'] = d_pb307['cellid'].isin(set(cellid_sig_307_ubeh))\n",
    "d_pb307['sig_upup'] = d_pb307['cellid'].isin(set(cellid_sig_307_upup))\n",
    "d_pb307['sig_state'] = d_pb307['cellid'].isin(set(cellid_sig_307_state))"
   ]
  },
  {
   "cell_type": "markdown",
   "metadata": {},
   "source": [
    "**Scatter plot of R2beh unique vs R2pup unique in A1**  \n",
    "`(R2pup0beh - R2pup0beh0) vs (R2pupbeh0 - R2pup0beh0)`"
   ]
  },
  {
   "cell_type": "code",
   "execution_count": 10,
   "metadata": {},
   "outputs": [],
   "source": [
    "# use one_state funciton to pull a dataframe containing R2beh unique, wich is the difference between R2pupbeh and R2pupbeh0\n",
    "d307_R2_beh_unique = one_state(d_pb307, col_idx='R2', state='unique', state_chan_val='active', \n",
    "                               state_sig1='st.pup.beh', state_sig2='st.pup.beh0', state_var='task', \n",
    "                               condition='pb', columns_to_keep=['sig_ubeh', 'sig_upup', 'sig_state'])"
   ]
  },
  {
   "cell_type": "code",
   "execution_count": 11,
   "metadata": {},
   "outputs": [],
   "source": [
    "# use one_state funciton to pull a dataframe containing R2pup unique, wich is the difference between R2pupbeh and R2pup0beh\n",
    "d307_R2_pup_unique = one_state(d_pb307, col_idx='R2', state='unique', state_chan_val='pupil', \n",
    "                               state_sig1='st.pup.beh', state_sig2='st.pup0.beh', condition='pb',\n",
    "                               state_var='pupil', columns_to_keep=['sig_ubeh', 'sig_upup', 'sig_state'])"
   ]
  },
  {
   "cell_type": "code",
   "execution_count": 12,
   "metadata": {},
   "outputs": [
    {
     "data": {
      "text/plain": [
       "(-0.05, 0.25)"
      ]
     },
     "execution_count": 12,
     "metadata": {},
     "output_type": "execute_result"
    }
   ],
   "source": [
    "xlim=(-0.05,0.25)\n",
    "xlim"
   ]
  },
  {
   "cell_type": "code",
   "execution_count": 13,
   "metadata": {},
   "outputs": [
    {
     "name": "stdout",
     "output_type": "stream",
     "text": [
      "not sig n = 78\n",
      "ubeh or upup n = 24\n",
      "ubeh n = 11\n",
      "upup n = 12\n",
      "ubeh and upup = 4\n"
     ]
    },
    {
     "data": {
      "image/png": "[encoded data removed]",
      "text/plain": [
       "<Figure size 432x432 with 3 Axes>"
      ]
     },
     "metadata": {},
     "output_type": "display_data"
    }
   ],
   "source": [
    "scatter_states(df1=d307_R2_pup_unique, \n",
    "               df2=d307_R2_beh_unique,\n",
    "               margin=False, \n",
    "               area='A1',\n",
    "               column1='R2_pupil_unique', \n",
    "               column2='R2_task_unique',\n",
    "               unit_set='A1307pb', \n",
    "               xlim=(-0.05,0.25), ylim=(-0.05,0.25), \n",
    "               dot_size1=80, dot_size2=140)"
   ]
  },
  {
   "cell_type": "code",
   "execution_count": 14,
   "metadata": {},
   "outputs": [
    {
     "name": "stdout",
     "output_type": "stream",
     "text": [
      "0.39838294141384734 2.928497721436365e-06\n"
     ]
    }
   ],
   "source": [
    "# verify if correlation is significant\n",
    "(cc_R2_307, p_R2_307)=sci.stats.pearsonr(d307_R2_pup_unique['R2_pupil_unique'], d307_R2_beh_unique['R2_task_unique'])\n",
    "print(cc_R2_307, p_R2_307)"
   ]
  }
 ],
 "metadata": {
  "kernelspec": {
   "display_name": "Python 3",
   "language": "python",
   "name": "python3"
  },
  "language_info": {
   "codemirror_mode": {
    "name": "ipython",
    "version": 3
   },
   "file_extension": ".py",
   "mimetype": "text/x-python",
   "name": "python",
   "nbconvert_exporter": "python",
   "pygments_lexer": "ipython3",
   "version": "3.6.8"
  }
 },
 "nbformat": 4,
 "nbformat_minor": 2
}
