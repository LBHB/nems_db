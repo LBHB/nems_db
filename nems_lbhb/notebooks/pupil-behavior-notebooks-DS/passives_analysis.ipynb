{
 "cells": [
  {
   "cell_type": "code",
   "execution_count": 1,
   "metadata": {},
   "outputs": [
    {
     "name": "stderr",
     "output_type": "stream",
     "text": [
      "[nems.configs.defaults INFO] Saving log messages to /tmp/nems/NEMS 2019-02-09 102303.log\n",
      "[nems_web INFO] No value specified for: DEBUG. Using default value in nems_web.configs.defaults\n",
      "[nems_web INFO] No value specified for: CSRF_ENABLED. Using default value in nems_web.configs.defaults\n",
      "[nems_web INFO] No value specified for: CSRF_SESSION_KEY. Using default value in nems_web.configs.defaults\n",
      "[nems_web INFO] No value specified for: SECRET_KEY. Using default value in nems_web.configs.defaults\n",
      "[nems_web INFO] No value specified for: PORT. Using default value in nems_web.configs.defaults\n"
     ]
    }
   ],
   "source": [
    "import os\n",
    "import numpy as np\n",
    "import matplotlib.pyplot as plt\n",
    "import pandas as pd\n",
    "import seaborn as sns\n",
    "import scipy.stats as sci\n",
    "import statsmodels.formula.api as smf\n",
    "import matplotlib.collections as clt\n",
    "import re\n",
    "import pylab as pl\n",
    "from nems_lbhb.pupil_behavior_scripts.mod_per_state import get_model_results_per_state_model\n",
    "from nems_lbhb.pupil_behavior_scripts.mod_per_state import aud_vs_state\n",
    "from nems_lbhb.pupil_behavior_scripts.mod_per_state import hlf_analysis\n",
    "from nems_lbhb.stateplots import model_per_time_wrapper, beta_comp\n",
    "\n",
    "%matplotlib inline\n",
    "os.getcwd()\n",
    "\n",
    "color_b = '#C768D8'\n",
    "color_p = '#47BF55'\n",
    "color_both = '#000000'\n",
    "color_either = '#595959'\n",
    "color_ns = '#BFBFBF'\n",
    "\n",
    "\n",
    "savefigs = True\n",
    "figs_dir = '/Users/daniela/Documents/2018/AC_IC_project_2018/Task_engagement_pupil_paper/figures'\n",
    "path=os.getcwd()"
   ]
  },
  {
   "cell_type": "code",
   "execution_count": 2,
   "metadata": {},
   "outputs": [],
   "source": [
    "def find_sig_cellids(df, state_chan_val='active', condition='pb', sign_type = 'beh'):\n",
    "    '''it takes a Pandas df as an argument and returns a Pandas series with cellids that are significantly modulated \n",
    "    by behavior if sign_type 'beh' according to P\n",
    "    If sign_type = 'state', then it pulls out untis significantly modulated by either state, pupil or behavior'''\n",
    "    \n",
    "    if condition=='pb' and sign_type == 'beh':\n",
    "        df_state = df[df['state_chan']==state_chan_val]\n",
    "        \n",
    "        # Pivot the new df such that you only have r or r_se as data and state_sig as columns\n",
    "        df_r = df_state.pivot(index='cellid', columns='state_sig', values='r')\n",
    "        df_rse = df_state.pivot(index='cellid', columns='state_sig', values='r_se')\n",
    "\n",
    "        df_r['r_diff'] = df_r['st.pup0.beh']-df_r['st.pup0.beh0']\n",
    "        df_rse['r_sum'] = df_rse['st.pup0.beh']+df_rse['st.pup0.beh0']\n",
    "        \n",
    "    elif condition=='pb' and sign_type == 'ubeh':\n",
    "        df_state = df[df['state_chan']==state_chan_val]\n",
    "        \n",
    "        # Pivot the new df such that you only have r or r_se as data and state_sig as columns\n",
    "        df_r = df_state.pivot(index='cellid', columns='state_sig', values='r')\n",
    "        df_rse = df_state.pivot(index='cellid', columns='state_sig', values='r_se')\n",
    "\n",
    "        df_r['r_diff'] = df_r['st.pup.beh']-df_r['st.pup.beh0']\n",
    "        df_rse['r_sum'] = df_rse['st.pup.beh']+df_rse['st.pup.beh0']\n",
    "        \n",
    "    elif condition=='pb' and sign_type == 'upup':\n",
    "        df_state = df[df['state_chan']==state_chan_val]\n",
    "        \n",
    "        # Pivot the new df such that you only have r or r_se as data and state_sig as columns\n",
    "        df_r = df_state.pivot(index='cellid', columns='state_sig', values='r')\n",
    "        df_rse = df_state.pivot(index='cellid', columns='state_sig', values='r_se')\n",
    "\n",
    "        df_r['r_diff'] = df_r['st.pup.beh']-df_r['st.pup0.beh']\n",
    "        df_rse['r_sum'] = df_rse['st.pup.beh']+df_rse['st.pup0.beh']\n",
    "        \n",
    "    elif condition=='pb' and sign_type == 'state':\n",
    "        df_state = df[df['state_chan']==state_chan_val]\n",
    "        \n",
    "        # Pivot the new df such that you only have r or r_se as data and state_sig as columns\n",
    "        df_r = df_state.pivot(index='cellid', columns='state_sig', values='r')\n",
    "        df_rse = df_state.pivot(index='cellid', columns='state_sig', values='r_se')\n",
    "\n",
    "        df_r['r_diff'] = df_r['st.pup.beh']-df_r['st.pup0.beh0']\n",
    "        df_rse['r_sum'] = df_rse['st.pup.beh']+df_rse['st.pup0.beh0']\n",
    "        \n",
    "    elif condition=='pp' and sign_type == 'pas':\n",
    "        df_state = df[df['state_chan_alt']==state_chan_val]\n",
    "        \n",
    "        # Pivot the new df such that you only have r or r_se as data and state_sig as columns\n",
    "        df_r = df_state.pivot(index='cellid', columns='state_sig', values='r')\n",
    "        df_rse = df_state.pivot(index='cellid', columns='state_sig', values='r_se')\n",
    "        \n",
    "        df_r['r_diff'] = df_r['st.pup0.pas']-df_r['st.pup0.pas0']\n",
    "        df_rse['r_sum'] = df_rse['st.pup0.pas']+df_rse['st.pup0.pas0']\n",
    "        \n",
    "        \n",
    "    elif condition=='pp' and sign_type == 'upas':\n",
    "        df_state = df[df['state_chan_alt']==state_chan_val]\n",
    "        \n",
    "        # Pivot the new df such that you only have r or r_se as data and state_sig as columns\n",
    "        df_r = df_state.pivot(index='cellid', columns='state_sig', values='r')\n",
    "        df_rse = df_state.pivot(index='cellid', columns='state_sig', values='r_se')\n",
    "        \n",
    "        df_r['r_diff'] = df_r['st.pup.pas']-df_r['st.pup.pas0']\n",
    "        df_rse['r_sum'] = df_rse['st.pup.pas']+df_rse['st.pup.pas0']\n",
    "        \n",
    "    elif condition=='pp' and sign_type == 'upup':\n",
    "        df_state = df[df['state_chan_alt']==state_chan_val]\n",
    "        \n",
    "        # Pivot the new df such that you only have r or r_se as data and state_sig as columns\n",
    "        df_r = df_state.pivot(index='cellid', columns='state_sig', values='r')\n",
    "        df_rse = df_state.pivot(index='cellid', columns='state_sig', values='r_se')\n",
    "        \n",
    "        df_r['r_diff'] = df_r['st.pup.pas']-df_r['st.pup0.pas']\n",
    "        df_rse['r_sum'] = df_rse['st.pup.pas']+df_rse['st.pup0.pas']\n",
    "        \n",
    "    elif condition=='pp' and sign_type == 'state':\n",
    "        df_state = df[df['state_chan_alt']==state_chan_val]\n",
    "        \n",
    "        # Pivot the new df such that you only have r or r_se as data and state_sig as columns\n",
    "        df_r = df_state.pivot(index='cellid', columns='state_sig', values='r')\n",
    "        df_rse = df_state.pivot(index='cellid', columns='state_sig', values='r_se')\n",
    "        \n",
    "        df_r['r_diff'] = df_r['st.pup.pas']-df_r['st.pup0.pas0']\n",
    "        df_rse['r_sum'] = df_rse['st.pup.pas']+df_rse['st.pup0.pas0']\n",
    "        \n",
    "        \n",
    "    elif condition=='pf' and sign_type == 'beh':\n",
    "        df_state = df[df['state_chan_alt']==state_chan_val]\n",
    "        \n",
    "        # Pivot the new df such that you only have r or r_se as data and state_sig as columns\n",
    "        df_r = df_state.pivot(index='cellid', columns='state_sig', values='r')\n",
    "        df_rse = df_state.pivot(index='cellid', columns='state_sig', values='r_se')\n",
    "        \n",
    "        df_r['r_diff'] = df_r['st.pup0.fil']-df_r['st.pup0.fil0']\n",
    "        df_rse['r_sum'] = df_rse['st.pup0.fil']+df_rse['st.pup0.fil0']\n",
    "        \n",
    "        \n",
    "    elif condition=='fil' and sign_type == 'state':\n",
    "        df_state = df[df['state_chan']==state_chan_val]\n",
    "        \n",
    "        # Pivot the new df such that you only have r or r_se as data and state_sig as columns\n",
    "        df_r = df_state.pivot(index='cellid', columns='state_sig', values='r')\n",
    "        df_rse = df_state.pivot(index='cellid', columns='state_sig', values='r_se')\n",
    "\n",
    "        df_r['r_diff'] = df_r['st.fil']-df_r['st.fil0']\n",
    "        df_rse['r_sum'] = df_rse['st.fil']+df_rse['st.fil0']\n",
    "        \n",
    "        \n",
    "    cellid_sig = df_r[df_r['r_diff']>df_rse['r_sum']].index\n",
    "    \n",
    "    return cellid_sig"
   ]
  },
  {
   "cell_type": "code",
   "execution_count": 3,
   "metadata": {},
   "outputs": [],
   "source": [
    "def one_state(df, col_idx='MI', state='only', state_chan_val='active', state_sig1='st.pup0.beh', state_sig2='st.pup0.beh0',\n",
    "             condition='pb', absolute=None, columns_to_keep=None):\n",
    "    '''it takes a dataframe and a column_index and it returns two dfs with the difference between the values of \n",
    "    the column index one for all cells one for significant cells. e.g. for MI, MIbeh = MIpup0beh-MIpup0beh0.\n",
    "    if absolute is set to 1, then there will be another column with col_idx absolute value'''\n",
    "    \n",
    "    if condition=='pb':\n",
    "        df_state = df[df['state_chan']==state_chan_val]\n",
    "    \n",
    "        df_ss1 = df_state[df_state['state_sig']==state_sig1]\n",
    "        df_ss2 = df_state[df_state['state_sig']==state_sig2]\n",
    "    \n",
    "        # pivot model 1 and 2 to have the column_index for each state_chan\n",
    "        df_ss1_col_idx = df_ss1.pivot(index='cellid', columns='state_chan', values=col_idx)\n",
    "        df_ss2_col_idx = df_ss2.pivot(index='cellid', columns='state_chan', values=col_idx)\n",
    "    \n",
    "    elif condition=='pp' or condition=='pf' or condition=='fil':\n",
    "        df_state = df[df['state_chan_alt']==state_chan_val]\n",
    "    \n",
    "        df_ss1 = df_state[df_state['state_sig']==state_sig1]\n",
    "        df_ss2 = df_state[df_state['state_sig']==state_sig2]\n",
    "    \n",
    "        # pivot model 1 and 2 to have the column_index for each state_chan\n",
    "        df_ss1_col_idx = df_ss1.pivot(index='cellid', columns='state_chan_alt', values=col_idx)\n",
    "        df_ss2_col_idx = df_ss2.pivot(index='cellid', columns='state_chan_alt', values=col_idx)\n",
    "        \n",
    "    \n",
    "    #change name of column to prepare for merging\n",
    "    df_ss2_col_idx = df_ss2_col_idx.rename(index=str, columns={state_chan_val:state_chan_val+'0'})\n",
    "    \n",
    "    #reset index to get rid of multindexing in model 1 and 2\n",
    "    df_ss1_col_idx = df_ss1_col_idx.reset_index()\n",
    "    df_ss2_col_idx = df_ss2_col_idx.reset_index()\n",
    "    \n",
    "    # join dataframes\n",
    "    df_col_idx_state = pd.merge(df_ss1_col_idx, df_ss2_col_idx, how='left', on='cellid')\n",
    "    \n",
    "    # add column with difference between state_chan and state_chan0\n",
    "    df_col_idx_state[col_idx+'_'+state_chan_val+'_'+state] = df_col_idx_state[state_chan_val]-df_col_idx_state[state_chan_val+'0']\n",
    "    \n",
    "    # set the index back to cellid to apply the loc method and get the significant cells\n",
    "    df_col_idx_state = df_col_idx_state.set_index('cellid')\n",
    "    \n",
    "    # if absolute is set to 1, then there will be another column with col_idx absolute value\n",
    "    if absolute==1:\n",
    "        df_col_idx_state[col_idx+'_'+state_chan_val+'_'+state+'_abs'] = abs(df_col_idx_state[col_idx+'_'+state_chan_val+'_'+state])\n",
    "    \n",
    "    #df_col_idx_state = df_col_0idx_state[col_idx+'_'+state_chan_val+'_'+state]\n",
    "    \n",
    "    if columns_to_keep:\n",
    "        # Initialize empty columns to keep all to false\n",
    "        for col in columns_to_keep:\n",
    "            df_col_idx_state[col] = None\n",
    "        # Now fill those columns with the correct values for those cells\n",
    "        for cellid in df_col_idx_state.index.values.tolist():\n",
    "            matching_rows =  df[df['cellid'] == cellid]\n",
    "            # print(matching_rows)\n",
    "            # print(matching_rows.iloc[0])\n",
    "            #print(matching_rows.iloc[0][col])\n",
    "            for col in columns_to_keep:\n",
    "                df_col_idx_state.at[cellid, col] = matching_rows.iloc[0][col]\n",
    "                \n",
    "    return df_col_idx_state"
   ]
  },
  {
   "cell_type": "code",
   "execution_count": 4,
   "metadata": {},
   "outputs": [],
   "source": [
    "def scatter_states(df1, df2, column1, column2, brain_region, xlim, ylim, dot_size1=2, dot_size2=4, title='scatter_states',\n",
    "                   margin=True, bins=None):\n",
    "    '''The basics of this function takes two data frames and specific columns for each data frame\n",
    "    (eg 'MI_active_only' or 'R2_active_unique') and plots the scatter plot between those and the significant units.\n",
    "    \n",
    "    If margin=True, it will plot the marginal distributions'''\n",
    "    \n",
    "    sns.set(style=\"white\")\n",
    "\n",
    "    # Plot non-significant cells first\n",
    "    subset_df1 = df1[(df1['sig_ubeh']==False) & (df1['sig_upup']==False) & (df1['sig_state']==False)]\n",
    "    subset_df2 = df2[(df2['sig_ubeh']==False) & (df2['sig_upup']==False) & (df1['sig_state']==False)]\n",
    "    print('not sig n = {}'.format(len(subset_df1)))\n",
    "    color = color_ns\n",
    "    scatplot = sns.JointGrid(x=subset_df1[column1], y=subset_df2[column2], xlim=xlim, ylim=ylim)\n",
    "    scatplot = scatplot.plot_joint(plt.scatter, color=color, edgecolor=\"white\", s=dot_size1, linewidth=0.3)\n",
    "\n",
    "    # Plot the significant ubeh or upup cells\n",
    "    subset_df1 = df1[(df1['sig_ubeh']==False) & (df1['sig_upup']==False) & (df1['sig_state']==True)]\n",
    "    subset_df2 = df2[(df2['sig_ubeh']==False) & (df2['sig_upup']==False) & (df1['sig_state']==True)]\n",
    "    print('ubeh or upup n = {}'.format(len(subset_df1)))\n",
    "    color = color_either\n",
    "    scatplot.ax_joint.scatter(subset_df1[column1], subset_df2[column2], color=color, s=dot_size2, edgecolor='white', linewidth=0.3)\n",
    "    \n",
    "    # Plot sig_ubeh cells\n",
    "    subset_df1 = df1[(df1['sig_ubeh']==True) & (df1['sig_upup']==False)]\n",
    "    subset_df2 = df2[(df2['sig_ubeh']==True) & (df2['sig_upup']==False)]\n",
    "    print('ubeh n = {}'.format(len(subset_df1)))\n",
    "    color = color_b\n",
    "    scatplot.ax_joint.scatter(subset_df1[column1], subset_df2[column2], color=color, s=dot_size2, edgecolor='white', linewidth=0.3)\n",
    "    \n",
    "    # Plot sig_upup cells \n",
    "    subset_df1 = df1[(df1['sig_ubeh']==False) & (df1['sig_upup']==True)]\n",
    "    subset_df2 = df2[(df2['sig_ubeh']==False) & (df2['sig_upup']==True)]\n",
    "    print('upup n = {}'.format(len(subset_df1)))\n",
    "    color = color_p\n",
    "    scatplot.ax_joint.scatter(subset_df1[column1], subset_df2[column2], color=color, s=dot_size2, edgecolor='white', linewidth=0.3)\n",
    "    \n",
    "    # Plot the significant both pup and beh\n",
    "    subset_df1 = df1[(df1['sig_ubeh']==True) & (df1['sig_upup']==True)]\n",
    "    subset_df2 = df2[(df2['sig_ubeh']==True) & (df2['sig_upup']==True)]\n",
    "    print('ubeh and upup = {}'.format(len(subset_df1)))\n",
    "    color = color_both\n",
    "    scatplot.ax_joint.scatter(subset_df1[column1], subset_df2[column2], color=color, s=dot_size2, edgecolor='white', linewidth=0.3)\n",
    "    \n",
    "    \n",
    "    # scatplot = scatplot.plot_joint(plt.scatter, color=color, edgecolor=\"white\", s=dot_size1)\n",
    "\n",
    "    \n",
    "#     if df2_sig is None:\n",
    "#         scatplot = sns.scatterplot(x=df1[column1], y=df2[column2], alpha=1, color=color, size=dot_size1)\n",
    "#         plt.xlim(xlim)\n",
    "#         plt.ylim(ylim)\n",
    "#         scatplot.set_aspect('equal')\n",
    "        \n",
    "#     elif df2_sig is not None and margin == False:\n",
    "#         scatplot = sns.JointGrid(x=df1[column1], y=df2[column2], xlim = xlim, ylim = ylim)\n",
    "#         # Plot the cells\n",
    "#         scatplot = scatplot.plot_joint(plt.scatter, color=color, edgecolor=\"white\", s=dot_size1)\n",
    "#         scatplot.ax_joint.scatter(df1_sig[column1], df2_sig[column2], color=color_sig, edgecolor='white', s=dot_size2)\n",
    "        \n",
    "#     elif df2_sig is not None and margin == True:\n",
    "#         scatplot = sns.JointGrid(x=df1[column1], y=df2[column2], xlim = xlim, ylim = ylim)\n",
    "#         scatplot = scatplot.plot_joint(plt.scatter, color=color, edgecolor=\"white\", s=dot_size1)\n",
    "#         scatplot.ax_joint.scatter(df1_sig[column1], df2_sig[column2], color=color_sig, edgecolor='white', s=dot_size2)\n",
    "         \n",
    "#         _ = scatplot.ax_marg_x.hist(df1[column1], color=color, edgecolor='white', alpha=1, bins=bins)\n",
    "#         _ = scatplot.ax_marg_y.hist(df2[column2], color=color, edgecolor='white', alpha=1, orientation='horizontal', bins=bins)\n",
    "        \n",
    "#         _ = scatplot.ax_marg_x.hist(df1_sig[column1], color=color_sig, edgecolor='white', alpha=1, bins=bins)\n",
    "#         _ = scatplot.ax_marg_y.hist(df2_sig[column2], color=color_sig, edgecolor='white', alpha=1, orientation='horizontal',\n",
    "#                                    bins=bins)\n",
    "    \n",
    "    plt.axvline(0, linestyle='--', linewidth=0.5, color='k')\n",
    "    plt.axhline(0, linestyle='--', linewidth=0.5, color='k')\n",
    "\n",
    "    # need a slope and c to fix the position of line\n",
    "    slope = 1\n",
    "    c = xlim[0]\n",
    "\n",
    "    x_min = xlim[0]\n",
    "    x_max = xlim[1]\n",
    "    y_min, y_max = c, c + slope*(x_max-x_min)\n",
    "    plt.plot([x_min, x_max], [y_min, y_max], linewidth=0.5, linestyle='--', color='k')\n",
    "    \n",
    "    plt.xlabel(brain_region+'_'+column1)\n",
    "    plt.ylabel(brain_region+'_'+column2) \n",
    "    \n",
    "    plt.savefig(brain_region+'_'+column1+column2+title+'.pdf')"
   ]
  },
  {
   "cell_type": "code",
   "execution_count": 29,
   "metadata": {},
   "outputs": [],
   "source": [
    "def scatter_states(df1, df2, column1, column2, brain_region, xlim, ylim, dot_size1=2, dot_size2=4, title='scatter_states',\n",
    "                   margin=True, bins=None):\n",
    "    '''The basics of this function takes two data frames and specific columns for each data frame\n",
    "    (eg 'MI_active_only' or 'R2_active_unique') and plots the scatter plot between those and the significant units.\n",
    "    \n",
    "    If margin=True, it will plot the marginal distributions'''\n",
    "    \n",
    "    sns.set(style=\"white\")\n",
    "\n",
    "    # Plot non-significant cells first\n",
    "    subset_df1 = df1[(df1['sig_ubeh']==False) & (df1['sig_upup']==False) & (df1['sig_state']==False)]\n",
    "    subset_df2 = df2[(df2['sig_ubeh']==False) & (df2['sig_upup']==False) & (df1['sig_state']==False)]\n",
    "    print('not sig n = {}'.format(len(subset_df1)))\n",
    "    color = color_ns\n",
    "    scatplot = sns.JointGrid(x=subset_df1[column1], y=subset_df2[column2], xlim=xlim, ylim=ylim)\n",
    "    scatplot = scatplot.plot_joint(plt.scatter, color=color, edgecolor=\"white\", s=dot_size1, linewidth=0.3)\n",
    "\n",
    "    # Plot the significant ubeh or upup cells\n",
    "    subset_df1 = df1[(df1['sig_ubeh']==False) & (df1['sig_upup']==False) & (df1['sig_state']==True)]\n",
    "    subset_df2 = df2[(df2['sig_ubeh']==False) & (df2['sig_upup']==False) & (df1['sig_state']==True)]\n",
    "    print('ubeh or upup n = {}'.format(len(subset_df1)))\n",
    "    color = '#595959'\n",
    "    scatplot.ax_joint.scatter(subset_df1[column1], subset_df2[column2], color=color, s=dot_size2, edgecolor='white', linewidth=0.3)\n",
    "    \n",
    "    # Plot sig_ubeh cells\n",
    "    subset_df1 = df1[(df1['sig_ubeh']==True) & (df1['sig_upup']==False)]\n",
    "    subset_df2 = df2[(df2['sig_ubeh']==True) & (df2['sig_upup']==False)]\n",
    "    print('ubeh n = {}'.format(len(subset_df1)))\n",
    "    color = '#82418B'\n",
    "    scatplot.ax_joint.scatter(subset_df1[column1], subset_df2[column2], color=color, s=dot_size2, edgecolor='white', linewidth=0.3)\n",
    "    \n",
    "    # Plot sig_upup cells \n",
    "    subset_df1 = df1[(df1['sig_ubeh']==False) & (df1['sig_upup']==True)]\n",
    "    subset_df2 = df2[(df2['sig_ubeh']==False) & (df2['sig_upup']==True)]\n",
    "    print('upup n = {}'.format(len(subset_df1)))\n",
    "    color = '#2E7E3E'\n",
    "    scatplot.ax_joint.scatter(subset_df1[column1], subset_df2[column2], color=color, s=dot_size2, edgecolor='white', linewidth=0.3)\n",
    "    \n",
    "    # Plot the significant both pup and beh\n",
    "    subset_df1 = df1[(df1['sig_ubeh']==True) & (df1['sig_upup']==True)]\n",
    "    subset_df2 = df2[(df2['sig_ubeh']==True) & (df2['sig_upup']==True)]\n",
    "    print('ubeh and upup = {}'.format(len(subset_df1)))\n",
    "    color = 'black'\n",
    "    scatplot.ax_joint.scatter(subset_df1[column1], subset_df2[column2], color=color, s=dot_size2, edgecolor='white', linewidth=0.3)\n",
    "    \n",
    "    \n",
    "    plt.axvline(0, linestyle='--', linewidth=0.5, color='k')\n",
    "    plt.axhline(0, linestyle='--', linewidth=0.5, color='k')\n",
    "\n",
    "    # need a slope and c to fix the position of line\n",
    "    slope = 1\n",
    "    c = xlim[0]\n",
    "\n",
    "    x_min = xlim[0]\n",
    "    x_max = xlim[1]\n",
    "    y_min, y_max = c, c + slope*(x_max-x_min)\n",
    "    plt.plot([x_min, x_max], [y_min, y_max], linewidth=0.5, linestyle='--', color='k')\n",
    "    \n",
    "    plt.xlabel(brain_region+'_'+column1)\n",
    "    plt.ylabel(brain_region+'_'+column2) \n",
    "    \n",
    "    plt.savefig(brain_region+'_'+column1+column2+title+'.pdf')"
   ]
  },
  {
   "cell_type": "code",
   "execution_count": 30,
   "metadata": {},
   "outputs": [],
   "source": [
    "# A1 SUA+MUA: pup vs. passive 307 per state dataframe\n",
    "d_pp307 = pd.read_csv('d_pp307.csv') # updated to sdexp model run on Jan 15, 2019\n",
    "d_pp307 = d_pp307.drop(['Unnamed: 0'], axis=1)\n",
    "\n",
    "# Add column with R2 for variance analysis\n",
    "d_pp307['R2'] = d_pp307['r']**2"
   ]
  },
  {
   "cell_type": "code",
   "execution_count": 31,
   "metadata": {},
   "outputs": [],
   "source": [
    "#A1 SUA+MUA: pup vs. beh 307 per state dataframe \n",
    "d_pb307 = pd.read_csv('d_307_pb_updated.csv') #model s_sdexp.S rerun January 5 by SVD\n",
    "d_pb307 = d_pb307.drop(['Unnamed: 0'], axis=1)\n",
    "\n",
    "# Add column with R2 for variance analysis\n",
    "d_pb307['R2'] = d_pb307['r']**2 * np.sign(d_pb307['r'])"
   ]
  },
  {
   "cell_type": "code",
   "execution_count": 32,
   "metadata": {},
   "outputs": [
    {
     "data": {
      "text/html": [
       "<div>\n",
       "<style scoped>\n",
       "    .dataframe tbody tr th:only-of-type {\n",
       "        vertical-align: middle;\n",
       "    }\n",
       "\n",
       "    .dataframe tbody tr th {\n",
       "        vertical-align: top;\n",
       "    }\n",
       "\n",
       "    .dataframe thead th {\n",
       "        text-align: right;\n",
       "    }\n",
       "</style>\n",
       "<table border=\"1\" class=\"dataframe\">\n",
       "  <thead>\n",
       "    <tr style=\"text-align: right;\">\n",
       "      <th></th>\n",
       "      <th>cellid</th>\n",
       "      <th>modelname</th>\n",
       "      <th>state_sig</th>\n",
       "      <th>state_chan</th>\n",
       "      <th>MI</th>\n",
       "      <th>isolation</th>\n",
       "      <th>r</th>\n",
       "      <th>r_se</th>\n",
       "      <th>d</th>\n",
       "      <th>g</th>\n",
       "      <th>state_chan_alt</th>\n",
       "      <th>R2</th>\n",
       "    </tr>\n",
       "  </thead>\n",
       "  <tbody>\n",
       "    <tr>\n",
       "      <th>0</th>\n",
       "      <td>BRT039c-25-1</td>\n",
       "      <td>psth.fs20.pup-ld-st.pup0.pas0-ref-pas-psthfr.s...</td>\n",
       "      <td>st.pup0.pas0</td>\n",
       "      <td>baseline</td>\n",
       "      <td>NaN</td>\n",
       "      <td>95.0</td>\n",
       "      <td>0.653687</td>\n",
       "      <td>0.019939</td>\n",
       "      <td>0.021312</td>\n",
       "      <td>1.041525</td>\n",
       "      <td>baseline</td>\n",
       "      <td>0.427307</td>\n",
       "    </tr>\n",
       "    <tr>\n",
       "      <th>1</th>\n",
       "      <td>BRT039c-25-1</td>\n",
       "      <td>psth.fs20.pup-ld-st.pup0.pas0-ref-pas-psthfr.s...</td>\n",
       "      <td>st.pup0.pas0</td>\n",
       "      <td>pupil</td>\n",
       "      <td>0.011212</td>\n",
       "      <td>95.0</td>\n",
       "      <td>0.653687</td>\n",
       "      <td>0.019939</td>\n",
       "      <td>-0.019485</td>\n",
       "      <td>-0.085180</td>\n",
       "      <td>pupil</td>\n",
       "      <td>0.427307</td>\n",
       "    </tr>\n",
       "    <tr>\n",
       "      <th>2</th>\n",
       "      <td>BRT039c-25-1</td>\n",
       "      <td>psth.fs20.pup-ld-st.pup0.pas0-ref-pas-psthfr.s...</td>\n",
       "      <td>st.pup0.pas0</td>\n",
       "      <td>FILE_BRT039c07_p_PTD</td>\n",
       "      <td>0.003108</td>\n",
       "      <td>95.0</td>\n",
       "      <td>0.653687</td>\n",
       "      <td>0.019939</td>\n",
       "      <td>0.078495</td>\n",
       "      <td>-0.178006</td>\n",
       "      <td>PASSIVE_1</td>\n",
       "      <td>0.427307</td>\n",
       "    </tr>\n",
       "    <tr>\n",
       "      <th>3</th>\n",
       "      <td>BRT039c-25-1</td>\n",
       "      <td>psth.fs20.pup-ld-st.pup0.pas0-ref-pas-psthfr.s...</td>\n",
       "      <td>st.pup0.pas0</td>\n",
       "      <td>FILE_BRT039c09_p_PTD</td>\n",
       "      <td>0.003375</td>\n",
       "      <td>95.0</td>\n",
       "      <td>0.653687</td>\n",
       "      <td>0.019939</td>\n",
       "      <td>0.120109</td>\n",
       "      <td>-0.325959</td>\n",
       "      <td>PASSIVE_2</td>\n",
       "      <td>0.427307</td>\n",
       "    </tr>\n",
       "    <tr>\n",
       "      <th>4</th>\n",
       "      <td>BRT039c-03-1</td>\n",
       "      <td>psth.fs20.pup-ld-st.pup0.pas0-ref-pas-psthfr.s...</td>\n",
       "      <td>st.pup0.pas0</td>\n",
       "      <td>baseline</td>\n",
       "      <td>NaN</td>\n",
       "      <td>95.0</td>\n",
       "      <td>0.561822</td>\n",
       "      <td>0.025590</td>\n",
       "      <td>-0.009236</td>\n",
       "      <td>0.908014</td>\n",
       "      <td>baseline</td>\n",
       "      <td>0.315644</td>\n",
       "    </tr>\n",
       "  </tbody>\n",
       "</table>\n",
       "</div>"
      ],
      "text/plain": [
       "         cellid                                          modelname  \\\n",
       "0  BRT039c-25-1  psth.fs20.pup-ld-st.pup0.pas0-ref-pas-psthfr.s...   \n",
       "1  BRT039c-25-1  psth.fs20.pup-ld-st.pup0.pas0-ref-pas-psthfr.s...   \n",
       "2  BRT039c-25-1  psth.fs20.pup-ld-st.pup0.pas0-ref-pas-psthfr.s...   \n",
       "3  BRT039c-25-1  psth.fs20.pup-ld-st.pup0.pas0-ref-pas-psthfr.s...   \n",
       "4  BRT039c-03-1  psth.fs20.pup-ld-st.pup0.pas0-ref-pas-psthfr.s...   \n",
       "\n",
       "      state_sig            state_chan        MI  isolation         r  \\\n",
       "0  st.pup0.pas0              baseline       NaN       95.0  0.653687   \n",
       "1  st.pup0.pas0                 pupil  0.011212       95.0  0.653687   \n",
       "2  st.pup0.pas0  FILE_BRT039c07_p_PTD  0.003108       95.0  0.653687   \n",
       "3  st.pup0.pas0  FILE_BRT039c09_p_PTD  0.003375       95.0  0.653687   \n",
       "4  st.pup0.pas0              baseline       NaN       95.0  0.561822   \n",
       "\n",
       "       r_se         d         g state_chan_alt        R2  \n",
       "0  0.019939  0.021312  1.041525       baseline  0.427307  \n",
       "1  0.019939 -0.019485 -0.085180          pupil  0.427307  \n",
       "2  0.019939  0.078495 -0.178006      PASSIVE_1  0.427307  \n",
       "3  0.019939  0.120109 -0.325959      PASSIVE_2  0.427307  \n",
       "4  0.025590 -0.009236  0.908014       baseline  0.315644  "
      ]
     },
     "execution_count": 32,
     "metadata": {},
     "output_type": "execute_result"
    }
   ],
   "source": [
    "d_pp307.head()"
   ]
  },
  {
   "cell_type": "code",
   "execution_count": 33,
   "metadata": {},
   "outputs": [],
   "source": [
    "cellid_sig_307_beh = find_sig_cellids(d_pb307, state_chan_val='active', condition='pb', sign_type = 'beh')"
   ]
  },
  {
   "cell_type": "code",
   "execution_count": 34,
   "metadata": {},
   "outputs": [],
   "source": [
    "cellid_sig_307_ubeh = find_sig_cellids(d_pb307, state_chan_val='active', condition='pb', sign_type = 'ubeh')"
   ]
  },
  {
   "cell_type": "code",
   "execution_count": 35,
   "metadata": {},
   "outputs": [],
   "source": [
    "cellid_sig_307_upup = find_sig_cellids(d_pb307, state_chan_val='active', condition='pb', sign_type = 'upup')"
   ]
  },
  {
   "cell_type": "code",
   "execution_count": 36,
   "metadata": {},
   "outputs": [],
   "source": [
    "cellid_sig_307_state = find_sig_cellids(d_pb307, state_chan_val='active', condition='pb', sign_type = 'state')"
   ]
  },
  {
   "cell_type": "code",
   "execution_count": 37,
   "metadata": {},
   "outputs": [],
   "source": [
    "# add three columns to original data frame with sign cells per category\n",
    "#d_pp307['sig_upas'] = d_pp307['cellid'].isin(set(cellid_sig_307_upas))\n",
    "#d_pp307['sig_upup'] = d_pp307['cellid'].isin(set(cellid_sig_307_upup))\n",
    "#d_pp307['sig_state'] = d_pp307['cellid'].isin(set(cellid_sig_307_state))"
   ]
  },
  {
   "cell_type": "code",
   "execution_count": 38,
   "metadata": {},
   "outputs": [],
   "source": [
    "d_pp307['sig_ubeh'] = d_pb307['cellid'].isin(set(cellid_sig_307_ubeh))\n",
    "d_pp307['sig_upup'] = d_pb307['cellid'].isin(set(cellid_sig_307_upup))\n",
    "d_pp307['sig_state'] = d_pb307['cellid'].isin(set(cellid_sig_307_state))"
   ]
  },
  {
   "cell_type": "code",
   "execution_count": 39,
   "metadata": {},
   "outputs": [],
   "source": [
    "# use one_state funciton to pull a dataframe containing MIpas unique, wich is the difference between MIpupbeh and MIpuppas0\n",
    "d307_MI_pas_unique = one_state(d_pp307, col_idx='MI', state='unique', state_chan_val='PASSIVE_1', \n",
    "                               state_sig1='st.pup.pas', state_sig2='st.pup.pas0', condition='pp',\n",
    "                               columns_to_keep=['sig_ubeh', 'sig_upup', 'sig_state'])"
   ]
  },
  {
   "cell_type": "code",
   "execution_count": 40,
   "metadata": {},
   "outputs": [],
   "source": [
    "# use one_state funciton to pull a dataframe containing MIpup unique, wich is the difference between MIpupbeh and MIpup0beh\n",
    "d307_MI_pup_unique = one_state(d_pp307, col_idx='MI', state='unique', state_chan_val='pupil', \n",
    "                               state_sig1='st.pup.pas', state_sig2='st.pup0.pas', condition='pp',\n",
    "                               columns_to_keep=['sig_ubeh', 'sig_upup', 'sig_state'])"
   ]
  },
  {
   "cell_type": "code",
   "execution_count": 41,
   "metadata": {},
   "outputs": [],
   "source": [
    "# use one_state funciton to pull a dataframe containing MIbeh, wich is the difference between MIpup0beh and MIpup0beh0\n",
    "d307_MI_pas_only = one_state(d_pp307, col_idx='MI', state='only', state_chan_val='PASSIVE_1', \n",
    "                               state_sig1='st.pup0.pas', state_sig2='st.pup0.pas0', condition='pp',\n",
    "                               columns_to_keep=['sig_ubeh', 'sig_upup', 'sig_state'])"
   ]
  },
  {
   "cell_type": "code",
   "execution_count": 42,
   "metadata": {},
   "outputs": [
    {
     "name": "stdout",
     "output_type": "stream",
     "text": [
      "not sig n = 68\n",
      "ubeh or upup n = 20\n",
      "ubeh n = 8\n",
      "upup n = 8\n",
      "ubeh and upup = 3\n"
     ]
    },
    {
     "data": {
      "image/png": "[encoded data removed]",
      "text/plain": [
       "<matplotlib.figure.Figure at 0x10fce1518>"
      ]
     },
     "metadata": {},
     "output_type": "display_data"
    }
   ],
   "source": [
    "scatter_states(df1=d307_MI_pas_only, \n",
    "               df2=d307_MI_pas_unique,\n",
    "               margin=False, \n",
    "               column1='MI_PASSIVE_1_only', \n",
    "               column2='MI_PASSIVE_1_unique',\n",
    "               brain_region='A1307pp_unique', \n",
    "               xlim=(-0.8,0.8), ylim=(-0.8,0.8), \n",
    "               dot_size1=80, dot_size2=140)"
   ]
  },
  {
   "cell_type": "code",
   "execution_count": 43,
   "metadata": {},
   "outputs": [
    {
     "name": "stdout",
     "output_type": "stream",
     "text": [
      "not sig n = 68\n",
      "ubeh or upup n = 20\n",
      "ubeh n = 8\n",
      "upup n = 8\n",
      "ubeh and upup = 3\n"
     ]
    },
    {
     "data": {
      "image/png": "[encoded data removed]",
      "text/plain": [
       "<matplotlib.figure.Figure at 0x10fc32b38>"
      ]
     },
     "metadata": {},
     "output_type": "display_data"
    }
   ],
   "source": [
    "scatter_states(df1=d307_MI_pas_only, \n",
    "               df2=d307_MI_pas_unique,\n",
    "               margin=True, \n",
    "               column1='MI_PASSIVE_1_only', \n",
    "               column2='MI_PASSIVE_1_unique',\n",
    "               brain_region='A1307pp_unique', \n",
    "               xlim=(-0.5,0.5), ylim=(-0.5,0.5), \n",
    "               dot_size1=80, dot_size2=140)"
   ]
  },
  {
   "cell_type": "code",
   "execution_count": 44,
   "metadata": {},
   "outputs": [],
   "source": [
    "# IC SUA+MUA: pup vs. passive 309 per state dataframe\n",
    "d_pp309 = pd.read_csv('d_pp309.csv') # updated to sdexp model run on Jan 15, 2019\n",
    "d_pp309 = d_pp309.drop(['Unnamed: 0'], axis=1)\n",
    "\n",
    "# Add column with R2 for variance analysis\n",
    "d_pp309['R2'] = d_pp309['r']**2"
   ]
  },
  {
   "cell_type": "code",
   "execution_count": 45,
   "metadata": {},
   "outputs": [],
   "source": [
    "# IC SUA+MUA: pup vs. beh 309 per state dataframe\n",
    "d_pb309 = pd.read_csv('d_309_pb_updated.csv')\n",
    "d_pb309 = d_pb309.drop(['Unnamed: 0'], axis=1)\n",
    "\n",
    "# Add column with R2 for variance analysis\n",
    "d_pb309['R2'] = d_pb309['r']**2 * np.sign(d_pb309['r'])"
   ]
  },
  {
   "cell_type": "code",
   "execution_count": 46,
   "metadata": {},
   "outputs": [],
   "source": [
    "cellid_sig_309_state = find_sig_cellids(d_pb309, state_chan_val='active', condition='pb', sign_type = 'state')\n",
    "cellid_sig_309_ubeh = find_sig_cellids(d_pb309, state_chan_val='active', condition='pb', sign_type = 'ubeh')\n",
    "cellid_sig_309_upup = find_sig_cellids(d_pb309, state_chan_val='active', condition='pb', sign_type = 'upup')"
   ]
  },
  {
   "cell_type": "code",
   "execution_count": 47,
   "metadata": {},
   "outputs": [],
   "source": [
    "d_pp309['sig_ubeh'] = d_pb309['cellid'].isin(set(cellid_sig_309_ubeh))\n",
    "d_pp309['sig_upup'] = d_pb309['cellid'].isin(set(cellid_sig_309_upup))\n",
    "d_pp309['sig_state'] = d_pb309['cellid'].isin(set(cellid_sig_309_state))"
   ]
  },
  {
   "cell_type": "code",
   "execution_count": 48,
   "metadata": {},
   "outputs": [],
   "source": [
    "# use one_state funciton to pull a dataframe containing MIpas unique, wich is the difference between MIpupbeh and MIpuppas0\n",
    "d309_MI_pas_unique = one_state(d_pp309, col_idx='MI', state='unique', state_chan_val='PASSIVE_1', \n",
    "                               state_sig1='st.pup.pas', state_sig2='st.pup.pas0', condition='pp',\n",
    "                               columns_to_keep=['sig_ubeh', 'sig_upup', 'sig_state'])\n",
    "\n",
    "d309_MI_pup_unique = one_state(d_pp309, col_idx='MI', state='unique', state_chan_val='pupil', \n",
    "                               state_sig1='st.pup.pas', state_sig2='st.pup0.pas', condition='pp',\n",
    "                               columns_to_keep=['sig_ubeh', 'sig_upup', 'sig_state'])\n",
    "\n",
    "d309_MI_pas_only = one_state(d_pp309, col_idx='MI', state='only', state_chan_val='PASSIVE_1', \n",
    "                               state_sig1='st.pup0.pas', state_sig2='st.pup0.pas0', condition='pp',\n",
    "                               columns_to_keep=['sig_ubeh', 'sig_upup', 'sig_state'])"
   ]
  },
  {
   "cell_type": "code",
   "execution_count": 49,
   "metadata": {},
   "outputs": [
    {
     "name": "stdout",
     "output_type": "stream",
     "text": [
      "not sig n = 31\n",
      "ubeh or upup n = 9\n",
      "ubeh n = 3\n",
      "upup n = 11\n",
      "ubeh and upup = 5\n"
     ]
    },
    {
     "data": {
      "image/png": "[encoded data removed]",
      "text/plain": [
       "<matplotlib.figure.Figure at 0x10f7860f0>"
      ]
     },
     "metadata": {},
     "output_type": "display_data"
    }
   ],
   "source": [
    "scatter_states(df1=d309_MI_pas_only, \n",
    "               df2=d309_MI_pas_unique,\n",
    "               margin=False, \n",
    "               column1='MI_PASSIVE_1_only', \n",
    "               column2='MI_PASSIVE_1_unique',\n",
    "               brain_region='IC309pp_unique', \n",
    "               xlim=(-0.5,0.5), ylim=(-0.5,0.5), \n",
    "               dot_size1=80, dot_size2=140)"
   ]
  },
  {
   "cell_type": "code",
   "execution_count": 50,
   "metadata": {},
   "outputs": [
    {
     "name": "stdout",
     "output_type": "stream",
     "text": [
      "not sig n = 31\n",
      "ubeh or upup n = 9\n",
      "ubeh n = 3\n",
      "upup n = 11\n",
      "ubeh and upup = 5\n"
     ]
    },
    {
     "data": {
      "image/png": "[encoded data removed]",
      "text/plain": [
       "<matplotlib.figure.Figure at 0x10f786978>"
      ]
     },
     "metadata": {},
     "output_type": "display_data"
    }
   ],
   "source": [
    "scatter_states(df1=d309_MI_pas_only, \n",
    "               df2=d309_MI_pas_unique,\n",
    "               margin=False, \n",
    "               column1='MI_PASSIVE_1_only', \n",
    "               column2='MI_PASSIVE_1_unique',\n",
    "               brain_region='IC309pp_unique', \n",
    "               xlim=(-0.2,0.45), ylim=(-0.2,0.45), \n",
    "               dot_size1=80, dot_size2=140)"
   ]
  },
  {
   "cell_type": "code",
   "execution_count": 58,
   "metadata": {},
   "outputs": [
    {
     "name": "stdout",
     "output_type": "stream",
     "text": [
      "WilcoxonResult(statistic=1504.0, pvalue=1.6729073898912104e-05)\n",
      "WilcoxonResult(statistic=309.0, pvalue=1.3761389355681974e-05)\n",
      "WilcoxonResult(statistic=2519.0, pvalue=0.25015858606393704)\n",
      "WilcoxonResult(statistic=550.0, pvalue=0.011452760899099112)\n"
     ]
    }
   ],
   "source": [
    "sign_A1 = np.sign((d307_MI_pas_only['MI_PASSIVE_1_only'] + d307_MI_pas_unique['MI_PASSIVE_1_unique'])/2)\n",
    "signed_diff_A1 = (d307_MI_pas_only['MI_PASSIVE_1_only'] - d307_MI_pas_unique['MI_PASSIVE_1_unique']) * sign_A1\n",
    "\n",
    "sign_IC = np.sign((d309_MI_pas_only['MI_PASSIVE_1_only'] + d309_MI_pas_unique['MI_PASSIVE_1_unique'])/2)\n",
    "signed_diff_IC = (d309_MI_pas_only['MI_PASSIVE_1_only'] - d309_MI_pas_unique['MI_PASSIVE_1_unique']) * sign_IC\n",
    "\n",
    "print(sci.wilcoxon(signed_diff_A1, zero_method='pratt'))\n",
    "print(sci.wilcoxon(signed_diff_IC, zero_method='pratt'))\n",
    "\n",
    "print(sci.wilcoxon(d307_MI_pas_only['MI_PASSIVE_1_only'], \n",
    "                   d307_MI_pas_unique['MI_PASSIVE_1_unique'], \n",
    "                   zero_method='pratt'))\n",
    "\n",
    "print(sci.wilcoxon(d309_MI_pas_only['MI_PASSIVE_1_only'], \n",
    "                   d309_MI_pas_unique['MI_PASSIVE_1_unique'], \n",
    "                   zero_method='pratt'))"
   ]
  },
  {
   "cell_type": "code",
   "execution_count": 60,
   "metadata": {},
   "outputs": [
    {
     "name": "stdout",
     "output_type": "stream",
     "text": [
      "WilcoxonResult(statistic=1497.0, pvalue=1.5159904138013876e-05)\n",
      "WilcoxonResult(statistic=301.0, pvalue=1.0432089192726048e-05)\n"
     ]
    }
   ],
   "source": [
    "print(sci.wilcoxon(abs(d307_MI_pas_only['MI_PASSIVE_1_only']), abs(d307_MI_pas_unique['MI_PASSIVE_1_unique']), zero_method='pratt'))\n",
    "print(sci.wilcoxon(abs(d309_MI_pas_only['MI_PASSIVE_1_only']), abs(d309_MI_pas_unique['MI_PASSIVE_1_unique']), zero_method='pratt'))"
   ]
  },
  {
   "cell_type": "code",
   "execution_count": 57,
   "metadata": {},
   "outputs": [
    {
     "name": "stdout",
     "output_type": "stream",
     "text": [
      "A1 passive only 1-2 median is 0.007045755254585737\n",
      "A1 passive unique 1-2 median is 0.021632999621473956\n",
      "IC passive only 1-2 median is 0.030699957462338594\n",
      "IC passive unique 1-2 median is 0.011066176897131345\n"
     ]
    }
   ],
   "source": [
    "A1_median_only = d307_MI_pas_only['MI_PASSIVE_1_only'].median()\n",
    "print('A1 passive only 1-2 median is {}'.format(A1_median_only))\n",
    "\n",
    "A1_median_unique = d307_MI_pas_unique['MI_PASSIVE_1_unique'].median()\n",
    "print('A1 passive unique 1-2 median is {}'.format(A1_median_unique))\n",
    "\n",
    "\n",
    "IC_median_only = d309_MI_pas_only['MI_PASSIVE_1_only'].median()\n",
    "print('IC passive only 1-2 median is {}'.format(IC_median_only))\n",
    "\n",
    "IC_median_unique = d309_MI_pas_unique['MI_PASSIVE_1_unique'].median()\n",
    "print('IC passive unique 1-2 median is {}'.format(IC_median_unique))"
   ]
  },
  {
   "cell_type": "code",
   "execution_count": 66,
   "metadata": {},
   "outputs": [
    {
     "name": "stdout",
     "output_type": "stream",
     "text": [
      "A1 passive only 1-2 signed mean is 0.14033815199314958\n",
      "A1 passive unique 1-2 signed mean is 0.10403926683375145\n",
      "IC passive only 1-2 signed mean is 0.10047915700454926\n",
      "IC passive unique 1-2 signed mean is 0.05186996254070607\n",
      "0.8270609471365746\n",
      "0.5234590077853104\n"
     ]
    }
   ],
   "source": [
    "sign_A1 = np.sign((d307_MI_pas_unique['MI_PASSIVE_1_unique'] + d307_MI_pas_only['MI_PASSIVE_1_only'])/2)\n",
    "\n",
    "sign_IC = np.sign((d309_MI_pas_unique['MI_PASSIVE_1_unique'] + d309_MI_pas_only['MI_PASSIVE_1_only'])/2)\n",
    "\n",
    "signed_only_A1 = d307_MI_pas_only['MI_PASSIVE_1_only'] * sign_A1\n",
    "print('A1 passive only 1-2 signed mean is {}'.format(signed_only_A1.mean()))\n",
    "\n",
    "signed_unique_A1 = d307_MI_pas_unique['MI_PASSIVE_1_unique'] * sign_A1\n",
    "print('A1 passive unique 1-2 signed mean is {}'.format(signed_unique_A1.mean()))\n",
    "\n",
    "signed_only_IC = d309_MI_pas_only['MI_PASSIVE_1_only'] * sign_IC\n",
    "print('IC passive only 1-2 signed mean is {}'.format(signed_only_IC.mean()))     \n",
    "      \n",
    "signed_unique_IC = d309_MI_pas_unique['MI_PASSIVE_1_unique'] * sign_IC\n",
    "print('IC passive unique 1-2 signed mean is {}'.format(signed_unique_IC.mean()))  \n",
    "\n",
    "ratio_A1 = (signed_unique_A1 / signed_only_A1).median()\n",
    "ratio_IC = (signed_unique_IC / signed_only_IC).median()\n",
    "\n",
    "print(ratio_A1)\n",
    "print(ratio_IC)"
   ]
  },
  {
   "cell_type": "code",
   "execution_count": 63,
   "metadata": {},
   "outputs": [
    {
     "data": {
      "text/plain": [
       "cellid\n",
       "BRT026c-02-1    1.0\n",
       "BRT026c-05-2    1.0\n",
       "BRT026c-07-1   -1.0\n",
       "BRT026c-17-1   -1.0\n",
       "BRT026c-20-1   -1.0\n",
       "BRT033b-02-1    1.0\n",
       "BRT033b-03-1    1.0\n",
       "BRT033b-09-1    1.0\n",
       "BRT033b-12-1    1.0\n",
       "BRT033b-12-2    1.0\n",
       "BRT033b-13-1   -1.0\n",
       "BRT033b-14-1   -1.0\n",
       "BRT033b-15-1   -1.0\n",
       "BRT033b-33-1    1.0\n",
       "BRT033b-41-1   -1.0\n",
       "BRT033b-45-1    1.0\n",
       "BRT033b-47-1   -1.0\n",
       "BRT033b-50-1   -1.0\n",
       "BRT033b-50-2    1.0\n",
       "BRT033b-55-1   -1.0\n",
       "BRT034f-02-1    1.0\n",
       "BRT034f-07-1    1.0\n",
       "BRT034f-33-1    1.0\n",
       "BRT034f-34-1    1.0\n",
       "BRT036b-01-1    1.0\n",
       "BRT036b-06-1   -1.0\n",
       "BRT036b-07-1   -1.0\n",
       "BRT036b-07-2    1.0\n",
       "BRT036b-10-1   -1.0\n",
       "BRT036b-11-1    1.0\n",
       "               ... \n",
       "TAR010c-21-1    1.0\n",
       "TAR010c-21-2    1.0\n",
       "TAR010c-22-1   -1.0\n",
       "TAR010c-24-1   -1.0\n",
       "TAR010c-27-1    1.0\n",
       "TAR010c-27-2    1.0\n",
       "TAR010c-30-1    1.0\n",
       "TAR010c-33-1    1.0\n",
       "TAR010c-33-2    1.0\n",
       "TAR010c-35-1   -1.0\n",
       "TAR010c-38-1   -1.0\n",
       "TAR010c-43-1   -1.0\n",
       "TAR010c-44-1   -1.0\n",
       "TAR010c-52-1    1.0\n",
       "TAR010c-54-1    1.0\n",
       "TAR010c-58-1    1.0\n",
       "TAR010c-60-1    1.0\n",
       "bbl102d-01-1    1.0\n",
       "bbl102d-13-1   -1.0\n",
       "bbl102d-24-1    1.0\n",
       "bbl102d-27-1   -1.0\n",
       "bbl102d-29-1   -1.0\n",
       "bbl102d-31-1    1.0\n",
       "bbl102d-32-1    1.0\n",
       "bbl102d-33-1   -1.0\n",
       "bbl102d-36-1    1.0\n",
       "bbl102d-40-1   -1.0\n",
       "bbl102d-52-1   -1.0\n",
       "bbl102d-52-2   -1.0\n",
       "bbl102d-60-1    1.0\n",
       "Length: 107, dtype: float64"
      ]
     },
     "execution_count": 63,
     "metadata": {},
     "output_type": "execute_result"
    }
   ],
   "source": [
    "sign_A1\n"
   ]
  },
  {
   "cell_type": "code",
   "execution_count": null,
   "metadata": {},
   "outputs": [],
   "source": []
  }
 ],
 "metadata": {
  "kernelspec": {
   "display_name": "py36",
   "language": "python",
   "name": "py36"
  },
  "language_info": {
   "codemirror_mode": {
    "name": "ipython",
    "version": 3
   },
   "file_extension": ".py",
   "mimetype": "text/x-python",
   "name": "python",
   "nbconvert_exporter": "python",
   "pygments_lexer": "ipython3",
   "version": "3.6.1"
  }
 },
 "nbformat": 4,
 "nbformat_minor": 2
}
