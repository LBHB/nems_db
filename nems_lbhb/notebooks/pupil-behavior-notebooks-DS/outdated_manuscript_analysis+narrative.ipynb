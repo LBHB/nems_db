{
 "cells": [
  {
   "cell_type": "markdown",
   "metadata": {},
   "source": [
    "## What are the effects of pupil and behavior on neuronal activity in A1?\n",
    "\n",
    "1) Active vs Passive -- do we see a change in gain? -- Bar plot with distributions (similar to previous plots) for AC and IC\n",
    "\n",
    "2) Pre-passive vs post-passives -- do we see a change there? Motivation for what comes next. -- Bar plot as well? for AC and IC\n",
    "\n",
    "3) Pupil diameter -- how much does pupil change explain A/P change? -- examples and explained variance all data plot for AC and IC. For this we used both Modulation Indexes (MI) and cross-val R2. \n",
    "\n",
    "4) Per trial performance -- FAR+Hits=large pupil and Misses=small pupil, we would expect adding per trial performance to contribute to better model predictions, but we saw no improvement\n",
    "\n",
    "5) Smoothed performance -- same question as 4) but different way of addressing it by smoothing animal performance over a minute time window -- small effect that indicate no interaction between pupil effect and animal's averaged performance -- not sure what's best way to show this\n",
    "\n",
    "6) Urgency -- does animal's thirstiness/motivation to lick affect modulations? lick rate -- OPEN QUESTION"
   ]
  },
  {
   "cell_type": "code",
   "execution_count": 67,
   "metadata": {},
   "outputs": [
    {
     "data": {
      "text/plain": [
       "'/Users/daniela/Documents/2018/AC_IC_project_2018/from_auto_daniela'"
      ]
     },
     "execution_count": 67,
     "metadata": {},
     "output_type": "execute_result"
    }
   ],
   "source": [
    "import os\n",
    "import numpy as np\n",
    "import matplotlib.pyplot as plt\n",
    "import pandas as pd\n",
    "import seaborn as sns\n",
    "import scipy.stats as ss\n",
    "import statsmodels.formula.api as smf\n",
    "import matplotlib.collections as clt\n",
    "import re\n",
    "import pylab as pl\n",
    "\n",
    "%matplotlib inline\n",
    "\n",
    "savefigs = True\n",
    "figs_dir = '/Users/daniela/Documents/2018/AC_IC_project_2018/Task_engagement_pupil_paper/figures'\n",
    "path=os.getcwd()\n",
    "path"
   ]
  },
  {
   "cell_type": "markdown",
   "metadata": {},
   "source": [
    "### 1) Do we see any modulation happening across passive behavior blocks? "
   ]
  },
  {
   "cell_type": "code",
   "execution_count": 91,
   "metadata": {
    "collapsed": true
   },
   "outputs": [],
   "source": [
    "# pup vs. pre/post passive\n",
    "#state_list = ['st.pup0.pas0','st.pup0.pas',\n",
    "#            'st.pup.pas0','st.pup.pas']\n",
    "#basemodel = \"-ref-pas-psthfr.s_stategain.S\"\n",
    "#d_pup_pas = get_model_results(batch=batch, state_list=state_list, basemodel=basemodel)\n",
    "d_pup_pas = pd.read_csv('d_pup_pas.csv')"
   ]
  },
  {
   "cell_type": "code",
   "execution_count": 92,
   "metadata": {
    "collapsed": true
   },
   "outputs": [],
   "source": [
    "# add column to specify if cellid has significant effect of any state variable \n",
    "# (specific to baseline row)\n",
    "d_pup_pas['sig_var']=np.where(d_pup_pas['r_unique']>2*d_pup_pas['r_se'], 1, 0)\n",
    "\n",
    "# next is an unelegant trick to get the values in raws that are not 'baseline' off the equation\n",
    "mask = d_pup_pas.state_chan != 'baseline'\n",
    "column = 'sig_var'\n",
    "d_pup_pas.loc[mask, column] = '-'\n",
    "\n",
    "# I want to delete that first Unnamed: 0 column because it's useless\n",
    "d_pup_pas = d_pup_pas.drop(['Unnamed: 0'], axis=1)\n"
   ]
  },
  {
   "cell_type": "code",
   "execution_count": 93,
   "metadata": {},
   "outputs": [
    {
     "data": {
      "text/html": [
       "<div>\n",
       "<style>\n",
       "    .dataframe thead tr:only-child th {\n",
       "        text-align: right;\n",
       "    }\n",
       "\n",
       "    .dataframe thead th {\n",
       "        text-align: left;\n",
       "    }\n",
       "\n",
       "    .dataframe tbody tr th {\n",
       "        vertical-align: top;\n",
       "    }\n",
       "</style>\n",
       "<table border=\"1\" class=\"dataframe\">\n",
       "  <thead>\n",
       "    <tr style=\"text-align: right;\">\n",
       "      <th></th>\n",
       "      <th>cellid</th>\n",
       "      <th>modelname</th>\n",
       "      <th>state_sig</th>\n",
       "      <th>state_sig0</th>\n",
       "      <th>state_chan</th>\n",
       "      <th>MI</th>\n",
       "      <th>r</th>\n",
       "      <th>r_se</th>\n",
       "      <th>d</th>\n",
       "      <th>g</th>\n",
       "      <th>MI0</th>\n",
       "      <th>r0</th>\n",
       "      <th>r0_se</th>\n",
       "      <th>r_unique</th>\n",
       "      <th>MI_unique</th>\n",
       "      <th>sig_var</th>\n",
       "    </tr>\n",
       "  </thead>\n",
       "  <tbody>\n",
       "    <tr>\n",
       "      <th>0</th>\n",
       "      <td>TAR010c-43-1</td>\n",
       "      <td>psth.fs20.pup-ld-st.pup.pas-ref-pas-psthfr.s_s...</td>\n",
       "      <td>st.pup.pas</td>\n",
       "      <td>st.pup0.pas0</td>\n",
       "      <td>baseline</td>\n",
       "      <td>NaN</td>\n",
       "      <td>0.765457</td>\n",
       "      <td>0.015730</td>\n",
       "      <td>1.048298</td>\n",
       "      <td>1.139909</td>\n",
       "      <td>NaN</td>\n",
       "      <td>0.688041</td>\n",
       "      <td>0.034295</td>\n",
       "      <td>0.077416</td>\n",
       "      <td>NaN</td>\n",
       "      <td>1</td>\n",
       "    </tr>\n",
       "    <tr>\n",
       "      <th>1</th>\n",
       "      <td>TAR010c-43-1</td>\n",
       "      <td>psth.fs20.pup-ld-st.pup.pas-ref-pas-psthfr.s_s...</td>\n",
       "      <td>st.pup.pas</td>\n",
       "      <td>st.pup0.pas</td>\n",
       "      <td>pupil</td>\n",
       "      <td>0.334014</td>\n",
       "      <td>0.765457</td>\n",
       "      <td>0.015730</td>\n",
       "      <td>0.359098</td>\n",
       "      <td>0.080382</td>\n",
       "      <td>0.078216</td>\n",
       "      <td>0.702159</td>\n",
       "      <td>0.026908</td>\n",
       "      <td>0.063298</td>\n",
       "      <td>0.255798</td>\n",
       "      <td>-</td>\n",
       "    </tr>\n",
       "    <tr>\n",
       "      <th>2</th>\n",
       "      <td>TAR010c-43-1</td>\n",
       "      <td>psth.fs20.pup-ld-st.pup.pas-ref-pas-psthfr.s_s...</td>\n",
       "      <td>st.pup.pas</td>\n",
       "      <td>st.pup.pas0</td>\n",
       "      <td>FILE_TAR010c12_p_PTD</td>\n",
       "      <td>-0.163315</td>\n",
       "      <td>0.765457</td>\n",
       "      <td>0.015730</td>\n",
       "      <td>0.197340</td>\n",
       "      <td>-0.088222</td>\n",
       "      <td>-0.211635</td>\n",
       "      <td>0.765529</td>\n",
       "      <td>0.015583</td>\n",
       "      <td>-0.000072</td>\n",
       "      <td>0.048319</td>\n",
       "      <td>-</td>\n",
       "    </tr>\n",
       "    <tr>\n",
       "      <th>3</th>\n",
       "      <td>BRT037b-33-1</td>\n",
       "      <td>psth.fs20.pup-ld-st.pup.pas-ref-pas-psthfr.s_s...</td>\n",
       "      <td>st.pup.pas</td>\n",
       "      <td>st.pup0.pas0</td>\n",
       "      <td>baseline</td>\n",
       "      <td>NaN</td>\n",
       "      <td>0.499735</td>\n",
       "      <td>0.014407</td>\n",
       "      <td>0.246346</td>\n",
       "      <td>0.881366</td>\n",
       "      <td>NaN</td>\n",
       "      <td>0.487300</td>\n",
       "      <td>0.017451</td>\n",
       "      <td>0.012435</td>\n",
       "      <td>NaN</td>\n",
       "      <td>0</td>\n",
       "    </tr>\n",
       "    <tr>\n",
       "      <th>4</th>\n",
       "      <td>BRT037b-33-1</td>\n",
       "      <td>psth.fs20.pup-ld-st.pup.pas-ref-pas-psthfr.s_s...</td>\n",
       "      <td>st.pup.pas</td>\n",
       "      <td>st.pup0.pas</td>\n",
       "      <td>pupil</td>\n",
       "      <td>0.224935</td>\n",
       "      <td>0.499735</td>\n",
       "      <td>0.014407</td>\n",
       "      <td>0.075438</td>\n",
       "      <td>0.123602</td>\n",
       "      <td>0.056144</td>\n",
       "      <td>0.491089</td>\n",
       "      <td>0.017232</td>\n",
       "      <td>0.008646</td>\n",
       "      <td>0.168791</td>\n",
       "      <td>-</td>\n",
       "    </tr>\n",
       "  </tbody>\n",
       "</table>\n",
       "</div>"
      ],
      "text/plain": [
       "         cellid                                          modelname  \\\n",
       "0  TAR010c-43-1  psth.fs20.pup-ld-st.pup.pas-ref-pas-psthfr.s_s...   \n",
       "1  TAR010c-43-1  psth.fs20.pup-ld-st.pup.pas-ref-pas-psthfr.s_s...   \n",
       "2  TAR010c-43-1  psth.fs20.pup-ld-st.pup.pas-ref-pas-psthfr.s_s...   \n",
       "3  BRT037b-33-1  psth.fs20.pup-ld-st.pup.pas-ref-pas-psthfr.s_s...   \n",
       "4  BRT037b-33-1  psth.fs20.pup-ld-st.pup.pas-ref-pas-psthfr.s_s...   \n",
       "\n",
       "    state_sig    state_sig0            state_chan        MI         r  \\\n",
       "0  st.pup.pas  st.pup0.pas0              baseline       NaN  0.765457   \n",
       "1  st.pup.pas   st.pup0.pas                 pupil  0.334014  0.765457   \n",
       "2  st.pup.pas   st.pup.pas0  FILE_TAR010c12_p_PTD -0.163315  0.765457   \n",
       "3  st.pup.pas  st.pup0.pas0              baseline       NaN  0.499735   \n",
       "4  st.pup.pas   st.pup0.pas                 pupil  0.224935  0.499735   \n",
       "\n",
       "       r_se         d         g       MI0        r0     r0_se  r_unique  \\\n",
       "0  0.015730  1.048298  1.139909       NaN  0.688041  0.034295  0.077416   \n",
       "1  0.015730  0.359098  0.080382  0.078216  0.702159  0.026908  0.063298   \n",
       "2  0.015730  0.197340 -0.088222 -0.211635  0.765529  0.015583 -0.000072   \n",
       "3  0.014407  0.246346  0.881366       NaN  0.487300  0.017451  0.012435   \n",
       "4  0.014407  0.075438  0.123602  0.056144  0.491089  0.017232  0.008646   \n",
       "\n",
       "   MI_unique sig_var  \n",
       "0        NaN       1  \n",
       "1   0.255798       -  \n",
       "2   0.048319       -  \n",
       "3        NaN       0  \n",
       "4   0.168791       -  "
      ]
     },
     "execution_count": 93,
     "metadata": {},
     "output_type": "execute_result"
    }
   ],
   "source": [
    "d_pup_pas.head()"
   ]
  },
  {
   "cell_type": "markdown",
   "metadata": {},
   "source": [
    "## d_pup_pas dataframe columns explained\n",
    "\n",
    "* **cellid**: unique name of the cell (either SUA or MUA)\n",
    "\n",
    "* **modelname**: modelname used to predict these responses (NEMS)\n",
    "\n",
    "* **state_sig**: for this data frame is always st.pup_pas indicating that pupil and passive blocks are the two state variables in this model.\n",
    "\n",
    "* **state_sig0**: indicates the state variable that is shuffled in that row\n",
    "\n",
    "* **state_chan**: the independent state variable, i.e, the thing whose effect is being tested in that row. e.g. pupil row will have pupil shuffled in the 0 conditions (st.pup0_pas)\n",
    "\n",
    "* **MI**: MI for state_chan *pupil* and state_sig0 *st.pup0_pas* is the difference in the predicted response during large and small pupil and tells you how well a passive only model accounts for the pupil effect. MI for state_chan *FILE* and state_sig0 *st.pup_pas0* is the difference in the predicted response during that passive and the first passive and tells you how well a pupil only model accounts for passive block effect.\n",
    "\n",
    "* **MI0**: MI0 for state_chan *pupil* and state_sig0 *st.pup0_beh* is the difference in the predicted response by the model with pupil shuffled. MI0 for state_chan *FILE* and state_sig0 *st.pup_pas0* is the difference in the predicted response by the model with passive block shuffled.\n",
    "\n",
    "* **r**: Pearson's correlation between actual and the predicted response of the full model (st.pup_pas) and it's the same for every state_chan\n",
    "\n",
    "* **r0**: Pearson's correlation between actual and predicted response of state_chan *pupil* and state_sig0 *st.pup0_pas* is the predicted response of the partial model where pupil is shuffled. r0 for state_chan *FILE* and state_sig0 *st.pup_pas0* is the predicted response of the partial model where passive block is shuffled.\n",
    "\n",
    "* **MI_unique**: MI_unique for state_chan *pupil* and state_sig0 *st.pup0_beh* is MI calculated from the predicted response to large/small pupil in the full model minus MI calculated from the predicted response to large/small pupil when pupil is shuffled. MI_unique for state_chan *FILE* and state_sig0 *st.pup_pas0* is MI calculated from the predicted response for passive block in the full model minus MI calculated from the predicted response for passive block when passive block is shuffled.\n",
    "\n",
    "* **R2**: Pearson's squared. R2 for both state_chan *pupil* and state_sig0 *st.pup0_beh* and state_chan *FILE* and state_sig0 *st.pup_pas0* is r from the full model with both passive block and pupil st.pup_pas squared.\n",
    "\n",
    "* **R02**: Pearson's squared. R02 for state_chan *pupil* and state_sig0 *st.pup0_beh* is the r0 for pupil squared. R02 for state_chan *FILE* and state_sig0 *st.pup_pas0* is the r0 for passive block squared.\n",
    "\n",
    "* **R2_unique**: Pearson's squared. R2_unique for state_chan *pupil* and state_sig0 *st.pup0_beh* is R2-R02 for pupil. R2_unique for state_chan *FILE* and state_sig0 *st.pup_pas0* is R2-R02 for passive block. "
   ]
  },
  {
   "cell_type": "code",
   "execution_count": 94,
   "metadata": {
    "collapsed": true
   },
   "outputs": [],
   "source": [
    "# really bad way of deleting raws with passive comparisons that are not pre-post1\n",
    "def just_the_first_passive(df):\n",
    "    '''Returns a new dataframe with all the rows in df, except\n",
    "    rows that are not the first passive. '''\n",
    "    rows=[]\n",
    "    cells_with_one_pup_pas0 = set()\n",
    "    baseline = None\n",
    "    pupil = None\n",
    "    passive = None\n",
    "    for _, row in df.iterrows():\n",
    "        if (row['cellid'] in cells_with_one_pup_pas0):\n",
    "            continue\n",
    "        \n",
    "        if (row['state_chan'] == 'baseline'):\n",
    "            baseline = row\n",
    "        if (row['state_chan'] == 'pupil'):\n",
    "            pupil = row \n",
    "        if (row['state_sig0'] == 'st.pup.pas0'):\n",
    "            passive = row\n",
    "        \n",
    "        if (baseline is not None and pupil is not None and passive is not None) and\\\n",
    "           (baseline['cellid'] == pupil['cellid']) and\\\n",
    "           (baseline['cellid'] == passive['cellid']):\n",
    "            rows.append(baseline)\n",
    "            rows.append(pupil)\n",
    "            rows.append(passive)\n",
    "            cells_with_one_pup_pas0.add(pupil['cellid'])\n",
    "            baseline = None\n",
    "            pupil = None\n",
    "            passive = None\n",
    "\n",
    "    return pd.DataFrame(rows)\n"
   ]
  },
  {
   "cell_type": "code",
   "execution_count": 95,
   "metadata": {
    "collapsed": true
   },
   "outputs": [],
   "source": [
    "d_pup_pas1 = just_the_first_passive(d_pup_pas)\n",
    "#d_pup_pas1\n",
    "#for cellid, group in d_pup_pas1.groupby('cellid'):\n",
    "    #print(cellid)\n",
    "    #assert len(group) == 3"
   ]
  },
  {
   "cell_type": "code",
   "execution_count": 96,
   "metadata": {
    "collapsed": true
   },
   "outputs": [],
   "source": [
    "# function to create a list of color names based on significant state variable effect \n",
    "# in A1 cells\n",
    "def pltcolor(lst,state):\n",
    "    colors=[]\n",
    "    for val in lst:\n",
    "        if val==0:\n",
    "            colors.append('lightgrey')\n",
    "        elif val==1 and state=='pas':\n",
    "            colors.append('#D199C4')\n",
    "        elif val==1 and state=='pup':\n",
    "            colors.append('#2E7E3E')\n",
    "    return colors"
   ]
  },
  {
   "cell_type": "code",
   "execution_count": 97,
   "metadata": {
    "collapsed": true
   },
   "outputs": [],
   "source": [
    "# Create three dataframes uniquely for each model\n",
    "d_pup0_pas10=d_pup_pas1[d_pup_pas1['state_sig0']=='st.pup0.pas0']\n",
    "d_pup0_pas1=d_pup_pas1[d_pup_pas1['state_sig0']=='st.pup0.pas']\n",
    "d_pup_pas10=d_pup_pas1[d_pup_pas1['state_sig0']=='st.pup.pas0']\n",
    "\n",
    "# gotta reset the inexes to that it does not complain in the next cell when I try\n",
    "# to subtract two rows from two different data frame. I could have also merge these three \n",
    "# into one, but I'm lazy\n",
    "d_pup0_pas10=d_pup0_pas10.reset_index(drop=True)\n",
    "d_pup0_pas1=d_pup0_pas1.reset_index(drop=True)\n",
    "d_pup_pas10=d_pup_pas10.reset_index(drop=True)"
   ]
  },
  {
   "cell_type": "code",
   "execution_count": 100,
   "metadata": {},
   "outputs": [
    {
     "data": {
      "image/png": "[encoded data removed]",
      "text/plain": [
       "<matplotlib.figure.Figure at 0x11c065c88>"
      ]
     },
     "metadata": {},
     "output_type": "display_data"
    }
   ],
   "source": [
    "# Plotting passive block ignoring pupil versus passive block regressing out pupil\n",
    "# x-axis improvement from passive block ignoring pupil:  r_pup0_pas1 - r_pup0_pas10\n",
    "# y-axis improvement regressing out (or accounting for) pupil: r_pup_pas1 - r_pup_pas10\n",
    "\n",
    "# Create the colors list using the function pltcolor\n",
    "colors=pltcolor(d_pup_pas1['sig_var'],'pas')\n",
    "\n",
    "fig, ax = plt.subplots()\n",
    "\n",
    "# set the limits\n",
    "plt.ylim(-0.05, 0.2)\n",
    "plt.xlim(-0.05, 0.2)\n",
    "\n",
    "# draw horizontal lines and unitary line\n",
    "plt.axhline(0, linestyle='--', linewidth=0.5, color='k')\n",
    "plt.axvline(0, linestyle='--', linewidth=0.5, color='k')\n",
    "plt.plot([-0.05,0.2],[-0.05, 0.2], linestyle='--',linewidth=0.5, color='k')\n",
    "\n",
    "# note that d_pup0_beh['r'] is the same as d_pup_beh0['r'] and d_pup0_beh0['r']\n",
    "ax.scatter(d_pup0_pas1['r0']-d_pup0_pas10['r0'],d_pup_pas10['r']-d_pup_pas10['r0'], \n",
    "           color=colors, edgecolors='white')\n",
    "ax.set_xlabel('Passive1 block (ignore pupil)')\n",
    "ax.set_ylabel('Passive1 block (account for pupil)')\n",
    "ax.set_aspect('equal')\n",
    "\n",
    "plt.savefig(\"passive_A1.eps\")\n"
   ]
  },
  {
   "cell_type": "markdown",
   "metadata": {},
   "source": [
    "## 3) What is the contribution of pupil to behavioral effects?\n",
    "\n",
    "### a) A1 MUA+SUA pupil/behavior"
   ]
  },
  {
   "cell_type": "code",
   "execution_count": 78,
   "metadata": {
    "collapsed": true
   },
   "outputs": [],
   "source": [
    "# pup vs. active/passive A1 SUA+MUA\n",
    "d_pup_beh = pd.read_csv('d_pup_beh.csv')"
   ]
  },
  {
   "cell_type": "code",
   "execution_count": 79,
   "metadata": {
    "collapsed": true
   },
   "outputs": [],
   "source": [
    "# to look at unique variance explained we need to square r and r0 and then take the difference\n",
    "# create three new colums R2 R02 and delta_R2\n",
    "d_pup_beh['R2']=d_pup_beh['r']**2\n",
    "d_pup_beh['R02']=d_pup_beh['r0']**2\n",
    "d_pup_beh['R2_unique']=d_pup_beh['R2']-d_pup_beh['R02']\n",
    "\n",
    "# Also I want to delete that first Unnamed column because it's useless\n",
    "d_pup_beh = d_pup_beh.drop(['Unnamed: 0'], axis=1)"
   ]
  },
  {
   "cell_type": "code",
   "execution_count": 80,
   "metadata": {},
   "outputs": [
    {
     "data": {
      "text/html": [
       "<div>\n",
       "<style>\n",
       "    .dataframe thead tr:only-child th {\n",
       "        text-align: right;\n",
       "    }\n",
       "\n",
       "    .dataframe thead th {\n",
       "        text-align: left;\n",
       "    }\n",
       "\n",
       "    .dataframe tbody tr th {\n",
       "        vertical-align: top;\n",
       "    }\n",
       "</style>\n",
       "<table border=\"1\" class=\"dataframe\">\n",
       "  <thead>\n",
       "    <tr style=\"text-align: right;\">\n",
       "      <th></th>\n",
       "      <th>cellid</th>\n",
       "      <th>modelname</th>\n",
       "      <th>state_sig</th>\n",
       "      <th>state_sig0</th>\n",
       "      <th>state_chan</th>\n",
       "      <th>MI</th>\n",
       "      <th>r</th>\n",
       "      <th>r_se</th>\n",
       "      <th>d</th>\n",
       "      <th>g</th>\n",
       "      <th>MI0</th>\n",
       "      <th>r0</th>\n",
       "      <th>r0_se</th>\n",
       "      <th>r_unique</th>\n",
       "      <th>MI_unique</th>\n",
       "      <th>R2</th>\n",
       "      <th>R02</th>\n",
       "      <th>R2_unique</th>\n",
       "      <th>sig_var</th>\n",
       "    </tr>\n",
       "  </thead>\n",
       "  <tbody>\n",
       "    <tr>\n",
       "      <th>0</th>\n",
       "      <td>BRT037b-63-1</td>\n",
       "      <td>psth.fs20.pup-ld-st.pup.beh-ref-psthfr.s_state...</td>\n",
       "      <td>st.pup.beh</td>\n",
       "      <td>st.pup0.beh0</td>\n",
       "      <td>baseline</td>\n",
       "      <td>NaN</td>\n",
       "      <td>0.743903</td>\n",
       "      <td>0.019168</td>\n",
       "      <td>2.987447</td>\n",
       "      <td>0.975693</td>\n",
       "      <td>NaN</td>\n",
       "      <td>0.743709</td>\n",
       "      <td>0.018425</td>\n",
       "      <td>0.000195</td>\n",
       "      <td>NaN</td>\n",
       "      <td>0.553392</td>\n",
       "      <td>0.553102</td>\n",
       "      <td>0.000290</td>\n",
       "      <td>0</td>\n",
       "    </tr>\n",
       "    <tr>\n",
       "      <th>1</th>\n",
       "      <td>BRT037b-63-1</td>\n",
       "      <td>psth.fs20.pup-ld-st.pup.beh-ref-psthfr.s_state...</td>\n",
       "      <td>st.pup.beh</td>\n",
       "      <td>st.pup0.beh</td>\n",
       "      <td>pupil</td>\n",
       "      <td>0.016711</td>\n",
       "      <td>0.743903</td>\n",
       "      <td>0.019168</td>\n",
       "      <td>0.026076</td>\n",
       "      <td>-0.004084</td>\n",
       "      <td>0.008893</td>\n",
       "      <td>0.744072</td>\n",
       "      <td>0.019048</td>\n",
       "      <td>-0.000168</td>\n",
       "      <td>0.007819</td>\n",
       "      <td>0.553392</td>\n",
       "      <td>0.553643</td>\n",
       "      <td>-0.000250</td>\n",
       "      <td>-</td>\n",
       "    </tr>\n",
       "    <tr>\n",
       "      <th>2</th>\n",
       "      <td>BRT037b-63-1</td>\n",
       "      <td>psth.fs20.pup-ld-st.pup.beh-ref-psthfr.s_state...</td>\n",
       "      <td>st.pup.beh</td>\n",
       "      <td>st.pup.beh0</td>\n",
       "      <td>active</td>\n",
       "      <td>0.017977</td>\n",
       "      <td>0.743903</td>\n",
       "      <td>0.019168</td>\n",
       "      <td>0.108336</td>\n",
       "      <td>0.058744</td>\n",
       "      <td>0.006886</td>\n",
       "      <td>0.743838</td>\n",
       "      <td>0.018794</td>\n",
       "      <td>0.000065</td>\n",
       "      <td>0.011091</td>\n",
       "      <td>0.553392</td>\n",
       "      <td>0.553296</td>\n",
       "      <td>0.000097</td>\n",
       "      <td>-</td>\n",
       "    </tr>\n",
       "    <tr>\n",
       "      <th>3</th>\n",
       "      <td>BRT037b-30-1</td>\n",
       "      <td>psth.fs20.pup-ld-st.pup.beh-ref-psthfr.s_state...</td>\n",
       "      <td>st.pup.beh</td>\n",
       "      <td>st.pup0.beh0</td>\n",
       "      <td>baseline</td>\n",
       "      <td>NaN</td>\n",
       "      <td>0.775877</td>\n",
       "      <td>0.013483</td>\n",
       "      <td>2.051010</td>\n",
       "      <td>0.972697</td>\n",
       "      <td>NaN</td>\n",
       "      <td>0.776267</td>\n",
       "      <td>0.013080</td>\n",
       "      <td>-0.000391</td>\n",
       "      <td>NaN</td>\n",
       "      <td>0.601984</td>\n",
       "      <td>0.602591</td>\n",
       "      <td>-0.000607</td>\n",
       "      <td>0</td>\n",
       "    </tr>\n",
       "    <tr>\n",
       "      <th>4</th>\n",
       "      <td>BRT037b-30-1</td>\n",
       "      <td>psth.fs20.pup-ld-st.pup.beh-ref-psthfr.s_state...</td>\n",
       "      <td>st.pup.beh</td>\n",
       "      <td>st.pup0.beh</td>\n",
       "      <td>pupil</td>\n",
       "      <td>0.007358</td>\n",
       "      <td>0.775877</td>\n",
       "      <td>0.013483</td>\n",
       "      <td>0.037487</td>\n",
       "      <td>-0.018406</td>\n",
       "      <td>0.004439</td>\n",
       "      <td>0.776262</td>\n",
       "      <td>0.013404</td>\n",
       "      <td>-0.000385</td>\n",
       "      <td>0.002919</td>\n",
       "      <td>0.601984</td>\n",
       "      <td>0.602583</td>\n",
       "      <td>-0.000598</td>\n",
       "      <td>-</td>\n",
       "    </tr>\n",
       "  </tbody>\n",
       "</table>\n",
       "</div>"
      ],
      "text/plain": [
       "         cellid                                          modelname  \\\n",
       "0  BRT037b-63-1  psth.fs20.pup-ld-st.pup.beh-ref-psthfr.s_state...   \n",
       "1  BRT037b-63-1  psth.fs20.pup-ld-st.pup.beh-ref-psthfr.s_state...   \n",
       "2  BRT037b-63-1  psth.fs20.pup-ld-st.pup.beh-ref-psthfr.s_state...   \n",
       "3  BRT037b-30-1  psth.fs20.pup-ld-st.pup.beh-ref-psthfr.s_state...   \n",
       "4  BRT037b-30-1  psth.fs20.pup-ld-st.pup.beh-ref-psthfr.s_state...   \n",
       "\n",
       "    state_sig    state_sig0 state_chan        MI         r      r_se  \\\n",
       "0  st.pup.beh  st.pup0.beh0   baseline       NaN  0.743903  0.019168   \n",
       "1  st.pup.beh   st.pup0.beh      pupil  0.016711  0.743903  0.019168   \n",
       "2  st.pup.beh   st.pup.beh0     active  0.017977  0.743903  0.019168   \n",
       "3  st.pup.beh  st.pup0.beh0   baseline       NaN  0.775877  0.013483   \n",
       "4  st.pup.beh   st.pup0.beh      pupil  0.007358  0.775877  0.013483   \n",
       "\n",
       "          d         g       MI0        r0     r0_se  r_unique  MI_unique  \\\n",
       "0  2.987447  0.975693       NaN  0.743709  0.018425  0.000195        NaN   \n",
       "1  0.026076 -0.004084  0.008893  0.744072  0.019048 -0.000168   0.007819   \n",
       "2  0.108336  0.058744  0.006886  0.743838  0.018794  0.000065   0.011091   \n",
       "3  2.051010  0.972697       NaN  0.776267  0.013080 -0.000391        NaN   \n",
       "4  0.037487 -0.018406  0.004439  0.776262  0.013404 -0.000385   0.002919   \n",
       "\n",
       "         R2       R02  R2_unique sig_var  \n",
       "0  0.553392  0.553102   0.000290       0  \n",
       "1  0.553392  0.553643  -0.000250       -  \n",
       "2  0.553392  0.553296   0.000097       -  \n",
       "3  0.601984  0.602591  -0.000607       0  \n",
       "4  0.601984  0.602583  -0.000598       -  "
      ]
     },
     "execution_count": 80,
     "metadata": {},
     "output_type": "execute_result"
    }
   ],
   "source": [
    "# add column to specify if cellid has significant effect of any state variable \n",
    "# (specific to baseline row)\n",
    "d_pup_beh['sig_var']=np.where(d_pup_beh['r_unique']>2*d_pup_beh['r_se'], 1, 0)\n",
    "\n",
    "# next is an unelegant trick to get the values in raws that are not 'baseline' off the equation\n",
    "mask = d_pup_beh.state_chan != 'baseline'\n",
    "column = 'sig_var'\n",
    "d_pup_beh.loc[mask, column] = '-'\n",
    "\n",
    "d_pup_beh.head()"
   ]
  },
  {
   "cell_type": "code",
   "execution_count": 81,
   "metadata": {
    "collapsed": true
   },
   "outputs": [],
   "source": [
    "# function to create a list of color names based on significant state variable effect \n",
    "# in A1 cells\n",
    "def pltcolor(lst,state):\n",
    "    colors=[]\n",
    "    for val in lst:\n",
    "        if val==0:\n",
    "            colors.append('lightgrey')\n",
    "        elif val==1 and state=='beh':\n",
    "            colors.append('#82418B')\n",
    "        elif val==1 and state=='pup':\n",
    "            colors.append('#2E7E3E')\n",
    "    return colors"
   ]
  },
  {
   "cell_type": "code",
   "execution_count": 82,
   "metadata": {
    "collapsed": true
   },
   "outputs": [],
   "source": [
    "# Create three dataframes uniquely for each model\n",
    "d_pup0_beh0=d_pup_beh[d_pup_beh['state_chan']=='baseline']\n",
    "d_pup0_beh=d_pup_beh[d_pup_beh['state_chan']=='pupil']\n",
    "d_pup_beh0=d_pup_beh[d_pup_beh['state_chan']=='active']\n",
    "\n",
    "# gotta reset the inexes to that it does not complain in the next cell when I try\n",
    "# to subtract two rows from two different data frame. I could have also merge these three \n",
    "# into one, but I'm lazy\n",
    "d_pup0_beh0=d_pup0_beh0.reset_index(drop=True)\n",
    "d_pup0_beh=d_pup0_beh.reset_index(drop=True)\n",
    "d_pup_beh0=d_pup_beh0.reset_index(drop=True)"
   ]
  },
  {
   "cell_type": "code",
   "execution_count": 83,
   "metadata": {},
   "outputs": [
    {
     "name": "stdout",
     "output_type": "stream",
     "text": [
      "0.06172905802508164\n",
      "0.21276935691695734\n",
      "0.08005038683118096\n",
      "0.20781178688246635\n"
     ]
    }
   ],
   "source": [
    "mean_g_beh=d_pup0_beh['g'].mean()\n",
    "std_g_beh=d_pup0_beh['g'].std()\n",
    "print(mean_g_beh)\n",
    "print(std_g_beh)\n",
    "\n",
    "mean_g_pas1=d_pup0_pas1['g'].mean()\n",
    "std_g_pas1=d_pup0_pas1['g'].std()\n",
    "print(mean_g_pas1)\n",
    "print(std_g_pas1)"
   ]
  },
  {
   "cell_type": "code",
   "execution_count": 89,
   "metadata": {},
   "outputs": [
    {
     "data": {
      "image/png": "[encoded data removed]",
      "text/plain": [
       "<matplotlib.figure.Figure at 0x117cb5518>"
      ]
     },
     "metadata": {},
     "output_type": "display_data"
    }
   ],
   "source": [
    "# Plotting behavior ignoring pupil versus behavior regressing out pupil\n",
    "# x-axis improvement from behavior ignoring pupil:  r_pup0_beh - r_pup0_beh0\n",
    "# y-axis improvement regressing out (or accounting for) pupil: r_pup_beh - r_pup_beh0\n",
    "\n",
    "# Create the colors list using the function pltcolor\n",
    "colors=pltcolor(d_pup_beh['sig_var'],'beh')\n",
    "\n",
    "fig, ax = plt.subplots()\n",
    "\n",
    "# set the limits\n",
    "plt.ylim(-0.05, 0.2)\n",
    "plt.xlim(-0.05, 0.2)\n",
    "\n",
    "# draw horizontal lines and unitary line\n",
    "plt.axhline(0, linestyle='--', linewidth=0.5, color='k')\n",
    "plt.axvline(0, linestyle='--', linewidth=0.5, color='k')\n",
    "plt.plot([-0.05,0.2],[-0.05, 0.2], linestyle='--',linewidth=0.5, color='k')\n",
    "\n",
    "# note that d_pup0_beh['r'] is the same as d_pup_beh0['r'] and d_pup0_beh0['r']\n",
    "ax.scatter(d_pup0_beh['r0']-d_pup0_beh0['r0'],d_pup_beh0['r']-d_pup_beh0['r0'], \n",
    "           color=colors, edgecolors='white')\n",
    "ax.set_xlabel('Behavior (ignore pupil)')\n",
    "ax.set_ylabel('Behavior (account for pupil)')\n",
    "ax.set_aspect('equal')\n",
    "\n",
    "plt.savefig(\"behaviorVSpupil_A1.eps\")\n"
   ]
  },
  {
   "cell_type": "markdown",
   "metadata": {},
   "source": [
    "**Questions to be answered**\n",
    "* How many of these are SUA versus MUA?\n",
    "* Can we tell if those cells above the unitary lines have negative r_unique for pupil or negative full model r? MI?\n"
   ]
  },
  {
   "cell_type": "code",
   "execution_count": 88,
   "metadata": {},
   "outputs": [
    {
     "data": {
      "image/png": "[encoded data removed]",
      "text/plain": [
       "<matplotlib.figure.Figure at 0x10e5172b0>"
      ]
     },
     "metadata": {},
     "output_type": "display_data"
    }
   ],
   "source": [
    "# Plot unique contribution of pupil in terms of MI. \n",
    "# x axis is MI for a variable behavior  if you ignore the existence of pupil\n",
    "# y axis is MI_unique for behavior, MI behavior after regressing out pupil\n",
    "\n",
    "# d_pup_beh0['MI] is the MI calculated from the full model for active and passive behavior\n",
    "# d_pup0_beh['MI'] is the MI calculated from the full model for large and small pupil\n",
    "\n",
    "fig, ax = plt.subplots()\n",
    "\n",
    "ax.scatter(d_pup_beh0['MI'], d_pup_beh0['MI_unique'], color=colors, edgecolors='white')\n",
    "ax.set_xlabel('MI active (ignore pupil)')\n",
    "ax.set_ylabel('MI_unique active (regress out pupil)')\n",
    "ax.set_aspect('equal')\n",
    "\n",
    "# set the limits\n",
    "plt.ylim(-1, 1)\n",
    "plt.xlim(-1, 1)\n",
    "\n",
    "# need a slope and c to fix the position of line\n",
    "slope = 1\n",
    "c = -1\n",
    "\n",
    "x_min, x_max = ax.get_xlim()\n",
    "y_min, y_max = c, c + slope*(x_max-x_min)\n",
    "ax.plot([x_min, x_max], [y_min, y_max], linewidth=0.5, linestyle='--', color='k')\n",
    "ax.set_xlim([x_min, x_max])\n",
    "\n",
    "\n",
    "# add horizontal line\n",
    "slope = 0\n",
    "c = 0\n",
    "\n",
    "x_min, x_max = ax.get_xlim()\n",
    "y_min, y_max = c, c + slope*(x_max-x_min)\n",
    "ax.plot([x_min, x_max], [y_min, y_max], linewidth=0.5, linestyle='--', color='k')\n",
    "ax.set_xlim([x_min, x_max])\n",
    "\n",
    "# add vertical line\n",
    "xposition = 0.00\n",
    "plt.axvline(x=xposition, color='k', linestyle='--', linewidth=0.5)\n",
    "\n",
    "plt.savefig(\"behaviorVSpupil_MI_A1.eps\")"
   ]
  },
  {
   "cell_type": "markdown",
   "metadata": {},
   "source": [
    "Stacked bar char: for each cell plot a bar broken up into 4 colors showing the relative performance of the null model (r_pup0.beh0), unique pupil (r_pup.beh-r_pup0.beh), unique behavior (r_pup.beh-r_pup.beh0) and ambiguous pupil or behavior (r_pup0.beh + r_pup.beh0 - r_pup.beh - r_pup0.beh0 -- I think the math works out for this last one)."
   ]
  },
  {
   "cell_type": "markdown",
   "metadata": {},
   "source": [
    "### a) A1 SUA pupil/behavior"
   ]
  },
  {
   "cell_type": "code",
   "execution_count": null,
   "metadata": {
    "collapsed": true
   },
   "outputs": [],
   "source": []
  }
 ],
 "metadata": {
  "kernelspec": {
   "display_name": "py36",
   "language": "python",
   "name": "py36"
  },
  "language_info": {
   "codemirror_mode": {
    "name": "ipython",
    "version": 3
   },
   "file_extension": ".py",
   "mimetype": "text/x-python",
   "name": "python",
   "nbconvert_exporter": "python",
   "pygments_lexer": "ipython3",
   "version": "3.6.1"
  }
 },
 "nbformat": 4,
 "nbformat_minor": 2
}
