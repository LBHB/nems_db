{
 "cells": [
  {
   "cell_type": "markdown",
   "metadata": {},
   "source": [
    "## What are the effects of pupil and behavior on neuronal activity in A1?\n",
    "\n",
    "1) Active vs Passive -- do we see a change in gain? -- Bar plot with distributions (similar to previous plots) for AC and IC\n",
    "\n",
    "2) Pre-passive vs post-passives -- do we see a change there? Motivation for what comes next. -- Bar plot as well? for AC and IC\n",
    "\n",
    "3) Pupil diameter -- how much does pupil change explain A/P change? -- examples and explained variance all data plot for AC and IC. For this we used both Modulation Indexes (MI) and cross-val R2. \n",
    "\n",
    "4) Per trial performance -- FAR+Hits=large pupil and Misses=small pupil, we would expect adding per trial performance to contribute to better model predictions, but we saw no improvement\n",
    "\n",
    "5) Smoothed performance -- same question as 4) but different way of addressing it by smoothing animal performance over a minute time window -- small effect that indicate no interaction between pupil effect and animal's averaged performance -- not sure what's best way to show this\n",
    "\n",
    "6) Urgency -- does animal's thirstiness/motivation to lick affect modulations? lick rate -- OPEN QUESTION"
   ]
  },
  {
   "cell_type": "markdown",
   "metadata": {},
   "source": [
    "* MIbeh = behavior only (no pupil, ie, pupil shuffled), or R2beh for variance explained  \n",
    "* MIbeh-unique = behavior unique (‘minus pupil’)  \n",
    "* MIpup-unique = pupil unique (‘minus behavior’)  \n",
    "* R2common = ambiguous pupil or behavior   \n",
    "* R20 = performance of null model (pup and beh shuffled)  "
   ]
  },
  {
   "cell_type": "code",
   "execution_count": 91,
   "metadata": {},
   "outputs": [
    {
     "data": {
      "text/plain": [
       "'/Users/daniela/Documents/2018/AC_IC_project_2018/from_auto_daniela'"
      ]
     },
     "execution_count": 91,
     "metadata": {},
     "output_type": "execute_result"
    }
   ],
   "source": [
    "import os\n",
    "import numpy as np\n",
    "import matplotlib.pyplot as plt\n",
    "import pandas as pd\n",
    "import seaborn as sns\n",
    "import scipy.stats as ss\n",
    "import statsmodels.formula.api as smf\n",
    "import matplotlib.collections as clt\n",
    "import re\n",
    "import pylab as pl\n",
    "from nems_lbhb.pupil_behavior_scripts.mod_per_state import get_model_results_per_state_model\n",
    "\n",
    "%matplotlib inline\n",
    "os.getcwd()\n",
    "\n",
    "color_ba = '#82418B' #dark purple \n",
    "color_p = '#2E7E3E' #dark green\n",
    "color_bpas = '#D199C4' #light purple\n",
    "\n",
    "savefigs = True\n",
    "figs_dir = '/Users/daniela/Documents/2018/AC_IC_project_2018/Task_engagement_pupil_paper/figures'\n",
    "path=os.getcwd()\n",
    "path"
   ]
  },
  {
   "cell_type": "markdown",
   "metadata": {},
   "source": [
    "## 1) Does task engagement (ignoring pupil) modulate neuronal activity in AC and IC? \n",
    "\n",
    "### a) A1 307 MUA + SUA results "
   ]
  },
  {
   "cell_type": "code",
   "execution_count": 92,
   "metadata": {
    "collapsed": true
   },
   "outputs": [],
   "source": [
    "# A1 SUA+MUA: pup vs. beh 307 per state dataframe\n",
    "d_pb307 = pd.read_csv('d_pb_307_new.csv')\n",
    "d_pb307 = d_pb307.drop(['Unnamed: 0'], axis=1)\n",
    "# Add column with R2 for variance analysis\n",
    "d_pb307['R2'] = d_pb307['r']**2"
   ]
  },
  {
   "cell_type": "code",
   "execution_count": 93,
   "metadata": {},
   "outputs": [
    {
     "data": {
      "text/html": [
       "<div>\n",
       "<style>\n",
       "    .dataframe thead tr:only-child th {\n",
       "        text-align: right;\n",
       "    }\n",
       "\n",
       "    .dataframe thead th {\n",
       "        text-align: left;\n",
       "    }\n",
       "\n",
       "    .dataframe tbody tr th {\n",
       "        vertical-align: top;\n",
       "    }\n",
       "</style>\n",
       "<table border=\"1\" class=\"dataframe\">\n",
       "  <thead>\n",
       "    <tr style=\"text-align: right;\">\n",
       "      <th></th>\n",
       "      <th>cellid</th>\n",
       "      <th>modelname</th>\n",
       "      <th>state_sig</th>\n",
       "      <th>state_chan</th>\n",
       "      <th>MI</th>\n",
       "      <th>r</th>\n",
       "      <th>r_se</th>\n",
       "      <th>d</th>\n",
       "      <th>g</th>\n",
       "      <th>R2</th>\n",
       "    </tr>\n",
       "  </thead>\n",
       "  <tbody>\n",
       "    <tr>\n",
       "      <th>0</th>\n",
       "      <td>BRT026c-07-1</td>\n",
       "      <td>psth.fs20.pup-ld-st.pup0.beh0-ref-psthfr.s_sta...</td>\n",
       "      <td>st.pup0.beh0</td>\n",
       "      <td>baseline</td>\n",
       "      <td>NaN</td>\n",
       "      <td>0.424528</td>\n",
       "      <td>0.021797</td>\n",
       "      <td>1.096463</td>\n",
       "      <td>0.932156</td>\n",
       "      <td>0.180224</td>\n",
       "    </tr>\n",
       "    <tr>\n",
       "      <th>1</th>\n",
       "      <td>BRT026c-07-1</td>\n",
       "      <td>psth.fs20.pup-ld-st.pup0.beh0-ref-psthfr.s_sta...</td>\n",
       "      <td>st.pup0.beh0</td>\n",
       "      <td>pupil</td>\n",
       "      <td>-0.000861</td>\n",
       "      <td>0.424528</td>\n",
       "      <td>0.021797</td>\n",
       "      <td>-0.012168</td>\n",
       "      <td>-0.018089</td>\n",
       "      <td>0.180224</td>\n",
       "    </tr>\n",
       "    <tr>\n",
       "      <th>2</th>\n",
       "      <td>BRT026c-07-1</td>\n",
       "      <td>psth.fs20.pup-ld-st.pup0.beh0-ref-psthfr.s_sta...</td>\n",
       "      <td>st.pup0.beh0</td>\n",
       "      <td>active</td>\n",
       "      <td>0.000680</td>\n",
       "      <td>0.424528</td>\n",
       "      <td>0.021797</td>\n",
       "      <td>0.014839</td>\n",
       "      <td>0.074780</td>\n",
       "      <td>0.180224</td>\n",
       "    </tr>\n",
       "    <tr>\n",
       "      <th>3</th>\n",
       "      <td>BRT026c-05-2</td>\n",
       "      <td>psth.fs20.pup-ld-st.pup0.beh0-ref-psthfr.s_sta...</td>\n",
       "      <td>st.pup0.beh0</td>\n",
       "      <td>baseline</td>\n",
       "      <td>NaN</td>\n",
       "      <td>0.436652</td>\n",
       "      <td>0.020546</td>\n",
       "      <td>1.506674</td>\n",
       "      <td>0.991322</td>\n",
       "      <td>0.190665</td>\n",
       "    </tr>\n",
       "    <tr>\n",
       "      <th>4</th>\n",
       "      <td>BRT026c-05-2</td>\n",
       "      <td>psth.fs20.pup-ld-st.pup0.beh0-ref-psthfr.s_sta...</td>\n",
       "      <td>st.pup0.beh0</td>\n",
       "      <td>pupil</td>\n",
       "      <td>-0.003393</td>\n",
       "      <td>0.436652</td>\n",
       "      <td>0.020546</td>\n",
       "      <td>-0.006919</td>\n",
       "      <td>0.008208</td>\n",
       "      <td>0.190665</td>\n",
       "    </tr>\n",
       "  </tbody>\n",
       "</table>\n",
       "</div>"
      ],
      "text/plain": [
       "         cellid                                          modelname  \\\n",
       "0  BRT026c-07-1  psth.fs20.pup-ld-st.pup0.beh0-ref-psthfr.s_sta...   \n",
       "1  BRT026c-07-1  psth.fs20.pup-ld-st.pup0.beh0-ref-psthfr.s_sta...   \n",
       "2  BRT026c-07-1  psth.fs20.pup-ld-st.pup0.beh0-ref-psthfr.s_sta...   \n",
       "3  BRT026c-05-2  psth.fs20.pup-ld-st.pup0.beh0-ref-psthfr.s_sta...   \n",
       "4  BRT026c-05-2  psth.fs20.pup-ld-st.pup0.beh0-ref-psthfr.s_sta...   \n",
       "\n",
       "      state_sig state_chan        MI         r      r_se         d         g  \\\n",
       "0  st.pup0.beh0   baseline       NaN  0.424528  0.021797  1.096463  0.932156   \n",
       "1  st.pup0.beh0      pupil -0.000861  0.424528  0.021797 -0.012168 -0.018089   \n",
       "2  st.pup0.beh0     active  0.000680  0.424528  0.021797  0.014839  0.074780   \n",
       "3  st.pup0.beh0   baseline       NaN  0.436652  0.020546  1.506674  0.991322   \n",
       "4  st.pup0.beh0      pupil -0.003393  0.436652  0.020546 -0.006919  0.008208   \n",
       "\n",
       "         R2  \n",
       "0  0.180224  \n",
       "1  0.180224  \n",
       "2  0.180224  \n",
       "3  0.190665  \n",
       "4  0.190665  "
      ]
     },
     "execution_count": 93,
     "metadata": {},
     "output_type": "execute_result"
    }
   ],
   "source": [
    "# Every cell has multiple rows for each state model\n",
    "d_pb307.head()"
   ]
  },
  {
   "cell_type": "code",
   "execution_count": 94,
   "metadata": {},
   "outputs": [
    {
     "data": {
      "text/html": [
       "<div>\n",
       "<style>\n",
       "    .dataframe thead tr:only-child th {\n",
       "        text-align: right;\n",
       "    }\n",
       "\n",
       "    .dataframe thead th {\n",
       "        text-align: left;\n",
       "    }\n",
       "\n",
       "    .dataframe tbody tr th {\n",
       "        vertical-align: top;\n",
       "    }\n",
       "</style>\n",
       "<table border=\"1\" class=\"dataframe\">\n",
       "  <thead>\n",
       "    <tr style=\"text-align: right;\">\n",
       "      <th></th>\n",
       "      <th>cellid</th>\n",
       "      <th>modelname</th>\n",
       "      <th>state_sig</th>\n",
       "      <th>state_chan</th>\n",
       "      <th>MI</th>\n",
       "      <th>r</th>\n",
       "      <th>r_se</th>\n",
       "      <th>d</th>\n",
       "      <th>g</th>\n",
       "      <th>R2</th>\n",
       "    </tr>\n",
       "  </thead>\n",
       "  <tbody>\n",
       "    <tr>\n",
       "      <th>81</th>\n",
       "      <td>BRT037b-63-1</td>\n",
       "      <td>psth.fs20.pup-ld-st.pup0.beh0-ref-psthfr.s_sta...</td>\n",
       "      <td>st.pup0.beh0</td>\n",
       "      <td>baseline</td>\n",
       "      <td>NaN</td>\n",
       "      <td>0.743709</td>\n",
       "      <td>0.018425</td>\n",
       "      <td>2.984925</td>\n",
       "      <td>0.974676</td>\n",
       "      <td>0.553102</td>\n",
       "    </tr>\n",
       "    <tr>\n",
       "      <th>82</th>\n",
       "      <td>BRT037b-63-1</td>\n",
       "      <td>psth.fs20.pup-ld-st.pup0.beh0-ref-psthfr.s_sta...</td>\n",
       "      <td>st.pup0.beh0</td>\n",
       "      <td>pupil</td>\n",
       "      <td>0.000369</td>\n",
       "      <td>0.743709</td>\n",
       "      <td>0.018425</td>\n",
       "      <td>-0.002090</td>\n",
       "      <td>-0.001492</td>\n",
       "      <td>0.553102</td>\n",
       "    </tr>\n",
       "    <tr>\n",
       "      <th>83</th>\n",
       "      <td>BRT037b-63-1</td>\n",
       "      <td>psth.fs20.pup-ld-st.pup0.beh0-ref-psthfr.s_sta...</td>\n",
       "      <td>st.pup0.beh0</td>\n",
       "      <td>active</td>\n",
       "      <td>-0.000338</td>\n",
       "      <td>0.743709</td>\n",
       "      <td>0.018425</td>\n",
       "      <td>0.058896</td>\n",
       "      <td>0.033358</td>\n",
       "      <td>0.553102</td>\n",
       "    </tr>\n",
       "    <tr>\n",
       "      <th>591</th>\n",
       "      <td>BRT037b-63-1</td>\n",
       "      <td>psth.fs20.pup-ld-st.pup0.beh-ref-psthfr.s_stat...</td>\n",
       "      <td>st.pup0.beh</td>\n",
       "      <td>baseline</td>\n",
       "      <td>NaN</td>\n",
       "      <td>0.744072</td>\n",
       "      <td>0.019048</td>\n",
       "      <td>2.978533</td>\n",
       "      <td>0.978024</td>\n",
       "      <td>0.553643</td>\n",
       "    </tr>\n",
       "    <tr>\n",
       "      <th>592</th>\n",
       "      <td>BRT037b-63-1</td>\n",
       "      <td>psth.fs20.pup-ld-st.pup0.beh-ref-psthfr.s_stat...</td>\n",
       "      <td>st.pup0.beh</td>\n",
       "      <td>pupil</td>\n",
       "      <td>0.008893</td>\n",
       "      <td>0.744072</td>\n",
       "      <td>0.019048</td>\n",
       "      <td>-0.002478</td>\n",
       "      <td>-0.001748</td>\n",
       "      <td>0.553643</td>\n",
       "    </tr>\n",
       "    <tr>\n",
       "      <th>593</th>\n",
       "      <td>BRT037b-63-1</td>\n",
       "      <td>psth.fs20.pup-ld-st.pup0.beh-ref-psthfr.s_stat...</td>\n",
       "      <td>st.pup0.beh</td>\n",
       "      <td>active</td>\n",
       "      <td>0.017796</td>\n",
       "      <td>0.744072</td>\n",
       "      <td>0.019048</td>\n",
       "      <td>0.127374</td>\n",
       "      <td>0.054849</td>\n",
       "      <td>0.553643</td>\n",
       "    </tr>\n",
       "    <tr>\n",
       "      <th>960</th>\n",
       "      <td>BRT037b-63-1</td>\n",
       "      <td>psth.fs20.pup-ld-st.pup.beh0-ref-psthfr.s_stat...</td>\n",
       "      <td>st.pup.beh0</td>\n",
       "      <td>baseline</td>\n",
       "      <td>NaN</td>\n",
       "      <td>0.743838</td>\n",
       "      <td>0.018794</td>\n",
       "      <td>2.987595</td>\n",
       "      <td>0.975063</td>\n",
       "      <td>0.553296</td>\n",
       "    </tr>\n",
       "    <tr>\n",
       "      <th>961</th>\n",
       "      <td>BRT037b-63-1</td>\n",
       "      <td>psth.fs20.pup-ld-st.pup.beh0-ref-psthfr.s_stat...</td>\n",
       "      <td>st.pup.beh0</td>\n",
       "      <td>pupil</td>\n",
       "      <td>0.014160</td>\n",
       "      <td>0.743838</td>\n",
       "      <td>0.018794</td>\n",
       "      <td>0.046450</td>\n",
       "      <td>0.007175</td>\n",
       "      <td>0.553296</td>\n",
       "    </tr>\n",
       "    <tr>\n",
       "      <th>962</th>\n",
       "      <td>BRT037b-63-1</td>\n",
       "      <td>psth.fs20.pup-ld-st.pup.beh0-ref-psthfr.s_stat...</td>\n",
       "      <td>st.pup.beh0</td>\n",
       "      <td>active</td>\n",
       "      <td>0.006886</td>\n",
       "      <td>0.743838</td>\n",
       "      <td>0.018794</td>\n",
       "      <td>0.058179</td>\n",
       "      <td>0.032514</td>\n",
       "      <td>0.553296</td>\n",
       "    </tr>\n",
       "    <tr>\n",
       "      <th>1320</th>\n",
       "      <td>BRT037b-63-1</td>\n",
       "      <td>psth.fs20.pup-ld-st.pup.beh-ref-psthfr.s_state...</td>\n",
       "      <td>st.pup.beh</td>\n",
       "      <td>baseline</td>\n",
       "      <td>NaN</td>\n",
       "      <td>0.743903</td>\n",
       "      <td>0.019168</td>\n",
       "      <td>2.987447</td>\n",
       "      <td>0.975693</td>\n",
       "      <td>0.553392</td>\n",
       "    </tr>\n",
       "    <tr>\n",
       "      <th>1321</th>\n",
       "      <td>BRT037b-63-1</td>\n",
       "      <td>psth.fs20.pup-ld-st.pup.beh-ref-psthfr.s_state...</td>\n",
       "      <td>st.pup.beh</td>\n",
       "      <td>pupil</td>\n",
       "      <td>0.016711</td>\n",
       "      <td>0.743903</td>\n",
       "      <td>0.019168</td>\n",
       "      <td>0.026076</td>\n",
       "      <td>-0.004084</td>\n",
       "      <td>0.553392</td>\n",
       "    </tr>\n",
       "    <tr>\n",
       "      <th>1322</th>\n",
       "      <td>BRT037b-63-1</td>\n",
       "      <td>psth.fs20.pup-ld-st.pup.beh-ref-psthfr.s_state...</td>\n",
       "      <td>st.pup.beh</td>\n",
       "      <td>active</td>\n",
       "      <td>0.017977</td>\n",
       "      <td>0.743903</td>\n",
       "      <td>0.019168</td>\n",
       "      <td>0.108336</td>\n",
       "      <td>0.058744</td>\n",
       "      <td>0.553392</td>\n",
       "    </tr>\n",
       "  </tbody>\n",
       "</table>\n",
       "</div>"
      ],
      "text/plain": [
       "            cellid                                          modelname  \\\n",
       "81    BRT037b-63-1  psth.fs20.pup-ld-st.pup0.beh0-ref-psthfr.s_sta...   \n",
       "82    BRT037b-63-1  psth.fs20.pup-ld-st.pup0.beh0-ref-psthfr.s_sta...   \n",
       "83    BRT037b-63-1  psth.fs20.pup-ld-st.pup0.beh0-ref-psthfr.s_sta...   \n",
       "591   BRT037b-63-1  psth.fs20.pup-ld-st.pup0.beh-ref-psthfr.s_stat...   \n",
       "592   BRT037b-63-1  psth.fs20.pup-ld-st.pup0.beh-ref-psthfr.s_stat...   \n",
       "593   BRT037b-63-1  psth.fs20.pup-ld-st.pup0.beh-ref-psthfr.s_stat...   \n",
       "960   BRT037b-63-1  psth.fs20.pup-ld-st.pup.beh0-ref-psthfr.s_stat...   \n",
       "961   BRT037b-63-1  psth.fs20.pup-ld-st.pup.beh0-ref-psthfr.s_stat...   \n",
       "962   BRT037b-63-1  psth.fs20.pup-ld-st.pup.beh0-ref-psthfr.s_stat...   \n",
       "1320  BRT037b-63-1  psth.fs20.pup-ld-st.pup.beh-ref-psthfr.s_state...   \n",
       "1321  BRT037b-63-1  psth.fs20.pup-ld-st.pup.beh-ref-psthfr.s_state...   \n",
       "1322  BRT037b-63-1  psth.fs20.pup-ld-st.pup.beh-ref-psthfr.s_state...   \n",
       "\n",
       "         state_sig state_chan        MI         r      r_se         d  \\\n",
       "81    st.pup0.beh0   baseline       NaN  0.743709  0.018425  2.984925   \n",
       "82    st.pup0.beh0      pupil  0.000369  0.743709  0.018425 -0.002090   \n",
       "83    st.pup0.beh0     active -0.000338  0.743709  0.018425  0.058896   \n",
       "591    st.pup0.beh   baseline       NaN  0.744072  0.019048  2.978533   \n",
       "592    st.pup0.beh      pupil  0.008893  0.744072  0.019048 -0.002478   \n",
       "593    st.pup0.beh     active  0.017796  0.744072  0.019048  0.127374   \n",
       "960    st.pup.beh0   baseline       NaN  0.743838  0.018794  2.987595   \n",
       "961    st.pup.beh0      pupil  0.014160  0.743838  0.018794  0.046450   \n",
       "962    st.pup.beh0     active  0.006886  0.743838  0.018794  0.058179   \n",
       "1320    st.pup.beh   baseline       NaN  0.743903  0.019168  2.987447   \n",
       "1321    st.pup.beh      pupil  0.016711  0.743903  0.019168  0.026076   \n",
       "1322    st.pup.beh     active  0.017977  0.743903  0.019168  0.108336   \n",
       "\n",
       "             g        R2  \n",
       "81    0.974676  0.553102  \n",
       "82   -0.001492  0.553102  \n",
       "83    0.033358  0.553102  \n",
       "591   0.978024  0.553643  \n",
       "592  -0.001748  0.553643  \n",
       "593   0.054849  0.553643  \n",
       "960   0.975063  0.553296  \n",
       "961   0.007175  0.553296  \n",
       "962   0.032514  0.553296  \n",
       "1320  0.975693  0.553392  \n",
       "1321 -0.004084  0.553392  \n",
       "1322  0.058744  0.553392  "
      ]
     },
     "execution_count": 94,
     "metadata": {},
     "output_type": "execute_result"
    }
   ],
   "source": [
    "# Check out an example\n",
    "d_pb307.loc[d_pb307['cellid']=='BRT037b-63-1']"
   ]
  },
  {
   "cell_type": "markdown",
   "metadata": {},
   "source": [
    "### Let's extract data for the plot of MI behavior only  \n",
    "`MIbeh = MIpup0beh-MIpup0beh0`"
   ]
  },
  {
   "cell_type": "code",
   "execution_count": 95,
   "metadata": {},
   "outputs": [
    {
     "data": {
      "text/html": [
       "<div>\n",
       "<style>\n",
       "    .dataframe thead tr:only-child th {\n",
       "        text-align: right;\n",
       "    }\n",
       "\n",
       "    .dataframe thead th {\n",
       "        text-align: left;\n",
       "    }\n",
       "\n",
       "    .dataframe tbody tr th {\n",
       "        vertical-align: top;\n",
       "    }\n",
       "</style>\n",
       "<table border=\"1\" class=\"dataframe\">\n",
       "  <thead>\n",
       "    <tr style=\"text-align: right;\">\n",
       "      <th></th>\n",
       "      <th>cellid</th>\n",
       "      <th>modelname</th>\n",
       "      <th>state_sig</th>\n",
       "      <th>state_chan</th>\n",
       "      <th>MI</th>\n",
       "      <th>r</th>\n",
       "      <th>r_se</th>\n",
       "      <th>d</th>\n",
       "      <th>g</th>\n",
       "      <th>R2</th>\n",
       "    </tr>\n",
       "  </thead>\n",
       "  <tbody>\n",
       "    <tr>\n",
       "      <th>0</th>\n",
       "      <td>BRT026c-07-1</td>\n",
       "      <td>psth.fs20.pup-ld-st.pup0.beh0-ref-psthfr.s_sta...</td>\n",
       "      <td>st.pup0.beh0</td>\n",
       "      <td>baseline</td>\n",
       "      <td>NaN</td>\n",
       "      <td>0.424528</td>\n",
       "      <td>0.021797</td>\n",
       "      <td>1.096463</td>\n",
       "      <td>0.932156</td>\n",
       "      <td>0.180224</td>\n",
       "    </tr>\n",
       "    <tr>\n",
       "      <th>1</th>\n",
       "      <td>BRT026c-07-1</td>\n",
       "      <td>psth.fs20.pup-ld-st.pup0.beh0-ref-psthfr.s_sta...</td>\n",
       "      <td>st.pup0.beh0</td>\n",
       "      <td>pupil</td>\n",
       "      <td>-0.000861</td>\n",
       "      <td>0.424528</td>\n",
       "      <td>0.021797</td>\n",
       "      <td>-0.012168</td>\n",
       "      <td>-0.018089</td>\n",
       "      <td>0.180224</td>\n",
       "    </tr>\n",
       "    <tr>\n",
       "      <th>2</th>\n",
       "      <td>BRT026c-07-1</td>\n",
       "      <td>psth.fs20.pup-ld-st.pup0.beh0-ref-psthfr.s_sta...</td>\n",
       "      <td>st.pup0.beh0</td>\n",
       "      <td>active</td>\n",
       "      <td>0.000680</td>\n",
       "      <td>0.424528</td>\n",
       "      <td>0.021797</td>\n",
       "      <td>0.014839</td>\n",
       "      <td>0.074780</td>\n",
       "      <td>0.180224</td>\n",
       "    </tr>\n",
       "    <tr>\n",
       "      <th>3</th>\n",
       "      <td>BRT026c-05-2</td>\n",
       "      <td>psth.fs20.pup-ld-st.pup0.beh0-ref-psthfr.s_sta...</td>\n",
       "      <td>st.pup0.beh0</td>\n",
       "      <td>baseline</td>\n",
       "      <td>NaN</td>\n",
       "      <td>0.436652</td>\n",
       "      <td>0.020546</td>\n",
       "      <td>1.506674</td>\n",
       "      <td>0.991322</td>\n",
       "      <td>0.190665</td>\n",
       "    </tr>\n",
       "    <tr>\n",
       "      <th>4</th>\n",
       "      <td>BRT026c-05-2</td>\n",
       "      <td>psth.fs20.pup-ld-st.pup0.beh0-ref-psthfr.s_sta...</td>\n",
       "      <td>st.pup0.beh0</td>\n",
       "      <td>pupil</td>\n",
       "      <td>-0.003393</td>\n",
       "      <td>0.436652</td>\n",
       "      <td>0.020546</td>\n",
       "      <td>-0.006919</td>\n",
       "      <td>0.008208</td>\n",
       "      <td>0.190665</td>\n",
       "    </tr>\n",
       "  </tbody>\n",
       "</table>\n",
       "</div>"
      ],
      "text/plain": [
       "         cellid                                          modelname  \\\n",
       "0  BRT026c-07-1  psth.fs20.pup-ld-st.pup0.beh0-ref-psthfr.s_sta...   \n",
       "1  BRT026c-07-1  psth.fs20.pup-ld-st.pup0.beh0-ref-psthfr.s_sta...   \n",
       "2  BRT026c-07-1  psth.fs20.pup-ld-st.pup0.beh0-ref-psthfr.s_sta...   \n",
       "3  BRT026c-05-2  psth.fs20.pup-ld-st.pup0.beh0-ref-psthfr.s_sta...   \n",
       "4  BRT026c-05-2  psth.fs20.pup-ld-st.pup0.beh0-ref-psthfr.s_sta...   \n",
       "\n",
       "      state_sig state_chan        MI         r      r_se         d         g  \\\n",
       "0  st.pup0.beh0   baseline       NaN  0.424528  0.021797  1.096463  0.932156   \n",
       "1  st.pup0.beh0      pupil -0.000861  0.424528  0.021797 -0.012168 -0.018089   \n",
       "2  st.pup0.beh0     active  0.000680  0.424528  0.021797  0.014839  0.074780   \n",
       "3  st.pup0.beh0   baseline       NaN  0.436652  0.020546  1.506674  0.991322   \n",
       "4  st.pup0.beh0      pupil -0.003393  0.436652  0.020546 -0.006919  0.008208   \n",
       "\n",
       "         R2  \n",
       "0  0.180224  \n",
       "1  0.180224  \n",
       "2  0.180224  \n",
       "3  0.190665  \n",
       "4  0.190665  "
      ]
     },
     "execution_count": 95,
     "metadata": {},
     "output_type": "execute_result"
    }
   ],
   "source": [
    "# partial model pupil shuffled\n",
    "d_p0b307 = d_pb307[d_pb307['state_sig']=='st.pup0.beh']\n",
    "\n",
    "# null model pupil and behavior shuffled\n",
    "d_p0b0307 = d_pb307[d_pb307['state_sig']=='st.pup0.beh0']\n",
    "d_p0b0307.head()"
   ]
  },
  {
   "cell_type": "code",
   "execution_count": 96,
   "metadata": {
    "collapsed": true
   },
   "outputs": [],
   "source": [
    "# pivot the partial model to have MI for each state_chan\n",
    "d_p0b307_MI = d_p0b307.pivot(index='cellid', columns='state_chan', values='MI')\n",
    "\n",
    "#drop pupil and baseline columns\n",
    "d_p0b307_MI = d_p0b307_MI.drop([\"baseline\", \"pupil\"], axis=1)\n",
    "\n",
    "# pivot the null model dataframe\n",
    "d_p0b0307_MI = d_p0b0307.pivot(index='cellid', columns='state_chan', values='MI')\n",
    "\n",
    "#drop pupil and baseline columns\n",
    "d_p0b0307_MI = d_p0b0307_MI.drop([\"baseline\", \"pupil\"], axis=1)\n",
    "\n",
    "#change name of column to prepare for merging\n",
    "d_p0b0307_MI = d_p0b0307_MI.rename(index=str, columns={\"active\":\"active0\"})"
   ]
  },
  {
   "cell_type": "code",
   "execution_count": 11,
   "metadata": {},
   "outputs": [
    {
     "data": {
      "text/html": [
       "<div>\n",
       "<style>\n",
       "    .dataframe thead tr:only-child th {\n",
       "        text-align: right;\n",
       "    }\n",
       "\n",
       "    .dataframe thead th {\n",
       "        text-align: left;\n",
       "    }\n",
       "\n",
       "    .dataframe tbody tr th {\n",
       "        vertical-align: top;\n",
       "    }\n",
       "</style>\n",
       "<table border=\"1\" class=\"dataframe\">\n",
       "  <thead>\n",
       "    <tr style=\"text-align: right;\">\n",
       "      <th>state_chan</th>\n",
       "      <th>cellid</th>\n",
       "      <th>active</th>\n",
       "    </tr>\n",
       "  </thead>\n",
       "  <tbody>\n",
       "    <tr>\n",
       "      <th>0</th>\n",
       "      <td>BRT026c-02-1</td>\n",
       "      <td>-0.068718</td>\n",
       "    </tr>\n",
       "    <tr>\n",
       "      <th>1</th>\n",
       "      <td>BRT026c-02-2</td>\n",
       "      <td>0.049225</td>\n",
       "    </tr>\n",
       "    <tr>\n",
       "      <th>2</th>\n",
       "      <td>BRT026c-05-1</td>\n",
       "      <td>0.215102</td>\n",
       "    </tr>\n",
       "    <tr>\n",
       "      <th>3</th>\n",
       "      <td>BRT026c-05-2</td>\n",
       "      <td>0.164100</td>\n",
       "    </tr>\n",
       "    <tr>\n",
       "      <th>4</th>\n",
       "      <td>BRT026c-07-1</td>\n",
       "      <td>0.241293</td>\n",
       "    </tr>\n",
       "  </tbody>\n",
       "</table>\n",
       "</div>"
      ],
      "text/plain": [
       "state_chan        cellid    active\n",
       "0           BRT026c-02-1 -0.068718\n",
       "1           BRT026c-02-2  0.049225\n",
       "2           BRT026c-05-1  0.215102\n",
       "3           BRT026c-05-2  0.164100\n",
       "4           BRT026c-07-1  0.241293"
      ]
     },
     "execution_count": 11,
     "metadata": {},
     "output_type": "execute_result"
    }
   ],
   "source": [
    "#reset index to get rid of multindexing in the partial model\n",
    "d_p0b307_MI = d_p0b307_MI.reset_index()\n",
    "d_p0b307_MI.head()"
   ]
  },
  {
   "cell_type": "code",
   "execution_count": 12,
   "metadata": {},
   "outputs": [
    {
     "data": {
      "text/html": [
       "<div>\n",
       "<style>\n",
       "    .dataframe thead tr:only-child th {\n",
       "        text-align: right;\n",
       "    }\n",
       "\n",
       "    .dataframe thead th {\n",
       "        text-align: left;\n",
       "    }\n",
       "\n",
       "    .dataframe tbody tr th {\n",
       "        vertical-align: top;\n",
       "    }\n",
       "</style>\n",
       "<table border=\"1\" class=\"dataframe\">\n",
       "  <thead>\n",
       "    <tr style=\"text-align: right;\">\n",
       "      <th>state_chan</th>\n",
       "      <th>cellid</th>\n",
       "      <th>active0</th>\n",
       "    </tr>\n",
       "  </thead>\n",
       "  <tbody>\n",
       "    <tr>\n",
       "      <th>0</th>\n",
       "      <td>BRT026c-02-1</td>\n",
       "      <td>-0.001699</td>\n",
       "    </tr>\n",
       "    <tr>\n",
       "      <th>1</th>\n",
       "      <td>BRT026c-02-2</td>\n",
       "      <td>0.002597</td>\n",
       "    </tr>\n",
       "    <tr>\n",
       "      <th>2</th>\n",
       "      <td>BRT026c-05-1</td>\n",
       "      <td>-0.000782</td>\n",
       "    </tr>\n",
       "    <tr>\n",
       "      <th>3</th>\n",
       "      <td>BRT026c-05-2</td>\n",
       "      <td>-0.000849</td>\n",
       "    </tr>\n",
       "    <tr>\n",
       "      <th>4</th>\n",
       "      <td>BRT026c-07-1</td>\n",
       "      <td>0.000680</td>\n",
       "    </tr>\n",
       "  </tbody>\n",
       "</table>\n",
       "</div>"
      ],
      "text/plain": [
       "state_chan        cellid   active0\n",
       "0           BRT026c-02-1 -0.001699\n",
       "1           BRT026c-02-2  0.002597\n",
       "2           BRT026c-05-1 -0.000782\n",
       "3           BRT026c-05-2 -0.000849\n",
       "4           BRT026c-07-1  0.000680"
      ]
     },
     "execution_count": 12,
     "metadata": {},
     "output_type": "execute_result"
    }
   ],
   "source": [
    "#reset index to get rid of multindexing in the null model\n",
    "d_p0b0307_MI = d_p0b0307_MI.reset_index()\n",
    "d_p0b0307_MI.head()"
   ]
  },
  {
   "cell_type": "code",
   "execution_count": 13,
   "metadata": {},
   "outputs": [
    {
     "data": {
      "text/html": [
       "<div>\n",
       "<style>\n",
       "    .dataframe thead tr:only-child th {\n",
       "        text-align: right;\n",
       "    }\n",
       "\n",
       "    .dataframe thead th {\n",
       "        text-align: left;\n",
       "    }\n",
       "\n",
       "    .dataframe tbody tr th {\n",
       "        vertical-align: top;\n",
       "    }\n",
       "</style>\n",
       "<table border=\"1\" class=\"dataframe\">\n",
       "  <thead>\n",
       "    <tr style=\"text-align: right;\">\n",
       "      <th>state_chan</th>\n",
       "      <th>active</th>\n",
       "      <th>active0</th>\n",
       "      <th>MI_beh_only</th>\n",
       "    </tr>\n",
       "    <tr>\n",
       "      <th>cellid</th>\n",
       "      <th></th>\n",
       "      <th></th>\n",
       "      <th></th>\n",
       "    </tr>\n",
       "  </thead>\n",
       "  <tbody>\n",
       "    <tr>\n",
       "      <th>BRT026c-02-1</th>\n",
       "      <td>-0.068718</td>\n",
       "      <td>-0.001699</td>\n",
       "      <td>-0.067019</td>\n",
       "    </tr>\n",
       "    <tr>\n",
       "      <th>BRT026c-02-2</th>\n",
       "      <td>0.049225</td>\n",
       "      <td>0.002597</td>\n",
       "      <td>0.046628</td>\n",
       "    </tr>\n",
       "    <tr>\n",
       "      <th>BRT026c-05-1</th>\n",
       "      <td>0.215102</td>\n",
       "      <td>-0.000782</td>\n",
       "      <td>0.215885</td>\n",
       "    </tr>\n",
       "    <tr>\n",
       "      <th>BRT026c-05-2</th>\n",
       "      <td>0.164100</td>\n",
       "      <td>-0.000849</td>\n",
       "      <td>0.164949</td>\n",
       "    </tr>\n",
       "    <tr>\n",
       "      <th>BRT026c-07-1</th>\n",
       "      <td>0.241293</td>\n",
       "      <td>0.000680</td>\n",
       "      <td>0.240614</td>\n",
       "    </tr>\n",
       "  </tbody>\n",
       "</table>\n",
       "</div>"
      ],
      "text/plain": [
       "state_chan      active   active0  MI_beh_only\n",
       "cellid                                       \n",
       "BRT026c-02-1 -0.068718 -0.001699    -0.067019\n",
       "BRT026c-02-2  0.049225  0.002597     0.046628\n",
       "BRT026c-05-1  0.215102 -0.000782     0.215885\n",
       "BRT026c-05-2  0.164100 -0.000849     0.164949\n",
       "BRT026c-07-1  0.241293  0.000680     0.240614"
      ]
     },
     "execution_count": 13,
     "metadata": {},
     "output_type": "execute_result"
    }
   ],
   "source": [
    "# join dataframes\n",
    "d307_MI_beh_only = pd.merge(d_p0b307_MI, d_p0b0307_MI, how='left', on='cellid')\n",
    "\n",
    "# add column called beh_only with difference between active and active0\n",
    "d307_MI_beh_only['MI_beh_only']=d307_MI_beh_only['active']-d307_MI_beh_only['active0']\n",
    "\n",
    "# set the index back to cellid to apply the loc method and get the significant cells\n",
    "d307_MI_beh_only=d307_MI_beh_only.set_index('cellid')\n",
    "d307_MI_beh_only.head()"
   ]
  },
  {
   "cell_type": "code",
   "execution_count": 177,
   "metadata": {},
   "outputs": [
    {
     "data": {
      "text/html": [
       "<div>\n",
       "<style>\n",
       "    .dataframe thead tr:only-child th {\n",
       "        text-align: right;\n",
       "    }\n",
       "\n",
       "    .dataframe thead th {\n",
       "        text-align: left;\n",
       "    }\n",
       "\n",
       "    .dataframe tbody tr th {\n",
       "        vertical-align: top;\n",
       "    }\n",
       "</style>\n",
       "<table border=\"1\" class=\"dataframe\">\n",
       "  <thead>\n",
       "    <tr style=\"text-align: right;\">\n",
       "      <th>state_chan</th>\n",
       "      <th>active</th>\n",
       "      <th>active0</th>\n",
       "      <th>MI_beh_only</th>\n",
       "    </tr>\n",
       "    <tr>\n",
       "      <th>cellid</th>\n",
       "      <th></th>\n",
       "      <th></th>\n",
       "      <th></th>\n",
       "    </tr>\n",
       "  </thead>\n",
       "  <tbody>\n",
       "    <tr>\n",
       "      <th>BRT026c-05-2</th>\n",
       "      <td>0.164100</td>\n",
       "      <td>-0.000849</td>\n",
       "      <td>0.164949</td>\n",
       "    </tr>\n",
       "    <tr>\n",
       "      <th>BRT026c-07-1</th>\n",
       "      <td>0.241293</td>\n",
       "      <td>0.000680</td>\n",
       "      <td>0.240614</td>\n",
       "    </tr>\n",
       "    <tr>\n",
       "      <th>BRT026c-15-1</th>\n",
       "      <td>0.247361</td>\n",
       "      <td>-0.000530</td>\n",
       "      <td>0.247891</td>\n",
       "    </tr>\n",
       "    <tr>\n",
       "      <th>BRT026c-17-1</th>\n",
       "      <td>0.304314</td>\n",
       "      <td>0.000828</td>\n",
       "      <td>0.303486</td>\n",
       "    </tr>\n",
       "    <tr>\n",
       "      <th>BRT026c-19-1</th>\n",
       "      <td>0.432244</td>\n",
       "      <td>-0.000525</td>\n",
       "      <td>0.432769</td>\n",
       "    </tr>\n",
       "  </tbody>\n",
       "</table>\n",
       "</div>"
      ],
      "text/plain": [
       "state_chan      active   active0  MI_beh_only\n",
       "cellid                                       \n",
       "BRT026c-05-2  0.164100 -0.000849     0.164949\n",
       "BRT026c-07-1  0.241293  0.000680     0.240614\n",
       "BRT026c-15-1  0.247361 -0.000530     0.247891\n",
       "BRT026c-17-1  0.304314  0.000828     0.303486\n",
       "BRT026c-19-1  0.432244 -0.000525     0.432769"
      ]
     },
     "execution_count": 177,
     "metadata": {},
     "output_type": "execute_result"
    }
   ],
   "source": [
    "# On the data frame pivoted on MI, apply the sign cells mask, and voila!\n",
    "d307_MI_beh_only_sig = d307_MI_beh_only.loc[cellid_sig_307]\n",
    "d307_MI_beh_only_sig.head()"
   ]
  },
  {
   "cell_type": "code",
   "execution_count": 97,
   "metadata": {},
   "outputs": [
    {
     "data": {
      "image/png": "[encoded data removed]",
      "text/plain": [
       "<matplotlib.figure.Figure at 0x11f0a8748>"
      ]
     },
     "metadata": {
      "needs_background": "light"
     },
     "output_type": "display_data"
    }
   ],
   "source": [
    "# histogram of MIbeh = MIpup0beh-MIpup0beh0 MI for behavior channel with pupil shuffled corrected\n",
    "median_d307_MI_beh_only=d307_MI_beh_only['MI_active_only'].median()\n",
    "\n",
    "median_d307_MI_beh_only_sig = d307_MI_beh_only_sig['MI_active_only'].median()\n",
    "\n",
    "dist307_MI_beh_only = sns.distplot(d307_MI_beh_only['MI_active_only'], \n",
    "                       hist_kws= {'alpha':1, 'color': 'lightgrey'}, kde=False, bins=21)\n",
    "\n",
    "dist307_MI_beh_only_sig = sns.distplot(d307_MI_beh_only_sig['MI_active_only'], \n",
    "                           hist_kws= {'alpha':1, 'color': color_ba}, kde=False, bins=18)\n",
    "\n",
    "plt.axvline(0, linestyle='--', linewidth=0.5, color='k')\n",
    "plt.xlim(-0.7, 0.7)\n",
    "\n",
    "# change it so that the value of mean MI gets inserted not hard coded.\n",
    "dist307_MI_beh_only.text(-0.65,18, \"median MIbeh = {:0.2f}\".format(median_d307_MI_beh_only), horizontalalignment='left', \n",
    "                         size='medium', color='k')\n",
    "dist307_MI_beh_only.text(-0.65,16, \"median MIbeh sig = {:0.2f}\".format(median_d307_MI_beh_only_sig), \n",
    "                         horizontalalignment='left', size='medium', color='k')\n",
    "\n",
    "plt.xlabel('A1 MI_beh')\n",
    "plt.savefig(\"A1_MI_beh_dist.pdf\")"
   ]
  },
  {
   "cell_type": "markdown",
   "metadata": {},
   "source": [
    "Now let's do the same for the plot of MI behavior unique  \n",
    "`MIunique = MIpupbeh - MIpupbeh0`"
   ]
  },
  {
   "cell_type": "code",
   "execution_count": 16,
   "metadata": {},
   "outputs": [
    {
     "data": {
      "text/html": [
       "<div>\n",
       "<style>\n",
       "    .dataframe thead tr:only-child th {\n",
       "        text-align: right;\n",
       "    }\n",
       "\n",
       "    .dataframe thead th {\n",
       "        text-align: left;\n",
       "    }\n",
       "\n",
       "    .dataframe tbody tr th {\n",
       "        vertical-align: top;\n",
       "    }\n",
       "</style>\n",
       "<table border=\"1\" class=\"dataframe\">\n",
       "  <thead>\n",
       "    <tr style=\"text-align: right;\">\n",
       "      <th></th>\n",
       "      <th>cellid</th>\n",
       "      <th>modelname</th>\n",
       "      <th>state_sig</th>\n",
       "      <th>state_chan</th>\n",
       "      <th>MI</th>\n",
       "      <th>r</th>\n",
       "      <th>r_se</th>\n",
       "      <th>d</th>\n",
       "      <th>g</th>\n",
       "      <th>R2</th>\n",
       "    </tr>\n",
       "  </thead>\n",
       "  <tbody>\n",
       "    <tr>\n",
       "      <th>756</th>\n",
       "      <td>BRT026c-15-1</td>\n",
       "      <td>psth.fs20.pup-ld-st.pup.beh0-ref-psthfr.s_stat...</td>\n",
       "      <td>st.pup.beh0</td>\n",
       "      <td>baseline</td>\n",
       "      <td>NaN</td>\n",
       "      <td>0.618576</td>\n",
       "      <td>0.019510</td>\n",
       "      <td>0.258390</td>\n",
       "      <td>1.090098</td>\n",
       "      <td>0.382636</td>\n",
       "    </tr>\n",
       "    <tr>\n",
       "      <th>757</th>\n",
       "      <td>BRT026c-15-1</td>\n",
       "      <td>psth.fs20.pup-ld-st.pup.beh0-ref-psthfr.s_stat...</td>\n",
       "      <td>st.pup.beh0</td>\n",
       "      <td>pupil</td>\n",
       "      <td>0.157054</td>\n",
       "      <td>0.618576</td>\n",
       "      <td>0.019510</td>\n",
       "      <td>0.047437</td>\n",
       "      <td>0.145302</td>\n",
       "      <td>0.382636</td>\n",
       "    </tr>\n",
       "    <tr>\n",
       "      <th>758</th>\n",
       "      <td>BRT026c-15-1</td>\n",
       "      <td>psth.fs20.pup-ld-st.pup.beh0-ref-psthfr.s_stat...</td>\n",
       "      <td>st.pup.beh0</td>\n",
       "      <td>active</td>\n",
       "      <td>0.164760</td>\n",
       "      <td>0.618576</td>\n",
       "      <td>0.019510</td>\n",
       "      <td>0.024420</td>\n",
       "      <td>-0.111371</td>\n",
       "      <td>0.382636</td>\n",
       "    </tr>\n",
       "    <tr>\n",
       "      <th>759</th>\n",
       "      <td>BRT026c-07-1</td>\n",
       "      <td>psth.fs20.pup-ld-st.pup.beh0-ref-psthfr.s_stat...</td>\n",
       "      <td>st.pup.beh0</td>\n",
       "      <td>baseline</td>\n",
       "      <td>NaN</td>\n",
       "      <td>0.460757</td>\n",
       "      <td>0.021652</td>\n",
       "      <td>1.103818</td>\n",
       "      <td>0.920766</td>\n",
       "      <td>0.212297</td>\n",
       "    </tr>\n",
       "    <tr>\n",
       "      <th>760</th>\n",
       "      <td>BRT026c-07-1</td>\n",
       "      <td>psth.fs20.pup-ld-st.pup.beh0-ref-psthfr.s_stat...</td>\n",
       "      <td>st.pup.beh0</td>\n",
       "      <td>pupil</td>\n",
       "      <td>0.119452</td>\n",
       "      <td>0.460757</td>\n",
       "      <td>0.021652</td>\n",
       "      <td>0.147556</td>\n",
       "      <td>0.093962</td>\n",
       "      <td>0.212297</td>\n",
       "    </tr>\n",
       "  </tbody>\n",
       "</table>\n",
       "</div>"
      ],
      "text/plain": [
       "           cellid                                          modelname  \\\n",
       "756  BRT026c-15-1  psth.fs20.pup-ld-st.pup.beh0-ref-psthfr.s_stat...   \n",
       "757  BRT026c-15-1  psth.fs20.pup-ld-st.pup.beh0-ref-psthfr.s_stat...   \n",
       "758  BRT026c-15-1  psth.fs20.pup-ld-st.pup.beh0-ref-psthfr.s_stat...   \n",
       "759  BRT026c-07-1  psth.fs20.pup-ld-st.pup.beh0-ref-psthfr.s_stat...   \n",
       "760  BRT026c-07-1  psth.fs20.pup-ld-st.pup.beh0-ref-psthfr.s_stat...   \n",
       "\n",
       "       state_sig state_chan        MI         r      r_se         d         g  \\\n",
       "756  st.pup.beh0   baseline       NaN  0.618576  0.019510  0.258390  1.090098   \n",
       "757  st.pup.beh0      pupil  0.157054  0.618576  0.019510  0.047437  0.145302   \n",
       "758  st.pup.beh0     active  0.164760  0.618576  0.019510  0.024420 -0.111371   \n",
       "759  st.pup.beh0   baseline       NaN  0.460757  0.021652  1.103818  0.920766   \n",
       "760  st.pup.beh0      pupil  0.119452  0.460757  0.021652  0.147556  0.093962   \n",
       "\n",
       "           R2  \n",
       "756  0.382636  \n",
       "757  0.382636  \n",
       "758  0.382636  \n",
       "759  0.212297  \n",
       "760  0.212297  "
      ]
     },
     "execution_count": 16,
     "metadata": {},
     "output_type": "execute_result"
    }
   ],
   "source": [
    "# full model\n",
    "d_pb307_full = d_pb307[d_pb307['state_sig']=='st.pup.beh']\n",
    "\n",
    "# partial model behavior shuffled\n",
    "d_pb0307 = d_pb307[d_pb307['state_sig']=='st.pup.beh0']\n",
    "d_pb0307.head()"
   ]
  },
  {
   "cell_type": "code",
   "execution_count": 17,
   "metadata": {
    "collapsed": true
   },
   "outputs": [],
   "source": [
    "# pivot the full model to have MI for each state_chan\n",
    "d_pb307_MI = d_pb307_full.pivot(index='cellid', columns='state_chan', values='MI')\n",
    "\n",
    "#drop pupil and baseline columns\n",
    "d_pb307_MI = d_pb307_MI.drop([\"baseline\", \"pupil\"], axis=1)\n",
    "\n",
    "# pivot the partial model dataframe\n",
    "d_pb0307_MI = d_pb0307.pivot(index='cellid', columns='state_chan', values='MI')\n",
    "\n",
    "#drop pupil and baseline columns\n",
    "d_pb0307_MI = d_pb0307_MI.drop([\"baseline\", \"pupil\"], axis=1)\n",
    "\n",
    "#change name of column to prepare for merging\n",
    "d_pb0307_MI = d_pb0307_MI.rename(index=str, columns={\"active\":\"active0\"})"
   ]
  },
  {
   "cell_type": "code",
   "execution_count": 18,
   "metadata": {},
   "outputs": [
    {
     "data": {
      "text/html": [
       "<div>\n",
       "<style>\n",
       "    .dataframe thead tr:only-child th {\n",
       "        text-align: right;\n",
       "    }\n",
       "\n",
       "    .dataframe thead th {\n",
       "        text-align: left;\n",
       "    }\n",
       "\n",
       "    .dataframe tbody tr th {\n",
       "        vertical-align: top;\n",
       "    }\n",
       "</style>\n",
       "<table border=\"1\" class=\"dataframe\">\n",
       "  <thead>\n",
       "    <tr style=\"text-align: right;\">\n",
       "      <th>state_chan</th>\n",
       "      <th>cellid</th>\n",
       "      <th>active</th>\n",
       "    </tr>\n",
       "  </thead>\n",
       "  <tbody>\n",
       "    <tr>\n",
       "      <th>0</th>\n",
       "      <td>BRT026c-02-1</td>\n",
       "      <td>-0.068798</td>\n",
       "    </tr>\n",
       "    <tr>\n",
       "      <th>1</th>\n",
       "      <td>BRT026c-02-2</td>\n",
       "      <td>0.049350</td>\n",
       "    </tr>\n",
       "    <tr>\n",
       "      <th>2</th>\n",
       "      <td>BRT026c-05-1</td>\n",
       "      <td>0.215491</td>\n",
       "    </tr>\n",
       "    <tr>\n",
       "      <th>3</th>\n",
       "      <td>BRT026c-05-2</td>\n",
       "      <td>0.164066</td>\n",
       "    </tr>\n",
       "    <tr>\n",
       "      <th>4</th>\n",
       "      <td>BRT026c-07-1</td>\n",
       "      <td>0.241020</td>\n",
       "    </tr>\n",
       "  </tbody>\n",
       "</table>\n",
       "</div>"
      ],
      "text/plain": [
       "state_chan        cellid    active\n",
       "0           BRT026c-02-1 -0.068798\n",
       "1           BRT026c-02-2  0.049350\n",
       "2           BRT026c-05-1  0.215491\n",
       "3           BRT026c-05-2  0.164066\n",
       "4           BRT026c-07-1  0.241020"
      ]
     },
     "execution_count": 18,
     "metadata": {},
     "output_type": "execute_result"
    }
   ],
   "source": [
    "#reset index to get rid of multindexing in the full model\n",
    "d_pb307_MI = d_pb307_MI.reset_index()\n",
    "d_pb307_MI.head()"
   ]
  },
  {
   "cell_type": "code",
   "execution_count": 19,
   "metadata": {},
   "outputs": [
    {
     "data": {
      "text/html": [
       "<div>\n",
       "<style>\n",
       "    .dataframe thead tr:only-child th {\n",
       "        text-align: right;\n",
       "    }\n",
       "\n",
       "    .dataframe thead th {\n",
       "        text-align: left;\n",
       "    }\n",
       "\n",
       "    .dataframe tbody tr th {\n",
       "        vertical-align: top;\n",
       "    }\n",
       "</style>\n",
       "<table border=\"1\" class=\"dataframe\">\n",
       "  <thead>\n",
       "    <tr style=\"text-align: right;\">\n",
       "      <th>state_chan</th>\n",
       "      <th>cellid</th>\n",
       "      <th>active0</th>\n",
       "    </tr>\n",
       "  </thead>\n",
       "  <tbody>\n",
       "    <tr>\n",
       "      <th>0</th>\n",
       "      <td>BRT026c-02-1</td>\n",
       "      <td>0.011056</td>\n",
       "    </tr>\n",
       "    <tr>\n",
       "      <th>1</th>\n",
       "      <td>BRT026c-02-2</td>\n",
       "      <td>0.063707</td>\n",
       "    </tr>\n",
       "    <tr>\n",
       "      <th>2</th>\n",
       "      <td>BRT026c-05-1</td>\n",
       "      <td>0.134036</td>\n",
       "    </tr>\n",
       "    <tr>\n",
       "      <th>3</th>\n",
       "      <td>BRT026c-05-2</td>\n",
       "      <td>0.084233</td>\n",
       "    </tr>\n",
       "    <tr>\n",
       "      <th>4</th>\n",
       "      <td>BRT026c-07-1</td>\n",
       "      <td>0.093719</td>\n",
       "    </tr>\n",
       "  </tbody>\n",
       "</table>\n",
       "</div>"
      ],
      "text/plain": [
       "state_chan        cellid   active0\n",
       "0           BRT026c-02-1  0.011056\n",
       "1           BRT026c-02-2  0.063707\n",
       "2           BRT026c-05-1  0.134036\n",
       "3           BRT026c-05-2  0.084233\n",
       "4           BRT026c-07-1  0.093719"
      ]
     },
     "execution_count": 19,
     "metadata": {},
     "output_type": "execute_result"
    }
   ],
   "source": [
    "#reset index to get rid of multindexing in the partial model\n",
    "d_pb0307_MI = d_pb0307_MI.reset_index()\n",
    "d_pb0307_MI.head()"
   ]
  },
  {
   "cell_type": "code",
   "execution_count": 20,
   "metadata": {
    "collapsed": true
   },
   "outputs": [],
   "source": [
    "# join dataframes\n",
    "d307_MI_beh_unique = pd.merge(d_pb307_MI, d_pb0307_MI, how='left', on='cellid')\n",
    "\n",
    "# add column called beh_only with difference between active and active0\n",
    "d307_MI_beh_unique['MI_beh_unique']=d307_MI_beh_unique['active']-d307_MI_beh_unique['active0']\n",
    "\n",
    "# set the index back to cellid to apply the loc method and get the significant cells\n",
    "d307_MI_beh_unique=d307_MI_beh_unique.set_index('cellid')"
   ]
  },
  {
   "cell_type": "code",
   "execution_count": 21,
   "metadata": {
    "collapsed": true
   },
   "outputs": [],
   "source": [
    "# On the data frame pivoted on MI, apply the sign cells mask, and voila!\n",
    "d307_MI_beh_unique_sig = d307_MI_beh_unique.loc[cellid_sig_307]"
   ]
  },
  {
   "cell_type": "code",
   "execution_count": 159,
   "metadata": {},
   "outputs": [
    {
     "name": "stdout",
     "output_type": "stream",
     "text": [
      "0.019256831040760862\n",
      "0.13058952971242993\n"
     ]
    },
    {
     "data": {
      "image/png": "[encoded data removed]",
      "text/plain": [
       "<matplotlib.figure.Figure at 0x11dab6710>"
      ]
     },
     "metadata": {
      "needs_background": "light"
     },
     "output_type": "display_data"
    }
   ],
   "source": [
    "# histogram of MIbeh_unique = MIpupbeh - MIpupbeh0, MI for behavior only component\n",
    "\n",
    "median_d307_MI_beh_unique = d307_MI_beh_unique['MI_beh_unique'].median()\n",
    "print(median_d307_MI_beh_unique)\n",
    "\n",
    "median_d307_MI_beh_unique_sig = d307_MI_beh_unique_sig['MI_beh_unique'].median()\n",
    "print(median_d307_MI_beh_unique_sig)\n",
    "\n",
    "dist307_MI_beh_unique = sns.distplot(d307_MI_beh_unique['MI_beh_unique'], \n",
    "                                  hist_kws= {'alpha':1, 'color': 'lightgrey'}, kde=False, \n",
    "                                     bins=16)\n",
    "\n",
    "dist307_MI_beh_unique_sig = sns.distplot(d307_MI_beh_unique_sig['MI_beh_unique'], \n",
    "                                      hist_kws= {'alpha':1, 'color': color_ba}, kde=False, \n",
    "                                         bins=10)\n",
    "\n",
    "plt.axvline(0, linestyle='--', linewidth=0.5, color='k')\n",
    "plt.xlim(-0.7, 0.7)\n",
    "\n",
    "# change it so that the value of mean MI gets inserted not hard coded.\n",
    "dist307_MI_beh_unique.text(-0.65,30, \"median MI unique = 0.02\", \n",
    "                        horizontalalignment='left', size='medium', color='k')\n",
    "dist307_MI_beh_unique.text(-0.65,28, \"median MI unique sig = 0.13\", \n",
    "                        horizontalalignment='left', size='medium', color='k')\n",
    "\n",
    "plt.xlabel('A1 MI unique')\n",
    "\n",
    "plt.savefig(\"A1_MI_beh_unique_dist.pdf\")"
   ]
  },
  {
   "cell_type": "markdown",
   "metadata": {},
   "source": [
    "### Scatter plot of MIbeh (MIpup0beh - MIpup0beh0) vs MIbeh unique (= MIpupbeh - MIpupbeh0)"
   ]
  },
  {
   "cell_type": "code",
   "execution_count": 23,
   "metadata": {},
   "outputs": [
    {
     "data": {
      "image/png": "[encoded data removed]",
      "text/plain": [
       "<matplotlib.figure.Figure at 0x11d40f2e8>"
      ]
     },
     "metadata": {
      "needs_background": "light"
     },
     "output_type": "display_data"
    }
   ],
   "source": [
    "fig, ax = plt.subplots()\n",
    "\n",
    "# plot\n",
    "ax.scatter(d307_MI_beh_only['MI_beh_only'], d307_MI_beh_unique['MI_beh_unique'], \n",
    "           color='lightgrey', edgecolors='white')\n",
    "\n",
    "ax.scatter(d307_MI_beh_only_sig['MI_beh_only'], d307_MI_beh_unique_sig['MI_beh_unique'], \n",
    "           color=color_ba, edgecolors='white')\n",
    "\n",
    "ax.set_xlabel('MIbeh only (MIpup0beh-MIpup0beh0)')\n",
    "ax.set_ylabel('MIbeh unique (MIpupbeh-MIpupbeh0)')\n",
    "ax.set_aspect('equal')\n",
    "\n",
    "# set the limits\n",
    "plt.ylim(-1, 1)\n",
    "plt.xlim(-1, 1)\n",
    "\n",
    "# need a slope and c to fix the position of line\n",
    "slope = 1\n",
    "c = -1\n",
    "\n",
    "x_min, x_max = ax.get_xlim()\n",
    "y_min, y_max = c, c + slope*(x_max-x_min)\n",
    "ax.plot([x_min, x_max], [y_min, y_max], linewidth=0.5, linestyle='--', color='k')\n",
    "ax.set_xlim([x_min, x_max])\n",
    "\n",
    "# add horizontal line\n",
    "slope = 0\n",
    "c = 0\n",
    "\n",
    "x_min, x_max = ax.get_xlim()\n",
    "y_min, y_max = c, c + slope*(x_max-x_min)\n",
    "ax.plot([x_min, x_max], [y_min, y_max], linewidth=0.5, linestyle='--', color='k')\n",
    "ax.set_xlim([x_min, x_max])\n",
    "\n",
    "# add vertical line\n",
    "xposition = 0.00\n",
    "plt.axvline(x=xposition, color='k', linestyle='--', linewidth=0.5)\n",
    "\n",
    "plt.savefig(\"A1_MIbeh_scatterplot.pdf\")"
   ]
  },
  {
   "cell_type": "markdown",
   "metadata": {},
   "source": [
    "### Calculate MIpup_unique"
   ]
  },
  {
   "cell_type": "code",
   "execution_count": null,
   "metadata": {},
   "outputs": [],
   "source": []
  },
  {
   "cell_type": "code",
   "execution_count": null,
   "metadata": {},
   "outputs": [],
   "source": []
  },
  {
   "cell_type": "code",
   "execution_count": null,
   "metadata": {},
   "outputs": [],
   "source": []
  },
  {
   "cell_type": "code",
   "execution_count": null,
   "metadata": {},
   "outputs": [],
   "source": []
  },
  {
   "cell_type": "code",
   "execution_count": null,
   "metadata": {},
   "outputs": [],
   "source": []
  },
  {
   "cell_type": "code",
   "execution_count": null,
   "metadata": {},
   "outputs": [],
   "source": []
  },
  {
   "cell_type": "code",
   "execution_count": null,
   "metadata": {},
   "outputs": [],
   "source": []
  },
  {
   "cell_type": "markdown",
   "metadata": {},
   "source": [
    "### Scatter plot of R2beh (R2pup0beh - R2pup0beh0) vs R2beh unique (R2pupbeh - R2pupbeh0)"
   ]
  },
  {
   "cell_type": "code",
   "execution_count": 24,
   "metadata": {
    "collapsed": true
   },
   "outputs": [],
   "source": [
    "# pivot the partial model to have R2 for each state_chan\n",
    "d_p0b307_R2 = d_p0b307.pivot(index='cellid', columns='state_chan', values='R2')\n",
    "\n",
    "#drop pupil and baseline columns\n",
    "d_p0b307_R2 = d_p0b307_R2.drop([\"baseline\", \"pupil\"], axis=1)\n",
    "\n",
    "# pivot the null model dataframe\n",
    "d_p0b0307_R2 = d_p0b0307.pivot(index='cellid', columns='state_chan', values='R2')\n",
    "\n",
    "#drop pupil and baseline columns\n",
    "d_p0b0307_R2 = d_p0b0307_R2.drop([\"baseline\", \"pupil\"], axis=1)\n",
    "\n",
    "#change name of column to prepare for merging\n",
    "d_p0b0307_R2 = d_p0b0307_R2.rename(index=str, columns={\"active\":\"active0\"})"
   ]
  },
  {
   "cell_type": "code",
   "execution_count": 25,
   "metadata": {
    "collapsed": true
   },
   "outputs": [],
   "source": [
    "# pivot the full model to have R2 for each state_chan\n",
    "d_pb307_R2 = d_pb307_full.pivot(index='cellid', columns='state_chan', values='R2')\n",
    "\n",
    "#drop pupil and baseline columns\n",
    "d_pb307_R2 = d_pb307_R2.drop([\"baseline\", \"pupil\"], axis=1)\n",
    "\n",
    "# pivot the partial model dataframe\n",
    "d_pb0307_R2 = d_pb0307.pivot(index='cellid', columns='state_chan', values='R2')\n",
    "\n",
    "#drop pupil and baseline columns\n",
    "d_pb0307_R2 = d_pb0307_R2.drop([\"baseline\", \"pupil\"], axis=1)\n",
    "\n",
    "#change name of column to prepare for merging\n",
    "d_pb0307_R2 = d_pb0307_R2.rename(index=str, columns={\"active\":\"active0\"})"
   ]
  },
  {
   "cell_type": "code",
   "execution_count": 26,
   "metadata": {},
   "outputs": [
    {
     "data": {
      "text/html": [
       "<div>\n",
       "<style>\n",
       "    .dataframe thead tr:only-child th {\n",
       "        text-align: right;\n",
       "    }\n",
       "\n",
       "    .dataframe thead th {\n",
       "        text-align: left;\n",
       "    }\n",
       "\n",
       "    .dataframe tbody tr th {\n",
       "        vertical-align: top;\n",
       "    }\n",
       "</style>\n",
       "<table border=\"1\" class=\"dataframe\">\n",
       "  <thead>\n",
       "    <tr style=\"text-align: right;\">\n",
       "      <th>state_chan</th>\n",
       "      <th>cellid</th>\n",
       "      <th>active0</th>\n",
       "    </tr>\n",
       "  </thead>\n",
       "  <tbody>\n",
       "    <tr>\n",
       "      <th>0</th>\n",
       "      <td>BRT026c-02-1</td>\n",
       "      <td>0.137154</td>\n",
       "    </tr>\n",
       "    <tr>\n",
       "      <th>1</th>\n",
       "      <td>BRT026c-02-2</td>\n",
       "      <td>0.227354</td>\n",
       "    </tr>\n",
       "    <tr>\n",
       "      <th>2</th>\n",
       "      <td>BRT026c-05-1</td>\n",
       "      <td>0.271259</td>\n",
       "    </tr>\n",
       "    <tr>\n",
       "      <th>3</th>\n",
       "      <td>BRT026c-05-2</td>\n",
       "      <td>0.253276</td>\n",
       "    </tr>\n",
       "    <tr>\n",
       "      <th>4</th>\n",
       "      <td>BRT026c-07-1</td>\n",
       "      <td>0.212297</td>\n",
       "    </tr>\n",
       "  </tbody>\n",
       "</table>\n",
       "</div>"
      ],
      "text/plain": [
       "state_chan        cellid   active0\n",
       "0           BRT026c-02-1  0.137154\n",
       "1           BRT026c-02-2  0.227354\n",
       "2           BRT026c-05-1  0.271259\n",
       "3           BRT026c-05-2  0.253276\n",
       "4           BRT026c-07-1  0.212297"
      ]
     },
     "execution_count": 26,
     "metadata": {},
     "output_type": "execute_result"
    }
   ],
   "source": [
    "#reset index to get rid of multindexing in the partial model\n",
    "d_p0b307_R2 = d_p0b307_R2.reset_index()\n",
    "\n",
    "#reset index to get rid of multindexing in the null model\n",
    "d_p0b0307_R2 = d_p0b0307_R2.reset_index()\n",
    "\n",
    "#reset index to get rid of multindexing in the full model\n",
    "d_pb307_R2 = d_pb307_R2.reset_index()\n",
    "\n",
    "#reset index to get rid of multindexing in the partial model\n",
    "d_pb0307_R2 = d_pb0307_R2.reset_index()\n",
    "d_pb0307_R2.head()"
   ]
  },
  {
   "cell_type": "code",
   "execution_count": 27,
   "metadata": {
    "collapsed": true
   },
   "outputs": [],
   "source": [
    "# join partial and null dataframes\n",
    "d307_R2_beh_only = pd.merge(d_p0b307_R2, d_p0b0307_R2, how='left', on='cellid')\n",
    "\n",
    "# add column called beh_only with difference between active and active0\n",
    "d307_R2_beh_only['R2_beh_only']=d307_R2_beh_only['active']-d307_R2_beh_only['active0']\n",
    "\n",
    "# set the index back to cellid to apply the loc method and get the significant cells\n",
    "d307_R2_beh_only=d307_R2_beh_only.set_index('cellid')\n",
    "\n",
    "\n",
    "# join full and partial dataframes\n",
    "d307_R2_beh_unique = pd.merge(d_pb307_R2, d_pb0307_R2, how='left', on='cellid')\n",
    "\n",
    "# add column called beh_only with difference between active and active0\n",
    "d307_R2_beh_unique['R2_beh_unique']=d307_R2_beh_unique['active']-d307_R2_beh_unique['active0']\n",
    "\n",
    "# set the index back to cellid to apply the loc method and get the significant cells\n",
    "d307_R2_beh_unique=d307_R2_beh_unique.set_index('cellid')\n"
   ]
  },
  {
   "cell_type": "code",
   "execution_count": 28,
   "metadata": {},
   "outputs": [
    {
     "data": {
      "text/html": [
       "<div>\n",
       "<style>\n",
       "    .dataframe thead tr:only-child th {\n",
       "        text-align: right;\n",
       "    }\n",
       "\n",
       "    .dataframe thead th {\n",
       "        text-align: left;\n",
       "    }\n",
       "\n",
       "    .dataframe tbody tr th {\n",
       "        vertical-align: top;\n",
       "    }\n",
       "</style>\n",
       "<table border=\"1\" class=\"dataframe\">\n",
       "  <thead>\n",
       "    <tr style=\"text-align: right;\">\n",
       "      <th>state_chan</th>\n",
       "      <th>active</th>\n",
       "      <th>active0</th>\n",
       "      <th>R2_beh_unique</th>\n",
       "    </tr>\n",
       "    <tr>\n",
       "      <th>cellid</th>\n",
       "      <th></th>\n",
       "      <th></th>\n",
       "      <th></th>\n",
       "    </tr>\n",
       "  </thead>\n",
       "  <tbody>\n",
       "    <tr>\n",
       "      <th>TAR010c-27-2</th>\n",
       "      <td>0.304352</td>\n",
       "      <td>0.200429</td>\n",
       "      <td>0.103923</td>\n",
       "    </tr>\n",
       "  </tbody>\n",
       "</table>\n",
       "</div>"
      ],
      "text/plain": [
       "state_chan      active   active0  R2_beh_unique\n",
       "cellid                                         \n",
       "TAR010c-27-2  0.304352  0.200429       0.103923"
      ]
     },
     "execution_count": 28,
     "metadata": {},
     "output_type": "execute_result"
    }
   ],
   "source": [
    "d307_R2_beh_unique[d307_R2_beh_unique['R2_beh_unique']>0.1]"
   ]
  },
  {
   "cell_type": "code",
   "execution_count": 29,
   "metadata": {
    "collapsed": true
   },
   "outputs": [],
   "source": [
    "# On the data frame pivoted on MI, apply the sign cells mask, and voila!\n",
    "d307_R2_beh_only_sig = d307_R2_beh_only.loc[cellid_sig_307]\n",
    "\n",
    "# On the data frame pivoted on MI, apply the sign cells mask, and voila!\n",
    "d307_R2_beh_unique_sig = d307_R2_beh_unique.loc[cellid_sig_307]"
   ]
  },
  {
   "cell_type": "code",
   "execution_count": 105,
   "metadata": {},
   "outputs": [
    {
     "data": {
      "image/png": "[encoded data removed]",
      "text/plain": [
       "<matplotlib.figure.Figure at 0x1194092e8>"
      ]
     },
     "metadata": {
      "needs_background": "light"
     },
     "output_type": "display_data"
    }
   ],
   "source": [
    "fig, ax = plt.subplots()\n",
    "\n",
    "plt.ylim(-0.05, 0.3)\n",
    "plt.xlim(-0.05, 0.3)\n",
    "\n",
    "plt.axhline(0, linestyle='--', linewidth=0.3, color='k')\n",
    "plt.axvline(0, linestyle='--', linewidth=0.3, color='k')\n",
    "plt.plot([-0.05,0.3],[-0.05, 0.3], linestyle='--',linewidth=0.5, color='k')\n",
    "\n",
    "ax.scatter(d307_R2_beh_only['R2_beh_only'], d307_R2_beh_unique['R2_beh_unique'], \n",
    "           color='lightgrey', edgecolors='white')\n",
    "\n",
    "ax.scatter(d307_R2_beh_only_sig['R2_beh_only'], d307_R2_beh_unique_sig['R2_beh_unique'], \n",
    "           color=color_ba, edgecolors='white')\n",
    "\n",
    "ax.set_xlabel('R2beh only (R2pup0beh-R2pup0beh0)')\n",
    "ax.set_ylabel('R2beh unique (R2pupbeh-R2pupbeh0)')\n",
    "ax.set_aspect('equal')\n",
    "\n",
    "plt.savefig(\"A1_R2beh_scatterplot.pdf\")"
   ]
  },
  {
   "cell_type": "markdown",
   "metadata": {},
   "source": [
    "### b) IC 309 MUA + SUA results "
   ]
  },
  {
   "cell_type": "code",
   "execution_count": 31,
   "metadata": {
    "collapsed": true
   },
   "outputs": [],
   "source": [
    "# IC SUA+MUA: pup vs. beh 309 per state dataframe\n",
    "d_pb309 = pd.read_csv('d_pb_per_state_309.csv')\n",
    "d_pb309 = d_pb309.drop(['Unnamed: 0'], axis=1)\n",
    "\n",
    "# Add column with R2 for variance analysis\n",
    "d_pb309['R2'] = d_pb309['r']**2"
   ]
  },
  {
   "cell_type": "code",
   "execution_count": 32,
   "metadata": {},
   "outputs": [
    {
     "data": {
      "text/html": [
       "<div>\n",
       "<style>\n",
       "    .dataframe thead tr:only-child th {\n",
       "        text-align: right;\n",
       "    }\n",
       "\n",
       "    .dataframe thead th {\n",
       "        text-align: left;\n",
       "    }\n",
       "\n",
       "    .dataframe tbody tr th {\n",
       "        vertical-align: top;\n",
       "    }\n",
       "</style>\n",
       "<table border=\"1\" class=\"dataframe\">\n",
       "  <thead>\n",
       "    <tr style=\"text-align: right;\">\n",
       "      <th></th>\n",
       "      <th>cellid</th>\n",
       "      <th>modelname</th>\n",
       "      <th>state_sig</th>\n",
       "      <th>state_chan</th>\n",
       "      <th>MI</th>\n",
       "      <th>r</th>\n",
       "      <th>r_se</th>\n",
       "      <th>d</th>\n",
       "      <th>g</th>\n",
       "      <th>R2</th>\n",
       "    </tr>\n",
       "  </thead>\n",
       "  <tbody>\n",
       "    <tr>\n",
       "      <th>0</th>\n",
       "      <td>ley046g-39-1</td>\n",
       "      <td>psth.fs20.pup-ld-st.pup0.beh0-ref-psthfr.s_sta...</td>\n",
       "      <td>st.pup0.beh0</td>\n",
       "      <td>baseline</td>\n",
       "      <td>NaN</td>\n",
       "      <td>0.264285</td>\n",
       "      <td>0.027811</td>\n",
       "      <td>3.774779</td>\n",
       "      <td>1.017438</td>\n",
       "      <td>0.069846</td>\n",
       "    </tr>\n",
       "    <tr>\n",
       "      <th>1</th>\n",
       "      <td>ley046g-39-1</td>\n",
       "      <td>psth.fs20.pup-ld-st.pup0.beh0-ref-psthfr.s_sta...</td>\n",
       "      <td>st.pup0.beh0</td>\n",
       "      <td>pupil</td>\n",
       "      <td>0.000153</td>\n",
       "      <td>0.264285</td>\n",
       "      <td>0.027811</td>\n",
       "      <td>-0.005980</td>\n",
       "      <td>-0.029446</td>\n",
       "      <td>0.069846</td>\n",
       "    </tr>\n",
       "    <tr>\n",
       "      <th>2</th>\n",
       "      <td>ley046g-39-1</td>\n",
       "      <td>psth.fs20.pup-ld-st.pup0.beh0-ref-psthfr.s_sta...</td>\n",
       "      <td>st.pup0.beh0</td>\n",
       "      <td>active</td>\n",
       "      <td>-0.000200</td>\n",
       "      <td>0.264285</td>\n",
       "      <td>0.027811</td>\n",
       "      <td>0.015825</td>\n",
       "      <td>-0.026386</td>\n",
       "      <td>0.069846</td>\n",
       "    </tr>\n",
       "    <tr>\n",
       "      <th>3</th>\n",
       "      <td>ley046g-59-1</td>\n",
       "      <td>psth.fs20.pup-ld-st.pup0.beh0-ref-psthfr.s_sta...</td>\n",
       "      <td>st.pup0.beh0</td>\n",
       "      <td>baseline</td>\n",
       "      <td>NaN</td>\n",
       "      <td>0.331130</td>\n",
       "      <td>0.028168</td>\n",
       "      <td>4.248319</td>\n",
       "      <td>0.995271</td>\n",
       "      <td>0.109647</td>\n",
       "    </tr>\n",
       "    <tr>\n",
       "      <th>4</th>\n",
       "      <td>ley046g-59-1</td>\n",
       "      <td>psth.fs20.pup-ld-st.pup0.beh0-ref-psthfr.s_sta...</td>\n",
       "      <td>st.pup0.beh0</td>\n",
       "      <td>pupil</td>\n",
       "      <td>-0.000621</td>\n",
       "      <td>0.331130</td>\n",
       "      <td>0.028168</td>\n",
       "      <td>0.001237</td>\n",
       "      <td>-0.002972</td>\n",
       "      <td>0.109647</td>\n",
       "    </tr>\n",
       "  </tbody>\n",
       "</table>\n",
       "</div>"
      ],
      "text/plain": [
       "         cellid                                          modelname  \\\n",
       "0  ley046g-39-1  psth.fs20.pup-ld-st.pup0.beh0-ref-psthfr.s_sta...   \n",
       "1  ley046g-39-1  psth.fs20.pup-ld-st.pup0.beh0-ref-psthfr.s_sta...   \n",
       "2  ley046g-39-1  psth.fs20.pup-ld-st.pup0.beh0-ref-psthfr.s_sta...   \n",
       "3  ley046g-59-1  psth.fs20.pup-ld-st.pup0.beh0-ref-psthfr.s_sta...   \n",
       "4  ley046g-59-1  psth.fs20.pup-ld-st.pup0.beh0-ref-psthfr.s_sta...   \n",
       "\n",
       "      state_sig state_chan        MI         r      r_se         d         g  \\\n",
       "0  st.pup0.beh0   baseline       NaN  0.264285  0.027811  3.774779  1.017438   \n",
       "1  st.pup0.beh0      pupil  0.000153  0.264285  0.027811 -0.005980 -0.029446   \n",
       "2  st.pup0.beh0     active -0.000200  0.264285  0.027811  0.015825 -0.026386   \n",
       "3  st.pup0.beh0   baseline       NaN  0.331130  0.028168  4.248319  0.995271   \n",
       "4  st.pup0.beh0      pupil -0.000621  0.331130  0.028168  0.001237 -0.002972   \n",
       "\n",
       "         R2  \n",
       "0  0.069846  \n",
       "1  0.069846  \n",
       "2  0.069846  \n",
       "3  0.109647  \n",
       "4  0.109647  "
      ]
     },
     "execution_count": 32,
     "metadata": {},
     "output_type": "execute_result"
    }
   ],
   "source": [
    "d_pb309.head()"
   ]
  },
  {
   "cell_type": "code",
   "execution_count": 33,
   "metadata": {
    "collapsed": true
   },
   "outputs": [],
   "source": [
    "# Find IC cells for which the model prediction with behavior as state variable \n",
    "# signifantly predicts behavior modulation\n",
    "# significant cells = r_pup0_beh - r_pup0_beh0 > rse_pup0_beh + rse_pup0_beh0 where 'r' is \n",
    "# Pearson's correlation\n",
    "\n",
    "# Isolate df with only active (or any of those state_chan as r (Pearson's) is the same)\n",
    "d_pb309_active = d_pb309[d_pb309['state_chan']=='active']\n",
    "\n",
    "# Pivot the new df such that you only have r or r_se as data and state_sig as columns\n",
    "d_pb309_pivot_r= d_pb309_active.pivot(index='cellid',columns='state_sig',values='r')\n",
    "d_pb309_pivot_rse= d_pb309_active.pivot(index='cellid',columns='state_sig',values='r_se')\n",
    "\n",
    "# create a new column in d_pivot_r where you take the diff between r in pup0.beh and pup0.beh0\n",
    "d_pb309_pivot_r['r_diff']=d_pb309_pivot_r['st.pup0.beh']-d_pb309_pivot_r['st.pup0.beh0']\n",
    "\n",
    "# create a new column in d_pivot_rse where you take the sum of r_se in pup0.beh and pup0.beh0\n",
    "d_pb309_pivot_rse['r_sum']=d_pb309_pivot_rse['st.pup0.beh']+d_pb309_pivot_rse['st.pup0.beh0']\n",
    "\n",
    "# create a np array listing all sig cells to use as mask for original df\n",
    "cellid_sig_309 = d_pb309_pivot_r[d_pb309_pivot_r['r_diff']>d_pb309_pivot_rse['r_sum']].index"
   ]
  },
  {
   "cell_type": "markdown",
   "metadata": {},
   "source": [
    "Let's extract data for the plot of MI behavior only  \n",
    "`MIbeh = MIpup0beh-MIpup0beh0`"
   ]
  },
  {
   "cell_type": "code",
   "execution_count": 34,
   "metadata": {
    "collapsed": true
   },
   "outputs": [],
   "source": [
    "# partial model pupil shuffled\n",
    "d_p0b309 = d_pb309[d_pb309['state_sig']=='st.pup0.beh']\n",
    "\n",
    "# null model pupil and behavior shuffled\n",
    "d_p0b0309 = d_pb309[d_pb309['state_sig']=='st.pup0.beh0']"
   ]
  },
  {
   "cell_type": "code",
   "execution_count": 35,
   "metadata": {
    "collapsed": true
   },
   "outputs": [],
   "source": [
    "# pivot the partial model to have MI for each state_chan\n",
    "d_p0b309_MI = d_p0b309.pivot(index='cellid', columns='state_chan', values='MI')\n",
    "\n",
    "#drop pupil and baseline columns\n",
    "d_p0b309_MI = d_p0b309_MI.drop([\"baseline\", \"pupil\"], axis=1)\n",
    "\n",
    "# pivot the null model dataframe\n",
    "d_p0b0309_MI = d_p0b0309.pivot(index='cellid', columns='state_chan', values='MI')\n",
    "\n",
    "#drop pupil and baseline columns\n",
    "d_p0b0309_MI = d_p0b0309_MI.drop([\"baseline\", \"pupil\"], axis=1)\n",
    "\n",
    "#change name of column to prepare for merging\n",
    "d_p0b0309_MI = d_p0b0309_MI.rename(index=str, columns={\"active\":\"active0\"})"
   ]
  },
  {
   "cell_type": "code",
   "execution_count": 36,
   "metadata": {},
   "outputs": [
    {
     "data": {
      "text/html": [
       "<div>\n",
       "<style>\n",
       "    .dataframe thead tr:only-child th {\n",
       "        text-align: right;\n",
       "    }\n",
       "\n",
       "    .dataframe thead th {\n",
       "        text-align: left;\n",
       "    }\n",
       "\n",
       "    .dataframe tbody tr th {\n",
       "        vertical-align: top;\n",
       "    }\n",
       "</style>\n",
       "<table border=\"1\" class=\"dataframe\">\n",
       "  <thead>\n",
       "    <tr style=\"text-align: right;\">\n",
       "      <th>state_chan</th>\n",
       "      <th>cellid</th>\n",
       "      <th>active</th>\n",
       "    </tr>\n",
       "  </thead>\n",
       "  <tbody>\n",
       "    <tr>\n",
       "      <th>0</th>\n",
       "      <td>BRT005c-a1</td>\n",
       "      <td>0.044122</td>\n",
       "    </tr>\n",
       "    <tr>\n",
       "      <th>1</th>\n",
       "      <td>BRT006d-a1</td>\n",
       "      <td>-0.018645</td>\n",
       "    </tr>\n",
       "    <tr>\n",
       "      <th>2</th>\n",
       "      <td>BRT006d-a2</td>\n",
       "      <td>0.006527</td>\n",
       "    </tr>\n",
       "    <tr>\n",
       "      <th>3</th>\n",
       "      <td>BRT007c-a1</td>\n",
       "      <td>0.125416</td>\n",
       "    </tr>\n",
       "    <tr>\n",
       "      <th>4</th>\n",
       "      <td>BRT007c-a3</td>\n",
       "      <td>0.017680</td>\n",
       "    </tr>\n",
       "  </tbody>\n",
       "</table>\n",
       "</div>"
      ],
      "text/plain": [
       "state_chan      cellid    active\n",
       "0           BRT005c-a1  0.044122\n",
       "1           BRT006d-a1 -0.018645\n",
       "2           BRT006d-a2  0.006527\n",
       "3           BRT007c-a1  0.125416\n",
       "4           BRT007c-a3  0.017680"
      ]
     },
     "execution_count": 36,
     "metadata": {},
     "output_type": "execute_result"
    }
   ],
   "source": [
    "#reset index to get rid of multindexing in the partial model\n",
    "d_p0b309_MI = d_p0b309_MI.reset_index()\n",
    "d_p0b309_MI.head()"
   ]
  },
  {
   "cell_type": "code",
   "execution_count": 37,
   "metadata": {},
   "outputs": [
    {
     "data": {
      "text/html": [
       "<div>\n",
       "<style>\n",
       "    .dataframe thead tr:only-child th {\n",
       "        text-align: right;\n",
       "    }\n",
       "\n",
       "    .dataframe thead th {\n",
       "        text-align: left;\n",
       "    }\n",
       "\n",
       "    .dataframe tbody tr th {\n",
       "        vertical-align: top;\n",
       "    }\n",
       "</style>\n",
       "<table border=\"1\" class=\"dataframe\">\n",
       "  <thead>\n",
       "    <tr style=\"text-align: right;\">\n",
       "      <th>state_chan</th>\n",
       "      <th>cellid</th>\n",
       "      <th>active0</th>\n",
       "    </tr>\n",
       "  </thead>\n",
       "  <tbody>\n",
       "    <tr>\n",
       "      <th>0</th>\n",
       "      <td>BRT005c-a1</td>\n",
       "      <td>0.001240</td>\n",
       "    </tr>\n",
       "    <tr>\n",
       "      <th>1</th>\n",
       "      <td>BRT006d-a1</td>\n",
       "      <td>-0.001458</td>\n",
       "    </tr>\n",
       "    <tr>\n",
       "      <th>2</th>\n",
       "      <td>BRT006d-a2</td>\n",
       "      <td>-0.001096</td>\n",
       "    </tr>\n",
       "    <tr>\n",
       "      <th>3</th>\n",
       "      <td>BRT007c-a1</td>\n",
       "      <td>0.000040</td>\n",
       "    </tr>\n",
       "    <tr>\n",
       "      <th>4</th>\n",
       "      <td>BRT007c-a3</td>\n",
       "      <td>0.000677</td>\n",
       "    </tr>\n",
       "  </tbody>\n",
       "</table>\n",
       "</div>"
      ],
      "text/plain": [
       "state_chan      cellid   active0\n",
       "0           BRT005c-a1  0.001240\n",
       "1           BRT006d-a1 -0.001458\n",
       "2           BRT006d-a2 -0.001096\n",
       "3           BRT007c-a1  0.000040\n",
       "4           BRT007c-a3  0.000677"
      ]
     },
     "execution_count": 37,
     "metadata": {},
     "output_type": "execute_result"
    }
   ],
   "source": [
    "#reset index to get rid of multindexing in the null model\n",
    "d_p0b0309_MI = d_p0b0309_MI.reset_index()\n",
    "d_p0b0309_MI.head()"
   ]
  },
  {
   "cell_type": "code",
   "execution_count": 38,
   "metadata": {},
   "outputs": [
    {
     "data": {
      "text/html": [
       "<div>\n",
       "<style>\n",
       "    .dataframe thead tr:only-child th {\n",
       "        text-align: right;\n",
       "    }\n",
       "\n",
       "    .dataframe thead th {\n",
       "        text-align: left;\n",
       "    }\n",
       "\n",
       "    .dataframe tbody tr th {\n",
       "        vertical-align: top;\n",
       "    }\n",
       "</style>\n",
       "<table border=\"1\" class=\"dataframe\">\n",
       "  <thead>\n",
       "    <tr style=\"text-align: right;\">\n",
       "      <th>state_chan</th>\n",
       "      <th>active</th>\n",
       "      <th>active0</th>\n",
       "      <th>MI_beh_only</th>\n",
       "    </tr>\n",
       "    <tr>\n",
       "      <th>cellid</th>\n",
       "      <th></th>\n",
       "      <th></th>\n",
       "      <th></th>\n",
       "    </tr>\n",
       "  </thead>\n",
       "  <tbody>\n",
       "    <tr>\n",
       "      <th>BRT005c-a1</th>\n",
       "      <td>0.044122</td>\n",
       "      <td>0.001240</td>\n",
       "      <td>0.042882</td>\n",
       "    </tr>\n",
       "    <tr>\n",
       "      <th>BRT006d-a1</th>\n",
       "      <td>-0.018645</td>\n",
       "      <td>-0.001458</td>\n",
       "      <td>-0.017187</td>\n",
       "    </tr>\n",
       "    <tr>\n",
       "      <th>BRT006d-a2</th>\n",
       "      <td>0.006527</td>\n",
       "      <td>-0.001096</td>\n",
       "      <td>0.007623</td>\n",
       "    </tr>\n",
       "    <tr>\n",
       "      <th>BRT007c-a1</th>\n",
       "      <td>0.125416</td>\n",
       "      <td>0.000040</td>\n",
       "      <td>0.125376</td>\n",
       "    </tr>\n",
       "    <tr>\n",
       "      <th>BRT007c-a3</th>\n",
       "      <td>0.017680</td>\n",
       "      <td>0.000677</td>\n",
       "      <td>0.017003</td>\n",
       "    </tr>\n",
       "  </tbody>\n",
       "</table>\n",
       "</div>"
      ],
      "text/plain": [
       "state_chan    active   active0  MI_beh_only\n",
       "cellid                                     \n",
       "BRT005c-a1  0.044122  0.001240     0.042882\n",
       "BRT006d-a1 -0.018645 -0.001458    -0.017187\n",
       "BRT006d-a2  0.006527 -0.001096     0.007623\n",
       "BRT007c-a1  0.125416  0.000040     0.125376\n",
       "BRT007c-a3  0.017680  0.000677     0.017003"
      ]
     },
     "execution_count": 38,
     "metadata": {},
     "output_type": "execute_result"
    }
   ],
   "source": [
    "# join dataframes\n",
    "d309_MI_beh_only = pd.merge(d_p0b309_MI, d_p0b0309_MI, how='left', on='cellid')\n",
    "\n",
    "# add column called beh_only with difference between active and active0\n",
    "d309_MI_beh_only['MI_beh_only']=d309_MI_beh_only['active']-d309_MI_beh_only['active0']\n",
    "\n",
    "# set the index back to cellid to apply the loc method and get the significant cells\n",
    "d309_MI_beh_only=d309_MI_beh_only.set_index('cellid')\n",
    "d309_MI_beh_only.head()"
   ]
  },
  {
   "cell_type": "code",
   "execution_count": 39,
   "metadata": {
    "collapsed": true
   },
   "outputs": [],
   "source": [
    "# On the data frame pivoted on MI, apply the sign cells mask, and voila!\n",
    "d309_MI_beh_only_sig = d309_MI_beh_only.loc[cellid_sig_309]"
   ]
  },
  {
   "cell_type": "code",
   "execution_count": 146,
   "metadata": {},
   "outputs": [
    {
     "name": "stdout",
     "output_type": "stream",
     "text": [
      "-0.00017900155483884384\n",
      "0.08170368491192954\n"
     ]
    },
    {
     "data": {
      "image/png": "[encoded data removed]",
      "text/plain": [
       "<matplotlib.figure.Figure at 0x11dbaacf8>"
      ]
     },
     "metadata": {
      "needs_background": "light"
     },
     "output_type": "display_data"
    }
   ],
   "source": [
    "# histogram of MIbeh = MIpup0beh-MIpup0beh0 MI for behavior channel with pupil \n",
    "# shuffled corrected\n",
    "\n",
    "median_d309_MI_beh_only=d309_MI_beh_only['MI_beh_only'].median()\n",
    "print(median_d309_MI_beh_only)\n",
    "\n",
    "median_d309_MI_beh_only_sig = d309_MI_beh_only_sig['MI_beh_only'].median()\n",
    "print(median_d309_MI_beh_only_sig)\n",
    "\n",
    "dist309_MI_beh_only = sns.distplot(d309_MI_beh_only['MI_beh_only'], \n",
    "                       hist_kws= {'alpha':1, 'color': 'lightgrey'}, kde=False, bins=15)\n",
    "\n",
    "dist309_MI_beh_only_sig = sns.distplot(d309_MI_beh_only_sig['MI_beh_only'], \n",
    "                           hist_kws= {'alpha':1, 'color': color_ba}, kde=False, bins=15)\n",
    "\n",
    "plt.axvline(0, linestyle='--', linewidth=0.5, color='k')\n",
    "plt.xlim(-0.7, 0.7)\n",
    "\n",
    "# change it so that the value of mean MI gets inserted not hard coded.\n",
    "dist309_MI_beh_only.text(-0.65,25, \"median MIbeh = 0.00\", \n",
    "                         horizontalalignment='left', size='medium', color='k')\n",
    "dist309_MI_beh_only.text(-0.65,23, \"median MIbeh sig = 0.08\", \n",
    "                         horizontalalignment='left', size='medium', color='k')\n",
    "\n",
    "plt.xlabel('IC MI_beh')\n",
    "plt.savefig(\"IC_MI_beh_dist.eps\")"
   ]
  },
  {
   "cell_type": "markdown",
   "metadata": {},
   "source": [
    "Now let's do the same for the plot of MI behavior unique  \n",
    "`MIunique = MIpupbeh - MIpupbeh0`"
   ]
  },
  {
   "cell_type": "code",
   "execution_count": 41,
   "metadata": {},
   "outputs": [
    {
     "data": {
      "text/html": [
       "<div>\n",
       "<style>\n",
       "    .dataframe thead tr:only-child th {\n",
       "        text-align: right;\n",
       "    }\n",
       "\n",
       "    .dataframe thead th {\n",
       "        text-align: left;\n",
       "    }\n",
       "\n",
       "    .dataframe tbody tr th {\n",
       "        vertical-align: top;\n",
       "    }\n",
       "</style>\n",
       "<table border=\"1\" class=\"dataframe\">\n",
       "  <thead>\n",
       "    <tr style=\"text-align: right;\">\n",
       "      <th></th>\n",
       "      <th>cellid</th>\n",
       "      <th>modelname</th>\n",
       "      <th>state_sig</th>\n",
       "      <th>state_chan</th>\n",
       "      <th>MI</th>\n",
       "      <th>r</th>\n",
       "      <th>r_se</th>\n",
       "      <th>d</th>\n",
       "      <th>g</th>\n",
       "      <th>R2</th>\n",
       "    </tr>\n",
       "  </thead>\n",
       "  <tbody>\n",
       "    <tr>\n",
       "      <th>396</th>\n",
       "      <td>ley046g-23-1</td>\n",
       "      <td>psth.fs20.pup-ld-st.pup.beh0-ref-psthfr.s_stat...</td>\n",
       "      <td>st.pup.beh0</td>\n",
       "      <td>baseline</td>\n",
       "      <td>NaN</td>\n",
       "      <td>0.749305</td>\n",
       "      <td>0.027395</td>\n",
       "      <td>3.188048</td>\n",
       "      <td>0.977849</td>\n",
       "      <td>0.561457</td>\n",
       "    </tr>\n",
       "    <tr>\n",
       "      <th>397</th>\n",
       "      <td>ley046g-23-1</td>\n",
       "      <td>psth.fs20.pup-ld-st.pup.beh0-ref-psthfr.s_stat...</td>\n",
       "      <td>st.pup.beh0</td>\n",
       "      <td>pupil</td>\n",
       "      <td>0.005258</td>\n",
       "      <td>0.749305</td>\n",
       "      <td>0.027395</td>\n",
       "      <td>-0.008825</td>\n",
       "      <td>-0.023951</td>\n",
       "      <td>0.561457</td>\n",
       "    </tr>\n",
       "    <tr>\n",
       "      <th>398</th>\n",
       "      <td>ley046g-23-1</td>\n",
       "      <td>psth.fs20.pup-ld-st.pup.beh0-ref-psthfr.s_stat...</td>\n",
       "      <td>st.pup.beh0</td>\n",
       "      <td>active</td>\n",
       "      <td>0.003330</td>\n",
       "      <td>0.749305</td>\n",
       "      <td>0.027395</td>\n",
       "      <td>0.021796</td>\n",
       "      <td>0.025600</td>\n",
       "      <td>0.561457</td>\n",
       "    </tr>\n",
       "    <tr>\n",
       "      <th>399</th>\n",
       "      <td>ley046g-31-2</td>\n",
       "      <td>psth.fs20.pup-ld-st.pup.beh0-ref-psthfr.s_stat...</td>\n",
       "      <td>st.pup.beh0</td>\n",
       "      <td>baseline</td>\n",
       "      <td>NaN</td>\n",
       "      <td>0.344880</td>\n",
       "      <td>0.027824</td>\n",
       "      <td>3.248334</td>\n",
       "      <td>0.998405</td>\n",
       "      <td>0.118942</td>\n",
       "    </tr>\n",
       "    <tr>\n",
       "      <th>400</th>\n",
       "      <td>ley046g-31-2</td>\n",
       "      <td>psth.fs20.pup-ld-st.pup.beh0-ref-psthfr.s_stat...</td>\n",
       "      <td>st.pup.beh0</td>\n",
       "      <td>pupil</td>\n",
       "      <td>0.056121</td>\n",
       "      <td>0.344880</td>\n",
       "      <td>0.027824</td>\n",
       "      <td>0.163677</td>\n",
       "      <td>0.113394</td>\n",
       "      <td>0.118942</td>\n",
       "    </tr>\n",
       "  </tbody>\n",
       "</table>\n",
       "</div>"
      ],
      "text/plain": [
       "           cellid                                          modelname  \\\n",
       "396  ley046g-23-1  psth.fs20.pup-ld-st.pup.beh0-ref-psthfr.s_stat...   \n",
       "397  ley046g-23-1  psth.fs20.pup-ld-st.pup.beh0-ref-psthfr.s_stat...   \n",
       "398  ley046g-23-1  psth.fs20.pup-ld-st.pup.beh0-ref-psthfr.s_stat...   \n",
       "399  ley046g-31-2  psth.fs20.pup-ld-st.pup.beh0-ref-psthfr.s_stat...   \n",
       "400  ley046g-31-2  psth.fs20.pup-ld-st.pup.beh0-ref-psthfr.s_stat...   \n",
       "\n",
       "       state_sig state_chan        MI         r      r_se         d         g  \\\n",
       "396  st.pup.beh0   baseline       NaN  0.749305  0.027395  3.188048  0.977849   \n",
       "397  st.pup.beh0      pupil  0.005258  0.749305  0.027395 -0.008825 -0.023951   \n",
       "398  st.pup.beh0     active  0.003330  0.749305  0.027395  0.021796  0.025600   \n",
       "399  st.pup.beh0   baseline       NaN  0.344880  0.027824  3.248334  0.998405   \n",
       "400  st.pup.beh0      pupil  0.056121  0.344880  0.027824  0.163677  0.113394   \n",
       "\n",
       "           R2  \n",
       "396  0.561457  \n",
       "397  0.561457  \n",
       "398  0.561457  \n",
       "399  0.118942  \n",
       "400  0.118942  "
      ]
     },
     "execution_count": 41,
     "metadata": {},
     "output_type": "execute_result"
    }
   ],
   "source": [
    "# full model\n",
    "d_pb309_full = d_pb309[d_pb309['state_sig']=='st.pup.beh']\n",
    "\n",
    "# partial model behavior shuffled\n",
    "d_pb0309 = d_pb309[d_pb309['state_sig']=='st.pup.beh0']\n",
    "d_pb0309.head()"
   ]
  },
  {
   "cell_type": "code",
   "execution_count": 42,
   "metadata": {
    "collapsed": true
   },
   "outputs": [],
   "source": [
    "# pivot the full model to have MI for each state_chan\n",
    "d_pb309_MI = d_pb309_full.pivot(index='cellid', columns='state_chan', values='MI')\n",
    "\n",
    "#drop pupil and baseline columns\n",
    "d_pb309_MI = d_pb309_MI.drop([\"baseline\", \"pupil\"], axis=1)\n",
    "\n",
    "# pivot the partial model dataframe\n",
    "d_pb0309_MI = d_pb0309.pivot(index='cellid', columns='state_chan', values='MI')\n",
    "\n",
    "#drop pupil and baseline columns\n",
    "d_pb0309_MI = d_pb0309_MI.drop([\"baseline\", \"pupil\"], axis=1)\n",
    "\n",
    "#change name of column to prepare for merging\n",
    "d_pb0309_MI = d_pb0309_MI.rename(index=str, columns={\"active\":\"active0\"})"
   ]
  },
  {
   "cell_type": "code",
   "execution_count": 43,
   "metadata": {},
   "outputs": [
    {
     "data": {
      "text/html": [
       "<div>\n",
       "<style>\n",
       "    .dataframe thead tr:only-child th {\n",
       "        text-align: right;\n",
       "    }\n",
       "\n",
       "    .dataframe thead th {\n",
       "        text-align: left;\n",
       "    }\n",
       "\n",
       "    .dataframe tbody tr th {\n",
       "        vertical-align: top;\n",
       "    }\n",
       "</style>\n",
       "<table border=\"1\" class=\"dataframe\">\n",
       "  <thead>\n",
       "    <tr style=\"text-align: right;\">\n",
       "      <th>state_chan</th>\n",
       "      <th>cellid</th>\n",
       "      <th>active</th>\n",
       "    </tr>\n",
       "  </thead>\n",
       "  <tbody>\n",
       "    <tr>\n",
       "      <th>0</th>\n",
       "      <td>BRT005c-a1</td>\n",
       "      <td>0.043999</td>\n",
       "    </tr>\n",
       "    <tr>\n",
       "      <th>1</th>\n",
       "      <td>BRT006d-a1</td>\n",
       "      <td>-0.018799</td>\n",
       "    </tr>\n",
       "    <tr>\n",
       "      <th>2</th>\n",
       "      <td>BRT006d-a2</td>\n",
       "      <td>0.006582</td>\n",
       "    </tr>\n",
       "    <tr>\n",
       "      <th>3</th>\n",
       "      <td>BRT007c-a1</td>\n",
       "      <td>0.125479</td>\n",
       "    </tr>\n",
       "    <tr>\n",
       "      <th>4</th>\n",
       "      <td>BRT007c-a3</td>\n",
       "      <td>0.017748</td>\n",
       "    </tr>\n",
       "  </tbody>\n",
       "</table>\n",
       "</div>"
      ],
      "text/plain": [
       "state_chan      cellid    active\n",
       "0           BRT005c-a1  0.043999\n",
       "1           BRT006d-a1 -0.018799\n",
       "2           BRT006d-a2  0.006582\n",
       "3           BRT007c-a1  0.125479\n",
       "4           BRT007c-a3  0.017748"
      ]
     },
     "execution_count": 43,
     "metadata": {},
     "output_type": "execute_result"
    }
   ],
   "source": [
    "#reset index to get rid of multindexing in the full model\n",
    "d_pb309_MI = d_pb309_MI.reset_index()\n",
    "d_pb309_MI.head()"
   ]
  },
  {
   "cell_type": "code",
   "execution_count": 44,
   "metadata": {},
   "outputs": [
    {
     "data": {
      "text/html": [
       "<div>\n",
       "<style>\n",
       "    .dataframe thead tr:only-child th {\n",
       "        text-align: right;\n",
       "    }\n",
       "\n",
       "    .dataframe thead th {\n",
       "        text-align: left;\n",
       "    }\n",
       "\n",
       "    .dataframe tbody tr th {\n",
       "        vertical-align: top;\n",
       "    }\n",
       "</style>\n",
       "<table border=\"1\" class=\"dataframe\">\n",
       "  <thead>\n",
       "    <tr style=\"text-align: right;\">\n",
       "      <th>state_chan</th>\n",
       "      <th>cellid</th>\n",
       "      <th>active0</th>\n",
       "    </tr>\n",
       "  </thead>\n",
       "  <tbody>\n",
       "    <tr>\n",
       "      <th>0</th>\n",
       "      <td>BRT005c-a1</td>\n",
       "      <td>-0.002725</td>\n",
       "    </tr>\n",
       "    <tr>\n",
       "      <th>1</th>\n",
       "      <td>BRT006d-a1</td>\n",
       "      <td>-0.000323</td>\n",
       "    </tr>\n",
       "    <tr>\n",
       "      <th>2</th>\n",
       "      <td>BRT006d-a2</td>\n",
       "      <td>0.002525</td>\n",
       "    </tr>\n",
       "    <tr>\n",
       "      <th>3</th>\n",
       "      <td>BRT007c-a1</td>\n",
       "      <td>0.077127</td>\n",
       "    </tr>\n",
       "    <tr>\n",
       "      <th>4</th>\n",
       "      <td>BRT007c-a3</td>\n",
       "      <td>-0.002990</td>\n",
       "    </tr>\n",
       "  </tbody>\n",
       "</table>\n",
       "</div>"
      ],
      "text/plain": [
       "state_chan      cellid   active0\n",
       "0           BRT005c-a1 -0.002725\n",
       "1           BRT006d-a1 -0.000323\n",
       "2           BRT006d-a2  0.002525\n",
       "3           BRT007c-a1  0.077127\n",
       "4           BRT007c-a3 -0.002990"
      ]
     },
     "execution_count": 44,
     "metadata": {},
     "output_type": "execute_result"
    }
   ],
   "source": [
    "#reset index to get rid of multindexing in the partial model\n",
    "d_pb0309_MI = d_pb0309_MI.reset_index()\n",
    "d_pb0309_MI.head()"
   ]
  },
  {
   "cell_type": "code",
   "execution_count": 45,
   "metadata": {},
   "outputs": [
    {
     "data": {
      "text/html": [
       "<div>\n",
       "<style>\n",
       "    .dataframe thead tr:only-child th {\n",
       "        text-align: right;\n",
       "    }\n",
       "\n",
       "    .dataframe thead th {\n",
       "        text-align: left;\n",
       "    }\n",
       "\n",
       "    .dataframe tbody tr th {\n",
       "        vertical-align: top;\n",
       "    }\n",
       "</style>\n",
       "<table border=\"1\" class=\"dataframe\">\n",
       "  <thead>\n",
       "    <tr style=\"text-align: right;\">\n",
       "      <th>state_chan</th>\n",
       "      <th>active</th>\n",
       "      <th>active0</th>\n",
       "      <th>MI_beh_unique</th>\n",
       "    </tr>\n",
       "    <tr>\n",
       "      <th>cellid</th>\n",
       "      <th></th>\n",
       "      <th></th>\n",
       "      <th></th>\n",
       "    </tr>\n",
       "  </thead>\n",
       "  <tbody>\n",
       "    <tr>\n",
       "      <th>BRT005c-a1</th>\n",
       "      <td>0.043999</td>\n",
       "      <td>-0.002725</td>\n",
       "      <td>0.046724</td>\n",
       "    </tr>\n",
       "    <tr>\n",
       "      <th>BRT006d-a1</th>\n",
       "      <td>-0.018799</td>\n",
       "      <td>-0.000323</td>\n",
       "      <td>-0.018476</td>\n",
       "    </tr>\n",
       "    <tr>\n",
       "      <th>BRT006d-a2</th>\n",
       "      <td>0.006582</td>\n",
       "      <td>0.002525</td>\n",
       "      <td>0.004057</td>\n",
       "    </tr>\n",
       "    <tr>\n",
       "      <th>BRT007c-a1</th>\n",
       "      <td>0.125479</td>\n",
       "      <td>0.077127</td>\n",
       "      <td>0.048352</td>\n",
       "    </tr>\n",
       "    <tr>\n",
       "      <th>BRT007c-a3</th>\n",
       "      <td>0.017748</td>\n",
       "      <td>-0.002990</td>\n",
       "      <td>0.020738</td>\n",
       "    </tr>\n",
       "  </tbody>\n",
       "</table>\n",
       "</div>"
      ],
      "text/plain": [
       "state_chan    active   active0  MI_beh_unique\n",
       "cellid                                       \n",
       "BRT005c-a1  0.043999 -0.002725       0.046724\n",
       "BRT006d-a1 -0.018799 -0.000323      -0.018476\n",
       "BRT006d-a2  0.006582  0.002525       0.004057\n",
       "BRT007c-a1  0.125479  0.077127       0.048352\n",
       "BRT007c-a3  0.017748 -0.002990       0.020738"
      ]
     },
     "execution_count": 45,
     "metadata": {},
     "output_type": "execute_result"
    }
   ],
   "source": [
    "# join dataframes\n",
    "d309_MI_beh_unique = pd.merge(d_pb309_MI, d_pb0309_MI, how='left', on='cellid')\n",
    "\n",
    "# add column called beh_only with difference between active and active0\n",
    "d309_MI_beh_unique['MI_beh_unique']=d309_MI_beh_unique['active']-d309_MI_beh_unique['active0']\n",
    "\n",
    "# set the index back to cellid to apply the loc method and get the significant cells\n",
    "d309_MI_beh_unique=d309_MI_beh_unique.set_index('cellid')\n",
    "d309_MI_beh_unique.head()"
   ]
  },
  {
   "cell_type": "code",
   "execution_count": 46,
   "metadata": {
    "collapsed": true
   },
   "outputs": [],
   "source": [
    "# On the data frame pivoted on MI, apply the sign cells mask, and voila!\n",
    "d309_MI_beh_unique_sig = d309_MI_beh_unique.loc[cellid_sig_309]"
   ]
  },
  {
   "cell_type": "code",
   "execution_count": 161,
   "metadata": {},
   "outputs": [
    {
     "name": "stdout",
     "output_type": "stream",
     "text": [
      "-0.0066722707632466145\n",
      "0.037633181715249986\n"
     ]
    },
    {
     "data": {
      "image/png": "[encoded data removed]",
      "text/plain": [
       "<matplotlib.figure.Figure at 0x11d474908>"
      ]
     },
     "metadata": {
      "needs_background": "light"
     },
     "output_type": "display_data"
    }
   ],
   "source": [
    "# histogram of MIbeh_unique = MIpupbeh - MIpupbeh0, MI for behavior only component\n",
    "\n",
    "median_d309_MI_beh_unique = d309_MI_beh_unique['MI_beh_unique'].median()\n",
    "print(median_d309_MI_beh_unique)\n",
    "\n",
    "median_d309_MI_beh_unique_sig = d309_MI_beh_unique_sig['MI_beh_unique'].median()\n",
    "print(median_d309_MI_beh_unique_sig)\n",
    "\n",
    "dist309_MI_beh_unique = sns.distplot(d309_MI_beh_unique['MI_beh_unique'], \n",
    "                                  hist_kws= {'alpha':1, 'color': 'lightgrey'}, \n",
    "                                     kde=False, bins=15)\n",
    "\n",
    "dist309_MI_beh_unique_sig = sns.distplot(d309_MI_beh_unique_sig['MI_beh_unique'], \n",
    "                                      hist_kws= {'alpha':1, 'color': color_ba}, \n",
    "                                         kde=False, bins=15)\n",
    "\n",
    "plt.axvline(0, linestyle='--', linewidth=0.5, color='k')\n",
    "plt.xlim(-0.6,0.6)\n",
    "\n",
    "# change it so that the value of mean MI gets inserted not hard coded.\n",
    "dist309_MI_beh_unique.text(-0.38,18, \"median MI unique = -0.01\", \n",
    "                        horizontalalignment='left', size='medium', color='k')\n",
    "dist309_MI_beh_unique.text(-0.38,16, \"median MI unique sig = 0.04\", \n",
    "                        horizontalalignment='left', size='medium', color='k')\n",
    "\n",
    "plt.xlabel('IC MI unique')\n",
    "\n",
    "plt.savefig(\"IC_MI_beh_unique_dist.eps\")"
   ]
  },
  {
   "cell_type": "markdown",
   "metadata": {},
   "source": [
    "### Scatter plot of MIbeh (MIpup0beh - MIpup0beh0) vs MIbeh unique (= MIpupbeh - MIpupbeh0)"
   ]
  },
  {
   "cell_type": "code",
   "execution_count": 48,
   "metadata": {},
   "outputs": [
    {
     "data": {
      "image/png": "[encoded data removed]",
      "text/plain": [
       "<matplotlib.figure.Figure at 0x11de55630>"
      ]
     },
     "metadata": {
      "needs_background": "light"
     },
     "output_type": "display_data"
    }
   ],
   "source": [
    "fig, ax = plt.subplots()\n",
    "\n",
    "# plot\n",
    "ax.scatter(d309_MI_beh_only['MI_beh_only'], d309_MI_beh_unique['MI_beh_unique'], \n",
    "           color='lightgrey', edgecolors='white')\n",
    "\n",
    "ax.scatter(d309_MI_beh_only_sig['MI_beh_only'], d309_MI_beh_unique_sig['MI_beh_unique'], \n",
    "           color=color_ba, edgecolors='white')\n",
    "\n",
    "ax.set_xlabel('IC MIbeh only (MIpup0beh-MIpup0beh0)')\n",
    "ax.set_ylabel('IC MIbeh unique (MIpupbeh-MIpupbeh0)')\n",
    "ax.set_aspect('equal')\n",
    "\n",
    "# set the limits\n",
    "plt.ylim(-0.75, 0.75)\n",
    "plt.xlim(-0.75, 0.75)\n",
    "\n",
    "# need a slope and c to fix the position of line\n",
    "slope = 1\n",
    "c = -.75\n",
    "\n",
    "x_min, x_max = ax.get_xlim()\n",
    "y_min, y_max = c, c + slope*(x_max-x_min)\n",
    "ax.plot([x_min, x_max], [y_min, y_max], linewidth=0.5, linestyle='--', color='k')\n",
    "ax.set_xlim([x_min, x_max])\n",
    "\n",
    "# add horizontal line\n",
    "slope = 0\n",
    "c = 0\n",
    "\n",
    "x_min, x_max = ax.get_xlim()\n",
    "y_min, y_max = c, c + slope*(x_max-x_min)\n",
    "ax.plot([x_min, x_max], [y_min, y_max], linewidth=0.5, linestyle='--', color='k')\n",
    "ax.set_xlim([x_min, x_max])\n",
    "\n",
    "# add vertical line\n",
    "xposition = 0.00\n",
    "plt.axvline(x=xposition, color='k', linestyle='--', linewidth=0.5)\n",
    "\n",
    "plt.savefig(\"IC_MIbeh_scatterplot.pdf\")"
   ]
  },
  {
   "cell_type": "markdown",
   "metadata": {},
   "source": [
    "### IC Scatter plot of R2beh (R2pup0beh - R2pup0beh0) vs R2beh unique (R2pupbeh - R2pupbeh0)"
   ]
  },
  {
   "cell_type": "code",
   "execution_count": 49,
   "metadata": {},
   "outputs": [],
   "source": [
    "# pivot the partial model to have R2 for each state_chan\n",
    "d_p0b309_R2 = d_p0b309.pivot(index='cellid', columns='state_chan', values='R2')\n",
    "\n",
    "#drop pupil and baseline columns\n",
    "d_p0b309_R2 = d_p0b309_R2.drop([\"baseline\", \"pupil\"], axis=1)\n",
    "\n",
    "# pivot the null model dataframe\n",
    "d_p0b0309_R2 = d_p0b0309.pivot(index='cellid', columns='state_chan', values='R2')\n",
    "\n",
    "#drop pupil and baseline columns\n",
    "d_p0b0309_R2 = d_p0b0309_R2.drop([\"baseline\", \"pupil\"], axis=1)\n",
    "\n",
    "#change name of column to prepare for merging\n",
    "d_p0b0309_R2 = d_p0b0309_R2.rename(index=str, columns={\"active\":\"active0\"})"
   ]
  },
  {
   "cell_type": "code",
   "execution_count": 50,
   "metadata": {
    "collapsed": true
   },
   "outputs": [],
   "source": [
    "# pivot the full model to have R2 for each state_chan\n",
    "d_pb309_R2 = d_pb309_full.pivot(index='cellid', columns='state_chan', values='R2')\n",
    "\n",
    "#drop pupil and baseline columns\n",
    "d_pb309_R2 = d_pb309_R2.drop([\"baseline\", \"pupil\"], axis=1)\n",
    "\n",
    "# pivot the partial model dataframe\n",
    "d_pb0309_R2 = d_pb0309.pivot(index='cellid', columns='state_chan', values='R2')\n",
    "\n",
    "#drop pupil and baseline columns\n",
    "d_pb0309_R2 = d_pb0309_R2.drop([\"baseline\", \"pupil\"], axis=1)\n",
    "\n",
    "#change name of column to prepare for merging\n",
    "d_pb0309_R2 = d_pb0309_R2.rename(index=str, columns={\"active\":\"active0\"})"
   ]
  },
  {
   "cell_type": "code",
   "execution_count": 51,
   "metadata": {},
   "outputs": [
    {
     "data": {
      "text/html": [
       "<div>\n",
       "<style>\n",
       "    .dataframe thead tr:only-child th {\n",
       "        text-align: right;\n",
       "    }\n",
       "\n",
       "    .dataframe thead th {\n",
       "        text-align: left;\n",
       "    }\n",
       "\n",
       "    .dataframe tbody tr th {\n",
       "        vertical-align: top;\n",
       "    }\n",
       "</style>\n",
       "<table border=\"1\" class=\"dataframe\">\n",
       "  <thead>\n",
       "    <tr style=\"text-align: right;\">\n",
       "      <th>state_chan</th>\n",
       "      <th>cellid</th>\n",
       "      <th>active0</th>\n",
       "    </tr>\n",
       "  </thead>\n",
       "  <tbody>\n",
       "    <tr>\n",
       "      <th>0</th>\n",
       "      <td>BRT005c-a1</td>\n",
       "      <td>0.146136</td>\n",
       "    </tr>\n",
       "    <tr>\n",
       "      <th>1</th>\n",
       "      <td>BRT006d-a1</td>\n",
       "      <td>0.094035</td>\n",
       "    </tr>\n",
       "    <tr>\n",
       "      <th>2</th>\n",
       "      <td>BRT006d-a2</td>\n",
       "      <td>0.362070</td>\n",
       "    </tr>\n",
       "    <tr>\n",
       "      <th>3</th>\n",
       "      <td>BRT007c-a1</td>\n",
       "      <td>0.383271</td>\n",
       "    </tr>\n",
       "    <tr>\n",
       "      <th>4</th>\n",
       "      <td>BRT007c-a3</td>\n",
       "      <td>0.401553</td>\n",
       "    </tr>\n",
       "  </tbody>\n",
       "</table>\n",
       "</div>"
      ],
      "text/plain": [
       "state_chan      cellid   active0\n",
       "0           BRT005c-a1  0.146136\n",
       "1           BRT006d-a1  0.094035\n",
       "2           BRT006d-a2  0.362070\n",
       "3           BRT007c-a1  0.383271\n",
       "4           BRT007c-a3  0.401553"
      ]
     },
     "execution_count": 51,
     "metadata": {},
     "output_type": "execute_result"
    }
   ],
   "source": [
    "#reset index to get rid of multindexing in the partial model\n",
    "d_p0b309_R2 = d_p0b309_R2.reset_index()\n",
    "\n",
    "#reset index to get rid of multindexing in the null model\n",
    "d_p0b0309_R2 = d_p0b0309_R2.reset_index()\n",
    "\n",
    "#reset index to get rid of multindexing in the full model\n",
    "d_pb309_R2 = d_pb309_R2.reset_index()\n",
    "\n",
    "#reset index to get rid of multindexing in the partial model\n",
    "d_pb0309_R2 = d_pb0309_R2.reset_index()\n",
    "d_pb0309_R2.head()"
   ]
  },
  {
   "cell_type": "code",
   "execution_count": 52,
   "metadata": {},
   "outputs": [],
   "source": [
    "# join partial and null dataframes\n",
    "d309_R2_beh_only = pd.merge(d_p0b309_R2, d_p0b0309_R2, how='left', on='cellid')\n",
    "\n",
    "# add column called beh_only with difference between active and active0\n",
    "d309_R2_beh_only['R2_beh_only']=d309_R2_beh_only['active']-d309_R2_beh_only['active0']\n",
    "\n",
    "# set the index back to cellid to apply the loc method and get the significant cells\n",
    "d309_R2_beh_only=d309_R2_beh_only.set_index('cellid')\n",
    "\n",
    "\n",
    "# join full and partial dataframes\n",
    "d309_R2_beh_unique = pd.merge(d_pb309_R2, d_pb0309_R2, how='left', on='cellid')\n",
    "\n",
    "# add column called beh_only with difference between active and active0\n",
    "d309_R2_beh_unique['R2_beh_unique']=d309_R2_beh_unique['active']-d309_R2_beh_unique['active0']\n",
    "\n",
    "# set the index back to cellid to apply the loc method and get the significant cells\n",
    "d309_R2_beh_unique=d309_R2_beh_unique.set_index('cellid')\n"
   ]
  },
  {
   "cell_type": "code",
   "execution_count": 53,
   "metadata": {},
   "outputs": [],
   "source": [
    "# On the data frame pivoted on MI, apply the sign cells mask, and voila!\n",
    "d309_R2_beh_only_sig = d309_R2_beh_only.loc[cellid_sig_309]\n",
    "\n",
    "# On the data frame pivoted on MI, apply the sign cells mask, and voila!\n",
    "d309_R2_beh_unique_sig = d309_R2_beh_unique.loc[cellid_sig_309]"
   ]
  },
  {
   "cell_type": "code",
   "execution_count": 104,
   "metadata": {},
   "outputs": [
    {
     "data": {
      "image/png": "[encoded data removed]",
      "text/plain": [
       "<matplotlib.figure.Figure at 0x11e183940>"
      ]
     },
     "metadata": {
      "needs_background": "light"
     },
     "output_type": "display_data"
    }
   ],
   "source": [
    "fig, ax = plt.subplots()\n",
    "\n",
    "plt.ylim(-0.05, 0.3)\n",
    "plt.xlim(-0.05, 0.3)\n",
    "\n",
    "plt.axhline(0, linestyle='--', linewidth=0.3, color='k')\n",
    "plt.axvline(0, linestyle='--', linewidth=0.3, color='k')\n",
    "plt.plot([-0.05,0.3],[-0.05, 0.3], linestyle='--',linewidth=0.5, color='k')\n",
    "\n",
    "ax.scatter(d309_R2_beh_only['R2_beh_only'], d309_R2_beh_unique['R2_beh_unique'], \n",
    "           color='lightgrey', edgecolors='white')\n",
    "\n",
    "ax.scatter(d309_R2_beh_only_sig['R2_beh_only'], d309_R2_beh_unique_sig['R2_beh_unique'], \n",
    "           color=color_ba, edgecolors='white')\n",
    "\n",
    "ax.set_xlabel('R2beh only (R2pup0beh-R2pup0beh0)')\n",
    "ax.set_ylabel('R2beh unique (R2pupbeh-R2pupbeh0)')\n",
    "ax.set_aspect('equal')\n",
    "\n",
    "plt.savefig(\"IC_R2beh_scatterplot.pdf\")"
   ]
  },
  {
   "cell_type": "code",
   "execution_count": 55,
   "metadata": {},
   "outputs": [
    {
     "data": {
      "text/plain": [
       "15"
      ]
     },
     "execution_count": 55,
     "metadata": {},
     "output_type": "execute_result"
    }
   ],
   "source": [
    "len(cellid_sig_309)"
   ]
  },
  {
   "cell_type": "markdown",
   "metadata": {},
   "source": [
    "## Passive analysis AC"
   ]
  },
  {
   "cell_type": "code",
   "execution_count": 56,
   "metadata": {},
   "outputs": [],
   "source": [
    "# A1 SUA+MUA: pup vs. passive 307 per state dataframe\n",
    "d_pp307 = pd.read_csv('d_pp_307_new.csv')\n",
    "d_pp307 = d_pp307.drop(['Unnamed: 0'], axis=1)"
   ]
  },
  {
   "cell_type": "code",
   "execution_count": 57,
   "metadata": {},
   "outputs": [
    {
     "data": {
      "text/html": [
       "<div>\n",
       "<style>\n",
       "    .dataframe thead tr:only-child th {\n",
       "        text-align: right;\n",
       "    }\n",
       "\n",
       "    .dataframe thead th {\n",
       "        text-align: left;\n",
       "    }\n",
       "\n",
       "    .dataframe tbody tr th {\n",
       "        vertical-align: top;\n",
       "    }\n",
       "</style>\n",
       "<table border=\"1\" class=\"dataframe\">\n",
       "  <thead>\n",
       "    <tr style=\"text-align: right;\">\n",
       "      <th></th>\n",
       "      <th>cellid</th>\n",
       "      <th>modelname</th>\n",
       "      <th>state_sig</th>\n",
       "      <th>state_chan</th>\n",
       "      <th>MI</th>\n",
       "      <th>r</th>\n",
       "      <th>r_se</th>\n",
       "      <th>d</th>\n",
       "      <th>g</th>\n",
       "      <th>state_chan_alt</th>\n",
       "      <th>R2</th>\n",
       "    </tr>\n",
       "  </thead>\n",
       "  <tbody>\n",
       "    <tr>\n",
       "      <th>0</th>\n",
       "      <td>BRT026c-20-1</td>\n",
       "      <td>psth.fs20.pup-ld-st.pup0.pas0-ref-pas-psthfr.s...</td>\n",
       "      <td>st.pup0.pas0</td>\n",
       "      <td>baseline</td>\n",
       "      <td>NaN</td>\n",
       "      <td>0.864991</td>\n",
       "      <td>0.006302</td>\n",
       "      <td>0.107560</td>\n",
       "      <td>0.999835</td>\n",
       "      <td>baseline</td>\n",
       "      <td>0.748209</td>\n",
       "    </tr>\n",
       "    <tr>\n",
       "      <th>1</th>\n",
       "      <td>BRT026c-20-1</td>\n",
       "      <td>psth.fs20.pup-ld-st.pup0.pas0-ref-pas-psthfr.s...</td>\n",
       "      <td>st.pup0.pas0</td>\n",
       "      <td>pupil</td>\n",
       "      <td>-0.001375</td>\n",
       "      <td>0.864991</td>\n",
       "      <td>0.006302</td>\n",
       "      <td>-0.001675</td>\n",
       "      <td>0.012811</td>\n",
       "      <td>pupil</td>\n",
       "      <td>0.748209</td>\n",
       "    </tr>\n",
       "    <tr>\n",
       "      <th>2</th>\n",
       "      <td>BRT026c-20-1</td>\n",
       "      <td>psth.fs20.pup-ld-st.pup0.pas0-ref-pas-psthfr.s...</td>\n",
       "      <td>st.pup0.pas0</td>\n",
       "      <td>FILE_BRT026c09_p_PTD</td>\n",
       "      <td>0.001041</td>\n",
       "      <td>0.864991</td>\n",
       "      <td>0.006302</td>\n",
       "      <td>0.008327</td>\n",
       "      <td>-0.003084</td>\n",
       "      <td>PASSIVE_1</td>\n",
       "      <td>0.748209</td>\n",
       "    </tr>\n",
       "    <tr>\n",
       "      <th>3</th>\n",
       "      <td>BRT026c-11-2</td>\n",
       "      <td>psth.fs20.pup-ld-st.pup0.pas0-ref-pas-psthfr.s...</td>\n",
       "      <td>st.pup0.pas0</td>\n",
       "      <td>baseline</td>\n",
       "      <td>NaN</td>\n",
       "      <td>0.469461</td>\n",
       "      <td>0.087717</td>\n",
       "      <td>0.046025</td>\n",
       "      <td>1.006411</td>\n",
       "      <td>baseline</td>\n",
       "      <td>0.220394</td>\n",
       "    </tr>\n",
       "    <tr>\n",
       "      <th>4</th>\n",
       "      <td>BRT026c-11-2</td>\n",
       "      <td>psth.fs20.pup-ld-st.pup0.pas0-ref-pas-psthfr.s...</td>\n",
       "      <td>st.pup0.pas0</td>\n",
       "      <td>pupil</td>\n",
       "      <td>0.022389</td>\n",
       "      <td>0.469461</td>\n",
       "      <td>0.087717</td>\n",
       "      <td>-0.002739</td>\n",
       "      <td>-0.088492</td>\n",
       "      <td>pupil</td>\n",
       "      <td>0.220394</td>\n",
       "    </tr>\n",
       "  </tbody>\n",
       "</table>\n",
       "</div>"
      ],
      "text/plain": [
       "         cellid                                          modelname  \\\n",
       "0  BRT026c-20-1  psth.fs20.pup-ld-st.pup0.pas0-ref-pas-psthfr.s...   \n",
       "1  BRT026c-20-1  psth.fs20.pup-ld-st.pup0.pas0-ref-pas-psthfr.s...   \n",
       "2  BRT026c-20-1  psth.fs20.pup-ld-st.pup0.pas0-ref-pas-psthfr.s...   \n",
       "3  BRT026c-11-2  psth.fs20.pup-ld-st.pup0.pas0-ref-pas-psthfr.s...   \n",
       "4  BRT026c-11-2  psth.fs20.pup-ld-st.pup0.pas0-ref-pas-psthfr.s...   \n",
       "\n",
       "      state_sig            state_chan        MI         r      r_se         d  \\\n",
       "0  st.pup0.pas0              baseline       NaN  0.864991  0.006302  0.107560   \n",
       "1  st.pup0.pas0                 pupil -0.001375  0.864991  0.006302 -0.001675   \n",
       "2  st.pup0.pas0  FILE_BRT026c09_p_PTD  0.001041  0.864991  0.006302  0.008327   \n",
       "3  st.pup0.pas0              baseline       NaN  0.469461  0.087717  0.046025   \n",
       "4  st.pup0.pas0                 pupil  0.022389  0.469461  0.087717 -0.002739   \n",
       "\n",
       "          g state_chan_alt        R2  \n",
       "0  0.999835       baseline  0.748209  \n",
       "1  0.012811          pupil  0.748209  \n",
       "2 -0.003084      PASSIVE_1  0.748209  \n",
       "3  1.006411       baseline  0.220394  \n",
       "4 -0.088492          pupil  0.220394  "
      ]
     },
     "execution_count": 57,
     "metadata": {},
     "output_type": "execute_result"
    }
   ],
   "source": [
    "# Add column with R2 for variance analysis\n",
    "d_pp307['R2'] = d_pp307['r']**2\n",
    "d_pp307.head()"
   ]
  },
  {
   "cell_type": "code",
   "execution_count": null,
   "metadata": {},
   "outputs": [],
   "source": [
    "# Check out an example\n",
    "d_pp307.loc[d_pp307['cellid']=='BRT037b-63-1']"
   ]
  },
  {
   "cell_type": "code",
   "execution_count": 63,
   "metadata": {},
   "outputs": [
    {
     "name": "stdout",
     "output_type": "stream",
     "text": [
      "126\n",
      "104\n"
     ]
    }
   ],
   "source": [
    "# isolate rows that have PASSIVE_1 as state_chan_alt == comparison between first passive and first postpassive\n",
    "d_pp307_p1 = d_pp307[d_pp307['state_chan_alt']=='PASSIVE_1']\n",
    "\n",
    "# note that not all units have prepassive, so the number of unique cellid should drop between the two dfs\n",
    "print(d_pp307['cellid'].nunique())\n",
    "print(d_pp307_p1['cellid'].nunique())"
   ]
  },
  {
   "cell_type": "code",
   "execution_count": 79,
   "metadata": {},
   "outputs": [],
   "source": [
    "# Find A1 units for which the model prediction with passive pre vs pass1 as state variable \n",
    "# signifantly predicts passive modulation\n",
    "# significant cells = r_pup0_pass - r_pup0_pas0 > rse_pup0_pas + rse_pup0_pas0 where 'r' is \n",
    "# Pearson's correlation\n",
    "\n",
    "# Pivot the df such that you only have r or r_se as data and state_sig as columns\n",
    "d_pp307_p1_pivot_r= d_pp307_p1.pivot(index='cellid',columns='state_sig',values='r')\n",
    "d_pp307_p1_pivot_rse= d_pp307_p1.pivot(index='cellid',columns='state_sig',values='r_se')\n",
    "\n",
    "# create a new column in d_pivot_r where you take the diff between r in pup0.pas and pup0.pas0\n",
    "d_pp307_p1_pivot_r['r_diff']=d_pp307_p1_pivot_r['st.pup0.pas']-d_pp307_p1_pivot_r['st.pup0.pas0']\n",
    "\n",
    "# create a new column in d_pivot_rse where you take the sum of r_se in pup0.pas and pup0.pas0\n",
    "d_pp307_p1_pivot_rse['r_sum']=d_pp307_p1_pivot_rse['st.pup0.pas']+d_pp307_p1_pivot_rse['st.pup0.pas0']\n",
    "\n",
    "# create a np array listing all sig cells to use as mask for original df\n",
    "cellid_p1_sig_307 = d_pp307_p1_pivot_r[d_pp307_p1_pivot_r['r_diff']>d_pp307_p1_pivot_rse['r_sum']].index"
   ]
  },
  {
   "cell_type": "code",
   "execution_count": 67,
   "metadata": {},
   "outputs": [
    {
     "data": {
      "text/html": [
       "<div>\n",
       "<style>\n",
       "    .dataframe thead tr:only-child th {\n",
       "        text-align: right;\n",
       "    }\n",
       "\n",
       "    .dataframe thead th {\n",
       "        text-align: left;\n",
       "    }\n",
       "\n",
       "    .dataframe tbody tr th {\n",
       "        vertical-align: top;\n",
       "    }\n",
       "</style>\n",
       "<table border=\"1\" class=\"dataframe\">\n",
       "  <thead>\n",
       "    <tr style=\"text-align: right;\">\n",
       "      <th></th>\n",
       "      <th>cellid</th>\n",
       "      <th>modelname</th>\n",
       "      <th>state_sig</th>\n",
       "      <th>state_chan</th>\n",
       "      <th>MI</th>\n",
       "      <th>r</th>\n",
       "      <th>r_se</th>\n",
       "      <th>d</th>\n",
       "      <th>g</th>\n",
       "      <th>state_chan_alt</th>\n",
       "      <th>R2</th>\n",
       "    </tr>\n",
       "  </thead>\n",
       "  <tbody>\n",
       "    <tr>\n",
       "      <th>2</th>\n",
       "      <td>BRT026c-20-1</td>\n",
       "      <td>psth.fs20.pup-ld-st.pup0.pas0-ref-pas-psthfr.s...</td>\n",
       "      <td>st.pup0.pas0</td>\n",
       "      <td>FILE_BRT026c09_p_PTD</td>\n",
       "      <td>0.001041</td>\n",
       "      <td>0.864991</td>\n",
       "      <td>0.006302</td>\n",
       "      <td>0.008327</td>\n",
       "      <td>-0.003084</td>\n",
       "      <td>PASSIVE_1</td>\n",
       "      <td>0.748209</td>\n",
       "    </tr>\n",
       "    <tr>\n",
       "      <th>7</th>\n",
       "      <td>BRT026c-02-1</td>\n",
       "      <td>psth.fs20.pup-ld-st.pup0.pas0-ref-pas-psthfr.s...</td>\n",
       "      <td>st.pup0.pas0</td>\n",
       "      <td>FILE_BRT026c09_p_PTD</td>\n",
       "      <td>-0.001180</td>\n",
       "      <td>0.467124</td>\n",
       "      <td>0.015910</td>\n",
       "      <td>-0.034235</td>\n",
       "      <td>-0.007630</td>\n",
       "      <td>PASSIVE_1</td>\n",
       "      <td>0.218205</td>\n",
       "    </tr>\n",
       "    <tr>\n",
       "      <th>38</th>\n",
       "      <td>BRT026c-17-1</td>\n",
       "      <td>psth.fs20.pup-ld-st.pup0.pas0-ref-pas-psthfr.s...</td>\n",
       "      <td>st.pup0.pas0</td>\n",
       "      <td>FILE_BRT026c09_p_PTD</td>\n",
       "      <td>-0.001769</td>\n",
       "      <td>0.429314</td>\n",
       "      <td>0.037957</td>\n",
       "      <td>0.014503</td>\n",
       "      <td>-0.045336</td>\n",
       "      <td>PASSIVE_1</td>\n",
       "      <td>0.184311</td>\n",
       "    </tr>\n",
       "    <tr>\n",
       "      <th>51</th>\n",
       "      <td>BRT026c-07-1</td>\n",
       "      <td>psth.fs20.pup-ld-st.pup0.pas0-ref-pas-psthfr.s...</td>\n",
       "      <td>st.pup0.pas0</td>\n",
       "      <td>FILE_BRT026c09_p_PTD</td>\n",
       "      <td>-0.000581</td>\n",
       "      <td>0.470487</td>\n",
       "      <td>0.025456</td>\n",
       "      <td>-0.130159</td>\n",
       "      <td>-0.327896</td>\n",
       "      <td>PASSIVE_1</td>\n",
       "      <td>0.221358</td>\n",
       "    </tr>\n",
       "    <tr>\n",
       "      <th>54</th>\n",
       "      <td>BRT026c-05-2</td>\n",
       "      <td>psth.fs20.pup-ld-st.pup0.pas0-ref-pas-psthfr.s...</td>\n",
       "      <td>st.pup0.pas0</td>\n",
       "      <td>FILE_BRT026c09_p_PTD</td>\n",
       "      <td>-0.001727</td>\n",
       "      <td>0.446596</td>\n",
       "      <td>0.024190</td>\n",
       "      <td>-0.023375</td>\n",
       "      <td>0.082153</td>\n",
       "      <td>PASSIVE_1</td>\n",
       "      <td>0.199448</td>\n",
       "    </tr>\n",
       "  </tbody>\n",
       "</table>\n",
       "</div>"
      ],
      "text/plain": [
       "          cellid                                          modelname  \\\n",
       "2   BRT026c-20-1  psth.fs20.pup-ld-st.pup0.pas0-ref-pas-psthfr.s...   \n",
       "7   BRT026c-02-1  psth.fs20.pup-ld-st.pup0.pas0-ref-pas-psthfr.s...   \n",
       "38  BRT026c-17-1  psth.fs20.pup-ld-st.pup0.pas0-ref-pas-psthfr.s...   \n",
       "51  BRT026c-07-1  psth.fs20.pup-ld-st.pup0.pas0-ref-pas-psthfr.s...   \n",
       "54  BRT026c-05-2  psth.fs20.pup-ld-st.pup0.pas0-ref-pas-psthfr.s...   \n",
       "\n",
       "       state_sig            state_chan        MI         r      r_se  \\\n",
       "2   st.pup0.pas0  FILE_BRT026c09_p_PTD  0.001041  0.864991  0.006302   \n",
       "7   st.pup0.pas0  FILE_BRT026c09_p_PTD -0.001180  0.467124  0.015910   \n",
       "38  st.pup0.pas0  FILE_BRT026c09_p_PTD -0.001769  0.429314  0.037957   \n",
       "51  st.pup0.pas0  FILE_BRT026c09_p_PTD -0.000581  0.470487  0.025456   \n",
       "54  st.pup0.pas0  FILE_BRT026c09_p_PTD -0.001727  0.446596  0.024190   \n",
       "\n",
       "           d         g state_chan_alt        R2  \n",
       "2   0.008327 -0.003084      PASSIVE_1  0.748209  \n",
       "7  -0.034235 -0.007630      PASSIVE_1  0.218205  \n",
       "38  0.014503 -0.045336      PASSIVE_1  0.184311  \n",
       "51 -0.130159 -0.327896      PASSIVE_1  0.221358  \n",
       "54 -0.023375  0.082153      PASSIVE_1  0.199448  "
      ]
     },
     "execution_count": 67,
     "metadata": {},
     "output_type": "execute_result"
    }
   ],
   "source": [
    "# partial model pupil shuffled\n",
    "d_p0p307_p1 = d_pp307_p1[d_pp307_p1['state_sig']=='st.pup0.pas']\n",
    "\n",
    "# null model pupil and behavior shuffled\n",
    "d_p0p0307_p1 = d_pp307_p1[d_pp307_p1['state_sig']=='st.pup0.pas0']\n",
    "d_p0p0307_p1.head()"
   ]
  },
  {
   "cell_type": "code",
   "execution_count": 73,
   "metadata": {},
   "outputs": [
    {
     "data": {
      "text/html": [
       "<div>\n",
       "<style>\n",
       "    .dataframe thead tr:only-child th {\n",
       "        text-align: right;\n",
       "    }\n",
       "\n",
       "    .dataframe thead th {\n",
       "        text-align: left;\n",
       "    }\n",
       "\n",
       "    .dataframe tbody tr th {\n",
       "        vertical-align: top;\n",
       "    }\n",
       "</style>\n",
       "<table border=\"1\" class=\"dataframe\">\n",
       "  <thead>\n",
       "    <tr style=\"text-align: right;\">\n",
       "      <th></th>\n",
       "      <th>cellid</th>\n",
       "      <th>modelname</th>\n",
       "      <th>state_sig</th>\n",
       "      <th>state_chan</th>\n",
       "      <th>MI</th>\n",
       "      <th>r</th>\n",
       "      <th>r_se</th>\n",
       "      <th>d</th>\n",
       "      <th>g</th>\n",
       "      <th>state_chan_alt</th>\n",
       "      <th>R2</th>\n",
       "    </tr>\n",
       "  </thead>\n",
       "  <tbody>\n",
       "    <tr>\n",
       "      <th>922</th>\n",
       "      <td>BRT026c-20-1</td>\n",
       "      <td>psth.fs20.pup-ld-st.pup.pas0-ref-pas-psthfr.s_...</td>\n",
       "      <td>st.pup.pas0</td>\n",
       "      <td>FILE_BRT026c09_p_PTD</td>\n",
       "      <td>-0.115640</td>\n",
       "      <td>0.899458</td>\n",
       "      <td>0.006912</td>\n",
       "      <td>0.008338</td>\n",
       "      <td>0.039932</td>\n",
       "      <td>PASSIVE_1</td>\n",
       "      <td>0.809025</td>\n",
       "    </tr>\n",
       "    <tr>\n",
       "      <th>927</th>\n",
       "      <td>BRT026c-17-1</td>\n",
       "      <td>psth.fs20.pup-ld-st.pup.pas0-ref-pas-psthfr.s_...</td>\n",
       "      <td>st.pup.pas0</td>\n",
       "      <td>FILE_BRT026c09_p_PTD</td>\n",
       "      <td>-0.067779</td>\n",
       "      <td>0.476403</td>\n",
       "      <td>0.029052</td>\n",
       "      <td>0.023357</td>\n",
       "      <td>-0.028905</td>\n",
       "      <td>PASSIVE_1</td>\n",
       "      <td>0.226960</td>\n",
       "    </tr>\n",
       "    <tr>\n",
       "      <th>944</th>\n",
       "      <td>BRT026c-07-1</td>\n",
       "      <td>psth.fs20.pup-ld-st.pup.pas0-ref-pas-psthfr.s_...</td>\n",
       "      <td>st.pup.pas0</td>\n",
       "      <td>FILE_BRT026c09_p_PTD</td>\n",
       "      <td>-0.078872</td>\n",
       "      <td>0.500566</td>\n",
       "      <td>0.025690</td>\n",
       "      <td>-0.119052</td>\n",
       "      <td>-0.307618</td>\n",
       "      <td>PASSIVE_1</td>\n",
       "      <td>0.250567</td>\n",
       "    </tr>\n",
       "    <tr>\n",
       "      <th>947</th>\n",
       "      <td>BRT026c-05-2</td>\n",
       "      <td>psth.fs20.pup-ld-st.pup.pas0-ref-pas-psthfr.s_...</td>\n",
       "      <td>st.pup.pas0</td>\n",
       "      <td>FILE_BRT026c09_p_PTD</td>\n",
       "      <td>-0.089431</td>\n",
       "      <td>0.532471</td>\n",
       "      <td>0.019290</td>\n",
       "      <td>-0.025511</td>\n",
       "      <td>0.046104</td>\n",
       "      <td>PASSIVE_1</td>\n",
       "      <td>0.283526</td>\n",
       "    </tr>\n",
       "    <tr>\n",
       "      <th>954</th>\n",
       "      <td>BRT026c-02-1</td>\n",
       "      <td>psth.fs20.pup-ld-st.pup.pas0-ref-pas-psthfr.s_...</td>\n",
       "      <td>st.pup.pas0</td>\n",
       "      <td>FILE_BRT026c09_p_PTD</td>\n",
       "      <td>-0.050659</td>\n",
       "      <td>0.509477</td>\n",
       "      <td>0.016344</td>\n",
       "      <td>-0.028676</td>\n",
       "      <td>0.008929</td>\n",
       "      <td>PASSIVE_1</td>\n",
       "      <td>0.259567</td>\n",
       "    </tr>\n",
       "  </tbody>\n",
       "</table>\n",
       "</div>"
      ],
      "text/plain": [
       "           cellid                                          modelname  \\\n",
       "922  BRT026c-20-1  psth.fs20.pup-ld-st.pup.pas0-ref-pas-psthfr.s_...   \n",
       "927  BRT026c-17-1  psth.fs20.pup-ld-st.pup.pas0-ref-pas-psthfr.s_...   \n",
       "944  BRT026c-07-1  psth.fs20.pup-ld-st.pup.pas0-ref-pas-psthfr.s_...   \n",
       "947  BRT026c-05-2  psth.fs20.pup-ld-st.pup.pas0-ref-pas-psthfr.s_...   \n",
       "954  BRT026c-02-1  psth.fs20.pup-ld-st.pup.pas0-ref-pas-psthfr.s_...   \n",
       "\n",
       "       state_sig            state_chan        MI         r      r_se  \\\n",
       "922  st.pup.pas0  FILE_BRT026c09_p_PTD -0.115640  0.899458  0.006912   \n",
       "927  st.pup.pas0  FILE_BRT026c09_p_PTD -0.067779  0.476403  0.029052   \n",
       "944  st.pup.pas0  FILE_BRT026c09_p_PTD -0.078872  0.500566  0.025690   \n",
       "947  st.pup.pas0  FILE_BRT026c09_p_PTD -0.089431  0.532471  0.019290   \n",
       "954  st.pup.pas0  FILE_BRT026c09_p_PTD -0.050659  0.509477  0.016344   \n",
       "\n",
       "            d         g state_chan_alt        R2  \n",
       "922  0.008338  0.039932      PASSIVE_1  0.809025  \n",
       "927  0.023357 -0.028905      PASSIVE_1  0.226960  \n",
       "944 -0.119052 -0.307618      PASSIVE_1  0.250567  \n",
       "947 -0.025511  0.046104      PASSIVE_1  0.283526  \n",
       "954 -0.028676  0.008929      PASSIVE_1  0.259567  "
      ]
     },
     "execution_count": 73,
     "metadata": {},
     "output_type": "execute_result"
    }
   ],
   "source": [
    "# full model\n",
    "d_pp307_p1_full = d_pp307_p1[d_pp307_p1['state_sig']=='st.pup.pas']\n",
    "\n",
    "# partial model behavior shuffled\n",
    "d_pp0307_p1 = d_pp307_p1[d_pp307_p1['state_sig']=='st.pup.pas0']\n",
    "d_pp0307_p1.head()"
   ]
  },
  {
   "cell_type": "code",
   "execution_count": 74,
   "metadata": {},
   "outputs": [],
   "source": [
    "# pivot the partial model to have MI for each state_chan_alt\n",
    "d_p0p307_p1_MI = d_p0p307_p1.pivot(index='cellid', columns='state_chan_alt', values='MI')\n",
    "\n",
    "# pivot the null model dataframe to have MI for each state_chan_alt\n",
    "d_p0p0307_p1_MI = d_p0p0307_p1.pivot(index='cellid', columns='state_chan_alt', values='MI')\n",
    "\n",
    "#change name of column to prepare for merging\n",
    "d_p0p0307_p1_MI = d_p0p0307_p1_MI.rename(index=str, columns={\"PASSIVE_1\":\"PASSIVE_1_0\"})\n",
    "\n",
    "\n",
    "# pivot the full model to have MI for each state_chan_alt\n",
    "d_pp307_p1_MI = d_pp307_p1_full.pivot(index='cellid', columns='state_chan_alt', values='MI')\n",
    "\n",
    "# pivot the partial model dataframe to have MI for each state_chan_alt\n",
    "d_pp0307_p1_MI = d_pp0307_p1.pivot(index='cellid', columns='state_chan_alt', values='MI')\n",
    "\n",
    "#change name of column to prepare for merging\n",
    "d_pp0307_p1_MI = d_pp0307_p1_MI.rename(index=str, columns={\"PASSIVE_1\":\"PASSIVE_1_0\"})"
   ]
  },
  {
   "cell_type": "code",
   "execution_count": 75,
   "metadata": {},
   "outputs": [],
   "source": [
    "#reset index to get rid of multindexing in the partial model\n",
    "d_p0p307_p1_MI = d_p0p307_p1_MI.reset_index()\n",
    "\n",
    "#reset index to get rid of multindexing in the null model\n",
    "d_p0p0307_p1_MI = d_p0p0307_p1_MI.reset_index()\n",
    "\n",
    "\n",
    "#reset index to get rid of multindexing in the partial model\n",
    "d_pp0307_p1_MI = d_pp0307_p1_MI.reset_index()\n",
    "\n",
    "#reset index to get rid of multindexing in the full model\n",
    "d_pp307_p1_MI = d_pp307_p1_MI.reset_index()"
   ]
  },
  {
   "cell_type": "code",
   "execution_count": 76,
   "metadata": {},
   "outputs": [],
   "source": [
    "# join partial p0p and null dataframes\n",
    "d307_p1_MI_pas_only = pd.merge(d_p0p307_p1_MI, d_p0p0307_p1_MI, how='left', on='cellid')\n",
    "\n",
    "# add column called beh_only with difference between active and active0\n",
    "d307_p1_MI_pas_only['MI_pas_only']=d307_p1_MI_pas_only['PASSIVE_1']-d307_p1_MI_pas_only['PASSIVE_1_0']\n",
    "\n",
    "# set the index back to cellid to apply the loc method and get the significant cells\n",
    "d307_p1_MI_pas_only=d307_p1_MI_pas_only.set_index('cellid')\n",
    "d307_p1_MI_pas_only.head()\n",
    "\n",
    "\n",
    "# join full with partial pp0 dataframes\n",
    "d307_p1_MI_pas_unique = pd.merge(d_pp307_p1_MI, d_pp0307_p1_MI, how='left', on='cellid')\n",
    "\n",
    "# add column called beh_only with difference between active and active0\n",
    "d307_p1_MI_pas_unique['MI_pas_unique']=d307_p1_MI_pas_unique['PASSIVE_1']-d307_p1_MI_pas_unique['PASSIVE_1_0']\n",
    "\n",
    "# set the index back to cellid to apply the loc method and get the significant cells\n",
    "d307_p1_MI_pas_unique=d307_p1_MI_pas_unique.set_index('cellid')"
   ]
  },
  {
   "cell_type": "code",
   "execution_count": 80,
   "metadata": {},
   "outputs": [],
   "source": [
    "# On the data frame pivoted on MI, apply the sign cells mask, and voila!\n",
    "d307_p1_MI_pas_only_sig = d307_p1_MI_pas_only.loc[cellid_p1_sig_307]\n",
    "\n",
    "d307_p1_MI_pas_unique_sig = d307_p1_MI_pas_unique.loc[cellid_p1_sig_307]"
   ]
  },
  {
   "cell_type": "code",
   "execution_count": 107,
   "metadata": {},
   "outputs": [
    {
     "name": "stdout",
     "output_type": "stream",
     "text": [
      "0.010354952979505316\n",
      "0.11863205125601908\n"
     ]
    },
    {
     "data": {
      "image/png": "[encoded data removed]",
      "text/plain": [
       "<matplotlib.figure.Figure at 0x11da7fcc0>"
      ]
     },
     "metadata": {
      "needs_background": "light"
     },
     "output_type": "display_data"
    }
   ],
   "source": [
    "# histogram of MIpas_only = MIpup0pas-MIpup0pas0 MI for passive (pre vs pas1) channel with pupil shuffled\n",
    "median_d307_p1_MI_pas_only=d307_p1_MI_pas_only['MI_pas_only'].median()\n",
    "print(median_d307_p1_MI_pas_only)\n",
    "\n",
    "median_d307_p1_MI_pas_only_sig = d307_p1_MI_pas_only_sig['MI_pas_only'].median()\n",
    "print(median_d307_p1_MI_pas_only_sig)\n",
    "\n",
    "dist307_p1_MI_pas_only = sns.distplot(d307_p1_MI_pas_only['MI_pas_only'], \n",
    "                       hist_kws= {'alpha':1, 'color': 'lightgrey'}, kde=False, bins=30)\n",
    "\n",
    "dist307_p1_MI_pas_only_sig = sns.distplot(d307_p1_MI_pas_only_sig['MI_pas_only'], \n",
    "                           hist_kws= {'alpha':1, 'color': color_bpas}, kde=False, bins=30)\n",
    "\n",
    "plt.axvline(0, linestyle='--', linewidth=0.5, color='k')\n",
    "\n",
    "# change it so that the value of mean MI gets inserted not hard coded.\n",
    "dist307_p1_MI_pas_only.text(-0.7,16, \"median MIpas = 0.01\", horizontalalignment='left', \n",
    "                         size='medium', color='k')\n",
    "dist307_p1_MI_pas_only.text(-0.7,14, \"median MIpas sig = 0.19\", horizontalalignment='left', \n",
    "                         size='medium', color='k')\n",
    "\n",
    "plt.xlabel('A1 MI_pas')\n",
    "plt.savefig(\"A1_MI_pas_dist.pdf\")"
   ]
  },
  {
   "cell_type": "code",
   "execution_count": 108,
   "metadata": {},
   "outputs": [
    {
     "name": "stdout",
     "output_type": "stream",
     "text": [
      "0.04693324086755771\n",
      "0.07150637033411472\n"
     ]
    },
    {
     "data": {
      "image/png": "[encoded data removed]",
      "text/plain": [
       "<matplotlib.figure.Figure at 0x11ded8f98>"
      ]
     },
     "metadata": {
      "needs_background": "light"
     },
     "output_type": "display_data"
    }
   ],
   "source": [
    "# histogram of MIpas_unique = MIpuppas-MIpuppas0 MI for passive (pre vs pas1) channel with pupil regressed out\n",
    "median_d307_p1_MI_pas_unique=d307_p1_MI_pas_unique['MI_pas_unique'].median()\n",
    "print(median_d307_p1_MI_pas_unique)\n",
    "\n",
    "median_d307_p1_MI_pas_unique_sig = d307_p1_MI_pas_unique_sig['MI_pas_unique'].median()\n",
    "print(median_d307_p1_MI_pas_unique_sig)\n",
    "\n",
    "dist307_p1_MI_pas_unique = sns.distplot(d307_p1_MI_pas_unique['MI_pas_unique'], \n",
    "                       hist_kws= {'alpha':1, 'color': 'lightgrey'}, kde=False, bins=30)\n",
    "\n",
    "dist307_p1_MI_pas_unique_sig = sns.distplot(d307_p1_MI_pas_unique_sig['MI_pas_unique'], \n",
    "                           hist_kws= {'alpha':1, 'color': color_bpas}, kde=False, bins=30)\n",
    "\n",
    "plt.axvline(0, linestyle='--', linewidth=0.5, color='k')\n",
    "\n",
    "# change it so that the value of mean MI gets inserted not hard coded.\n",
    "dist307_p1_MI_pas_unique.text(-0.6,16, \"median MIpas_unique = 0.05\", horizontalalignment='left', \n",
    "                         size='medium', color='k')\n",
    "dist307_p1_MI_pas_unique.text(-0.6,14, \"median MIpas_unique sig = 0.07\", horizontalalignment='left', \n",
    "                         size='medium', color='k')\n",
    "\n",
    "plt.xlabel('A1 MI_pas unique')\n",
    "plt.savefig(\"A1_MI_pas_unique_dist.pdf\")"
   ]
  },
  {
   "cell_type": "code",
   "execution_count": 109,
   "metadata": {},
   "outputs": [
    {
     "data": {
      "image/png": "[encoded data removed]",
      "text/plain": [
       "<matplotlib.figure.Figure at 0x11ec7cfd0>"
      ]
     },
     "metadata": {
      "needs_background": "light"
     },
     "output_type": "display_data"
    }
   ],
   "source": [
    "fig, ax = plt.subplots()\n",
    "\n",
    "# plot\n",
    "ax.scatter(d307_p1_MI_pas_only['MI_pas_only'], d307_p1_MI_pas_unique['MI_pas_unique'], \n",
    "           color='lightgrey', edgecolors='white')\n",
    "\n",
    "ax.scatter(d307_p1_MI_pas_only_sig['MI_pas_only'], d307_p1_MI_pas_unique_sig['MI_pas_unique'], \n",
    "           color=color_bpas, edgecolors='white')\n",
    "\n",
    "ax.set_xlabel('A1 MIpas only (MIpup0beh-MIpup0beh0)')\n",
    "ax.set_ylabel('A1 MIpas unique (MIpupbeh-MIpupbeh0)')\n",
    "ax.set_aspect('equal')\n",
    "\n",
    "# set the limits\n",
    "plt.ylim(-1, 1)\n",
    "plt.xlim(-1, 1)\n",
    "\n",
    "# need a slope and c to fix the position of line\n",
    "slope = 1\n",
    "c = -1\n",
    "\n",
    "x_min, x_max = ax.get_xlim()\n",
    "y_min, y_max = c, c + slope*(x_max-x_min)\n",
    "ax.plot([x_min, x_max], [y_min, y_max], linewidth=0.5, linestyle='--', color='k')\n",
    "ax.set_xlim([x_min, x_max])\n",
    "\n",
    "# add horizontal line\n",
    "slope = 0\n",
    "c = 0\n",
    "\n",
    "x_min, x_max = ax.get_xlim()\n",
    "y_min, y_max = c, c + slope*(x_max-x_min)\n",
    "ax.plot([x_min, x_max], [y_min, y_max], linewidth=0.5, linestyle='--', color='k')\n",
    "ax.set_xlim([x_min, x_max])\n",
    "\n",
    "# add vertical line\n",
    "xposition = 0.00\n",
    "plt.axvline(x=xposition, color='k', linestyle='--', linewidth=0.5)\n",
    "\n",
    "plt.savefig(\"A1_MIpas_scatterplot.pdf\")"
   ]
  },
  {
   "cell_type": "markdown",
   "metadata": {},
   "source": [
    "Let's do the same for R2"
   ]
  },
  {
   "cell_type": "code",
   "execution_count": 99,
   "metadata": {},
   "outputs": [],
   "source": [
    "# pivot the partial model to have R2 for each state_chan_alt\n",
    "d_p0p307_p1_R2 = d_p0p307_p1.pivot(index='cellid', columns='state_chan_alt', values='R2')\n",
    "\n",
    "# pivot the null model dataframe to have R2 for each state_chan_alt\n",
    "d_p0p0307_p1_R2 = d_p0p0307_p1.pivot(index='cellid', columns='state_chan_alt', values='R2')\n",
    "\n",
    "#change name of column to prepare for merging\n",
    "d_p0p0307_p1_R2 = d_p0p0307_p1_R2.rename(index=str, columns={\"PASSIVE_1\":\"PASSIVE_1_0\"})\n",
    "\n",
    "\n",
    "# pivot the full model to have R2 for each state_chan_alt\n",
    "d_pp307_p1_R2 = d_pp307_p1_full.pivot(index='cellid', columns='state_chan_alt', values='R2')\n",
    "\n",
    "# pivot the partial model dataframe to have R2 for each state_chan_alt\n",
    "d_pp0307_p1_R2 = d_pp0307_p1.pivot(index='cellid', columns='state_chan_alt', values='R2')\n",
    "\n",
    "#change name of column to prepare for merging\n",
    "d_pp0307_p1_R2 = d_pp0307_p1_R2.rename(index=str, columns={\"PASSIVE_1\":\"PASSIVE_1_0\"})"
   ]
  },
  {
   "cell_type": "code",
   "execution_count": 100,
   "metadata": {},
   "outputs": [],
   "source": [
    "#reset index to get rid of multindexing in the partial model\n",
    "d_p0p307_p1_R2 = d_p0p307_p1_R2.reset_index()\n",
    "\n",
    "#reset index to get rid of multindexing in the null model\n",
    "d_p0p0307_p1_R2 = d_p0p0307_p1_R2.reset_index()\n",
    "\n",
    "\n",
    "#reset index to get rid of multindexing in the partial model\n",
    "d_pp0307_p1_R2 = d_pp0307_p1_R2.reset_index()\n",
    "\n",
    "#reset index to get rid of multindexing in the full model\n",
    "d_pp307_p1_R2 = d_pp307_p1_R2.reset_index()"
   ]
  },
  {
   "cell_type": "code",
   "execution_count": 101,
   "metadata": {},
   "outputs": [],
   "source": [
    "# join partial p0p and null dataframes\n",
    "d307_p1_R2_pas_only = pd.merge(d_p0p307_p1_R2, d_p0p0307_p1_R2, how='left', on='cellid')\n",
    "\n",
    "# add column called beh_only with difference between active and active0\n",
    "d307_p1_R2_pas_only['R2_pas_only']=d307_p1_R2_pas_only['PASSIVE_1']-d307_p1_R2_pas_only['PASSIVE_1_0']\n",
    "\n",
    "# set the index back to cellid to apply the loc method and get the significant cells\n",
    "d307_p1_R2_pas_only=d307_p1_R2_pas_only.set_index('cellid')\n",
    "d307_p1_R2_pas_only.head()\n",
    "\n",
    "\n",
    "# join full with partial pp0 dataframes\n",
    "d307_p1_R2_pas_unique = pd.merge(d_pp307_p1_R2, d_pp0307_p1_R2, how='left', on='cellid')\n",
    "\n",
    "# add column called beh_only with difference between active and active0\n",
    "d307_p1_R2_pas_unique['R2_pas_unique']=d307_p1_R2_pas_unique['PASSIVE_1']-d307_p1_R2_pas_unique['PASSIVE_1_0']\n",
    "\n",
    "# set the index back to cellid to apply the loc method and get the significant cells\n",
    "d307_p1_R2_pas_unique=d307_p1_R2_pas_unique.set_index('cellid')\n"
   ]
  },
  {
   "cell_type": "code",
   "execution_count": 102,
   "metadata": {},
   "outputs": [],
   "source": [
    "# On the data frame pivoted on R2, apply the sign cells mask, and voila!\n",
    "d307_p1_R2_pas_only_sig = d307_p1_R2_pas_only.loc[cellid_p1_sig_307]\n",
    "\n",
    "d307_p1_R2_pas_unique_sig = d307_p1_R2_pas_unique.loc[cellid_p1_sig_307]"
   ]
  },
  {
   "cell_type": "code",
   "execution_count": 110,
   "metadata": {},
   "outputs": [
    {
     "data": {
      "image/png": "[encoded data removed]",
      "text/plain": [
       "<matplotlib.figure.Figure at 0x11eaf9e48>"
      ]
     },
     "metadata": {
      "needs_background": "light"
     },
     "output_type": "display_data"
    }
   ],
   "source": [
    "fig, ax = plt.subplots()\n",
    "\n",
    "plt.ylim(-0.05, 0.3)\n",
    "plt.xlim(-0.05, 0.3)\n",
    "\n",
    "plt.axhline(0, linestyle='--', linewidth=0.3, color='k')\n",
    "plt.axvline(0, linestyle='--', linewidth=0.3, color='k')\n",
    "plt.plot([-0.05,0.3],[-0.05, 0.3], linestyle='--',linewidth=0.5, color='k')\n",
    "\n",
    "ax.scatter(d307_p1_R2_pas_only['R2_pas_only'], d307_p1_R2_pas_unique['R2_pas_unique'], \n",
    "           color='lightgrey', edgecolors='white')\n",
    "\n",
    "ax.scatter(d307_p1_R2_pas_only_sig['R2_pas_only'], d307_p1_R2_pas_unique_sig['R2_pas_unique'], \n",
    "           color=color_bpas, edgecolors='white')\n",
    "\n",
    "ax.set_xlabel('R2beh only (R2pup0beh-R2pup0beh0)')\n",
    "ax.set_ylabel('R2beh unique (R2pupbeh-R2pupbeh0)')\n",
    "ax.set_aspect('equal')\n",
    "\n",
    "plt.savefig(\"IC_R2beh_scatterplot.pdf\")"
   ]
  },
  {
   "cell_type": "code",
   "execution_count": null,
   "metadata": {},
   "outputs": [],
   "source": []
  },
  {
   "cell_type": "code",
   "execution_count": null,
   "metadata": {},
   "outputs": [],
   "source": []
  },
  {
   "cell_type": "code",
   "execution_count": null,
   "metadata": {},
   "outputs": [],
   "source": []
  },
  {
   "cell_type": "code",
   "execution_count": null,
   "metadata": {},
   "outputs": [],
   "source": []
  },
  {
   "cell_type": "code",
   "execution_count": null,
   "metadata": {},
   "outputs": [],
   "source": []
  },
  {
   "cell_type": "code",
   "execution_count": null,
   "metadata": {},
   "outputs": [],
   "source": [
    "# Find A1 units for which the model prediction with behavior as state variable \n",
    "# signifantly predicts behavior modulation\n",
    "# significant cells = r_pup0_beh - r_pup0_beh0 > rse_pup0_beh + rse_pup0_beh0 where 'r' is \n",
    "# Pearson's correlation\n",
    "\n",
    "# Isolate df with only active (or any of those state_chan as r (Pearson's) is the same)\n",
    "d_pb307_active = d_pb307[d_pb307['state_chan']=='active']\n",
    "\n",
    "# Pivot the new df such that you only have r or r_se as data and state_sig as columns\n",
    "d_pb307_pivot_r= d_pb307_active.pivot(index='cellid',columns='state_sig',values='r')\n",
    "d_pb307_pivot_rse= d_pb307_active.pivot(index='cellid',columns='state_sig',values='r_se')\n",
    "\n",
    "# create a new column in d_pivot_r where you take the diff between r in pup0.beh and pup0.beh0\n",
    "d_pb307_pivot_r['r_diff']=d_pb307_pivot_r['st.pup0.beh']-d_pb307_pivot_r['st.pup0.beh0']\n",
    "\n",
    "# create a new column in d_pivot_rse where you take the sum of r_se in pup0.beh and pup0.beh0\n",
    "d_pb307_pivot_rse['r_sum']=d_pb307_pivot_rse['st.pup0.beh']+d_pb307_pivot_rse['st.pup0.beh0']\n",
    "\n",
    "# create a np array listing all sig cells to use as mask for original df\n",
    "cellid_sig_307 = d_pb307_pivot_r[d_pb307_pivot_r['r_diff']>d_pb307_pivot_rse['r_sum']].index"
   ]
  },
  {
   "cell_type": "code",
   "execution_count": null,
   "metadata": {},
   "outputs": [],
   "source": []
  },
  {
   "cell_type": "markdown",
   "metadata": {},
   "source": [
    "### c) AC 301 SUA results "
   ]
  },
  {
   "cell_type": "code",
   "execution_count": null,
   "metadata": {
    "collapsed": true
   },
   "outputs": [],
   "source": [
    "# AC SUA: pup vs. beh 301 per state dataframe\n",
    "d_pb301 = pd.read_csv('d_pb_per_state_301.csv')\n",
    "d_pb301 = d_pb301.drop(['Unnamed: 0'], axis=1)"
   ]
  },
  {
   "cell_type": "code",
   "execution_count": null,
   "metadata": {
    "collapsed": true
   },
   "outputs": [],
   "source": [
    "# partial model pupil shuffled\n",
    "d_p0b301 = d_pb301[d_pb301['state_sig']=='st.pup0.beh']\n",
    "\n",
    "# full model\n",
    "d_pb301_full = d_pb301[d_pb301['state_sig']=='st.pup.beh']"
   ]
  },
  {
   "cell_type": "code",
   "execution_count": null,
   "metadata": {
    "collapsed": true
   },
   "outputs": [],
   "source": [
    "# pivot the dataframe to have MI (predicted responses) for each state_chan\n",
    "d_p0b301_MI = d_p0b301.pivot(index='cellid',columns='state_chan',values='MI')\n",
    "d_pb301_full_MI = d_pb301_full.pivot(index='cellid',columns='state_chan',values='MI')\n",
    "d_p0b301_MI.describe()"
   ]
  },
  {
   "cell_type": "code",
   "execution_count": null,
   "metadata": {
    "collapsed": true
   },
   "outputs": [],
   "source": [
    "# histogram of MI for behavior channel with pupil shuffled\n",
    "mean_MI_p0b301=d_p0b301_MI['active'].mean()\n",
    "print(mean_MI_p0b301)\n",
    "\n",
    "median_MI_p0b301=d_p0b301_MI['active'].median()\n",
    "print(median_MI_p0b301)\n",
    "\n",
    "dist_MI = sns.distplot(d_p0b301_MI['active'], hist_kws= {'alpha':1, 'color': color_ba}, \n",
    "                       kde=False, bins=25)\n",
    "plt.axvline(0, linestyle='--', linewidth=0.5, color='k')\n",
    "# change it so that the value of mean MI gets inserted not hard coded.\n",
    "dist_MI.text(-0.6,12, \"median MI = 0.06\", horizontalalignment='left', size='medium',\n",
    "            color='k')\n",
    "plt.xlabel('A1 Task MI SUA (pupil shuffled)')"
   ]
  },
  {
   "cell_type": "markdown",
   "metadata": {},
   "source": [
    "## 2) Do we see similar modulation effect for passive vs. other passives (ignoring pupil) in AC and IC? \n",
    "\n",
    "### a) A1 307 MUA + SUA results "
   ]
  },
  {
   "cell_type": "code",
   "execution_count": null,
   "metadata": {
    "collapsed": true
   },
   "outputs": [],
   "source": [
    "# AC SUA+MUA: pup vs. file position 307 per state dataframe\n",
    "d_pf307 = pd.read_csv('d_pf_per_state_307.csv')\n",
    "d_pf307 = d_pf307.drop(['Unnamed: 0'], axis=1)"
   ]
  },
  {
   "cell_type": "code",
   "execution_count": null,
   "metadata": {
    "collapsed": true
   },
   "outputs": [],
   "source": [
    "# full model\n",
    "d_pf307_full = d_pf307[d_pf307['state_sig']=='st.pup.fil']\n",
    "d_pf307_full.head()"
   ]
  },
  {
   "cell_type": "code",
   "execution_count": null,
   "metadata": {},
   "outputs": [],
   "source": []
  },
  {
   "cell_type": "code",
   "execution_count": null,
   "metadata": {
    "collapsed": true
   },
   "outputs": [],
   "source": []
  },
  {
   "cell_type": "code",
   "execution_count": null,
   "metadata": {
    "collapsed": true
   },
   "outputs": [],
   "source": []
  },
  {
   "cell_type": "code",
   "execution_count": null,
   "metadata": {
    "collapsed": true
   },
   "outputs": [],
   "source": []
  },
  {
   "cell_type": "markdown",
   "metadata": {},
   "source": [
    "Stacked bar chart for each cell. Plot a bar broken up into 4 colors showing the relative performance of the null model (r_pup0.beh0), unique pupil (r_pup.beh-r_pup0.beh), unique behavior (r_pup.beh-r_pup.beh0) and ambiguous pupil or behavior (r_pup0.beh + r_pup.beh0 - r_pup.beh - r_pup0.beh0 -- I think the math works out for this last one)."
   ]
  },
  {
   "cell_type": "code",
   "execution_count": null,
   "metadata": {
    "collapsed": true
   },
   "outputs": [],
   "source": []
  },
  {
   "cell_type": "code",
   "execution_count": null,
   "metadata": {
    "collapsed": true
   },
   "outputs": [],
   "source": []
  },
  {
   "cell_type": "code",
   "execution_count": null,
   "metadata": {
    "collapsed": true
   },
   "outputs": [],
   "source": []
  },
  {
   "cell_type": "code",
   "execution_count": null,
   "metadata": {
    "collapsed": true
   },
   "outputs": [],
   "source": []
  },
  {
   "cell_type": "code",
   "execution_count": null,
   "metadata": {
    "collapsed": true
   },
   "outputs": [],
   "source": []
  },
  {
   "cell_type": "code",
   "execution_count": null,
   "metadata": {
    "collapsed": true
   },
   "outputs": [],
   "source": []
  },
  {
   "cell_type": "code",
   "execution_count": null,
   "metadata": {
    "collapsed": true
   },
   "outputs": [],
   "source": []
  },
  {
   "cell_type": "code",
   "execution_count": null,
   "metadata": {
    "collapsed": true
   },
   "outputs": [],
   "source": [
    "# function to create a list of color names based on significant state variable effect \n",
    "# in A1 cells\n",
    "def pltcolor(lst,state):\n",
    "    colors=[]\n",
    "    for val in lst:\n",
    "        if val==0:\n",
    "            colors.append('lightgrey')\n",
    "        elif val==1 and state=='pas':\n",
    "            colors.append('#D199C4')\n",
    "        elif val==1 and state=='pup':\n",
    "            colors.append('#2E7E3E')\n",
    "    return colors"
   ]
  },
  {
   "cell_type": "code",
   "execution_count": null,
   "metadata": {
    "collapsed": true
   },
   "outputs": [],
   "source": [
    "# Create three dataframes uniquely for each model\n",
    "d_pup0_pas10=d_pup_pas1[d_pup_pas1['state_sig0']=='st.pup0.pas0']\n",
    "d_pup0_pas1=d_pup_pas1[d_pup_pas1['state_sig0']=='st.pup0.pas']\n",
    "d_pup_pas10=d_pup_pas1[d_pup_pas1['state_sig0']=='st.pup.pas0']\n",
    "\n",
    "# gotta reset the inexes to that it does not complain in the next cell when I try\n",
    "# to subtract two rows from two different data frame. I could have also merge these three \n",
    "# into one, but I'm lazy\n",
    "d_pup0_pas10=d_pup0_pas10.reset_index(drop=True)\n",
    "d_pup0_pas1=d_pup0_pas1.reset_index(drop=True)\n",
    "d_pup_pas10=d_pup_pas10.reset_index(drop=True)"
   ]
  },
  {
   "cell_type": "code",
   "execution_count": null,
   "metadata": {
    "collapsed": true
   },
   "outputs": [],
   "source": [
    "# histogram of gains for behavior channel with pupil shuffled\n",
    "color = '#D199C4'\n",
    "g = sns.distplot(d_pup0_pas1['g'], hist_kws= {'alpha':1, 'color': color}, kde=False)\n",
    "plt.axvline(0, linestyle='--', linewidth=0.5, color='k')\n",
    "plt.xlabel('pre-post1 passive gain (pupil shuffled)')\n",
    "plt.ylabel('count')"
   ]
  },
  {
   "cell_type": "code",
   "execution_count": null,
   "metadata": {
    "collapsed": true
   },
   "outputs": [],
   "source": [
    "# histogram of gains for behavior channel with pupil shuffled baseline substracted?\n",
    "color = '#D199C4'\n",
    "g = sns.distplot(d_pup0_pas1['g']-d_pup0_pas1['d'], hist_kws= {'alpha':1, 'color': color}, kde=False)\n",
    "plt.axvline(0, linestyle='--', linewidth=0.5, color='k')\n",
    "plt.xlabel('pre-post1 passive gain (pupil shuffled)')\n",
    "plt.ylabel('count')"
   ]
  },
  {
   "cell_type": "code",
   "execution_count": null,
   "metadata": {
    "collapsed": true
   },
   "outputs": [],
   "source": [
    "# Plotting passive block ignoring pupil versus passive block regressing out pupil\n",
    "# x-axis improvement from passive block ignoring pupil:  r_pup0_pas1 - r_pup0_pas10\n",
    "# y-axis improvement regressing out (or accounting for) pupil: r_pup_pas1 - r_pup_pas10\n",
    "\n",
    "# Create the colors list using the function pltcolor\n",
    "colors=pltcolor(d_pup_pas1['sig_var'],'pas')\n",
    "\n",
    "fig, ax = plt.subplots()\n",
    "\n",
    "# set the limits\n",
    "plt.ylim(-0.05, 0.2)\n",
    "plt.xlim(-0.05, 0.2)\n",
    "\n",
    "# draw horizontal lines and unitary line\n",
    "plt.axhline(0, linestyle='--', linewidth=0.5, color='k')\n",
    "plt.axvline(0, linestyle='--', linewidth=0.5, color='k')\n",
    "plt.plot([-0.05,0.2],[-0.05, 0.2], linestyle='--',linewidth=0.5, color='k')\n",
    "\n",
    "# note that d_pup0_beh['r'] is the same as d_pup_beh0['r'] and d_pup0_beh0['r']\n",
    "ax.scatter(d_pup0_pas1['r0']-d_pup0_pas10['r0'],d_pup_pas10['r']-d_pup_pas10['r0'], \n",
    "           color=colors, edgecolors='white')\n",
    "ax.set_xlabel('Passive1 block (ignore pupil)')\n",
    "ax.set_ylabel('Passive1 block (account for pupil)')\n",
    "ax.set_aspect('equal')\n"
   ]
  },
  {
   "cell_type": "markdown",
   "metadata": {},
   "source": [
    "### 3) What is the contribution of pupil to behavioral effects?"
   ]
  },
  {
   "cell_type": "code",
   "execution_count": null,
   "metadata": {
    "collapsed": true
   },
   "outputs": [],
   "source": [
    "# pup vs. active/passive\n",
    "batch = 307  # A1 SUA and MUA\n",
    "state_list = ['st.pup0.beh0','st.pup0.beh','st.pup.beh0','st.pup.beh']\n",
    "basemodel = \"-ref-psthfr.s_stategain.S\"\n",
    "\n",
    "#d_pup_beh = get_model_results(batch=batch, state_list=state_list, basemodel=basemodel)\n",
    "d_pup_beh = pd.read_csv('d_pup_beh.csv')"
   ]
  },
  {
   "cell_type": "code",
   "execution_count": null,
   "metadata": {
    "collapsed": true
   },
   "outputs": [],
   "source": [
    "# to look at unique variance explained we need to square r and r0 and then take the difference\n",
    "# create three new colums R2 R02 and delta_R2\n",
    "d_pup_beh['R2']=d_pup_beh['r']**2\n",
    "d_pup_beh['R02']=d_pup_beh['r0']**2\n",
    "d_pup_beh['R2_unique']=d_pup_beh['R2']-d_pup_beh['R02']\n",
    "\n",
    "# Also I want to delete that first Unnamed column because it's useless\n",
    "d_pup_beh = d_pup_beh.drop(['Unnamed: 0'], axis=1)"
   ]
  },
  {
   "cell_type": "code",
   "execution_count": null,
   "metadata": {
    "collapsed": true
   },
   "outputs": [],
   "source": [
    "# add column to specify if cellid has significant effect of any state variable \n",
    "# (specific to baseline row)\n",
    "d_pup_beh['sig_var']=np.where(d_pup_beh['r_unique']>2*d_pup_beh['r_se'], 1, 0)\n",
    "\n",
    "# next is an unelegant trick to get the values in raws that are not 'baseline' off the equation\n",
    "mask = d_pup_beh.state_chan != 'baseline'\n",
    "column = 'sig_var'\n",
    "d_pup_beh.loc[mask, column] = '-'\n",
    "\n",
    "d_pup_beh.head(10)"
   ]
  },
  {
   "cell_type": "code",
   "execution_count": null,
   "metadata": {
    "collapsed": true
   },
   "outputs": [],
   "source": [
    "# function to create a list of color names based on significant state variable effect \n",
    "# in A1 cells\n",
    "def pltcolor(lst,state):\n",
    "    colors=[]\n",
    "    for val in lst:\n",
    "        if val==0:\n",
    "            colors.append('lightgrey')\n",
    "        elif val==1 and state=='beh':\n",
    "            colors.append('#82418B')\n",
    "        elif val==1 and state=='pup':\n",
    "            colors.append('#2E7E3E')\n",
    "    return colors"
   ]
  },
  {
   "cell_type": "code",
   "execution_count": null,
   "metadata": {
    "collapsed": true
   },
   "outputs": [],
   "source": [
    "# Create three dataframes uniquely for each model\n",
    "d_pup0_beh0=d_pup_beh[d_pup_beh['state_chan']=='baseline']\n",
    "d_pup0_beh=d_pup_beh[d_pup_beh['state_chan']=='pupil']\n",
    "d_pup_beh0=d_pup_beh[d_pup_beh['state_chan']=='active']\n",
    "\n",
    "# gotta reset the inexes to that it does not complain in the next cell when I try\n",
    "# to subtract two rows from two different data frame. I could have also merge these three \n",
    "# into one, but I'm lazy\n",
    "d_pup0_beh0=d_pup0_beh0.reset_index(drop=True)\n",
    "d_pup0_beh=d_pup0_beh.reset_index(drop=True)\n",
    "d_pup_beh0=d_pup_beh0.reset_index(drop=True)"
   ]
  },
  {
   "cell_type": "code",
   "execution_count": null,
   "metadata": {
    "collapsed": true
   },
   "outputs": [],
   "source": [
    "mean_g_beh=d_pup0_beh['g'].mean()\n",
    "std_g_beh=d_pup0_beh['g'].std()\n",
    "print(mean_g_beh)\n",
    "print(std_g_beh)\n",
    "\n",
    "mean_g_pas1=d_pup0_pas1['g'].mean()\n",
    "std_g_pas1=d_pup0_pas1['g'].std()\n",
    "print(mean_g_pas1)\n",
    "print(std_g_pas1)"
   ]
  },
  {
   "cell_type": "code",
   "execution_count": null,
   "metadata": {
    "collapsed": true
   },
   "outputs": [],
   "source": [
    "# histogram of gains for behavior channel with pupil shuffled\n",
    "color = '#82418B'\n",
    "g = sns.distplot(d_pup0_beh['g'], hist_kws= {'alpha':1, 'color': color}, kde=False)\n",
    "plt.axvline(0, linestyle='--', linewidth=0.5, color='k')\n",
    "plt.xlabel('behavior gain (pupil shuffled)')\n",
    "plt.ylabel('count')\n",
    "\n",
    "g = sns.distplot(d_pup0_pas1['g'], color=color, kde=False)\n",
    "plt.axvline(0, linestyle='--', linewidth=0.5, color='k')"
   ]
  },
  {
   "cell_type": "markdown",
   "metadata": {},
   "source": [
    "Do the same "
   ]
  },
  {
   "cell_type": "code",
   "execution_count": null,
   "metadata": {
    "collapsed": true
   },
   "outputs": [],
   "source": [
    "# histogram of gains for pupil channel with behavior shuffled\n",
    "color='#2E7E3E'\n",
    "sns.distplot(d_pup_beh0['g'], hist_kws= {'alpha':1, 'color': color}, kde=False)\n",
    "plt.axvline(0, linestyle='--', linewidth=0.5, color='k')\n",
    "plt.xlabel('pupil gain (behavior shuffled)')\n",
    "plt.ylabel('count')"
   ]
  },
  {
   "cell_type": "code",
   "execution_count": null,
   "metadata": {
    "collapsed": true
   },
   "outputs": [],
   "source": [
    "# Plotting behavior ignoring pupil versus behavior regressing out pupil\n",
    "# x-axis improvement from behavior ignoring pupil:  r_pup0_beh - r_pup0_beh0\n",
    "# y-axis improvement regressing out (or accounting for) pupil: r_pup_beh - r_pup_beh0\n",
    "\n",
    "# Create the colors list using the function pltcolor\n",
    "colors=pltcolor(d_pup_beh['sig_var'],'beh')\n",
    "\n",
    "fig, ax = plt.subplots()\n",
    "\n",
    "# set the limits\n",
    "plt.ylim(-0.05, 0.2)\n",
    "plt.xlim(-0.05, 0.2)\n",
    "\n",
    "# draw horizontal lines and unitary line\n",
    "plt.axhline(0, linestyle='--', linewidth=0.5, color='k')\n",
    "plt.axvline(0, linestyle='--', linewidth=0.5, color='k')\n",
    "plt.plot([-0.05,0.2],[-0.05, 0.2], linestyle='--',linewidth=0.5, color='k')\n",
    "\n",
    "# note that d_pup0_beh['r'] is the same as d_pup_beh0['r'] and d_pup0_beh0['r']\n",
    "ax.scatter(d_pup0_beh['r0']-d_pup0_beh0['r0'],d_pup_beh0['r']-d_pup_beh0['r0'], \n",
    "           color=colors, edgecolors='white')\n",
    "ax.set_xlabel('Behavior (ignore pupil)')\n",
    "ax.set_ylabel('Behavior (account for pupil)')\n",
    "ax.set_aspect('equal')\n"
   ]
  },
  {
   "cell_type": "markdown",
   "metadata": {},
   "source": [
    "**Questions to be answered**\n",
    "* How many of these are SUA versus MUA?\n",
    "* Can we tell if those cells above the unitary lines have negative r_unique for pupil or negative full model r? MI?\n"
   ]
  },
  {
   "cell_type": "code",
   "execution_count": null,
   "metadata": {
    "collapsed": true
   },
   "outputs": [],
   "source": [
    "# Plot unique contribution of pupil in terms of MI. \n",
    "# x axis is MI for a variable behavior  if you ignore the existence of pupil\n",
    "# y axis is MI_unique for behavior, MI behavior after regressing out pupil\n",
    "\n",
    "# d_pup_beh0['MI] is the MI calculated from the full model for active and passive behavior\n",
    "# d_pup0_beh['MI'] is the MI calculated from the full model for large and small pupil\n",
    "\n",
    "fig, ax = plt.subplots()\n",
    "\n",
    "ax.scatter(d_pup_beh0['MI'], d_pup_beh0['MI_unique'], color=colors, edgecolors='white')\n",
    "ax.set_xlabel('MI active (ignore pupil)')\n",
    "ax.set_ylabel('MI_unique active (regress out pupil)')\n",
    "ax.set_aspect('equal')\n",
    "\n",
    "# set the limits\n",
    "plt.ylim(-1, 1)\n",
    "plt.xlim(-1, 1)\n",
    "\n",
    "# need a slope and c to fix the position of line\n",
    "slope = 1\n",
    "c = -1\n",
    "\n",
    "x_min, x_max = ax.get_xlim()\n",
    "y_min, y_max = c, c + slope*(x_max-x_min)\n",
    "ax.plot([x_min, x_max], [y_min, y_max], linewidth=0.5, linestyle='--', color='k')\n",
    "ax.set_xlim([x_min, x_max])\n",
    "\n",
    "\n",
    "# add horizontal line\n",
    "slope = 0\n",
    "c = 0\n",
    "\n",
    "x_min, x_max = ax.get_xlim()\n",
    "y_min, y_max = c, c + slope*(x_max-x_min)\n",
    "ax.plot([x_min, x_max], [y_min, y_max], linewidth=0.5, linestyle='--', color='k')\n",
    "ax.set_xlim([x_min, x_max])\n",
    "\n",
    "# add vertical line\n",
    "xposition = 0.00\n",
    "plt.axvline(x=xposition, color='k', linestyle='--', linewidth=0.5)"
   ]
  },
  {
   "cell_type": "markdown",
   "metadata": {},
   "source": [
    "Stacked bar char: for each cell plot a bar broken up into 4 colors showing the relative performance of the null model (r_pup0.beh0), unique pupil (r_pup.beh-r_pup0.beh), unique behavior (r_pup.beh-r_pup.beh0) and ambiguous pupil or behavior (r_pup0.beh + r_pup.beh0 - r_pup.beh - r_pup0.beh0 -- I think the math works out for this last one)."
   ]
  },
  {
   "cell_type": "code",
   "execution_count": null,
   "metadata": {
    "collapsed": true
   },
   "outputs": [],
   "source": [
    "\n",
    "r_null = d_pup0_beh0['r0']\n",
    "r_null = d_pup0_beh0['r0']\n",
    "\n",
    "r_pup_uniq = d_pup_beh0['r']-d_pup0_beh['r0']\n",
    "r_pup_uniq = d_pup_beh0['r']-d_pup0_beh['r0']\n",
    "\n",
    "r_beh_uniq = d_pup_beh0['r']-d_pup_beh0['r0']\n",
    "r_beh_uniq = d_pup_beh0['r']-d_pup_beh0['r0']\n",
    "\n",
    "\n",
    "\n",
    "\n",
    "\n",
    "\n",
    "fig, ax = plt.subplots()\n",
    "#r_ambig = \n",
    "\n",
    "N=3\n",
    "ind = np.arange(N) # the x locations for the groups\n",
    "width = 0.35       # the width of the bars: can also be len(x) sequence\n",
    "\n",
    "p1 = plt.bar(ind, means, width, yerr=r_null_std)\n",
    "p2 = plt.bar(ind, womenMeans, width,\n",
    "             bottom=menMeans, yerr=womenStd)\n"
   ]
  },
  {
   "cell_type": "code",
   "execution_count": null,
   "metadata": {
    "collapsed": true
   },
   "outputs": [],
   "source": [
    "# pup vs. per file\n",
    "state_list = ['st.pup0.fil0','st.pup0.fil','st.pup.fil0','st.pup.fil']\n",
    "basemodel = \"-ref-psthfr.s_stategain.S\"\n",
    "#d_pup_fil = get_model_results(batch=batch, state_list=state_list, basemodel=basemodel)\n",
    "d_pup_fil = pd.read_csv('d_pup_fil.csv')"
   ]
  },
  {
   "cell_type": "code",
   "execution_count": null,
   "metadata": {
    "collapsed": true
   },
   "outputs": [],
   "source": [
    "d_pup_fil.head(10)"
   ]
  },
  {
   "cell_type": "code",
   "execution_count": null,
   "metadata": {
    "collapsed": true
   },
   "outputs": [],
   "source": []
  },
  {
   "cell_type": "code",
   "execution_count": null,
   "metadata": {},
   "outputs": [],
   "source": []
  },
  {
   "cell_type": "code",
   "execution_count": null,
   "metadata": {},
   "outputs": [],
   "source": []
  },
  {
   "cell_type": "code",
   "execution_count": null,
   "metadata": {},
   "outputs": [],
   "source": []
  },
  {
   "cell_type": "code",
   "execution_count": null,
   "metadata": {},
   "outputs": [],
   "source": []
  },
  {
   "cell_type": "code",
   "execution_count": null,
   "metadata": {},
   "outputs": [],
   "source": [
    "# really bad way of deleting raws with passive comparisons that are not pre-post1\n",
    "def just_the_first_passive(df):\n",
    "    '''Returns a new dataframe with all the rows in df, except\n",
    "    rows that are not the first passive. '''\n",
    "    rows=[]\n",
    "    cells_with_one_pup_pas = set()\n",
    "    baseline = None\n",
    "    pupil = None\n",
    "    passive = None\n",
    "    for _, row in df.iterrows():\n",
    "        if (row['cellid'] in cells_with_one_pup_pas0):\n",
    "            continue\n",
    "        \n",
    "        if (row['state_chan'] == 'baseline'):\n",
    "            baseline = row\n",
    "        if (row['state_chan'] == 'pupil'):\n",
    "            pupil = row \n",
    "        if (row['state_sig0'] == 'st.pup.pas0'):\n",
    "            passive = row\n",
    "        \n",
    "        if (baseline is not None and pupil is not None and passive is not None) and\\\n",
    "           (baseline['cellid'] == pupil['cellid']) and\\\n",
    "           (baseline['cellid'] == passive['cellid']):\n",
    "            rows.append(baseline)\n",
    "            rows.append(pupil)\n",
    "            rows.append(passive)\n",
    "            cells_with_one_pup_pas0.add(pupil['cellid'])\n",
    "            baseline = None\n",
    "            pupil = None\n",
    "            passive = None\n",
    "\n",
    "    return pd.DataFrame(rows)"
   ]
  }
 ],
 "metadata": {
  "kernelspec": {
   "display_name": "py36",
   "language": "python",
   "name": "py36"
  },
  "language_info": {
   "codemirror_mode": {
    "name": "ipython",
    "version": 3
   },
   "file_extension": ".py",
   "mimetype": "text/x-python",
   "name": "python",
   "nbconvert_exporter": "python",
   "pygments_lexer": "ipython3",
   "version": "3.6.1"
  }
 },
 "nbformat": 4,
 "nbformat_minor": 2
}
