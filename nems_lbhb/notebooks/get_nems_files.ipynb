{
 "cells": [
  {
   "cell_type": "code",
   "execution_count": null,
   "metadata": {},
   "outputs": [],
   "source": [
    "from nems import db\n",
    "from nems_lbhb.xform_wrappers import generate_recording_uri\n",
    "from os.path import basename"
   ]
  },
  {
   "cell_type": "code",
   "execution_count": null,
   "metadata": {},
   "outputs": [],
   "source": [
    "# find all the cells in a batch:\n",
    "batch=289\n",
    "d_cells = db.get_batch_cells(batch=batch)\n",
    "d_cells.head()"
   ]
  },
  {
   "cell_type": "code",
   "execution_count": null,
   "metadata": {},
   "outputs": [],
   "source": [
    "# ask nems to figure out the relevant recording uris \n",
    "loadkey = \"ozgf.fs100.ch18.pup\"  #keyword for preprocessing to request\n",
    "#loadkey = \"ozgf.fs100.ch18\"  # alternative, no pupil data\n",
    "\n",
    "uri_list=[]\n",
    "for index, r in d_cells.iterrows():\n",
    "    uri_list.append(generate_recording_uri(cellid=r['cellid'], batch=batch, loadkey=loadkey))\n",
    "    print(r['cellid'] +\": \"+ uri_list[-1])"
   ]
  },
  {
   "cell_type": "code",
   "execution_count": null,
   "metadata": {},
   "outputs": [],
   "source": [
    "# remove uris that are redundant across cells\n",
    "\n",
    "unique_uris = list(set(uri_list))\n",
    "print(\"Total uris: \", len(uri_list))\n",
    "print(\"Unique uris: \", len(unique_uris))"
   ]
  },
  {
   "cell_type": "code",
   "execution_count": null,
   "metadata": {},
   "outputs": [],
   "source": [
    "# print out a list of URIs that can be copy and pasted into a text file.\n",
    "\n",
    "for uri in unique_uris:\n",
    "    print(basename(uri))"
   ]
  },
  {
   "cell_type": "code",
   "execution_count": null,
   "metadata": {},
   "outputs": [],
   "source": []
  },
  {
   "cell_type": "code",
   "execution_count": null,
   "metadata": {},
   "outputs": [],
   "source": []
  }
 ],
 "metadata": {
  "kernelspec": {
   "display_name": "Python 3",
   "language": "python",
   "name": "python3"
  },
  "language_info": {
   "codemirror_mode": {
    "name": "ipython",
    "version": 3
   },
   "file_extension": ".py",
   "mimetype": "text/x-python",
   "name": "python",
   "nbconvert_exporter": "python",
   "pygments_lexer": "ipython3",
   "version": "3.6.7"
  }
 },
 "nbformat": 4,
 "nbformat_minor": 4
}
