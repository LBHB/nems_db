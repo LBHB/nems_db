{
 "cells": [
  {
   "cell_type": "code",
   "execution_count": null,
   "metadata": {},
   "outputs": [],
   "source": [
    "import os\n",
    "import numpy as np\n",
    "import math\n",
    "import matplotlib.pyplot as plt\n",
    "import pandas as pd\n",
    "import seaborn as sns\n",
    "import scipy.stats as ss\n",
    "import statsmodels.formula.api as smf\n",
    "import matplotlib.collections as clt\n",
    "import re\n",
    "import pylab as pl\n",
    "\n",
    "from nems_lbhb.pupil_behavior_scripts.mod_per_state import get_model_results_per_state_model\n",
    "from nems_lbhb.pupil_behavior_scripts.mod_per_state import aud_vs_state\n",
    "from nems_lbhb.pupil_behavior_scripts.mod_per_state import hlf_analysis\n",
    "from nems_lbhb.stateplots import model_per_time_wrapper, beta_comp\n",
    "\n",
    "%matplotlib inline\n",
    "os.getcwd()\n",
    "\n",
    "pd.set_option('display.max_rows', 1000)\n",
    "pd.set_option('display.max_columns', 60)"
   ]
  },
  {
   "cell_type": "code",
   "execution_count": null,
   "metadata": {},
   "outputs": [],
   "source": [
    "# AC SU+MU 307 DS' data (onBF and offBF together)\n",
    "# run using beh_only_plot function in mod_per_state.py with state_list = ['st.fil0', 'st.fil'], \n",
    "# basemodel = '-ref-psthfr.s_stategain.S'\n",
    "# loader = 'psth.fs20-ld-'\n",
    "# fitter = '_jk.nf20-basic'\n",
    "# get_model_results_per_state_model ---> returning df and saved on /auto/users/daniela/code/python_ACIC_proj/d_fil_307.csv \n",
    "# 12/18/18 DS\n",
    "d_AC_307 = pd.read_csv('d_fil_307.csv')\n",
    "d_AC_307 = d_AC_307.drop(['Unnamed: 0'], axis=1)\n",
    "d_AC_307['experimenter'] = 'DS'\n",
    "d_AC_307['area'] = 'AC'\n",
    "d_AC_307['onBF'] = 'TBD'\n",
    "d_AC_307['SU'] = False\n",
    "d_AC_307.loc[d_AC_307['isolation']>=90.0, 'SU'] = True\n",
    "d_AC_307['animal'] = d_AC_307['cellid'].map(lambda x: x[:3])\n",
    "d_AC_307['task'] = 'TIN'"
   ]
  },
  {
   "cell_type": "code",
   "execution_count": null,
   "metadata": {},
   "outputs": [],
   "source": [
    "d_AC_307.head()"
   ]
  },
  {
   "cell_type": "code",
   "execution_count": null,
   "metadata": {},
   "outputs": [],
   "source": [
    "# AC 311 SVD's data (onBF only)\n",
    "# run using beh_only_plot function in mod_per_state.py with state_list = ['st.fil0', 'st.fil'], \n",
    "# basemodel = '-ref-psthfr.s_stategain.S'\n",
    "# loader = 'psth.fs20-ld-'\n",
    "# fitter = '_jk.nf20-basic'\n",
    "# get_model_results_per_state_model ---> returning df and saved on /auto/users/daniela/code/python_ACIC_proj/d_fil_311.csv \n",
    "# 12/18/18 DS\n",
    "d_AC_311 = pd.read_csv('d_fil_311.csv')\n",
    "d_AC_311 = d_AC_311.drop(['Unnamed: 0'], axis=1)\n",
    "d_AC_311['onBF'] = True\n",
    "d_AC_311['experimenter'] = 'SVD'\n",
    "d_AC_311['area'] = 'AC'\n",
    "d_AC_311['SU'] = False\n",
    "d_AC_311['animal'] = d_AC_311['cellid'].map(lambda x: x[:3])\n",
    "d_AC_311['task'] = 'TvN'\n",
    "d_AC_311.loc[d_AC_311['isolation']>=90.0, 'SU'] = True"
   ]
  },
  {
   "cell_type": "code",
   "execution_count": null,
   "metadata": {},
   "outputs": [],
   "source": [
    "d_AC_311.head()"
   ]
  },
  {
   "cell_type": "code",
   "execution_count": null,
   "metadata": {},
   "outputs": [],
   "source": [
    "# IC SU 305 DS' data \n",
    "d_IC_305 = pd.read_csv('d_305_IC_new.csv') # run with stategain model on October 31st\n",
    "d_IC_305 = d_IC_305.drop(['Unnamed: 0'], axis=1)\n",
    "d_IC_305['onBF'] = 'TBD'\n",
    "d_IC_305['experimenter'] = 'DS'\n",
    "d_IC_305['area'] = 'IC'\n",
    "d_IC_305['animal'] = d_IC_305['cellid'].map(lambda x: x[:3])\n",
    "d_IC_305['task'] = 'TIN'\n",
    "d_IC_305.loc[d_IC_305['animal']=='ley', 'task'] = 'TvN'\n",
    "d_IC_305['SU'] = True"
   ]
  },
  {
   "cell_type": "code",
   "execution_count": null,
   "metadata": {},
   "outputs": [],
   "source": [
    "d_IC_305.head()"
   ]
  },
  {
   "cell_type": "code",
   "execution_count": null,
   "metadata": {},
   "outputs": [],
   "source": [
    "# IC SU 295 Sean's data \n",
    "d_IC_295 = pd.read_csv('d_295_IC_old.csv')\n",
    "d_IC_295 = d_IC_295.drop(['Unnamed: 0'], axis=1)\n",
    "d_IC_295['onBF'] = 'TBD'\n",
    "d_IC_295['experimenter'] = 'SJS'\n",
    "d_IC_295['area'] = 'IC'\n",
    "d_IC_295['task'] = 'TvN'\n",
    "d_IC_295['SU'] = True"
   ]
  },
  {
   "cell_type": "code",
   "execution_count": null,
   "metadata": {},
   "outputs": [],
   "source": [
    "d_IC_295.head()"
   ]
  },
  {
   "cell_type": "code",
   "execution_count": null,
   "metadata": {},
   "outputs": [],
   "source": [
    "# concat all dataframes\n",
    "d_all = pd.concat([d_AC_311, d_AC_307, d_IC_295, d_IC_305], sort=False)"
   ]
  },
  {
   "cell_type": "code",
   "execution_count": null,
   "metadata": {},
   "outputs": [],
   "source": [
    "d_all.head()"
   ]
  },
  {
   "cell_type": "code",
   "execution_count": null,
   "metadata": {},
   "outputs": [],
   "source": [
    "#d_all[d_all['cellid']=='BRT016f-a1']"
   ]
  },
  {
   "cell_type": "code",
   "execution_count": null,
   "metadata": {},
   "outputs": [],
   "source": [
    "# generated by running get_ptd_tuning in MATLAB and then running struct2csv(cellframe, 'tuning_info_batch_295.csv')\n",
    "# IC data Sean's SU only\n",
    "d_295_strf = pd.read_csv('tuning_info_batch_295.csv')\n",
    "d_295_strf = d_295_strf.drop(['Unnamed: 24'], axis=1)"
   ]
  },
  {
   "cell_type": "code",
   "execution_count": null,
   "metadata": {},
   "outputs": [],
   "source": [
    "# generated by running get_ptd_tuning in MATLAB and then running struct2csv(cellframe, 'tuning_info_batch_307.csv')\n",
    "# AC data DS' SU+MU\n",
    "d_307_strf = pd.read_csv('tuning_info_batch_307.csv')\n",
    "d_307_strf = d_307_strf.drop(['Unnamed: 43'], axis=1)"
   ]
  },
  {
   "cell_type": "code",
   "execution_count": null,
   "metadata": {},
   "outputs": [],
   "source": [
    "# generated by running get_ptd_tuning in MATLAB and then running struct2csv(cellframe, 'tuning_info_batch_309.csv')\n",
    "# IC data DS' SU+MU (305 is SU only)\n",
    "d_309_strf = pd.read_csv('tuning_info_batch_309.csv')\n",
    "d_309_strf = d_309_strf.drop(['Unnamed: 43'], axis=1)"
   ]
  },
  {
   "cell_type": "code",
   "execution_count": null,
   "metadata": {},
   "outputs": [],
   "source": [
    "# concat all strf dataframes\n",
    "d_strf = pd.concat([d_295_strf, d_307_strf, d_309_strf], sort=False)"
   ]
  },
  {
   "cell_type": "code",
   "execution_count": null,
   "metadata": {},
   "outputs": [],
   "source": [
    "d_strf.head()"
   ]
  },
  {
   "cell_type": "code",
   "execution_count": null,
   "metadata": {},
   "outputs": [],
   "source": [
    "# merge all into one giant df\n",
    "df = pd.merge(left=d_all, right=d_strf, how='outer', on='cellid')"
   ]
  },
  {
   "cell_type": "code",
   "execution_count": null,
   "metadata": {},
   "outputs": [],
   "source": [
    "df.head()"
   ]
  },
  {
   "cell_type": "code",
   "execution_count": null,
   "metadata": {},
   "outputs": [],
   "source": [
    "# len(d_295_strf[d_295_strf['ACTIVE_0'].isna()])\n",
    "# 64 NAN for ACTIVE_0\n",
    "# 10 not nan for ACTIVE_0  (No pre-passive)"
   ]
  },
  {
   "cell_type": "code",
   "execution_count": null,
   "metadata": {},
   "outputs": [],
   "source": [
    "df.columns"
   ]
  },
  {
   "cell_type": "code",
   "execution_count": null,
   "metadata": {},
   "outputs": [],
   "source": [
    "def fix_TBD_onBF(df):\n",
    "    '''This function takes the monster dataframe and adds True to the column 'onBF' when 'ACTIVE_1_tardist' is\n",
    "    within 0.5 --> half an octave between unit BF and target frequency in ACTIVE 1'''\n",
    "    BF_TBD = (df['onBF']=='TBD')\n",
    "    df.loc[BF_TBD, 'onBF'] = df.loc[BF_TBD, 'ACTIVE_1_tardist'].map(lambda x: abs(x)<=0.5) #WOW!\n",
    "    return df"
   ]
  },
  {
   "cell_type": "code",
   "execution_count": null,
   "metadata": {},
   "outputs": [],
   "source": [
    "df['onBF'].value_counts()"
   ]
  },
  {
   "cell_type": "code",
   "execution_count": null,
   "metadata": {},
   "outputs": [],
   "source": [
    "df = fix_TBD_onBF(df)"
   ]
  },
  {
   "cell_type": "code",
   "execution_count": null,
   "metadata": {},
   "outputs": [],
   "source": [
    "df['onBF'].value_counts()"
   ]
  },
  {
   "cell_type": "code",
   "execution_count": null,
   "metadata": {},
   "outputs": [],
   "source": [
    "def plotme(df, x_col, y_col, title=None):\n",
    "    ax = sns.violinplot(x=x_col, y=y_col, data=df)\n",
    "    #ax = sns.barplot(x=x_col, y=y_col, data=df)\n",
    "    #ax = sns.swarmplot(x=x_col, y=y_col, data=df, color='black')\n",
    "    plt.axhline(color='k', linestyle='--', linewidth=0.5)\n",
    "    plt.ylabel(y_col)\n",
    "    if title:\n",
    "        plt.title(title)\n",
    "        plt.savefig(title+x_col+y_col+'.pdf')"
   ]
  },
  {
   "cell_type": "code",
   "execution_count": null,
   "metadata": {},
   "outputs": [],
   "source": [
    "# variables to slice up df \n",
    "AC = df['area']=='AC'\n",
    "IC = df['area']=='IC'\n",
    "onBF = df['onBF']==True\n",
    "offBF = df['onBF']==False\n",
    "active1 = df['state_chan']=='ACTIVE_1'"
   ]
  },
  {
   "cell_type": "code",
   "execution_count": null,
   "metadata": {},
   "outputs": [],
   "source": [
    "plotme(df[AC & active1], 'experimenter', 'g', title='AC_P0A1')"
   ]
  },
  {
   "cell_type": "code",
   "execution_count": null,
   "metadata": {},
   "outputs": [],
   "source": [
    "plotme(df[AC & onBF & active1], 'experimenter', 'MI', title='AC_onBF_P0A1')"
   ]
  },
  {
   "cell_type": "code",
   "execution_count": null,
   "metadata": {},
   "outputs": [],
   "source": [
    "plotme(df[AC & onBF & active1], 'experimenter', 'g', title='AC_onBF_P0A1')"
   ]
  },
  {
   "cell_type": "code",
   "execution_count": null,
   "metadata": {},
   "outputs": [],
   "source": [
    "plotme(df[IC & onBF & active1], 'task', 'g', title='IC_onBF_P0A1')"
   ]
  },
  {
   "cell_type": "code",
   "execution_count": null,
   "metadata": {},
   "outputs": [],
   "source": [
    "plotme(df[IC & offBF & active1], 'task', 'g', title='IC_offBF_P0A1')"
   ]
  },
  {
   "cell_type": "code",
   "execution_count": null,
   "metadata": {},
   "outputs": [],
   "source": []
  }
 ],
 "metadata": {
  "kernelspec": {
   "display_name": "py36",
   "language": "python",
   "name": "py36"
  },
  "language_info": {
   "codemirror_mode": {
    "name": "ipython",
    "version": 3
   },
   "file_extension": ".py",
   "mimetype": "text/x-python",
   "name": "python",
   "nbconvert_exporter": "python",
   "pygments_lexer": "ipython3",
   "version": "3.6.1"
  }
 },
 "nbformat": 4,
 "nbformat_minor": 2
}
