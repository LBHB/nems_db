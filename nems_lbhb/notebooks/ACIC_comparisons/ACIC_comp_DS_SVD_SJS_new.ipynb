{
 "cells": [
  {
   "cell_type": "markdown",
   "metadata": {},
   "source": [
    "## IC/A1 data per file: comparing datasets\n",
    "#### DS December 2018\n",
    "\n",
    "In this notebook loads the csv files of each batch of data from Daniela's AC and IC tone in noise and tone vs noise data, Sean's IC tone vs noise ferret data, as well asd Stephen's A1 old data reanalized in Slee and David 2015. These data is then merged to information about STRF snr, target frequency, and more tuning info. The goal is to compare MI, gain, and offeset across these data sets.\n",
    "\n",
    "Batches:\n",
    "* **d_AC_307** DS, SU and MU, onBF and offBF\n",
    "* **d_AC_312** SVD, SU and MU, offBF\n",
    "* **d_AC_311** SVD, SU and MU, onBF\n",
    "* **d_IC_313** DS, SU and MU, onBF and offBF, pup and nopup\n",
    "* **d_IC_295** SJS, SU, onBF and offBF"
   ]
  },
  {
   "cell_type": "code",
   "execution_count": null,
   "metadata": {},
   "outputs": [],
   "source": [
    "import os\n",
    "import numpy as np\n",
    "import pandas as pd\n",
    "import math\n",
    "import matplotlib.pyplot as plt\n",
    "import seaborn as sns\n",
    "import re\n",
    "\n",
    "%matplotlib inline\n",
    "os.getcwd()\n",
    "\n",
    "pd.set_option('display.max_rows', 1000)\n",
    "pd.set_option('display.max_columns', 60)"
   ]
  },
  {
   "cell_type": "code",
   "execution_count": null,
   "metadata": {},
   "outputs": [],
   "source": [
    "# AC SU+MU 307 DS' data (onBF and offBF together)\n",
    "# run using beh_only_plot function in mod_per_state.py with state_list = ['st.fil0', 'st.fil'], \n",
    "# basemodel = '-ref-psthfr.s_stategain.S'\n",
    "# loader = 'psth.fs20-ld-'\n",
    "# fitter = '_jk.nf20-basic'\n",
    "# get_model_results_per_state_model ---> returning df and saved on /auto/users/daniela/code/python_ACIC_proj/d_fil_307.csv \n",
    "# 12/18/18 DS\n",
    "d_AC_307 = pd.read_csv('d_fil_307.csv')\n",
    "d_AC_307 = d_AC_307.drop(['Unnamed: 0'], axis=1)\n",
    "d_AC_307['experimenter'] = 'DS'\n",
    "d_AC_307['area'] = 'AC'\n",
    "d_AC_307['onBF'] = 'TBD'\n",
    "d_AC_307['SU'] = False\n",
    "d_AC_307.loc[d_AC_307['isolation']>=90.0, 'SU'] = True\n",
    "d_AC_307['animal'] = d_AC_307['cellid'].map(lambda x: x[:3])\n",
    "d_AC_307['task'] = 'TIN'"
   ]
  },
  {
   "cell_type": "code",
   "execution_count": null,
   "metadata": {},
   "outputs": [],
   "source": [
    "d_AC_307.head()"
   ]
  },
  {
   "cell_type": "code",
   "execution_count": null,
   "metadata": {},
   "outputs": [],
   "source": [
    "# AC 311 SVD's data (onBF only)\n",
    "# run using beh_only_plot function in mod_per_state.py with state_list = ['st.fil0', 'st.fil'], \n",
    "# basemodel = '-ref-psthfr.s_stategain.S'\n",
    "# loader = 'psth.fs20-ld-'\n",
    "# fitter = '_jk.nf20-basic'\n",
    "# get_model_results_per_state_model ---> returning df and saved on /auto/users/daniela/code/python_ACIC_proj/d_fil_311.csv \n",
    "# 12/18/18 DS\n",
    "d_AC_311 = pd.read_csv('d_fil_311.csv')\n",
    "d_AC_311 = d_AC_311.drop(['Unnamed: 0'], axis=1)\n",
    "d_AC_311['onBF'] = True\n",
    "d_AC_311['experimenter'] = 'SVD'\n",
    "d_AC_311['area'] = 'AC'\n",
    "d_AC_311['SU'] = False\n",
    "d_AC_311['animal'] = d_AC_311['cellid'].map(lambda x: x[:3])\n",
    "d_AC_311['task'] = 'TvN'\n",
    "d_AC_311.loc[d_AC_311['isolation']>=90.0, 'SU'] = True"
   ]
  },
  {
   "cell_type": "code",
   "execution_count": null,
   "metadata": {},
   "outputs": [],
   "source": [
    "d_AC_311.head()"
   ]
  },
  {
   "cell_type": "code",
   "execution_count": null,
   "metadata": {},
   "outputs": [],
   "source": [
    "# AC 312 SVD's data offBF only\n",
    "d_AC_312 = pd.read_csv('d_fil_312.csv')\n",
    "d_AC_312 = d_AC_312.drop(['Unnamed: 0'], axis=1)\n",
    "d_AC_312['onBF'] = False\n",
    "d_AC_312['experimenter'] = 'SVD'\n",
    "d_AC_312['area'] = 'AC'\n",
    "d_AC_312['SU'] = False\n",
    "d_AC_312.loc[d_AC_312['isolation']>=90.0, 'SU'] = True\n",
    "d_AC_312['animal'] = d_AC_312['cellid'].map(lambda x: x[:3])\n",
    "d_AC_312['task'] = 'TvN'"
   ]
  },
  {
   "cell_type": "code",
   "execution_count": null,
   "metadata": {},
   "outputs": [],
   "source": [
    "d_AC_312.head()"
   ]
  },
  {
   "cell_type": "code",
   "execution_count": null,
   "metadata": {},
   "outputs": [],
   "source": [
    "# IC SU only 305 DS' data onBF+offBF (pupil+nopupil dataset)\n",
    "d_IC_305 = pd.read_csv('d_fil_305.csv') # run with stategain model on October 31st\n",
    "d_IC_305 = d_IC_305.drop(['Unnamed: 0'], axis=1)\n",
    "d_IC_305['onBF'] = 'TBD'\n",
    "d_IC_305['experimenter'] = 'DS'\n",
    "d_IC_305['area'] = 'IC'\n",
    "d_IC_305['animal'] = d_IC_305['cellid'].map(lambda x: x[:3])\n",
    "d_IC_305['task'] = 'TIN'\n",
    "d_IC_305.loc[d_IC_305['animal']=='ley', 'task'] = 'TvN'\n",
    "d_IC_305['SU'] = True"
   ]
  },
  {
   "cell_type": "code",
   "execution_count": null,
   "metadata": {},
   "outputs": [],
   "source": [
    "d_IC_305.head()"
   ]
  },
  {
   "cell_type": "code",
   "execution_count": null,
   "metadata": {},
   "outputs": [],
   "source": [
    "# IC SU+MU 309 DS' data onBF+offBF (pupil only dataset)\n",
    "d_IC_309 = pd.read_csv('d_fil_309.csv') # run with stategain model on October 31st\n",
    "d_IC_309 = d_IC_309.drop(['Unnamed: 0'], axis=1)\n",
    "d_IC_309['onBF'] = 'TBD'\n",
    "d_IC_309['experimenter'] = 'DS'\n",
    "d_IC_309['area'] = 'IC'\n",
    "d_IC_309['animal'] = d_IC_309['cellid'].map(lambda x: x[:3])\n",
    "d_IC_309['task'] = 'TIN'\n",
    "d_IC_309.loc[d_IC_309['animal']=='ley', 'task'] = 'TvN'\n",
    "d_IC_309['SU'] = False\n",
    "d_IC_309.loc[d_IC_309['isolation']>=90.0, 'SU'] = True"
   ]
  },
  {
   "cell_type": "code",
   "execution_count": null,
   "metadata": {},
   "outputs": [],
   "source": [
    "d_IC_309.head()"
   ]
  },
  {
   "cell_type": "code",
   "execution_count": null,
   "metadata": {},
   "outputs": [],
   "source": [
    "# IC SU+MU 313 DS' data onBF+offBF (pupil+nopupil dataset)\n",
    "d_IC_313 = pd.read_csv('d_fil_313.csv') # run with stategain model on December 31st\n",
    "d_IC_313 = d_IC_313.drop(['Unnamed: 0'], axis=1)\n",
    "d_IC_313['onBF'] = 'TBD'\n",
    "d_IC_313['experimenter'] = 'DS'\n",
    "d_IC_313['area'] = 'IC'\n",
    "d_IC_313['animal'] = d_IC_313['cellid'].map(lambda x: x[:3])\n",
    "d_IC_313['task'] = 'TIN'\n",
    "d_IC_313.loc[d_IC_313['animal']=='ley', 'task'] = 'TvN'\n",
    "d_IC_313['SU'] = False\n",
    "d_IC_313.loc[d_IC_313['isolation']>=90.0, 'SU'] = True"
   ]
  },
  {
   "cell_type": "code",
   "execution_count": null,
   "metadata": {},
   "outputs": [],
   "source": [
    "d_IC_313.tail()"
   ]
  },
  {
   "cell_type": "code",
   "execution_count": null,
   "metadata": {},
   "outputs": [],
   "source": [
    "# IC SU 295 Sean's data \n",
    "d_IC_295 = pd.read_csv('d_295_IC_old.csv')\n",
    "d_IC_295 = d_IC_295.drop(['Unnamed: 0'], axis=1)\n",
    "d_IC_295['onBF'] = 'TBD'\n",
    "d_IC_295['experimenter'] = 'SJS'\n",
    "d_IC_295['animal'] = d_IC_295['cellid'].map(lambda x: x[:3])\n",
    "d_IC_295['area'] = 'IC'\n",
    "d_IC_295['task'] = 'TvN'\n",
    "d_IC_295['SU'] = True"
   ]
  },
  {
   "cell_type": "code",
   "execution_count": null,
   "metadata": {},
   "outputs": [],
   "source": [
    "d_IC_295.head()"
   ]
  },
  {
   "cell_type": "code",
   "execution_count": null,
   "metadata": {},
   "outputs": [],
   "source": [
    "# concat dataframes \n",
    "# d_AC_307 DS, SU and MU, onBF and offBF\n",
    "# d_AC_312 SVD, SU and MU, offBF\n",
    "# d_AC_311 SVD, SU and MU, onBF\n",
    "# d_IC_313 DS, SU and MU, onBF and offBF, pup and nopup\n",
    "# d_IC_295 SJS, SU, onBF and offBF\n",
    "d_all = pd.concat([d_AC_307, d_AC_312, d_AC_311, d_IC_313, d_IC_295], sort=False)"
   ]
  },
  {
   "cell_type": "code",
   "execution_count": null,
   "metadata": {},
   "outputs": [],
   "source": [
    "# add columns with R2\n",
    "d_all['R2'] = d_all['r']**2 * np.sign(d_all['r'])"
   ]
  },
  {
   "cell_type": "code",
   "execution_count": null,
   "metadata": {},
   "outputs": [],
   "source": [
    "d_all.head()"
   ]
  },
  {
   "cell_type": "code",
   "execution_count": null,
   "metadata": {},
   "outputs": [],
   "source": [
    "#d_all[d_all['cellid']=='BRT016f-a1']"
   ]
  },
  {
   "cell_type": "code",
   "execution_count": null,
   "metadata": {},
   "outputs": [],
   "source": [
    "# generated by running get_ptd_tuning in MATLAB and then running struct2csv(cellframe, 'tuning_info_batch_295.csv')\n",
    "# IC data Sean's SU only\n",
    "d_295_strf = pd.read_csv('tuning_info_batch_295.csv')\n",
    "d_295_strf = d_295_strf.drop(['Unnamed: 24'], axis=1)"
   ]
  },
  {
   "cell_type": "code",
   "execution_count": null,
   "metadata": {},
   "outputs": [],
   "source": [
    "d_295_strf.head()"
   ]
  },
  {
   "cell_type": "code",
   "execution_count": null,
   "metadata": {},
   "outputs": [],
   "source": [
    "# generated by running get_ptd_tuning in MATLAB and then running struct2csv(cellframe, 'tuning_info_batch_307.csv')\n",
    "# AC data DS' SU+MU\n",
    "d_307_strf = pd.read_csv('tuning_info_batch_307.csv')\n",
    "d_307_strf = d_307_strf.drop(['Unnamed: 43'], axis=1)"
   ]
  },
  {
   "cell_type": "code",
   "execution_count": null,
   "metadata": {},
   "outputs": [],
   "source": [
    "d_307_strf.head()"
   ]
  },
  {
   "cell_type": "code",
   "execution_count": null,
   "metadata": {},
   "outputs": [],
   "source": [
    "# generated by running get_ptd_tuning in MATLAB and then running struct2csv(cellframe, 'tuning_info_batch_309.csv')\n",
    "# IC data DS' SU (pupil+nopupil dataset)\n",
    "d_305_strf = pd.read_csv('tuning_info_batch_305.csv')\n",
    "d_305_strf = d_305_strf.drop(['Unnamed: 43'], axis=1)"
   ]
  },
  {
   "cell_type": "code",
   "execution_count": null,
   "metadata": {},
   "outputs": [],
   "source": [
    "d_305_strf.head()"
   ]
  },
  {
   "cell_type": "code",
   "execution_count": null,
   "metadata": {},
   "outputs": [],
   "source": [
    "# generated by running get_ptd_tuning in MATLAB and then running struct2csv(cellframe, 'tuning_info_batch_309.csv')\n",
    "# IC data DS' SU+MU (pupil+nopupil dataset)\n",
    "d_313_strf = pd.read_csv('tuning_info_batch_313.csv')\n",
    "d_313_strf = d_313_strf.drop(['Unnamed: 48'], axis=1)"
   ]
  },
  {
   "cell_type": "code",
   "execution_count": null,
   "metadata": {},
   "outputs": [],
   "source": [
    "d_313_strf.head()"
   ]
  },
  {
   "cell_type": "code",
   "execution_count": null,
   "metadata": {},
   "outputs": [],
   "source": [
    "# concat all strf dataframes\n",
    "d_strf = pd.concat([d_295_strf, d_307_strf, d_313_strf], sort=False)"
   ]
  },
  {
   "cell_type": "code",
   "execution_count": null,
   "metadata": {},
   "outputs": [],
   "source": [
    "d_strf.head()"
   ]
  },
  {
   "cell_type": "code",
   "execution_count": null,
   "metadata": {},
   "outputs": [],
   "source": [
    "# merge all into one giant df\n",
    "df = pd.merge(left=d_all, right=d_strf, how='outer', on='cellid')"
   ]
  },
  {
   "cell_type": "code",
   "execution_count": null,
   "metadata": {},
   "outputs": [],
   "source": [
    "# len(d_295_strf[d_295_strf['ACTIVE_0'].isna()])\n",
    "# 64 NAN for ACTIVE_0\n",
    "# 10 not nan for ACTIVE_0  (No pre-passive)"
   ]
  },
  {
   "cell_type": "code",
   "execution_count": null,
   "metadata": {},
   "outputs": [],
   "source": [
    "df.columns"
   ]
  },
  {
   "cell_type": "code",
   "execution_count": null,
   "metadata": {},
   "outputs": [],
   "source": [
    "def fix_TBD_onBF(df):\n",
    "    '''This function takes the monster dataframe and adds True to the column 'onBF' when 'ACTIVE_1_tardist' is\n",
    "    within 0.5 --> half an octave between unit BF and target frequency in ACTIVE 1'''\n",
    "    BF_TBD = (df['onBF']=='TBD')\n",
    "    df.loc[BF_TBD, 'onBF'] = df.loc[BF_TBD, 'ACTIVE_1_tardist'].map(lambda x: abs(x)<=0.5)\n",
    "    return df"
   ]
  },
  {
   "cell_type": "code",
   "execution_count": null,
   "metadata": {},
   "outputs": [],
   "source": [
    "# check before and after applying the func to make sure it works\n",
    "df['onBF'].value_counts()"
   ]
  },
  {
   "cell_type": "code",
   "execution_count": null,
   "metadata": {},
   "outputs": [],
   "source": [
    "df = fix_TBD_onBF(df)"
   ]
  },
  {
   "cell_type": "code",
   "execution_count": null,
   "metadata": {},
   "outputs": [],
   "source": [
    "df['onBF'].value_counts()"
   ]
  },
  {
   "cell_type": "code",
   "execution_count": null,
   "metadata": {},
   "outputs": [],
   "source": [
    "df.head()"
   ]
  },
  {
   "cell_type": "markdown",
   "metadata": {},
   "source": [
    "## Comparisons of gain, offset and MI between datasets"
   ]
  },
  {
   "cell_type": "code",
   "execution_count": null,
   "metadata": {},
   "outputs": [],
   "source": [
    "# variables to slice up df \n",
    "AC = df['area']=='AC'\n",
    "IC = df['area']=='IC'\n",
    "onBF = df['onBF']==True\n",
    "offBF = df['onBF']==False\n",
    "\n",
    "df_fil = df[df['state_sig']=='st.fil']\n",
    "active1 = df_fil['state_chan']=='ACTIVE_1'\n",
    "passive1 = df_fil['state_chan']=='PASSIVE_1'"
   ]
  },
  {
   "cell_type": "code",
   "execution_count": null,
   "metadata": {},
   "outputs": [],
   "source": [
    "def plotme(df, x_col, y_col, title=None, savefigure=False):\n",
    "    #ax = sns.violinplot(x=x_col, y=y_col, data=df)\n",
    "    ax = plt.figure(num=None, figsize=(6,4), dpi=80, facecolor='w', edgecolor='k')\n",
    "    ax = sns.boxplot(x=x_col, y=y_col, data=df)\n",
    "    ax =sns.swarmplot(x=x_col, y=y_col, data=df, color='black')\n",
    "    plt.axhline(color='k', linestyle='--', linewidth=0.5)\n",
    "    plt.ylabel(y_col)\n",
    "    #ax.set_aspect(aspect=0.5)\n",
    "    if title:\n",
    "        plt.title(title)\n",
    "    if savefigure:\n",
    "        plt.savefig(title+x_col+y_col+'.pdf')"
   ]
  },
  {
   "cell_type": "code",
   "execution_count": null,
   "metadata": {},
   "outputs": [],
   "source": [
    "plotme(df[AC & active1], 'animal', 'g', title='AC_P0A1_gain_per_animal')"
   ]
  },
  {
   "cell_type": "code",
   "execution_count": null,
   "metadata": {},
   "outputs": [],
   "source": [
    "plotme(df[AC & active1], 'task', 'g', title='AC_P0A1_gain_per_task')"
   ]
  },
  {
   "cell_type": "code",
   "execution_count": null,
   "metadata": {},
   "outputs": [],
   "source": [
    "plotme(df[AC & active1], 'task', 'd', title='AC_P0A1_offset_per_task')"
   ]
  },
  {
   "cell_type": "code",
   "execution_count": null,
   "metadata": {},
   "outputs": [],
   "source": [
    "plotme(df[AC & active1], 'task', 'MI', title='AC_P0A1_MI_per_task')"
   ]
  },
  {
   "cell_type": "code",
   "execution_count": null,
   "metadata": {},
   "outputs": [],
   "source": [
    "plotme(df[AC & onBF & active1], 'task', 'g', title='AC_onBF_P0A1_gain_per_task')"
   ]
  },
  {
   "cell_type": "code",
   "execution_count": null,
   "metadata": {},
   "outputs": [],
   "source": [
    "plotme(df[AC & onBF & active1], 'task', 'MI', title='AC_onBF_P0A1_MI_per_task')"
   ]
  },
  {
   "cell_type": "code",
   "execution_count": null,
   "metadata": {},
   "outputs": [],
   "source": [
    "plotme(df[AC & offBF & active1], 'task', 'g', title='AC_offBF_P0A1_gain_per_task')"
   ]
  },
  {
   "cell_type": "code",
   "execution_count": null,
   "metadata": {},
   "outputs": [],
   "source": [
    "plotme(df[AC & offBF & active1], 'task', 'd', title='AC_offBF_P0A1_offset_per_task')"
   ]
  },
  {
   "cell_type": "code",
   "execution_count": null,
   "metadata": {},
   "outputs": [],
   "source": [
    "plotme(df[AC & offBF & active1], 'task', 'MI', title='AC_offBF_P0A1_MI_per_task')"
   ]
  },
  {
   "cell_type": "code",
   "execution_count": null,
   "metadata": {},
   "outputs": [],
   "source": [
    "plotme(df[IC & active1], 'animal', 'g', title='IC_P0A1_gain_per_animal')"
   ]
  },
  {
   "cell_type": "code",
   "execution_count": null,
   "metadata": {},
   "outputs": [],
   "source": [
    "plotme(df[IC & passive1], 'animal', 'g', title='IC_P0P1_gain_per_animal')"
   ]
  },
  {
   "cell_type": "code",
   "execution_count": null,
   "metadata": {},
   "outputs": [],
   "source": [
    "plotme(df[IC & active1], 'experimenter', 'g', title='IC_P0A1_gain_per_task')"
   ]
  },
  {
   "cell_type": "code",
   "execution_count": null,
   "metadata": {},
   "outputs": [],
   "source": [
    "plotme(df[IC & active1], 'task', 'MI', title='IC_onBF_P0A1_MI_per_task')"
   ]
  },
  {
   "cell_type": "code",
   "execution_count": null,
   "metadata": {},
   "outputs": [],
   "source": [
    "plotme(df[IC & onBF & active1], 'task', 'g', title='IC_onBF_P0A1_gain_per_task')"
   ]
  },
  {
   "cell_type": "code",
   "execution_count": null,
   "metadata": {},
   "outputs": [],
   "source": [
    "plotme(df[IC & onBF & active1], 'task', 'MI', title='IC_onBF_P0A1_MI_per_task')"
   ]
  },
  {
   "cell_type": "code",
   "execution_count": null,
   "metadata": {},
   "outputs": [],
   "source": [
    "plotme(df[IC & offBF & active1], 'task', 'g', title='IC_offBF_P0A1_gain_per_task')"
   ]
  },
  {
   "cell_type": "code",
   "execution_count": null,
   "metadata": {},
   "outputs": [],
   "source": [
    "plotme(df[IC & offBF & active1], 'task', 'MI', title='IC_offBF_P0A1_MI_per_task')"
   ]
  }
 ],
 "metadata": {
  "kernelspec": {
   "display_name": "py36",
   "language": "python",
   "name": "py36"
  },
  "language_info": {
   "codemirror_mode": {
    "name": "ipython",
    "version": 3
   },
   "file_extension": ".py",
   "mimetype": "text/x-python",
   "name": "python",
   "nbconvert_exporter": "python",
   "pygments_lexer": "ipython3",
   "version": "3.6.1"
  }
 },
 "nbformat": 4,
 "nbformat_minor": 2
}
