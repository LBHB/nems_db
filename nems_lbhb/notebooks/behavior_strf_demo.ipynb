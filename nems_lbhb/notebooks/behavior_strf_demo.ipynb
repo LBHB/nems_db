{
 "cells": [
  {
   "cell_type": "code",
   "execution_count": 1,
   "metadata": {},
   "outputs": [
    {
     "name": "stderr",
     "output_type": "stream",
     "text": [
      "[nems.configs.defaults INFO] Saving log messages to /tmp/nems/NEMS 2020-06-16 113002.log\n"
     ]
    }
   ],
   "source": [
    "%matplotlib inline\n",
    "import os\n",
    "import logging\n",
    "import sys\n",
    "import numpy as np\n",
    "import matplotlib.pyplot as plt\n",
    "\n",
    "import nems\n",
    "import nems.initializers\n",
    "import nems.priors\n",
    "import nems.utils\n",
    "import nems.xforms as xforms\n",
    "import nems.db as nd\n",
    "import nems.recording as recording\n",
    "from nems.xform_helper import fit_model_xform\n",
    "\n",
    "log = logging.getLogger(__name__)"
   ]
  },
  {
   "cell_type": "markdown",
   "metadata": {},
   "source": [
    "### Set basic parameters, file locations ###"
   ]
  },
  {
   "cell_type": "code",
   "execution_count": 2,
   "metadata": {},
   "outputs": [],
   "source": [
    "# Data selection\n",
    "\n",
    "# Choose which site to analyze\n",
    "cellid, rec_file = \"TAR010c\", \"TAR010c_1f7a5c24acefc711c80e42b4d08059ecac4eeab3.tgz\"\n",
    "#cellid, rec_file = \"AMT018a\", \"AMT018a_2ea7a1f3a80e490e8470d7a03510814b6ebd4cbb.tgz\"\n",
    "#cellid, rec_file = \"AMT020a\", \"AMT020a_fde38a46fbfd855091c80b6ecd0f52cc8f8f837e.tgz\"\n",
    "#cellid, rec_file = \"AMT022c\", \"AMT022c_7fef97c8b0bf0838cd9cb83f37b456faf1904243.tgz\"\n",
    "#cellid, rec_file = \"AMT026a\", \"AMT026a_1c008a72f4e36be964f27c7d031a01fe08228f32.tgz\"\n",
    "#cellid, rec_file = \"bbl102d\", \"bbl102d_95a230b1de41cc30a2cf4424d1cb920ee7f1d31e.tgz\"\n",
    "#cellid, rec_file = \"BRT026c\", \"BRT026c_994db62e1c05d764b9d637ffb0e9b58b8d9b5fac.tgz\"\n",
    "#cellid, rec_file = \"BRT033b\", \"BRT033b_205ad9c88882fb9fa4b8841ef4da9a87244b5097.tgz\"\n",
    "#cellid, rec_file = \"BRT036b\", \"BRT036b_19ba8028dfd1c006728af4fa0064a6c6a73acf72.tgz\"\n",
    "#cellid, rec_file = \"BRT037b\", \"BRT037b_efaf9acdfae89c0bca736abb51e4e63670c8bfa4.tgz\"\n",
    "#cellid, rec_file = \"BRT039c\", \"BRT039c_6f37b1f7894408b90895028a77274dd9e8aa028e.tgz\"\n",
    "\n",
    "# choose how to to project the population data\n",
    "projection = 'pc'  # pc/discrim/noise\n",
    "\n",
    "# if using PCA, pick parameters\n",
    "pc_idx = 0  # 0 to (n_cells-1)\n",
    "pc_source = 'psth' # all/psth/noise\n"
   ]
  },
  {
   "cell_type": "code",
   "execution_count": 3,
   "metadata": {},
   "outputs": [
    {
     "name": "stdout",
     "output_type": "stream",
     "text": [
      "Recording URI: /Users/svd/python/nems/recordings/307/TAR010c_1f7a5c24acefc711c80e42b4d08059ecac4eeab3.tgz\n"
     ]
    },
    {
     "data": {
      "text/plain": [
       "{'cellid': [],\n",
       " 'batch': 307,\n",
       " 'modelname': 'wc.15x2-fir.2x8-lvl.1-stategain.3-lvl.1',\n",
       " 'recording': 'TAR010c'}"
      ]
     },
     "execution_count": 3,
     "metadata": {},
     "output_type": "execute_result"
    }
   ],
   "source": [
    "in_lab = (nems.get_setting('SQL_ENGINE')=='mysql')\n",
    "in_lab = False\n",
    "\n",
    "# figure out data and results paths:\n",
    "results_dir = nems.get_setting('NEMS_RESULTS_DIR')\n",
    "recordings_dir = os.path.join(nems.get_setting('NEMS_RECORDINGS_DIR'), \"307\")\n",
    "\n",
    "batch = 307\n",
    "\n",
    "loadkey=\"parm.fs40.pup\"\n",
    "modelspecname = 'wc.15x2-fir.2x8-lvl.1-stategain.3-lvl.1'\n",
    "\n",
    "# full model name (not really used here, but what would be passed to fit_single.py for batching)\n",
    "modelname = \"ld-norm-st.beh.pup-ref_\" + modelspecname + \"_jk.nf8.o-init.tf.n-tf.n\"\n",
    "\n",
    "# state-shuffled model\n",
    "#modelname = \"ld-norm-st.beh0.pup0-ref_\" + modelspecname + \"_jk.nf8.o-init.tf.n-tf.n\"\n",
    "\n",
    "if in_lab:\n",
    "    from nems_lbhb.xform_wrappers import generate_recording_uri\n",
    "    recording_uri = generate_recording_uri(cellid=cellid, batch=307, loadkey=loadkey)\n",
    "else:\n",
    "    recording_uri = os.path.join(recordings_dir, rec_file)\n",
    "\n",
    "load_command = 'nems.demo.loaders.demo_loader'\n",
    "\n",
    "meta = {'cellid': [], 'batch': batch, 'modelname': modelspecname,\n",
    "        'recording': cellid}\n",
    "print(\"Recording URI:\", recording_uri)\n",
    "meta"
   ]
  },
  {
   "cell_type": "code",
   "execution_count": null,
   "metadata": {},
   "outputs": [],
   "source": []
  },
  {
   "cell_type": "code",
   "execution_count": 4,
   "metadata": {},
   "outputs": [
    {
     "name": "stdout",
     "output_type": "stream",
     "text": [
      "['TAR010c-01-1', 'TAR010c-06-1', 'TAR010c-07-1', 'TAR010c-09-1', 'TAR010c-12-1', 'TAR010c-14-1', 'TAR010c-15-1', 'TAR010c-15-2', 'TAR010c-18-1', 'TAR010c-19-1', 'TAR010c-19-2', 'TAR010c-21-1', 'TAR010c-21-2', 'TAR010c-22-1', 'TAR010c-24-1', 'TAR010c-27-1', 'TAR010c-27-2', 'TAR010c-30-1', 'TAR010c-33-1', 'TAR010c-33-2', 'TAR010c-35-1', 'TAR010c-38-1', 'TAR010c-43-1', 'TAR010c-44-1', 'TAR010c-52-1', 'TAR010c-54-1', 'TAR010c-58-1', 'TAR010c-60-1']\n",
      "(28, 133276)\n"
     ]
    },
    {
     "data": {
      "text/plain": [
       "{'resp': <nems.signal.PointProcess at 0x11a759710>,\n",
       " 'stim': <nems.signal.TiledSignal at 0x11a764128>,\n",
       " 'pupil': <nems.signal.RasterizedSignal at 0x11a7644a8>,\n",
       " 'rem': <nems.signal.RasterizedSignal at 0x11a764860>}"
      ]
     },
     "execution_count": 4,
     "metadata": {},
     "output_type": "execute_result"
    }
   ],
   "source": [
    "rec = recording.load_recording(recording_uri)\n",
    "print(rec['resp'].chans)\n",
    "print(rec['resp'].shape)\n",
    "rec.signals"
   ]
  },
  {
   "cell_type": "markdown",
   "metadata": {},
   "source": [
    "### DATA LOADING & PRE-PROCESSING"
   ]
  },
  {
   "cell_type": "code",
   "execution_count": 5,
   "metadata": {},
   "outputs": [],
   "source": [
    "# standard syntax \n",
    "# ctx = xforms.evaluate_step((command,tuple), ctx)\n"
   ]
  },
  {
   "cell_type": "code",
   "execution_count": 6,
   "metadata": {},
   "outputs": [
    {
     "name": "stderr",
     "output_type": "stream",
     "text": [
      "[nems.xforms INFO] Evaluating: nems.xforms.init_context\n"
     ]
    }
   ],
   "source": [
    "#    'cellid': [],\n",
    "ctx0 = {'cellid': cellid,\n",
    "   'batch': batch,\n",
    "   'keywordstring': modelname.split(\"_\")[1],\n",
    "   'meta': {'batch': batch,\n",
    "    'siteid': cellid,\n",
    "    'modelname': modelname,\n",
    "    'loader': modelname.split(\"_\")[0],\n",
    "    'fitkey': modelname.split(\"_\")[2],\n",
    "    'modelspecname': modelname.split(\"_\")[1],\n",
    "    'username': 'nems',\n",
    "    'labgroup': 'lbhb',\n",
    "    'public': 1,\n",
    "    'githash': '',\n",
    "    'recording': modelname.split(\"_\")[0]},\n",
    "   'recording_uri_list': [recording_uri]}\n",
    "ctx=xforms.evaluate_step(['nems.xforms.init_context',ctx0])\n",
    "\n",
    "# equivalent, less weird command:\n",
    "# ctx = ctx0.copy()\n"
   ]
  },
  {
   "cell_type": "code",
   "execution_count": 7,
   "metadata": {},
   "outputs": [
    {
     "name": "stderr",
     "output_type": "stream",
     "text": [
      "[nems.xforms INFO] xf argument recording_uri_list overlaps with existing context key: nems.xforms.load_recordings\n",
      "[nems.xforms INFO] Evaluating: nems.xforms.load_recordings\n",
      "[nems.xforms INFO] Extracting cellid(s) TAR010c\n",
      "[nems.preprocessing INFO] Adding to epoch_onsets: TRIAL with shift = 0\n"
     ]
    }
   ],
   "source": [
    "ctx=xforms.evaluate_step(['nems.xforms.load_recordings', {'recording_uri_list': [recording_uri]}], ctx)\n",
    "\n",
    "# equivalent, less weird command:\n",
    "# ctx.update(xforms.load_recordings(recording_uri_list=[recording_uri], **ctx))\n"
   ]
  },
  {
   "cell_type": "code",
   "execution_count": 8,
   "metadata": {},
   "outputs": [
    {
     "name": "stderr",
     "output_type": "stream",
     "text": [
      "[nems.xforms INFO] Evaluating: nems.xforms.normalize_sig\n",
      "[nems.xforms INFO] Evaluating: nems.xforms.normalize_sig\n"
     ]
    }
   ],
   "source": [
    "# normalize stim and response to range (0,1)\n",
    "ctx=xforms.evaluate_step(['nems.xforms.normalize_sig', {'sig': 'stim', 'norm_method': 'minmax'}], ctx)\n",
    "ctx=xforms.evaluate_step(['nems.xforms.normalize_sig', {'sig': 'resp', 'norm_method': 'minmax'}], ctx)"
   ]
  },
  {
   "cell_type": "code",
   "execution_count": 9,
   "metadata": {},
   "outputs": [
    {
     "name": "stdout",
     "output_type": "stream",
     "text": [
      "ld-norm-st.beh.pup-ref_wc.15x2-fir.2x8-lvl.1-stategain.3-lvl.1_jk.nf8.o-init.tf.n-tf.n\n"
     ]
    },
    {
     "data": {
      "text/html": [
       "<div>\n",
       "<style scoped>\n",
       "    .dataframe tbody tr th:only-of-type {\n",
       "        vertical-align: middle;\n",
       "    }\n",
       "\n",
       "    .dataframe tbody tr th {\n",
       "        vertical-align: top;\n",
       "    }\n",
       "\n",
       "    .dataframe thead th {\n",
       "        text-align: right;\n",
       "    }\n",
       "</style>\n",
       "<table border=\"1\" class=\"dataframe\">\n",
       "  <thead>\n",
       "    <tr style=\"text-align: right;\">\n",
       "      <th></th>\n",
       "      <th>start</th>\n",
       "      <th>end</th>\n",
       "      <th>name</th>\n",
       "    </tr>\n",
       "  </thead>\n",
       "  <tbody>\n",
       "    <tr>\n",
       "      <th>0</th>\n",
       "      <td>0.000</td>\n",
       "      <td>1442.200</td>\n",
       "      <td>ACTIVE_EXPERIMENT</td>\n",
       "    </tr>\n",
       "    <tr>\n",
       "      <th>1</th>\n",
       "      <td>0.000</td>\n",
       "      <td>1442.200</td>\n",
       "      <td>FILE_TAR010c09_a_PTD</td>\n",
       "    </tr>\n",
       "    <tr>\n",
       "      <th>2</th>\n",
       "      <td>0.000</td>\n",
       "      <td>1442.200</td>\n",
       "      <td>PURETONE_BEHAVIOR</td>\n",
       "    </tr>\n",
       "    <tr>\n",
       "      <th>3</th>\n",
       "      <td>0.000</td>\n",
       "      <td>13.475</td>\n",
       "      <td>TRIAL</td>\n",
       "    </tr>\n",
       "    <tr>\n",
       "      <th>4</th>\n",
       "      <td>0.000</td>\n",
       "      <td>13.475</td>\n",
       "      <td>FA_TRIAL</td>\n",
       "    </tr>\n",
       "    <tr>\n",
       "      <th>...</th>\n",
       "      <td>...</td>\n",
       "      <td>...</td>\n",
       "      <td>...</td>\n",
       "    </tr>\n",
       "    <tr>\n",
       "      <th>4697</th>\n",
       "      <td>3329.450</td>\n",
       "      <td>3331.900</td>\n",
       "      <td>TARGET</td>\n",
       "    </tr>\n",
       "    <tr>\n",
       "      <th>4698</th>\n",
       "      <td>3329.450</td>\n",
       "      <td>3331.900</td>\n",
       "      <td>TAR_500</td>\n",
       "    </tr>\n",
       "    <tr>\n",
       "      <th>4699</th>\n",
       "      <td>3329.450</td>\n",
       "      <td>3329.800</td>\n",
       "      <td>PreStimSilence</td>\n",
       "    </tr>\n",
       "    <tr>\n",
       "      <th>4700</th>\n",
       "      <td>3330.550</td>\n",
       "      <td>3331.900</td>\n",
       "      <td>PostStimSilence</td>\n",
       "    </tr>\n",
       "    <tr>\n",
       "      <th>4701</th>\n",
       "      <td>3012.025</td>\n",
       "      <td>3331.900</td>\n",
       "      <td>POST_PASSIVE</td>\n",
       "    </tr>\n",
       "  </tbody>\n",
       "</table>\n",
       "<p>4702 rows × 3 columns</p>\n",
       "</div>"
      ],
      "text/plain": [
       "         start       end                  name\n",
       "0        0.000  1442.200     ACTIVE_EXPERIMENT\n",
       "1        0.000  1442.200  FILE_TAR010c09_a_PTD\n",
       "2        0.000  1442.200     PURETONE_BEHAVIOR\n",
       "3        0.000    13.475                 TRIAL\n",
       "4        0.000    13.475              FA_TRIAL\n",
       "...        ...       ...                   ...\n",
       "4697  3329.450  3331.900                TARGET\n",
       "4698  3329.450  3331.900               TAR_500\n",
       "4699  3329.450  3329.800        PreStimSilence\n",
       "4700  3330.550  3331.900       PostStimSilence\n",
       "4701  3012.025  3331.900          POST_PASSIVE\n",
       "\n",
       "[4702 rows x 3 columns]"
      ]
     },
     "execution_count": 9,
     "metadata": {},
     "output_type": "execute_result"
    }
   ],
   "source": [
    "print(modelname)\n",
    "ctx['rec']['resp'].epochs"
   ]
  },
  {
   "cell_type": "code",
   "execution_count": 10,
   "metadata": {},
   "outputs": [
    {
     "name": "stderr",
     "output_type": "stream",
     "text": [
      "[nems.xforms INFO] Evaluating: nems.xforms.make_state_signal\n"
     ]
    }
   ],
   "source": [
    "# make state signal consisting of pupil diameter and active/passive condition\n",
    "if 'st.beh.pup-' in modelname:\n",
    "    ctx=xforms.evaluate_step(['nems.xforms.make_state_signal',\n",
    "      {'state_signals': ['active', 'pupil'],\n",
    "       'permute_signals': [],\n",
    "       'new_signalname': 'state'}], ctx)\n",
    "else:\n",
    "    # shuffle state variables\n",
    "    ctx=xforms.evaluate_step(['nems.xforms.make_state_signal',\n",
    "      {'state_signals': ['active', 'pupil'],\n",
    "       'permute_signals': ['active', 'pupil'],\n",
    "       'new_signalname': 'state'}], ctx)\n"
   ]
  },
  {
   "cell_type": "code",
   "execution_count": 11,
   "metadata": {},
   "outputs": [
    {
     "name": "stderr",
     "output_type": "stream",
     "text": [
      "[nems.xforms INFO] Evaluating: nems.xforms.mask_all_but_correct_references\n"
     ]
    },
    {
     "data": {
      "text/plain": [
       "[<matplotlib.lines.Line2D at 0x1c45b059b0>]"
      ]
     },
     "execution_count": 11,
     "metadata": {},
     "output_type": "execute_result"
    },
    {
     "data": {
      "image/png": "[encoded data removed]",
      "text/plain": [
       "<Figure size 864x216 with 1 Axes>"
      ]
     },
     "metadata": {
      "needs_background": "light"
     },
     "output_type": "display_data"
    }
   ],
   "source": [
    "# mask out incorrect trials and target\n",
    "ctx=xforms.evaluate_step(['nems.xforms.mask_all_but_correct_references',\n",
    "  {'balance_rep_count': False,\n",
    "   'include_incorrect': False,\n",
    "   'generate_evoked_mask': False}], ctx)\n",
    "\n",
    "plt.figure(figsize=(12,3))\n",
    "plt.plot(ctx['rec']['state'].as_continuous()[1:2,:].T+1.1)\n",
    "plt.plot(ctx['rec']['mask'].as_continuous().T)\n"
   ]
  },
  {
   "cell_type": "code",
   "execution_count": 12,
   "metadata": {},
   "outputs": [
    {
     "data": {
      "text/plain": [
       "(28, 133276)"
      ]
     },
     "execution_count": 12,
     "metadata": {},
     "output_type": "execute_result"
    }
   ],
   "source": [
    "ctx['rec']['resp'].shape\n"
   ]
  },
  {
   "cell_type": "code",
   "execution_count": 13,
   "metadata": {},
   "outputs": [
    {
     "name": "stderr",
     "output_type": "stream",
     "text": [
      "[nems.xforms INFO] Evaluating: nems.preprocessing.resp_to_pc\n",
      "[nems.preprocessing INFO] generating PSTHs for 30 epochs\n"
     ]
    },
    {
     "name": "stdout",
     "output_type": "stream",
     "text": [
      "(28, 133276)\n",
      "(28, 133276)\n"
     ]
    },
    {
     "data": {
      "text/plain": [
       "\"\\npc_power= np.nanstd(ctx['rec']['pca'].as_continuous(), axis=1)\\npc0 = ctx['rec']['resp'].as_continuous()[0,:]\\n#plt.figure();plt.plot(pc_power);\\nplt.figure();plt.plot(pc0[:1000]);\\nplt.ylabel(ctx['rec']['resp'].chans[0])\\n\""
      ]
     },
     "execution_count": 13,
     "metadata": {},
     "output_type": "execute_result"
    }
   ],
   "source": [
    "pc_sig='pca'\n",
    "xfa = ['nems.preprocessing.resp_to_pc', {'pc_idx': pc_idx, 'pc_sig': pc_sig, 'overwrite_resp': False, 'pc_source': pc_source}]\n",
    "#resp_to_pc(rec, pc_idx=[pc_idx], resp_sig='resp', pc_sig='pca',\n",
    "#               pc_count=None, pc_source='all', overwrite_resp=True,\n",
    "#               compute_power='no', whiten=True, **context)\n",
    "\n",
    "ctx=xforms.evaluate_step(xfa, ctx)\n",
    "#ctx['rec'][pc_sig].chans=[f'PC_{pc_source}_{pc_idx}']\n",
    "\n",
    "print(ctx['rec']['resp'].shape)\n",
    "#print(ctx2['rec']['resp'].chans)\n",
    "print(ctx['rec']['pca'].shape)\n",
    "\n",
    "\"\"\"\n",
    "pc_power= np.nanstd(ctx['rec']['pca'].as_continuous(), axis=1)\n",
    "pc0 = ctx['rec']['resp'].as_continuous()[0,:]\n",
    "#plt.figure();plt.plot(pc_power);\n",
    "plt.figure();plt.plot(pc0[:1000]);\n",
    "plt.ylabel(ctx['rec']['resp'].chans[0])\n",
    "\"\"\""
   ]
  },
  {
   "cell_type": "code",
   "execution_count": 14,
   "metadata": {},
   "outputs": [
    {
     "data": {
      "text/plain": [
       "(28, 133276)"
      ]
     },
     "execution_count": 14,
     "metadata": {},
     "output_type": "execute_result"
    }
   ],
   "source": [
    "ctx['rec']['pca'].shape"
   ]
  },
  {
   "cell_type": "code",
   "execution_count": 15,
   "metadata": {},
   "outputs": [
    {
     "data": {
      "text/plain": [
       "{'resp': <nems.signal.RasterizedSignal at 0x1c4702c908>,\n",
       " 'stim': <nems.signal.RasterizedSignal at 0x1c4702cd68>,\n",
       " 'pupil': <nems.signal.RasterizedSignal at 0x1c4702c4e0>,\n",
       " 'rem': <nems.signal.RasterizedSignal at 0x1c47005f60>,\n",
       " 'epoch_onsets': <nems.signal.RasterizedSignal at 0x1c4700b438>,\n",
       " 'pupil_raw': <nems.signal.RasterizedSignal at 0x1c4700b9e8>,\n",
       " 'active': <nems.signal.RasterizedSignal at 0x1c4700ba90>,\n",
       " 'state': <nems.signal.RasterizedSignal at 0x1c4700bc50>,\n",
       " 'state_raw': <nems.signal.RasterizedSignal at 0x1c47049710>,\n",
       " 'mask': <nems.signal.RasterizedSignal at 0x1c47049a90>,\n",
       " 'pca': <nems.signal.RasterizedSignal at 0x1c47063320>,\n",
       " 'noise_projection': <nems.signal.RasterizedSignal at 0x1c453c7f98>,\n",
       " 'TARGET_vs_REFERENCE_projection': <nems.signal.RasterizedSignal at 0x1c4706b128>}"
      ]
     },
     "execution_count": 15,
     "metadata": {},
     "output_type": "execute_result"
    }
   ],
   "source": [
    "import nems_lbhb.dimensionality_reduction as dr\n",
    "\n",
    "# ==================  add signal with projection of resp onto the noise axis =============================\n",
    "r=ctx['rec'].copy()\n",
    "\n",
    "# remove existing mask\n",
    "del r.signals['mask']\n",
    "\n",
    "# mask passive trials, correct trials, miss trials. Keep all ref and target\n",
    "r = r.and_mask(['PASSIVE_EXPERIMENT', 'HIT_TRIAL', 'MISS_TRIAL'])\n",
    "\n",
    "# ==================  add signal with projection of resp onto the noise axis =============================\n",
    "r = dr.get_noise_projection(r, epochs=None, collapse=True)\n",
    "r = dr.get_discrimination_projection(r, epoch1='TARGET', epoch2='REFERENCE', collapse=True)\n",
    "\n",
    "ctx['rec']['noise_projection']=r['noise_projection']\n",
    "ctx['rec']['TARGET_vs_REFERENCE_projection']=r['TARGET_vs_REFERENCE_projection']\n",
    "\n",
    "ctx['rec'].signals"
   ]
  },
  {
   "cell_type": "code",
   "execution_count": null,
   "metadata": {},
   "outputs": [],
   "source": []
  },
  {
   "cell_type": "code",
   "execution_count": 16,
   "metadata": {},
   "outputs": [
    {
     "data": {
      "text/plain": [
       "['PC0']"
      ]
     },
     "execution_count": 16,
     "metadata": {},
     "output_type": "execute_result"
    },
    {
     "data": {
      "image/png": "[encoded data removed]",
      "text/plain": [
       "<Figure size 1296x216 with 1 Axes>"
      ]
     },
     "metadata": {
      "needs_background": "light"
     },
     "output_type": "display_data"
    }
   ],
   "source": [
    "plt.figure(figsize=(18,3))\n",
    "plt.plot(ctx['rec']['resp'].as_continuous()[0,:])\n",
    "\n",
    "if projection == \"discrim\":\n",
    "    ctx['rec']['resp'] = ctx['rec']['TARGET_vs_REFERENCE_projection']\n",
    "elif projection == \"noise\":\n",
    "    ctx['rec']['resp'] = ctx['rec']['noise_projection']\n",
    "elif projection == \"pc\":\n",
    "    ctx['rec']['resp'] = ctx['rec'][pc_sig].extract_channels(chans=[f'PC{pc_idx}'])\n",
    "else:\n",
    "    raise ValueError(f\"unknown projection {projection}\")\n",
    "    \n",
    "plt.plot(ctx['rec']['resp'].as_continuous().T)\n",
    "ctx['rec']['resp'].chans"
   ]
  },
  {
   "cell_type": "code",
   "execution_count": null,
   "metadata": {},
   "outputs": [],
   "source": []
  },
  {
   "cell_type": "code",
   "execution_count": 17,
   "metadata": {},
   "outputs": [
    {
     "name": "stderr",
     "output_type": "stream",
     "text": [
      "[nems.xforms INFO] Evaluating: nems.xforms.init_from_keywords\n",
      "[nems.initializers INFO] kw: wc.15x2\n",
      "[nems.initializers INFO] kw: fir.2x8\n",
      "[nems.initializers INFO] kw: lvl.1\n",
      "[nems.initializers INFO] kw: stategain.3\n",
      "[nems.initializers INFO] kw: lvl.1\n",
      "[nems.initializers INFO] Setting modelspec[0] input to stim\n",
      "[nems.utils INFO] model save destination: /Users/svd/python/nems/results/307/TAR010c/ld-norm-st.beh.pup-ref.wc.15x2-fir.2x8-lvl.1-stategain.3-lvl.1.jk.nf8.o-init.tf.n-tf.n.2020-06-16T183231\n"
     ]
    },
    {
     "data": {
      "text/plain": [
       "[{'coefficients': array([[0.02, 0.02, 0.02, 0.02, 0.02, 0.02, 0.02, 0.01, 0.01, 0.01, 0.01,\n",
       "          0.01, 0.01, 0.01, 0.01],\n",
       "         [0.01, 0.01, 0.01, 0.01, 0.01, 0.01, 0.01, 0.02, 0.02, 0.02, 0.02,\n",
       "          0.02, 0.02, 0.02, 0.02]])},\n",
       " {'coefficients': array([[ 0.  ,  0.1 , -0.05,  0.  ,  0.  ,  0.  ,  0.  ,  0.  ],\n",
       "         [ 0.  ,  0.1 , -0.05,  0.  ,  0.  ,  0.  ,  0.  ,  0.  ]])},\n",
       " {'level': array([[0.]])},\n",
       " {'g': array([[1., 0., 0.]]), 'd': array([[0., 0., 0.]])},\n",
       " {'level': array([[0.]])}]"
      ]
     },
     "execution_count": 17,
     "metadata": {},
     "output_type": "execute_result"
    }
   ],
   "source": [
    "ctx=xforms.evaluate_step(['nems.xforms.init_from_keywords', {}], ctx)\n",
    "\n",
    "ctx['modelspec'].phi"
   ]
  },
  {
   "cell_type": "code",
   "execution_count": 18,
   "metadata": {},
   "outputs": [
    {
     "name": "stderr",
     "output_type": "stream",
     "text": [
      "[nems.xforms INFO] Evaluating: nems.xforms.mask_for_jackknife\n",
      "[nems.xforms INFO] Evaluating: nems.xforms.jack_subset\n"
     ]
    }
   ],
   "source": [
    "ctx=xforms.evaluate_step(['nems.xforms.mask_for_jackknife',\n",
    "  {'allow_partial_epochs': False, 'njacks': 8}], ctx)\n",
    "ctx=xforms.evaluate_step(['nems.xforms.jack_subset', {'keep_only': 1}], ctx)"
   ]
  },
  {
   "cell_type": "code",
   "execution_count": 19,
   "metadata": {
    "scrolled": true
   },
   "outputs": [
    {
     "name": "stderr",
     "output_type": "stream",
     "text": [
      "[nems.xforms INFO] Evaluating: nems.xforms.fit_wrapper\n",
      "[nems.xforms INFO] ----------------------------------------------------\n",
      "[nems.xforms INFO] Fitting: nems.tf.cnnlink.fit_tf_init, fit 1/1, fold 1/1\n",
      "[nems.tf.cnnlink INFO] target_module: ['levelshift', 'relu'] found at modelspec[2].\n",
      "[nems.tf.cnnlink INFO] Mod 2 (nems.modules.levelshift.levelshift) fixing level to resp mean -1.042\n",
      "[nems.tf.cnnlink INFO] resp has 1 channels\n",
      "[nems.tf.cnnlink INFO] Mod 4 (nems.modules.levelshift.levelshift) fixing level to resp mean -1.042\n",
      "[nems.tf.cnnlink INFO] resp has 1 channels\n",
      "[nems.tf.cnnlink INFO] nems.modules.weight_channels.basic\n",
      "nems.modules.fir.basic\n",
      "nems.modules.levelshift.levelshift\n",
      "[nems.tf.cnnlink INFO] seed for this fit: 100\n",
      "[nems.tf.cnnlink INFO] feat_dims: (314, 58, 15)\n",
      "[nems.tf.cnnlink INFO] data_dims: (314, 58, 1)\n",
      "[nems.tf.cnnlink INFO] rand seed for intialization: 100\n",
      "[nems.modelspec INFO] Modelspec2tf: nems.modules.weight_channels.basic\n",
      "[tensorflow WARNING] From /Users/svd/anaconda/envs/nems/lib/python3.6/site-packages/tensorflow_core/python/ops/resource_variable_ops.py:1630: calling BaseResourceVariable.__init__ (from tensorflow.python.ops.resource_variable_ops) with constraint is deprecated and will be removed in a future version.\n",
      "Instructions for updating:\n",
      "If using Keras pass *_constraint arguments to layers.\n",
      "[nems.modelspec INFO] Modelspec2tf: nems.modules.fir.basic\n",
      "[nems.modelspec INFO] Modelspec2tf: nems.modules.levelshift.levelshift\n",
      "[nems.tf.cnn INFO] Initializing net: setting output, loss, optimizer, globals, tf session\n",
      "[nems.tf.cnn INFO] Training with batch_size=314, LR=0.01, max_iter=10000, early_stopping_steps=5, early_stopping_tolerance=1e-05, optimizer=Adam.\n",
      "[nems.tf.cnn INFO] Initial loss=1.1727862\n",
      "[nems.tf.cnn INFO] 0000 loss=1.1608843, delta=+0.0000000\n",
      "[nems.tf.cnn INFO] 0030 loss=0.9474863, delta=-0.2133979\n",
      "[nems.tf.cnn INFO] 0060 loss=0.9351206, delta=-0.0123657\n",
      "[nems.tf.cnn INFO] 0090 loss=0.9262682, delta=-0.0088524\n",
      "[nems.tf.cnn INFO] 0120 loss=0.9196782, delta=-0.0065901\n",
      "[nems.tf.cnn INFO] 0150 loss=0.9178869, delta=-0.0017913\n",
      "[nems.tf.cnn INFO] 0180 loss=0.9173214, delta=-0.0005655\n",
      "[nems.tf.cnn INFO] 0210 loss=0.9168697, delta=-0.0004517\n",
      "[nems.tf.cnn INFO] 0240 loss=0.9165240, delta=-0.0003457\n",
      "[nems.tf.cnn INFO] 0270 loss=0.9162637, delta=-0.0002603\n",
      "[nems.tf.cnn INFO] 0300 loss=0.9160698, delta=-0.0001939\n",
      "[nems.tf.cnn INFO] 0330 loss=0.9159259, delta=-0.0001439\n",
      "[nems.tf.cnn INFO] 0360 loss=0.9158185, delta=-0.0001075\n",
      "[nems.tf.cnn INFO] 0390 loss=0.9157372, delta=-0.0000812\n",
      "[nems.tf.cnn INFO] 0420 loss=0.9156741, delta=-0.0000631\n",
      "[nems.tf.cnn INFO] 0450 loss=0.9156240, delta=-0.0000502\n",
      "[nems.tf.cnn INFO] 0480 loss=0.9155822, delta=-0.0000417\n",
      "[nems.tf.cnn INFO] 0510 loss=0.9155463, delta=-0.0000359\n",
      "[nems.tf.cnn INFO] 0540 loss=0.9155141, delta=-0.0000322\n",
      "[nems.tf.cnn INFO] 0570 loss=0.9154844, delta=-0.0000297\n",
      "[nems.tf.cnn INFO] 0600 loss=0.9154561, delta=-0.0000283\n",
      "[nems.tf.cnn INFO] 0630 loss=0.9154287, delta=-0.0000274\n",
      "[nems.tf.cnn INFO] 0660 loss=0.9154013, delta=-0.0000274\n",
      "[nems.tf.cnn INFO] 0690 loss=0.9153727, delta=-0.0000287\n",
      "[nems.tf.cnn INFO] 0720 loss=0.9153424, delta=-0.0000303\n",
      "[nems.tf.cnn INFO] 0750 loss=0.9153090, delta=-0.0000334\n",
      "[nems.tf.cnn INFO] 0780 loss=0.9152713, delta=-0.0000377\n",
      "[nems.tf.cnn INFO] 0810 loss=0.9152260, delta=-0.0000453\n",
      "[nems.tf.cnn INFO] 0840 loss=0.9151693, delta=-0.0000567\n",
      "[nems.tf.cnn INFO] 0870 loss=0.9150950, delta=-0.0000743\n",
      "[nems.tf.cnn INFO] 0900 loss=0.9149933, delta=-0.0001017\n",
      "[nems.tf.cnn INFO] 0930 loss=0.9148503, delta=-0.0001431\n",
      "[nems.tf.cnn INFO] 0960 loss=0.9146454, delta=-0.0002049\n",
      "[nems.tf.cnn INFO] 0990 loss=0.9143543, delta=-0.0002911\n",
      "[nems.tf.cnn INFO] 1020 loss=0.9139510, delta=-0.0004033\n",
      "[nems.tf.cnn INFO] 1050 loss=0.9134262, delta=-0.0005248\n",
      "[nems.tf.cnn INFO] 1080 loss=0.9128082, delta=-0.0006180\n",
      "[nems.tf.cnn INFO] 1110 loss=0.9121768, delta=-0.0006314\n",
      "[nems.tf.cnn INFO] 1140 loss=0.9116378, delta=-0.0005390\n",
      "[nems.tf.cnn INFO] 1170 loss=0.9112562, delta=-0.0003816\n",
      "[nems.tf.cnn INFO] 1200 loss=0.9110203, delta=-0.0002359\n",
      "[nems.tf.cnn INFO] 1230 loss=0.9108766, delta=-0.0001436\n",
      "[nems.tf.cnn INFO] 1260 loss=0.9107790, delta=-0.0000976\n",
      "[nems.tf.cnn INFO] 1290 loss=0.9107025, delta=-0.0000765\n",
      "[nems.tf.cnn INFO] 1320 loss=0.9106366, delta=-0.0000659\n",
      "[nems.tf.cnn INFO] 1350 loss=0.9105772, delta=-0.0000594\n",
      "[nems.tf.cnn INFO] 1380 loss=0.9105216, delta=-0.0000556\n",
      "[nems.tf.cnn INFO] 1410 loss=0.9104688, delta=-0.0000528\n",
      "[nems.tf.cnn INFO] 1440 loss=0.9104182, delta=-0.0000507\n",
      "[nems.tf.cnn INFO] 1470 loss=0.9103692, delta=-0.0000489\n",
      "[nems.tf.cnn INFO] 1500 loss=0.9103213, delta=-0.0000479\n",
      "[nems.tf.cnn INFO] 1530 loss=0.9102746, delta=-0.0000467\n",
      "[nems.tf.cnn INFO] 1560 loss=0.9102289, delta=-0.0000457\n",
      "[nems.tf.cnn INFO] 1590 loss=0.9101838, delta=-0.0000451\n",
      "[nems.tf.cnn INFO] 1620 loss=0.9101397, delta=-0.0000442\n",
      "[nems.tf.cnn INFO] 1650 loss=0.9100965, delta=-0.0000432\n",
      "[nems.tf.cnn INFO] 1680 loss=0.9100536, delta=-0.0000430\n",
      "[nems.tf.cnn INFO] 1710 loss=0.9100114, delta=-0.0000421\n",
      "[nems.tf.cnn INFO] 1740 loss=0.9099700, delta=-0.0000414\n",
      "[nems.tf.cnn INFO] 1770 loss=0.9099293, delta=-0.0000407\n",
      "[nems.tf.cnn INFO] 1800 loss=0.9098891, delta=-0.0000402\n",
      "[nems.tf.cnn INFO] 1830 loss=0.9098496, delta=-0.0000395\n",
      "[nems.tf.cnn INFO] 1860 loss=0.9098110, delta=-0.0000386\n",
      "[nems.tf.cnn INFO] 1890 loss=0.9097726, delta=-0.0000384\n",
      "[nems.tf.cnn INFO] 1920 loss=0.9097352, delta=-0.0000374\n",
      "[nems.tf.cnn INFO] 1950 loss=0.9096983, delta=-0.0000369\n",
      "[nems.tf.cnn INFO] 1980 loss=0.9096623, delta=-0.0000360\n",
      "[nems.tf.cnn INFO] 2010 loss=0.9096267, delta=-0.0000356\n",
      "[nems.tf.cnn INFO] 2040 loss=0.9095918, delta=-0.0000349\n",
      "[nems.tf.cnn INFO] 2070 loss=0.9095576, delta=-0.0000342\n",
      "[nems.tf.cnn INFO] 2100 loss=0.9095241, delta=-0.0000335\n",
      "[nems.tf.cnn INFO] 2130 loss=0.9094911, delta=-0.0000330\n",
      "[nems.tf.cnn INFO] 2160 loss=0.9094588, delta=-0.0000323\n",
      "[nems.tf.cnn INFO] 2190 loss=0.9094274, delta=-0.0000314\n",
      "[nems.tf.cnn INFO] 2220 loss=0.9093965, delta=-0.0000309\n",
      "[nems.tf.cnn INFO] 2250 loss=0.9093664, delta=-0.0000300\n",
      "[nems.tf.cnn INFO] 2280 loss=0.9093369, delta=-0.0000295\n",
      "[nems.tf.cnn INFO] 2310 loss=0.9093081, delta=-0.0000288\n",
      "[nems.tf.cnn INFO] 2340 loss=0.9092799, delta=-0.0000281\n",
      "[nems.tf.cnn INFO] 2370 loss=0.9092528, delta=-0.0000272\n",
      "[nems.tf.cnn INFO] 2400 loss=0.9092260, delta=-0.0000268\n",
      "[nems.tf.cnn INFO] 2430 loss=0.9092003, delta=-0.0000257\n",
      "[nems.tf.cnn INFO] 2460 loss=0.9091748, delta=-0.0000255\n",
      "[nems.tf.cnn INFO] 2490 loss=0.9091501, delta=-0.0000247\n",
      "[nems.tf.cnn INFO] 2520 loss=0.9091260, delta=-0.0000240\n",
      "[nems.tf.cnn INFO] 2550 loss=0.9091029, delta=-0.0000232\n",
      "[nems.tf.cnn INFO] 2580 loss=0.9090807, delta=-0.0000222\n",
      "[nems.tf.cnn INFO] 2610 loss=0.9090589, delta=-0.0000218\n",
      "[nems.tf.cnn INFO] 2640 loss=0.9090377, delta=-0.0000212\n",
      "[nems.tf.cnn INFO] 2670 loss=0.9090176, delta=-0.0000201\n",
      "[nems.tf.cnn INFO] 2700 loss=0.9089980, delta=-0.0000197\n",
      "[nems.tf.cnn INFO] 2730 loss=0.9089788, delta=-0.0000191\n",
      "[nems.tf.cnn INFO] 2760 loss=0.9089606, delta=-0.0000182\n",
      "[nems.tf.cnn INFO] 2790 loss=0.9089432, delta=-0.0000175\n",
      "[nems.tf.cnn INFO] 2820 loss=0.9089263, delta=-0.0000169\n",
      "[nems.tf.cnn INFO] 2850 loss=0.9089102, delta=-0.0000162\n",
      "[nems.tf.cnn INFO] 2880 loss=0.9088944, delta=-0.0000157\n",
      "[nems.tf.cnn INFO] 2910 loss=0.9088799, delta=-0.0000145\n",
      "[nems.tf.cnn INFO] 2940 loss=0.9088653, delta=-0.0000145\n",
      "[nems.tf.cnn INFO] 2970 loss=0.9088538, delta=-0.0000115\n",
      "[nems.tf.cnn INFO] 3000 loss=0.9088396, delta=-0.0000142\n",
      "[nems.tf.cnn INFO] 3030 loss=0.9088273, delta=-0.0000123\n",
      "[nems.tf.cnn INFO] 3060 loss=0.9088155, delta=-0.0000118\n",
      "[nems.tf.cnn INFO] 3090 loss=0.9088045, delta=-0.0000110\n",
      "[nems.tf.cnn INFO] 3120 loss=0.9087939, delta=-0.0000106\n",
      "[nems.tf.cnn INFO] 3150 loss=0.9087840, delta=-0.0000100\n",
      "[nems.tf.cnn INFO] 3180 loss=0.9087746, delta=-0.0000094\n",
      "[nems.tf.cnn INFO] 3210 loss=0.9087663, delta=-0.0000083\n",
      "[nems.tf.cnn INFO] 3240 loss=0.9087659, delta=-0.0000005\n",
      "[nems.tf.cnn INFO] 3270 loss=0.9087505, delta=-0.0000153\n",
      "[nems.tf.cnn INFO] 3300 loss=0.9087424, delta=-0.0000082\n",
      "[nems.tf.cnn INFO] 3330 loss=0.9087353, delta=-0.0000070\n",
      "[nems.tf.cnn INFO] 3360 loss=0.9087288, delta=-0.0000065\n",
      "[nems.tf.cnn INFO] 3390 loss=0.9087227, delta=-0.0000061\n"
     ]
    },
    {
     "name": "stderr",
     "output_type": "stream",
     "text": [
      "[nems.tf.cnn INFO] 3420 loss=0.9087168, delta=-0.0000059\n",
      "[nems.tf.cnn INFO] 5 epochs without significant improvement, stopping early!\n",
      "[tensorflow INFO] Restoring parameters from /Users/svd/python/nems/results/307/TAR010c/ld-norm-st.beh.pup-ref.wc.15x2-fir.2x8-lvl.1-stategain.3-lvl.1.jk.nf8.o-init.tf.n-tf.n.2020-06-16T183231/seed100-model.ckpt\n",
      "[nems.tf.cnnlink INFO] tf2modelspec: nems.modules.weight_channels.basic\n",
      "[nems.tf.cnnlink INFO] tf2modelspec: nems.modules.fir.basic\n",
      "[nems.tf.cnnlink INFO] tf2modelspec: nems.modules.levelshift.levelshift\n",
      "[nems.tf.cnnlink INFO] starting eval_tf. evaluate nems model\n",
      "[nems.tf.cnnlink INFO] saving nems pred\n",
      "[nems.tf.cnnlink INFO] generating TF input matrix\n",
      "[nems.tf.cnnlink INFO] feat_dims: [1, 18212, 15]\n",
      "[nems.tf.cnnlink INFO] data_dims: [1, 18212, 1]\n",
      "[nems.modelspec INFO] Modelspec2tf: nems.modules.weight_channels.basic\n",
      "[nems.modelspec INFO] Modelspec2tf: nems.modules.fir.basic\n",
      "[nems.modelspec INFO] Modelspec2tf: nems.modules.levelshift.levelshift\n",
      "[nems.tf.cnn INFO] Initializing net: setting output, loss, optimizer, globals, tf session\n",
      "[nems.tf.cnnlink INFO] Mean difference between NEMS and TF model pred: 2.656843e-07\n",
      "[nems.tf.cnnlink INFO] finished fit_tf_init, fit_idx=1/1\n"
     ]
    }
   ],
   "source": [
    "fit_init_str='nems.tf.cnnlink.fit_tf_init'\n",
    "#fit_init_str='nems.tf.cnnlink_new.fit_tf_init'\n",
    "ctx=xforms.evaluate_step(['nems.xforms.fit_wrapper',\n",
    "  {'tolerance': 3.162277660168379e-06,\n",
    "   'norm_fir': False,\n",
    "   'nl_kw': {},\n",
    "   'max_iter': 10000,\n",
    "   'use_modelspec_init': True,\n",
    "   'optimizer': 'Adam',\n",
    "   'cost_function': 'squared_error',\n",
    "   'early_stopping_steps': 5,\n",
    "   'early_stopping_tolerance': 1e-05,\n",
    "   'learning_rate': 0.01,\n",
    "   'distr': 'norm',\n",
    "   'fit_function': fit_init_str,\n",
    "   'metric': 'nmse',\n",
    "   'alpha': 0}], ctx)"
   ]
  },
  {
   "cell_type": "code",
   "execution_count": 20,
   "metadata": {
    "scrolled": true
   },
   "outputs": [
    {
     "name": "stderr",
     "output_type": "stream",
     "text": [
      "[nems.xforms INFO] Evaluating: nems.xforms.fit_wrapper\n",
      "[nems.xforms INFO] ----------------------------------------------------\n",
      "[nems.xforms INFO] Fitting: nems.tf.cnnlink.fit_tf, fit 1/1, fold 1/1\n",
      "[nems.tf.cnnlink INFO] seed for this fit: 50\n",
      "[nems.tf.cnnlink INFO] feat_dims: (314, 58, 15)\n",
      "[nems.tf.cnnlink INFO] data_dims: (314, 58, 1)\n",
      "[nems.tf.cnnlink INFO] rand seed for intialization: 50\n",
      "[nems.modelspec INFO] Modelspec2tf: nems.modules.weight_channels.basic\n",
      "[nems.modelspec INFO] Modelspec2tf: nems.modules.fir.basic\n",
      "[nems.modelspec INFO] Modelspec2tf: nems.modules.levelshift.levelshift\n",
      "[nems.modelspec INFO] Modelspec2tf: nems.modules.state.state_dc_gain\n",
      "[nems.modelspec INFO] Modelspec2tf: nems.modules.levelshift.levelshift\n",
      "[nems.tf.cnn INFO] Initializing net: setting output, loss, optimizer, globals, tf session\n",
      "[nems.tf.cnn INFO] Training with batch_size=314, LR=0.01, max_iter=10000, early_stopping_steps=5, early_stopping_tolerance=1e-05, optimizer=Adam.\n",
      "[nems.tf.cnn INFO] Initial loss=0.9087167\n",
      "[nems.tf.cnn INFO] 0000 loss=0.9063732, delta=+0.0000000\n",
      "[nems.tf.cnn INFO] 0030 loss=0.8873857, delta=-0.0189875\n",
      "[nems.tf.cnn INFO] 0060 loss=0.8865460, delta=-0.0008397\n",
      "[nems.tf.cnn INFO] 0090 loss=0.8864330, delta=-0.0001130\n",
      "[nems.tf.cnn INFO] 0120 loss=0.8863926, delta=-0.0000404\n",
      "[nems.tf.cnn INFO] 0150 loss=0.8863672, delta=-0.0000254\n",
      "[nems.tf.cnn INFO] 0180 loss=0.8863503, delta=-0.0000169\n",
      "[nems.tf.cnn INFO] 0210 loss=0.8863379, delta=-0.0000125\n",
      "[nems.tf.cnn INFO] 0240 loss=0.8863292, delta=-0.0000087\n",
      "[nems.tf.cnn INFO] 0270 loss=0.8863226, delta=-0.0000066\n",
      "[nems.tf.cnn INFO] 0300 loss=0.8863174, delta=-0.0000051\n",
      "[nems.tf.cnn INFO] 0330 loss=0.8863134, delta=-0.0000040\n",
      "[nems.tf.cnn INFO] 0360 loss=0.8863104, delta=-0.0000030\n",
      "[nems.tf.cnn INFO] 5 epochs without significant improvement, stopping early!\n",
      "[tensorflow INFO] Restoring parameters from /Users/svd/python/nems/results/307/TAR010c/ld-norm-st.beh.pup-ref.wc.15x2-fir.2x8-lvl.1-stategain.3-lvl.1.jk.nf8.o-init.tf.n-tf.n.2020-06-16T183231/seed50-model.ckpt\n",
      "[nems.tf.cnnlink INFO] tf2modelspec: nems.modules.weight_channels.basic\n",
      "[nems.tf.cnnlink INFO] tf2modelspec: nems.modules.fir.basic\n",
      "[nems.tf.cnnlink INFO] tf2modelspec: nems.modules.levelshift.levelshift\n",
      "[nems.tf.cnnlink INFO] tf2modelspec: nems.modules.state.state_dc_gain\n",
      "[nems.tf.cnnlink INFO] tf2modelspec: nems.modules.levelshift.levelshift\n",
      "[nems.tf.cnnlink INFO] starting eval_tf. evaluate nems model\n",
      "[nems.tf.cnnlink INFO] saving nems pred\n",
      "[nems.tf.cnnlink INFO] generating TF input matrix\n",
      "[nems.tf.cnnlink INFO] feat_dims: [1, 18212, 15]\n",
      "[nems.tf.cnnlink INFO] data_dims: [1, 18212, 1]\n",
      "[nems.modelspec INFO] Modelspec2tf: nems.modules.weight_channels.basic\n",
      "[nems.modelspec INFO] Modelspec2tf: nems.modules.fir.basic\n",
      "[nems.modelspec INFO] Modelspec2tf: nems.modules.levelshift.levelshift\n",
      "[nems.modelspec INFO] Modelspec2tf: nems.modules.state.state_dc_gain\n",
      "[nems.modelspec INFO] Modelspec2tf: nems.modules.levelshift.levelshift\n",
      "[nems.tf.cnn INFO] Initializing net: setting output, loss, optimizer, globals, tf session\n",
      "[nems.tf.cnnlink INFO] Mean difference between NEMS and TF model pred: 3.222552e-07\n"
     ]
    }
   ],
   "source": [
    "fit_str='nems.tf.cnnlink.fit_tf'\n",
    "#fit_str='nems.tf.cnnlink_new.fit_tf'\n",
    "ctx=xforms.evaluate_step(['nems.xforms.fit_wrapper',\n",
    "  {'max_iter': 10000,\n",
    "   'use_modelspec_init': True,\n",
    "   'optimizer': 'Adam',\n",
    "   'cost_function': 'squared_error',\n",
    "   'fit_function': fit_str,\n",
    "   'early_stopping_steps': 5,\n",
    "   'early_stopping_tolerance': 1e-05,\n",
    "   'learning_rate': 0.01,\n",
    "   'distr': 'norm'}], ctx)"
   ]
  },
  {
   "cell_type": "code",
   "execution_count": 21,
   "metadata": {},
   "outputs": [
    {
     "name": "stderr",
     "output_type": "stream",
     "text": [
      "[nems.xforms INFO] Evaluating: nems.xforms.predict\n"
     ]
    }
   ],
   "source": [
    "ctx=xforms.evaluate_step(['nems.xforms.predict', {}], ctx)"
   ]
  },
  {
   "cell_type": "code",
   "execution_count": 22,
   "metadata": {},
   "outputs": [
    {
     "name": "stderr",
     "output_type": "stream",
     "text": [
      "[nems.xforms INFO] Evaluating: nems.xforms.add_summary_statistics\n",
      "[nems.xforms INFO] Skipping jackknife MI calculations\n",
      "[nems.metrics.state INFO] state_mod_index for pred, state_raw, baseline\n",
      "[nems.metrics.state INFO] state_mod_index for pred, state_raw, active\n",
      "[nems.metrics.state INFO] state_mod_index for pred, state_raw, pupil\n",
      "[nems.metrics.state INFO] state_mod_index for resp, state_raw, baseline\n",
      "[nems.metrics.state INFO] state_mod_index for resp, state_raw, active\n",
      "[nems.metrics.state INFO] state_mod_index for resp, state_raw, pupil\n"
     ]
    }
   ],
   "source": [
    "ctx=xforms.evaluate_step(['nems.xforms.add_summary_statistics', {}], ctx)"
   ]
  },
  {
   "cell_type": "code",
   "execution_count": null,
   "metadata": {},
   "outputs": [
    {
     "name": "stderr",
     "output_type": "stream",
     "text": [
      "[nems.xforms INFO] Evaluating: nems.xforms.plot_summary\n",
      "[nems.modelspec INFO] Quickplot: no epoch specified, falling back to \"TRIAL\"\n",
      "[nems.modelspec INFO] plotting row 1/7\n",
      "[nems.modelspec INFO] plotting row 2/7\n",
      "[nems.modelspec INFO] plotting row 3/7\n",
      "[nems.modelspec INFO] plotting row 4/7\n",
      "[nems.modelspec INFO] plotting row 5/7\n",
      "[nems.modelspec INFO] plotting row 6/7\n",
      "[nems.modelspec INFO] plotting row 7/7\n",
      "[nems.modelspec INFO] Quickplot: generated fig with title \"Cell: UNKNOWN, Batch: 307, TRIAL #0 ld-norm-st.beh.pup-ref_wc.15x2-fir.2x8-lvl.1-stategain.3-lvl.1_jk.nf8.o-init.tf.n-tf.n\"\n"
     ]
    }
   ],
   "source": [
    "ctx=xforms.evaluate_step(['nems.xforms.plot_summary', {}], ctx)"
   ]
  },
  {
   "cell_type": "code",
   "execution_count": null,
   "metadata": {},
   "outputs": [],
   "source": [
    "print(ctx['modelspec'][1]['plot_fns'])\n",
    "print(ctx['modelspec'][1]['plot_fn_idx'])\n"
   ]
  },
  {
   "cell_type": "code",
   "execution_count": 80,
   "metadata": {},
   "outputs": [
    {
     "data": {
      "image/png": "[encoded data removed]",
      "text/plain": [
       "<Figure size 432x288 with 2 Axes>"
      ]
     },
     "metadata": {
      "needs_background": "light"
     },
     "output_type": "display_data"
    }
   ],
   "source": [
    "ctx['modelspec'].plot(mod_index=1, plot_fn_idx=2)"
   ]
  },
  {
   "cell_type": "code",
   "execution_count": 88,
   "metadata": {},
   "outputs": [
    {
     "name": "stdout",
     "output_type": "stream",
     "text": [
      "prediction correlation: 0.131\n"
     ]
    },
    {
     "data": {
      "image/png": "[encoded data removed]",
      "text/plain": [
       "<Figure size 432x288 with 1 Axes>"
      ]
     },
     "metadata": {
      "needs_background": "light"
     },
     "output_type": "display_data"
    }
   ],
   "source": [
    "from nems.plots.api import plot_scatter\n",
    "smoothing_bins=200\n",
    "plot_scatter(ctx['val']['pred'], ctx['val']['resp'], smoothing_bins=smoothing_bins, title=f'Smoothed, bins={smoothing_bins}')\n",
    "print(f\"prediction correlation: {ctx['modelspec'].meta['r_test'][0][0]:.3f}\")\n",
    "      "
   ]
  },
  {
   "cell_type": "code",
   "execution_count": 236,
   "metadata": {},
   "outputs": [
    {
     "data": {
      "text/plain": [
       "'ld-norm-st.beh0.pup0-ref.wc.15x2-fir.2x8-lvl.1-stategain.3-lvl.1.jk.nf8.o-init.tf.n-tf.n.2020-06-02T220504'"
      ]
     },
     "execution_count": 236,
     "metadata": {},
     "output_type": "execute_result"
    }
   ],
   "source": [
    "ctx['modelspec'].get_longname()"
   ]
  },
  {
   "cell_type": "code",
   "execution_count": null,
   "metadata": {},
   "outputs": [],
   "source": []
  },
  {
   "cell_type": "markdown",
   "metadata": {},
   "source": [
    "### save results ###"
   ]
  },
  {
   "cell_type": "code",
   "execution_count": 237,
   "metadata": {},
   "outputs": [
    {
     "name": "stdout",
     "output_type": "stream",
     "text": [
      "/Users/svd/python/nems/results/307/TAR010c-19-1/ld-norm-st.beh0.pup0-ref.wc.15x2-fir.2x8-lvl.1-stategain.3-lvl.1.jk.nf8.o-init.tf.n-tf.n.2020-06-02T220504\n"
     ]
    }
   ],
   "source": [
    "modelspec = ctx['modelspec']\n",
    "meta=modelspec.meta\n",
    "destination = os.path.join(results_dir, str(batch), xforms.get_meta(ctx)['cellid'],\n",
    "                           modelspec.get_longname())\n",
    "print(destination)"
   ]
  },
  {
   "cell_type": "code",
   "execution_count": 238,
   "metadata": {},
   "outputs": [
    {
     "name": "stderr",
     "output_type": "stream",
     "text": [
      "[__main__ INFO] Saving modelspec(s) to /Users/svd/python/nems/results/307/TAR010c-19-1/ld-norm-st.beh0.pup0-ref.wc.15x2-fir.2x8-lvl.1-stategain.3-lvl.1.jk.nf8.o-init.tf.n-tf.n.2020-06-02T220504 ...\n"
     ]
    },
    {
     "data": {
      "text/plain": [
       "{'savepath': '/Users/svd/python/nems/results/307/TAR010c-19-1/ld-norm-st.beh0.pup0-ref.wc.15x2-fir.2x8-lvl.1-stategain.3-lvl.1.jk.nf8.o-init.tf.n-tf.n.2020-06-02T220504/'}"
      ]
     },
     "execution_count": 238,
     "metadata": {},
     "output_type": "execute_result"
    }
   ],
   "source": [
    "# save to file\n",
    "log.info('Saving modelspec(s) to {0} ...'.format(destination))\n",
    "xforms.save_analysis(destination,\n",
    "                     recording=ctx['rec'],\n",
    "                     modelspec=modelspec,\n",
    "                     xfspec=xfspec,\n",
    "                     figures=ctx['figures'], \n",
    "                     log='Empty log')\n",
    "\n"
   ]
  },
  {
   "cell_type": "code",
   "execution_count": 239,
   "metadata": {},
   "outputs": [
    {
     "name": "stdout",
     "output_type": "stream",
     "text": [
      "sqlite:////Users/svd/python/nems/recordings/nems.db\n"
     ]
    }
   ],
   "source": [
    "import nems.db as nd\n",
    "print(nd._get_db_uri())"
   ]
  },
  {
   "cell_type": "code",
   "execution_count": 240,
   "metadata": {},
   "outputs": [
    {
     "name": "stderr",
     "output_type": "stream",
     "text": [
      "[__main__ INFO] Saving metadata to db  ...\n"
     ]
    },
    {
     "data": {
      "text/plain": [
       "4"
      ]
     },
     "execution_count": 240,
     "metadata": {},
     "output_type": "execute_result"
    }
   ],
   "source": [
    "# save summary to a database\n",
    "log.info('Saving metadata to db  ...')\n",
    "modelspec.meta['modelpath'] = destination\n",
    "modelspec.meta['figurefile'] = destination + 'figure.0000.png'\n",
    "nd.update_results_table(modelspec)\n"
   ]
  },
  {
   "cell_type": "code",
   "execution_count": null,
   "metadata": {},
   "outputs": [],
   "source": []
  },
  {
   "cell_type": "markdown",
   "metadata": {},
   "source": [
    "### reload the model from db ###"
   ]
  },
  {
   "cell_type": "code",
   "execution_count": 211,
   "metadata": {},
   "outputs": [
    {
     "data": {
      "text/plain": [
       "(307,\n",
       " 'TAR010c-27-2',\n",
       " 'ld-norm-st.beh0.pup0-ref_wc.15x2-fir.2x8-lvl.1-stategain.3-lvl.1_jk.nf8.o-init.tf.n-tf.n')"
      ]
     },
     "execution_count": 211,
     "metadata": {},
     "output_type": "execute_result"
    }
   ],
   "source": [
    "# batch = 307\n",
    "# cellid = \"TAR010c-14-1\"\n",
    "# modelname = \"ld-norm-st.beh.pup-ref_wc.15x2-fir.2x8-lvl.1-stategain.3-lvl.1_jk.nf8.o-init.tf.n-tf.n\"\n",
    "batch, cellid, modelname"
   ]
  },
  {
   "cell_type": "code",
   "execution_count": 212,
   "metadata": {},
   "outputs": [
    {
     "data": {
      "text/plain": [
       "'/Users/svd/python/nems/results/307/TAR010c-27-2/ld-norm-st.beh0.pup0-ref.wc.15x2-fir.2x8-lvl.1-stategain.3-lvl.1.jk.nf8.o-init.tf.n-tf.n.2020-06-02T215847/'"
      ]
     },
     "execution_count": 212,
     "metadata": {},
     "output_type": "execute_result"
    }
   ],
   "source": [
    "# find the results in the database\n",
    "d=nd.get_results_file(batch=batch, cellids=[cellid], modelnames=[modelname])\n",
    "filepath = d['modelpath'][0] + '/'\n",
    "filepath"
   ]
  },
  {
   "cell_type": "code",
   "execution_count": 213,
   "metadata": {},
   "outputs": [
    {
     "name": "stderr",
     "output_type": "stream",
     "text": [
      "[nems.xforms INFO] Loading xfspec and context from /Users/svd/python/nems/results/307/TAR010c-27-2/ld-norm-st.beh0.pup0-ref.wc.15x2-fir.2x8-lvl.1-stategain.3-lvl.1.jk.nf8.o-init.tf.n-tf.n.2020-06-02T215847/...\n",
      "[nems.xforms INFO] Evaluating: nems.xforms.init_context\n",
      "[nems.xforms INFO] xf argument recording_uri_list overlaps with existing context key: nems.xforms.load_recordings\n",
      "[nems.xforms INFO] Evaluating: nems.xforms.load_recordings\n",
      "[nems.xforms INFO] Extracting cellid(s) TAR010c-14-1\n",
      "[nems.preprocessing INFO] Adding to epoch_onsets: TRIAL with shift = 0\n",
      "[nems.xforms INFO] Evaluating: nems.xforms.normalize_sig\n",
      "[nems.xforms INFO] Evaluating: nems.xforms.normalize_sig\n",
      "[nems.xforms INFO] Evaluating: nems.xforms.make_state_signal\n",
      "[nems.xforms INFO] Evaluating: nems.xforms.mask_all_but_correct_references\n",
      "[nems.xforms INFO] Evaluating: nems.xforms.init_from_keywords\n",
      "[nems.xforms INFO] Evaluating: nems.xforms.mask_for_jackknife\n",
      "[nems.xforms INFO] Evaluating: nems.xforms.jack_subset\n",
      "[nems.xforms INFO] Evaluating: nems.xforms.fit_wrapper\n",
      "[nems.xforms INFO] Evaluating: nems.xforms.fit_wrapper\n",
      "[nems.xforms INFO] Evaluating: nems.xforms.predict\n",
      "[nems.xforms INFO] Evaluating: nems.xforms.add_summary_statistics\n",
      "[nems.xforms INFO] Skipping jackknife MI calculations\n",
      "[nems.metrics.state INFO] state_mod_index for pred, state_raw, baseline\n",
      "[nems.metrics.state INFO] state_mod_index for pred, state_raw, active\n",
      "[nems.metrics.state INFO] state_mod_index for pred, state_raw, pupil\n",
      "[nems.metrics.state INFO] state_mod_index for resp, state_raw, baseline\n",
      "[nems.metrics.state INFO] state_mod_index for resp, state_raw, active\n",
      "[nems.metrics.state INFO] state_mod_index for resp, state_raw, pupil\n",
      "[nems.xforms INFO] Evaluating: nems.xforms.plot_summary\n",
      "[nems.xforms INFO] Done (re-)evaluating xforms.\n"
     ]
    }
   ],
   "source": [
    "# load and display results\n",
    "xfspec, ctx = xforms.load_analysis(filepath, eval_model=True)\n"
   ]
  },
  {
   "cell_type": "markdown",
   "metadata": {},
   "source": [
    "Get saved data from Results table"
   ]
  },
  {
   "cell_type": "code",
   "execution_count": 217,
   "metadata": {},
   "outputs": [
    {
     "data": {
      "text/html": [
       "<div>\n",
       "<style scoped>\n",
       "    .dataframe tbody tr th:only-of-type {\n",
       "        vertical-align: middle;\n",
       "    }\n",
       "\n",
       "    .dataframe tbody tr th {\n",
       "        vertical-align: top;\n",
       "    }\n",
       "\n",
       "    .dataframe thead th {\n",
       "        text-align: right;\n",
       "    }\n",
       "</style>\n",
       "<table border=\"1\" class=\"dataframe\">\n",
       "  <thead>\n",
       "    <tr style=\"text-align: right;\">\n",
       "      <th></th>\n",
       "      <th>ld-norm-st.beh.pup-ref_wc.15x2-fir.2x8-lvl.1-stategain.3-lvl.1_jk.nf8.o-init.tf.n-tf.n</th>\n",
       "      <th>ld-norm-st.beh0.pup0-ref_wc.15x2-fir.2x8-lvl.1-stategain.3-lvl.1_jk.nf8.o-init.tf.n-tf.n</th>\n",
       "    </tr>\n",
       "    <tr>\n",
       "      <th>cellid</th>\n",
       "      <th></th>\n",
       "      <th></th>\n",
       "    </tr>\n",
       "  </thead>\n",
       "  <tbody>\n",
       "    <tr>\n",
       "      <th>TAR010c-14-1</th>\n",
       "      <td>0.042854</td>\n",
       "      <td>NaN</td>\n",
       "    </tr>\n",
       "    <tr>\n",
       "      <th>TAR010c-19-1</th>\n",
       "      <td>0.175537</td>\n",
       "      <td>NaN</td>\n",
       "    </tr>\n",
       "  </tbody>\n",
       "</table>\n",
       "</div>"
      ],
      "text/plain": [
       "              ld-norm-st.beh.pup-ref_wc.15x2-fir.2x8-lvl.1-stategain.3-lvl.1_jk.nf8.o-init.tf.n-tf.n  \\\n",
       "cellid                                                                                                 \n",
       "TAR010c-14-1                                           0.042854                                        \n",
       "TAR010c-19-1                                           0.175537                                        \n",
       "\n",
       "              ld-norm-st.beh0.pup0-ref_wc.15x2-fir.2x8-lvl.1-stategain.3-lvl.1_jk.nf8.o-init.tf.n-tf.n  \n",
       "cellid                                                                                                  \n",
       "TAR010c-14-1                                                NaN                                         \n",
       "TAR010c-19-1                                                NaN                                         "
      ]
     },
     "execution_count": 217,
     "metadata": {},
     "output_type": "execute_result"
    }
   ],
   "source": [
    "\n",
    "modelnames = [\"ld-norm-st.beh.pup-ref_\" + modelspecname + \"_jk.nf8.o-init.tf.n-tf.n\",\n",
    "              \"ld-norm-st.beh0.pup0-ref_\" + modelspecname + \"_jk.nf8.o-init.tf.n-tf.n\"]\n",
    "\n",
    "d = nd.batch_comp(batch=batch, modelnames=modelnames)\n",
    "d"
   ]
  },
  {
   "cell_type": "code",
   "execution_count": 218,
   "metadata": {},
   "outputs": [
    {
     "name": "stdout",
     "output_type": "stream",
     "text": [
      "ld-norm-st.beh0.pup0-ref_wc.15x2-fir.2x8-lvl.1-stategain.3-lvl.1_jk.nf8.o-init.tf.n-tf.n\n",
      "ld-norm-st.beh0.pup0-ref_wc.15x2-fir.2x8-lvl.1-stategain.3-lvl.1_jk.nf8.o-init.tf.n-tf.n\n"
     ]
    }
   ],
   "source": [
    "print(modelname)\n",
    "print(modelnames[1])"
   ]
  },
  {
   "cell_type": "markdown",
   "metadata": {},
   "source": [
    "Find all models fit for this cell/batch"
   ]
  },
  {
   "cell_type": "code",
   "execution_count": null,
   "metadata": {},
   "outputs": [],
   "source": [
    "d=nd.get_results_file(batch=batch, cellids=[cellid])\n",
    "d[['cellid','modelname','r_fit','r_test','modelpath']]"
   ]
  },
  {
   "cell_type": "markdown",
   "metadata": {},
   "source": [
    "### some other inspection stuff ###"
   ]
  },
  {
   "cell_type": "markdown",
   "metadata": {},
   "source": [
    "Get some basic info about the fit"
   ]
  },
  {
   "cell_type": "code",
   "execution_count": null,
   "metadata": {},
   "outputs": [],
   "source": [
    "print(\"List of modules in this modelspec:\")\n",
    "print(modelspec)\n",
    "\n",
    "print(\"Number of modules: {}\".format(len(modelspec)))\n",
    "print(\"Number of fits: {}\".format(modelspec.fit_count))"
   ]
  },
  {
   "cell_type": "markdown",
   "metadata": {},
   "source": [
    "Plotting support built in to ModelSpec:"
   ]
  },
  {
   "cell_type": "code",
   "execution_count": null,
   "metadata": {},
   "outputs": [],
   "source": [
    "modelspec[0]['plot_fns']"
   ]
  },
  {
   "cell_type": "code",
   "execution_count": null,
   "metadata": {},
   "outputs": [],
   "source": [
    "modelspec[0]['plot_fn_idx']=1"
   ]
  },
  {
   "cell_type": "code",
   "execution_count": null,
   "metadata": {},
   "outputs": [],
   "source": [
    "modelspec.plot?"
   ]
  },
  {
   "cell_type": "code",
   "execution_count": null,
   "metadata": {},
   "outputs": [],
   "source": [
    "modelspec.plot(mod_index=0, plot_fn_idx=1, rec=ctx['val'])"
   ]
  },
  {
   "cell_type": "code",
   "execution_count": null,
   "metadata": {},
   "outputs": [],
   "source": [
    "modelspec.recording = ctx['val']\n",
    "print(modelspec[2]['fn'])\n",
    "modelspec.plot(mod_index=2)"
   ]
  },
  {
   "cell_type": "code",
   "execution_count": null,
   "metadata": {},
   "outputs": [],
   "source": [
    "modelspec.recording = ctx['val']\n",
    "modelspec[0]['plot_fn_idx']=3\n",
    "fig=modelspec.quickplot()"
   ]
  },
  {
   "cell_type": "code",
   "execution_count": null,
   "metadata": {},
   "outputs": [],
   "source": [
    "print(\"Recording views:\", ctx['val'].view_count)\n",
    "\n",
    "# list of views for looping through fit sets (eg, nfold fits)\n",
    "ctx['val'].views()"
   ]
  },
  {
   "cell_type": "code",
   "execution_count": null,
   "metadata": {},
   "outputs": [],
   "source": []
  }
 ],
 "metadata": {
  "kernelspec": {
   "display_name": "Python 3",
   "language": "python",
   "name": "python3"
  },
  "language_info": {
   "codemirror_mode": {
    "name": "ipython",
    "version": 3
   },
   "file_extension": ".py",
   "mimetype": "text/x-python",
   "name": "python",
   "nbconvert_exporter": "python",
   "pygments_lexer": "ipython3",
   "version": "3.6.7"
  }
 },
 "nbformat": 4,
 "nbformat_minor": 4
}
