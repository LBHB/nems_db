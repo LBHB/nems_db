{
 "cells": [
  {
   "cell_type": "code",
   "execution_count": 2,
   "metadata": {},
   "outputs": [
    {
     "name": "stderr",
     "output_type": "stream",
     "text": [
      "[nems.configs.defaults INFO] Saving log messages to /tmp/nems/NEMS 2018-10-03 162151.log\n",
      "[nems_web INFO] Found setting: SECRET_KEY in nems_web.configs.settings, setting value in environment ... \n",
      "[nems_web INFO] Found setting: DEBUG in nems_web.configs.settings, setting value in environment ... \n",
      "[nems_web INFO] No value specified for: PORT. Using default value in nems_web.configs.defaults\n",
      "[nems_web INFO] Found setting: CSRF_ENABLED in nems_web.configs.settings, setting value in environment ... \n",
      "[nems_web INFO] Found setting: CSRF_SESSION_KEY in nems_web.configs.settings, setting value in environment ... \n"
     ]
    }
   ],
   "source": [
    "import os\n",
    "import numpy as np\n",
    "import matplotlib.pyplot as plt\n",
    "import pandas as pd\n",
    "import seaborn as sns\n",
    "import ptitprince as ptp\n",
    "import scipy.stats as ss\n",
    "import statsmodels.formula.api as smf\n",
    "import matplotlib.collections as clt\n",
    "import re\n",
    "import pylab as pl\n",
    "\n",
    "# To ensure I can export text correctly\n",
    "plt.rcParams['pdf.fonttype'] = 42\n",
    "plt.rcParams['ps.fonttype'] = 42\n",
    "\n",
    "%matplotlib inline\n",
    "os.getcwd()\n",
    "\n",
    "from nems_lbhb.pupil_behavior_scripts.mod_per_state import get_model_results"
   ]
  },
  {
   "cell_type": "code",
   "execution_count": 7,
   "metadata": {},
   "outputs": [],
   "source": [
    "# pup vs. active/passive\n",
    "batch = 307  # A1 SUA and MUA\n",
    "state_list = ['st.pup0.beh0','st.pup0.beh','st.pup.beh0','st.pup.beh']\n",
    "basemodel = \"-ref-psthfr.s_stategain.S\"\n",
    "\n",
    "#d_pup_beh = get_model_results(batch=batch, state_list=state_list, basemodel=basemodel)\n",
    "d_pup_beh = pd.read_csv('d_pup_beh.csv')"
   ]
  },
  {
   "cell_type": "code",
   "execution_count": 6,
   "metadata": {},
   "outputs": [],
   "source": [
    "#d_pup_beh.to_csv('d_pup_beh.csv')"
   ]
  },
  {
   "cell_type": "code",
   "execution_count": 13,
   "metadata": {},
   "outputs": [],
   "source": [
    "# pup vs. pre/post passive\n",
    "state_list = ['st.pup0.pas0','st.pup0.pas',\n",
    "              'st.pup.pas0','st.pup.pas']\n",
    "basemodel = \"-ref-pas-psthfr.s_stategain.S\"\n",
    "#d_pup_pas = get_model_results(batch=batch, state_list=state_list, basemodel=basemodel)\n",
    "d_pup_pas = pd.read_csv('d_pup_pas.csv')"
   ]
  },
  {
   "cell_type": "code",
   "execution_count": 10,
   "metadata": {},
   "outputs": [],
   "source": [
    "#d_pup_pas.to_csv('d_pup_pas.csv')"
   ]
  },
  {
   "cell_type": "code",
   "execution_count": 14,
   "metadata": {},
   "outputs": [
    {
     "name": "stdout",
     "output_type": "stream",
     "text": [
      "Loading modelname:  psth.fs20.pup-ld-st.pup0.fil0-ref-psthfr.s_stategain.S_jk.nf20-basic\n",
      "Loading modelname:  psth.fs20.pup-ld-st.pup0.fil-ref-psthfr.s_stategain.S_jk.nf20-basic\n",
      "Loading modelname:  psth.fs20.pup-ld-st.pup.fil0-ref-psthfr.s_stategain.S_jk.nf20-basic\n",
      "Loading modelname:  psth.fs20.pup-ld-st.pup.fil-ref-psthfr.s_stategain.S_jk.nf20-basic\n"
     ]
    }
   ],
   "source": [
    "# pup vs. per file\n",
    "state_list = ['st.pup0.fil0','st.pup0.fil','st.pup.fil0','st.pup.fil']\n",
    "basemodel = \"-ref-psthfr.s_stategain.S\"\n",
    "d_pup_fil = get_model_results(batch=batch, state_list=state_list, basemodel=basemodel)\n",
    "d_pup_fil = pd.read_csv('d_pup_fil.csv')"
   ]
  },
  {
   "cell_type": "code",
   "execution_count": 15,
   "metadata": {},
   "outputs": [],
   "source": [
    "#d_pup_fil.to_csv('d_pup_fil.csv')"
   ]
  },
  {
   "cell_type": "code",
   "execution_count": 9,
   "metadata": {},
   "outputs": [
    {
     "data": {
      "text/html": [
       "<div>\n",
       "<style scoped>\n",
       "    .dataframe tbody tr th:only-of-type {\n",
       "        vertical-align: middle;\n",
       "    }\n",
       "\n",
       "    .dataframe tbody tr th {\n",
       "        vertical-align: top;\n",
       "    }\n",
       "\n",
       "    .dataframe thead th {\n",
       "        text-align: right;\n",
       "    }\n",
       "</style>\n",
       "<table border=\"1\" class=\"dataframe\">\n",
       "  <thead>\n",
       "    <tr style=\"text-align: right;\">\n",
       "      <th></th>\n",
       "      <th>state_sig</th>\n",
       "      <th>state_sig0</th>\n",
       "      <th>state_chan</th>\n",
       "      <th>r</th>\n",
       "      <th>r0</th>\n",
       "      <th>r_unique</th>\n",
       "      <th>MI</th>\n",
       "      <th>MI_unique</th>\n",
       "    </tr>\n",
       "  </thead>\n",
       "  <tbody>\n",
       "    <tr>\n",
       "      <th>141</th>\n",
       "      <td>st.pup.beh</td>\n",
       "      <td>st.pup0.beh0</td>\n",
       "      <td>baseline</td>\n",
       "      <td>0.700703</td>\n",
       "      <td>0.622926</td>\n",
       "      <td>0.0777769</td>\n",
       "      <td>NaN</td>\n",
       "      <td>NaN</td>\n",
       "    </tr>\n",
       "    <tr>\n",
       "      <th>142</th>\n",
       "      <td>st.pup.beh</td>\n",
       "      <td>st.pup0.beh</td>\n",
       "      <td>pupil</td>\n",
       "      <td>0.700703</td>\n",
       "      <td>0.624738</td>\n",
       "      <td>0.0759643</td>\n",
       "      <td>0.281452</td>\n",
       "      <td>0.251508</td>\n",
       "    </tr>\n",
       "    <tr>\n",
       "      <th>143</th>\n",
       "      <td>st.pup.beh</td>\n",
       "      <td>st.pup.beh0</td>\n",
       "      <td>active</td>\n",
       "      <td>0.700703</td>\n",
       "      <td>0.701453</td>\n",
       "      <td>-0.000750652</td>\n",
       "      <td>0.0667815</td>\n",
       "      <td>-0.0353007</td>\n",
       "    </tr>\n",
       "  </tbody>\n",
       "</table>\n",
       "</div>"
      ],
      "text/plain": [
       "      state_sig    state_sig0 state_chan         r        r0     r_unique  \\\n",
       "141  st.pup.beh  st.pup0.beh0   baseline  0.700703  0.622926    0.0777769   \n",
       "142  st.pup.beh   st.pup0.beh      pupil  0.700703  0.624738    0.0759643   \n",
       "143  st.pup.beh   st.pup.beh0     active  0.700703  0.701453 -0.000750652   \n",
       "\n",
       "            MI  MI_unique  \n",
       "141        NaN        NaN  \n",
       "142   0.281452   0.251508  \n",
       "143  0.0667815 -0.0353007  "
      ]
     },
     "execution_count": 9,
     "metadata": {},
     "output_type": "execute_result"
    }
   ],
   "source": [
    "d_pup_beh.loc[d_pup_beh['cellid']=='TAR010c-06-1',\n",
    "              ['state_sig','state_sig0','state_chan','r','r0','r_unique','MI','MI_unique']] "
   ]
  },
  {
   "cell_type": "code",
   "execution_count": 4,
   "metadata": {},
   "outputs": [],
   "source": [
    "# to look at unique variance explained we need to square r and r0 and then take the difference\n",
    "# create three new colums R2 R02 and delta_R2\n",
    "d_pup_beh['R2']=d_pup_beh['r']**2\n",
    "d_pup_beh['R02']=d_pup_beh['r0']**2\n",
    "d_pup_beh['R2_unique']=d_pup_beh['R2']-d_pup_beh['R02']"
   ]
  },
  {
   "cell_type": "code",
   "execution_count": 5,
   "metadata": {},
   "outputs": [
    {
     "data": {
      "text/html": [
       "<div>\n",
       "<style scoped>\n",
       "    .dataframe tbody tr th:only-of-type {\n",
       "        vertical-align: middle;\n",
       "    }\n",
       "\n",
       "    .dataframe tbody tr th {\n",
       "        vertical-align: top;\n",
       "    }\n",
       "\n",
       "    .dataframe thead th {\n",
       "        text-align: right;\n",
       "    }\n",
       "</style>\n",
       "<table border=\"1\" class=\"dataframe\">\n",
       "  <thead>\n",
       "    <tr style=\"text-align: right;\">\n",
       "      <th></th>\n",
       "      <th>cellid</th>\n",
       "      <th>modelname</th>\n",
       "      <th>state_sig</th>\n",
       "      <th>state_sig0</th>\n",
       "      <th>state_chan</th>\n",
       "      <th>MI</th>\n",
       "      <th>r</th>\n",
       "      <th>r_se</th>\n",
       "      <th>d</th>\n",
       "      <th>g</th>\n",
       "      <th>MI0</th>\n",
       "      <th>r0</th>\n",
       "      <th>r0_se</th>\n",
       "      <th>r_unique</th>\n",
       "      <th>MI_unique</th>\n",
       "      <th>R2</th>\n",
       "      <th>R02</th>\n",
       "      <th>R2_unique</th>\n",
       "      <th>sig_var</th>\n",
       "    </tr>\n",
       "  </thead>\n",
       "  <tbody>\n",
       "    <tr>\n",
       "      <th>0</th>\n",
       "      <td>BRT037b-63-1</td>\n",
       "      <td>psth.fs20.pup-ld-st.pup.beh-ref-psthfr.s_state...</td>\n",
       "      <td>st.pup.beh</td>\n",
       "      <td>st.pup0.beh0</td>\n",
       "      <td>baseline</td>\n",
       "      <td>NaN</td>\n",
       "      <td>0.743903</td>\n",
       "      <td>0.019168</td>\n",
       "      <td>2.98745</td>\n",
       "      <td>0.975693</td>\n",
       "      <td>NaN</td>\n",
       "      <td>0.743709</td>\n",
       "      <td>0.0184251</td>\n",
       "      <td>0.000194911</td>\n",
       "      <td>NaN</td>\n",
       "      <td>0.553392</td>\n",
       "      <td>0.553102</td>\n",
       "      <td>0.000289952</td>\n",
       "      <td>0</td>\n",
       "    </tr>\n",
       "    <tr>\n",
       "      <th>1</th>\n",
       "      <td>BRT037b-63-1</td>\n",
       "      <td>psth.fs20.pup-ld-st.pup.beh-ref-psthfr.s_state...</td>\n",
       "      <td>st.pup.beh</td>\n",
       "      <td>st.pup0.beh</td>\n",
       "      <td>pupil</td>\n",
       "      <td>0.0167114</td>\n",
       "      <td>0.743903</td>\n",
       "      <td>0.019168</td>\n",
       "      <td>0.0260763</td>\n",
       "      <td>-0.00408441</td>\n",
       "      <td>0.00889277</td>\n",
       "      <td>0.744072</td>\n",
       "      <td>0.019048</td>\n",
       "      <td>-0.000168127</td>\n",
       "      <td>0.00781865</td>\n",
       "      <td>0.553392</td>\n",
       "      <td>0.553643</td>\n",
       "      <td>-0.000250169</td>\n",
       "      <td>NaN</td>\n",
       "    </tr>\n",
       "    <tr>\n",
       "      <th>2</th>\n",
       "      <td>BRT037b-63-1</td>\n",
       "      <td>psth.fs20.pup-ld-st.pup.beh-ref-psthfr.s_state...</td>\n",
       "      <td>st.pup.beh</td>\n",
       "      <td>st.pup.beh0</td>\n",
       "      <td>active</td>\n",
       "      <td>0.0179768</td>\n",
       "      <td>0.743903</td>\n",
       "      <td>0.019168</td>\n",
       "      <td>0.108336</td>\n",
       "      <td>0.0587441</td>\n",
       "      <td>0.00688582</td>\n",
       "      <td>0.743838</td>\n",
       "      <td>0.0187941</td>\n",
       "      <td>6.49866e-05</td>\n",
       "      <td>0.011091</td>\n",
       "      <td>0.553392</td>\n",
       "      <td>0.553296</td>\n",
       "      <td>9.66833e-05</td>\n",
       "      <td>NaN</td>\n",
       "    </tr>\n",
       "    <tr>\n",
       "      <th>3</th>\n",
       "      <td>BRT037b-30-1</td>\n",
       "      <td>psth.fs20.pup-ld-st.pup.beh-ref-psthfr.s_state...</td>\n",
       "      <td>st.pup.beh</td>\n",
       "      <td>st.pup0.beh0</td>\n",
       "      <td>baseline</td>\n",
       "      <td>NaN</td>\n",
       "      <td>0.775877</td>\n",
       "      <td>0.0134827</td>\n",
       "      <td>2.05101</td>\n",
       "      <td>0.972697</td>\n",
       "      <td>NaN</td>\n",
       "      <td>0.776267</td>\n",
       "      <td>0.0130804</td>\n",
       "      <td>-0.000390824</td>\n",
       "      <td>NaN</td>\n",
       "      <td>0.601984</td>\n",
       "      <td>0.602591</td>\n",
       "      <td>-0.000606615</td>\n",
       "      <td>0</td>\n",
       "    </tr>\n",
       "    <tr>\n",
       "      <th>4</th>\n",
       "      <td>BRT037b-30-1</td>\n",
       "      <td>psth.fs20.pup-ld-st.pup.beh-ref-psthfr.s_state...</td>\n",
       "      <td>st.pup.beh</td>\n",
       "      <td>st.pup0.beh</td>\n",
       "      <td>pupil</td>\n",
       "      <td>0.00735845</td>\n",
       "      <td>0.775877</td>\n",
       "      <td>0.0134827</td>\n",
       "      <td>0.0374866</td>\n",
       "      <td>-0.0184058</td>\n",
       "      <td>0.0044394</td>\n",
       "      <td>0.776262</td>\n",
       "      <td>0.0134037</td>\n",
       "      <td>-0.000385336</td>\n",
       "      <td>0.00291905</td>\n",
       "      <td>0.601984</td>\n",
       "      <td>0.602583</td>\n",
       "      <td>-0.000598095</td>\n",
       "      <td>NaN</td>\n",
       "    </tr>\n",
       "  </tbody>\n",
       "</table>\n",
       "</div>"
      ],
      "text/plain": [
       "         cellid                                          modelname  \\\n",
       "0  BRT037b-63-1  psth.fs20.pup-ld-st.pup.beh-ref-psthfr.s_state...   \n",
       "1  BRT037b-63-1  psth.fs20.pup-ld-st.pup.beh-ref-psthfr.s_state...   \n",
       "2  BRT037b-63-1  psth.fs20.pup-ld-st.pup.beh-ref-psthfr.s_state...   \n",
       "3  BRT037b-30-1  psth.fs20.pup-ld-st.pup.beh-ref-psthfr.s_state...   \n",
       "4  BRT037b-30-1  psth.fs20.pup-ld-st.pup.beh-ref-psthfr.s_state...   \n",
       "\n",
       "    state_sig    state_sig0 state_chan          MI         r       r_se  \\\n",
       "0  st.pup.beh  st.pup0.beh0   baseline         NaN  0.743903   0.019168   \n",
       "1  st.pup.beh   st.pup0.beh      pupil   0.0167114  0.743903   0.019168   \n",
       "2  st.pup.beh   st.pup.beh0     active   0.0179768  0.743903   0.019168   \n",
       "3  st.pup.beh  st.pup0.beh0   baseline         NaN  0.775877  0.0134827   \n",
       "4  st.pup.beh   st.pup0.beh      pupil  0.00735845  0.775877  0.0134827   \n",
       "\n",
       "           d           g         MI0        r0      r0_se     r_unique  \\\n",
       "0    2.98745    0.975693         NaN  0.743709  0.0184251  0.000194911   \n",
       "1  0.0260763 -0.00408441  0.00889277  0.744072   0.019048 -0.000168127   \n",
       "2   0.108336   0.0587441  0.00688582  0.743838  0.0187941  6.49866e-05   \n",
       "3    2.05101    0.972697         NaN  0.776267  0.0130804 -0.000390824   \n",
       "4  0.0374866  -0.0184058   0.0044394  0.776262  0.0134037 -0.000385336   \n",
       "\n",
       "    MI_unique        R2       R02    R2_unique sig_var  \n",
       "0         NaN  0.553392  0.553102  0.000289952       0  \n",
       "1  0.00781865  0.553392  0.553643 -0.000250169     NaN  \n",
       "2    0.011091  0.553392  0.553296  9.66833e-05     NaN  \n",
       "3         NaN  0.601984  0.602591 -0.000606615       0  \n",
       "4  0.00291905  0.601984  0.602583 -0.000598095     NaN  "
      ]
     },
     "execution_count": 5,
     "metadata": {},
     "output_type": "execute_result"
    }
   ],
   "source": [
    "# add column to specify if cellid has significant effect of any state variable (specific to baseline raw)\n",
    "d_pup_beh['sig_var']=np.where(d_pup_beh['r_unique']>2*d_pup_beh['r_se'], 1, 0)\n",
    "\n",
    "# next is an unelegant trick to get the values in raws that are not 'baseline' off the equation\n",
    "mask = d_pup_beh.state_chan != 'baseline'\n",
    "column = 'sig_var'\n",
    "d_pup_beh.loc[mask, column] = 'NaN'\n",
    "\n",
    "d_pup_beh.head()"
   ]
  },
  {
   "cell_type": "code",
   "execution_count": 6,
   "metadata": {},
   "outputs": [],
   "source": [
    "# function to create a list of color names based on significant state variable effect in A1 cells\n",
    "def pltcolor(lst,state):\n",
    "    colors=[]\n",
    "    for val in lst:\n",
    "        if val==0:\n",
    "            colors.append('lightgrey')\n",
    "        elif val==1 and state=='beh':\n",
    "            colors.append('#82418B')\n",
    "        elif val==1 and state=='pup':\n",
    "            colors.append('#2E7E3E')\n",
    "    return colors"
   ]
  },
  {
   "cell_type": "code",
   "execution_count": 37,
   "metadata": {},
   "outputs": [
    {
     "data": {
      "text/plain": [
       "<matplotlib.lines.Line2D at 0x7f3d025d9ef0>"
      ]
     },
     "execution_count": 37,
     "metadata": {},
     "output_type": "execute_result"
    },
    {
     "data": {
      "image/png": "[encoded data removed]",
      "text/plain": [
       "<Figure size 432x288 with 1 Axes>"
      ]
     },
     "metadata": {},
     "output_type": "display_data"
    }
   ],
   "source": [
    "# Plot unique contribution of pupil in terms of MI. MIp_unique = MIfull-MIp. MI_unique can be thought of \n",
    "# as the unique contribution of pupil when behavior is passive\n",
    "\n",
    "# extract a new pandas only with raws that have pupil as state_chan value\n",
    "d_beh=d_pup_beh[d_pup_beh['state_chan']=='active']\n",
    "\n",
    "# Create the colors list using the function pltcolor\n",
    "colors=pltcolor(d_pup_beh['sig_var'],'beh')\n",
    "\n",
    "fig, ax = plt.subplots()\n",
    "\n",
    "# plot\n",
    "ax.scatter(d_beh['MI'], d_beh['MI_unique'], color=colors, edgecolors='white')\n",
    "ax.set_xlabel('MI active (pup_beh0)')\n",
    "ax.set_ylabel('MI_unique active (pub_beh0)')\n",
    "ax.set_aspect('equal')\n",
    "\n",
    "# set the limits\n",
    "plt.ylim(-1, 1)\n",
    "plt.xlim(-1, 1)\n",
    "\n",
    "# need a slope and c to fix the position of line\n",
    "slope = 1\n",
    "c = -1\n",
    "\n",
    "x_min, x_max = ax.get_xlim()\n",
    "y_min, y_max = c, c + slope*(x_max-x_min)\n",
    "ax.plot([x_min, x_max], [y_min, y_max], linewidth=0.5, linestyle='--', color='k')\n",
    "ax.set_xlim([x_min, x_max])\n",
    "\n",
    "\n",
    "# add horizontal line\n",
    "slope = 0\n",
    "c = 0\n",
    "\n",
    "x_min, x_max = ax.get_xlim()\n",
    "y_min, y_max = c, c + slope*(x_max-x_min)\n",
    "ax.plot([x_min, x_max], [y_min, y_max], linewidth=0.5, linestyle='--', color='k')\n",
    "ax.set_xlim([x_min, x_max])\n",
    "\n",
    "# add vertical line\n",
    "xposition = 0.00\n",
    "plt.axvline(x=xposition, color='k', linestyle='--', linewidth=0.5)"
   ]
  },
  {
   "cell_type": "code",
   "execution_count": 38,
   "metadata": {},
   "outputs": [
    {
     "data": {
      "image/png": "[encoded data removed]",
      "text/plain": [
       "<Figure size 432x288 with 1 Axes>"
      ]
     },
     "metadata": {},
     "output_type": "display_data"
    }
   ],
   "source": [
    "# Plot unique contribution of pupil in terms of variance explained. \n",
    "\n",
    "d_baseline=d_pup_beh[d_pup_beh['state_chan']=='baseline']\n",
    "d_pupil=d_pup_beh[d_pup_beh['state_chan']=='pupil']\n",
    "d_behavior=d_pup_beh[d_pup_beh['state_chan']=='active']\n",
    "\n",
    "colors=pltcolor(d_pup_beh['sig_var'],'beh')\n",
    "fig, ax = plt.subplots()\n",
    "\n",
    "# plot\n",
    "# set the limits\n",
    "plt.ylim(-0.05, 0.2)\n",
    "plt.xlim(-0.05, 0.2)\n",
    "\n",
    "plt.axhline(0, linestyle='--', linewidth=0.5, color='k')\n",
    "plt.axvline(0, linestyle='--', linewidth=0.5, color='k')\n",
    "plt.plot([-0.05,0.2],[-0.05, 0.2], linestyle='--',linewidth=0.5, color='k')\n",
    "\n",
    "ax.scatter(d_baseline['R2']-d_baseline['R02'],d_behavior['R2']-d_behavior['R02'], color=colors, edgecolors='white')\n",
    "ax.set_xlabel('R2 full-R02 baseline (pup0_beh0)')\n",
    "ax.set_ylabel('R2 active (pup_beh0)-R02 active (pup_beh0)')\n",
    "ax.set_aspect('equal')"
   ]
  },
  {
   "cell_type": "code",
   "execution_count": 39,
   "metadata": {},
   "outputs": [
    {
     "data": {
      "text/plain": [
       "<matplotlib.lines.Line2D at 0x7f3d02940f28>"
      ]
     },
     "execution_count": 39,
     "metadata": {},
     "output_type": "execute_result"
    },
    {
     "data": {
      "image/png": "[encoded data removed]",
      "text/plain": [
       "<Figure size 432x288 with 1 Axes>"
      ]
     },
     "metadata": {},
     "output_type": "display_data"
    }
   ],
   "source": [
    "# Plot unique contribution of behavior in terms of MI. MIb_unique = MIfull-MIb. MI_unique can be thought of \n",
    "# as the unique contribution of behavior when pupil is large\n",
    "\n",
    "# extract a new pandas only with raws that have pupil as state_chan value\n",
    "d_pup=d_pup_beh[d_pup_beh['state_chan']=='pupil']\n",
    "\n",
    "# Create the colors list using the function pltcolor\n",
    "colors=pltcolor(d_pup_beh['sig_var'],'pup')\n",
    "\n",
    "# plot\n",
    "fig, ax = plt.subplots()\n",
    "ax.scatter(d_pup['MI'], d_pup['MI_unique'], color=colors, edgecolors='white')\n",
    "ax.set_xlabel('MI pupil (pup0_beh)')\n",
    "ax.set_ylabel('MI_unique pupil (pub0_beh)')\n",
    "ax.set_aspect('equal')\n",
    "\n",
    "# set the limits\n",
    "plt.ylim(-0.75, 0.75)\n",
    "plt.xlim(-0.75, 0.75)\n",
    "\n",
    "# need a slope and c to fix the position of line\n",
    "slope = 1\n",
    "c = -0.75\n",
    "\n",
    "x_min, x_max = ax.get_xlim()\n",
    "y_min, y_max = c, c + slope*(x_max-x_min)\n",
    "ax.plot([x_min, x_max], [y_min, y_max], linewidth=0.5, linestyle='--', color='k')\n",
    "ax.set_xlim([x_min, x_max])\n",
    "\n",
    "\n",
    "# add horizontal line\n",
    "slope = 0\n",
    "c = 0\n",
    "\n",
    "x_min, x_max = ax.get_xlim()\n",
    "y_min, y_max = c, c + slope*(x_max-x_min)\n",
    "ax.plot([x_min, x_max], [y_min, y_max], linewidth=0.5, linestyle='--', color='k')\n",
    "ax.set_xlim([x_min, x_max])\n",
    "\n",
    "# add vertical line\n",
    "xposition = 0.00\n",
    "plt.axvline(x=xposition, color='k', linestyle='--', linewidth=0.5)"
   ]
  },
  {
   "cell_type": "code",
   "execution_count": 40,
   "metadata": {},
   "outputs": [
    {
     "data": {
      "image/png": "[encoded data removed]",
      "text/plain": [
       "<Figure size 432x288 with 1 Axes>"
      ]
     },
     "metadata": {},
     "output_type": "display_data"
    }
   ],
   "source": [
    "# Plot unique contribution of behavior in terms of variance explained. \n",
    "\n",
    "d_baseline=d_pup_beh[d_pup_beh['state_chan']=='baseline']\n",
    "d_pupil=d_pup_beh[d_pup_beh['state_chan']=='pupil']\n",
    "d_behavior=d_pup_beh[d_pup_beh['state_chan']=='active']\n",
    "\n",
    "colors=pltcolor(d_pup_beh['sig_var'],'pup')\n",
    "fig, ax = plt.subplots()\n",
    "\n",
    "# plot\n",
    "# set the limits\n",
    "plt.ylim(-0.05, 0.2)\n",
    "plt.xlim(-0.05, 0.2)\n",
    "\n",
    "plt.axhline(0, linestyle='--', linewidth=0.5, color='k')\n",
    "plt.axvline(0, linestyle='--', linewidth=0.5, color='k')\n",
    "plt.plot([-0.05,0.2],[-0.05, 0.2], linestyle='--',linewidth=0.5, color='k')\n",
    "\n",
    "ax.scatter(d_baseline['R2']-d_baseline['R02'],d_pupil['R2']-d_pupil['R02'], color=colors, edgecolors='white')\n",
    "ax.set_xlabel('R2 full-R02 baseline (pup0_beh0)')\n",
    "ax.set_ylabel('R2 pupil (pup0_beh)-R02 pupil (pup0_beh)')\n",
    "ax.set_aspect('equal')"
   ]
  },
  {
   "cell_type": "code",
   "execution_count": null,
   "metadata": {},
   "outputs": [],
   "source": []
  },
  {
   "cell_type": "code",
   "execution_count": null,
   "metadata": {},
   "outputs": [],
   "source": []
  }
 ],
 "metadata": {
  "kernelspec": {
   "display_name": "Python 3",
   "language": "python",
   "name": "python3"
  },
  "language_info": {
   "codemirror_mode": {
    "name": "ipython",
    "version": 3
   },
   "file_extension": ".py",
   "mimetype": "text/x-python",
   "name": "python",
   "nbconvert_exporter": "python",
   "pygments_lexer": "ipython3",
   "version": "3.5.5"
  }
 },
 "nbformat": 4,
 "nbformat_minor": 2
}
