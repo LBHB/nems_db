{
 "cells": [
  {
   "cell_type": "markdown",
   "metadata": {
    "pycharm": {
     "name": "#%% md\n"
    }
   },
   "source": [
    "# Optotagged waveforms\n",
    "pull waveforms form kilosort files and compare between different optotagged units\n"
   ]
  },
  {
   "cell_type": "code",
   "execution_count": 2,
   "metadata": {
    "collapsed": false,
    "jupyter": {
     "outputs_hidden": false
    },
    "pycharm": {
     "name": "#%%\n"
    }
   },
   "outputs": [],
   "source": [
    "import pathlib as pl\n",
    "from configparser import ConfigParser\n",
    "\n",
    "import joblib as jl\n",
    "import matplotlib.pyplot as plt\n",
    "import numpy as np\n",
    "import pandas as pd\n",
    "from IPython.display import display\n",
    "from scipy import interpolate\n",
    "from sklearn.cluster import KMeans\n",
    "from sklearn.mixture import GaussianMixture\n",
    "\n",
    "import nems0.db as nd\n",
    "import nems_lbhb.baphy_io as io\n",
    "# from src.root_path import config_path"
   ]
  },
  {
   "cell_type": "markdown",
   "metadata": {
    "pycharm": {
     "name": "#%% md\n"
    }
   },
   "source": [
    "#### identify phototagged cells\n"
   ]
  },
  {
   "cell_type": "code",
   "execution_count": 3,
   "metadata": {
    "collapsed": false,
    "jupyter": {
     "outputs_hidden": false
    },
    "pycharm": {
     "name": "#%%\n"
    }
   },
   "outputs": [],
   "source": [
    "# plt.style.use(['dark_background', config_path / 'notebook.mplstyle'])\n",
    "# plt.style.use(['default', config_path / 'notebook.mplstyle'])\n",
    "\n",
    "# config = ConfigParser()\n",
    "# config.read_file(open(config_path / 'settings.ini'))"
   ]
  },
  {
   "cell_type": "code",
   "execution_count": 4,
   "metadata": {
    "collapsed": false,
    "jupyter": {
     "outputs_hidden": false
    },
    "pycharm": {
     "name": "#%%\n"
    }
   },
   "outputs": [
    {
     "name": "stderr",
     "output_type": "stream",
     "text": [
      "[numexpr.utils INFO] Note: NumExpr detected 32 cores but \"NUMEXPR_MAX_THREADS\" not set, so enforcing safe limit of 8.\n",
      "[numexpr.utils INFO] NumExpr defaulting to 8 threads.\n"
     ]
    }
   ],
   "source": [
    "runclass = 'NAT'\n",
    "runclass = '%'\n",
    "sql = \"SELECT sCellFile.*,gSingleCell.siteid,gSingleCell.phototag FROM gSingleCell \" +\\\n",
    "      \"INNER JOIN sCellFile ON gSingleCell.id=sCellFile.singleid \" +\\\n",
    "      \"INNER JOIN gRunClass on gRunClass.id=sCellFile.runclassid \" +\\\n",
    "      f\"WHERE gRunClass.name like '{runclass}' AND not(isnull(phototag))\"\n",
    "d = nd.pd_query(sql)\n",
    "d['parmfile'] = d['stimpath'] + d['stimfile']\n",
    "d['animal'] = d['stimpath'].apply(lambda x: x.split('/')[-3])"
   ]
  },
  {
   "cell_type": "markdown",
   "metadata": {
    "pycharm": {
     "name": "#%% md\n"
    }
   },
   "source": [
    "#### select sites and parameter files, and parses optotagging values"
   ]
  },
  {
   "cell_type": "code",
   "execution_count": 8,
   "metadata": {
    "collapsed": false,
    "jupyter": {
     "outputs_hidden": false
    },
    "pycharm": {
     "name": "#%%\n"
    }
   },
   "outputs": [],
   "source": [
    "ff_tag = d.phototag.isin(['a', 's'])\n",
    "tag_df = d.loc[ff_tag, ['cellid', 'phototag', 'animal']].drop_duplicates()"
   ]
  },
  {
   "cell_type": "code",
   "execution_count": 11,
   "metadata": {},
   "outputs": [
    {
     "data": {
      "text/plain": [
       "(579, 3)"
      ]
     },
     "execution_count": 11,
     "metadata": {},
     "output_type": "execute_result"
    }
   ],
   "source": [
    "tag_df.shape"
   ]
  },
  {
   "cell_type": "markdown",
   "metadata": {
    "pycharm": {
     "name": "#%% md\n"
    }
   },
   "source": [
    "#### load recordings, gets tuning curves, organizes in big array"
   ]
  },
  {
   "cell_type": "code",
   "execution_count": 46,
   "metadata": {
    "collapsed": false,
    "jupyter": {
     "outputs_hidden": false
    },
    "pycharm": {
     "name": "#%%\n"
    }
   },
   "outputs": [
    {
     "name": "stdout",
     "output_type": "stream",
     "text": [
      "0.5023866666666668 0.18551819089384528 0.12628 0.1683047680155227 0.6718533333333333 4935\n"
     ]
    }
   ],
   "source": [
    "def get_waveform_metrics(mwf):\n",
    "    \"\"\"\n",
    "    powered by Charlie: Calculates spike width in ms (sw), peak-through ratio (ptr), full width half max in ms (fwhm), end slope (es)\n",
    "    time to base line in ms (bs) and trough in index, all over a smoothed and normazlized waveform (wf)\n",
    "    :param mwf: 1d array of waveform,\n",
    "    :return: sw, prt, fwhm, bs, trough, wf\n",
    "    \"\"\"\n",
    "    fit2 = interpolate.UnivariateSpline(np.arange(len(mwf)), mwf)\n",
    "    mwf = fit2(np.linspace(0, len(mwf), 10000))\n",
    "    mwf /= abs(mwf.min())\n",
    "    wf = mwf\n",
    "    \n",
    "    #if mwf[np.argmax(np.abs(mwf))] > 0:\n",
    "    #    mwf = -mwf\n",
    "        \n",
    "    if mwf[np.argmax(np.abs(mwf))] > 0:\n",
    "        sw = ptr = fwhm = es = bs = trough = np.nan\n",
    "\n",
    "    else:\n",
    "        fs = 10000 / (82 / 30000)\n",
    "        valley = np.argmin(mwf)\n",
    "        peak = np.argmax(mwf[valley:]) + valley\n",
    "        trough = valley\n",
    "\n",
    "        # force 0 to be the mean of the positive waveform preceding the valley\n",
    "        mi = np.argmax(mwf[:valley])\n",
    "        baseline = np.mean(mwf[:mi])\n",
    "        mwf -= baseline\n",
    "\n",
    "        sw = (peak - valley) / fs * 1000  # ms\n",
    "\n",
    "        # get fwhm (of valley)\n",
    "        left = np.argmin(np.abs(mwf[:valley] - (mwf[valley] / 2)))\n",
    "        right = np.argmin(np.abs(mwf[valley:] - (mwf[valley] / 2))) + valley\n",
    "        fwhm = (right - left) / fs * 1000\n",
    "\n",
    "        if mwf[peak] <= 0:\n",
    "            ptr = 0\n",
    "        else:\n",
    "            ptr = abs(mwf[peak]) / abs(mwf[valley])\n",
    "\n",
    "        #0.5 ms ~ 1800 bins\n",
    "        #es.append((((mwf[valley + 850] - mwf[valley + 650])*fs) / (200 * fs)))\n",
    "        #es.append((mwf[valley + 950] - mwf[valley + 900]) / 50)\n",
    "        #es.append((mwf[valley + 1800] - mwf[valley + 1750]) / 50)\n",
    "        #es.append((mwf[valley + 780] - mwf[valley + 750]))\n",
    "        #es.append((mwf[valley + 2200] - mwf[valley + 900]))\n",
    "        es = (mwf[valley + 550] - mwf[valley + 350])\n",
    "        # save time waveform returns to baseline\n",
    "        bs = np.argmin(np.abs(mwf[peak:])) / fs * 1000\n",
    "\n",
    "    return sw, ptr, fwhm, es, bs, trough, wf\n",
    "\n",
    "\n",
    "eg_waveform = io.get_mean_spike_waveform('TNC017a-09-1', 'Teonancatl', usespkfile=True)\n",
    "\n",
    "sw, ptr, fwhm, es, bs, trough, wf = get_waveform_metrics(eg_waveform)\n",
    "print(sw, ptr, fwhm, es, bs, trough)"
   ]
  },
  {
   "cell_type": "code",
   "execution_count": 47,
   "metadata": {
    "collapsed": false,
    "jupyter": {
     "outputs_hidden": false
    },
    "pycharm": {
     "name": "#%%\n"
    },
    "scrolled": true
   },
   "outputs": [
    {
     "name": "stdout",
     "output_type": "stream",
     "text": [
      "loading all waveforms into dataframe ...\n"
     ]
    },
    {
     "name": "stderr",
     "output_type": "stream",
     "text": [
      "/home/svd/bin/miniconda3/envs/tfg/lib/python3.7/site-packages/numpy/core/fromnumeric.py:3335: RuntimeWarning: Mean of empty slice.\n",
      "  out=out, **kwargs)\n",
      "/home/svd/bin/miniconda3/envs/tfg/lib/python3.7/site-packages/numpy/core/_methods.py:161: RuntimeWarning: invalid value encountered in double_scalars\n",
      "  ret = ret.dtype.type(ret / rcount)\n"
     ]
    },
    {
     "name": "stdout",
     "output_type": "stream",
     "text": [
      "done\n"
     ]
    }
   ],
   "source": [
    "print('loading all waveforms into dataframe ...')\n",
    "\n",
    "# df_file = pl.Path(config['paths']['analysis_cache']) / '211028_waveform_summary_df'\n",
    "# recache = True\n",
    "# \n",
    "# if df_file.exists() and recache == False:\n",
    "#     print(f'DF file found\\nloading from {df_file}')\n",
    "#     DF = jl.load(df_file)\n",
    "# else:\n",
    "DF = pd.DataFrame()\n",
    "for _, row in tag_df.iterrows():\n",
    "    mean_waveform = io.get_mean_spike_waveform(row.cellid, row.animal, usespkfile=True)\n",
    "\n",
    "    if mean_waveform.size == 0:\n",
    "        print(f'cant get {row.cellid} waveform')\n",
    "        continue\n",
    "\n",
    "    sw, ptr, fwhm, es, bs, trough, wf = get_waveform_metrics(mean_waveform)\n",
    "\n",
    "    df = pd.DataFrame()\n",
    "    df['cellid'] = (row.cellid,)\n",
    "    df['sw'] = (sw,)\n",
    "    df['ptr'] = (ptr,)\n",
    "    df['fwhm'] = (fwhm,)\n",
    "    df['es'] = (es,)\n",
    "    df['bs'] = (bs,)\n",
    "    df['trough'] = (trough,)\n",
    "    df['waveform'] = (mean_waveform.tolist(),)\n",
    "    df['waveform_norm'] = (wf.tolist(),)\n",
    "    DF = DF.append(df, ignore_index=True)\n",
    "    # jl.dump(DF, df_file)\n",
    "\n",
    "print('done')"
   ]
  },
  {
   "cell_type": "code",
   "execution_count": 48,
   "metadata": {},
   "outputs": [
    {
     "data": {
      "text/html": [
       "<div>\n",
       "<style scoped>\n",
       "    .dataframe tbody tr th:only-of-type {\n",
       "        vertical-align: middle;\n",
       "    }\n",
       "\n",
       "    .dataframe tbody tr th {\n",
       "        vertical-align: top;\n",
       "    }\n",
       "\n",
       "    .dataframe thead th {\n",
       "        text-align: right;\n",
       "    }\n",
       "</style>\n",
       "<table border=\"1\" class=\"dataframe\">\n",
       "  <thead>\n",
       "    <tr style=\"text-align: right;\">\n",
       "      <th></th>\n",
       "      <th>id</th>\n",
       "      <th>cellid</th>\n",
       "      <th>masterid</th>\n",
       "      <th>rawid</th>\n",
       "      <th>celldataid</th>\n",
       "      <th>runclassid</th>\n",
       "      <th>path</th>\n",
       "      <th>resplen</th>\n",
       "      <th>repcount</th>\n",
       "      <th>respfile</th>\n",
       "      <th>...</th>\n",
       "      <th>channum</th>\n",
       "      <th>sortidx</th>\n",
       "      <th>model</th>\n",
       "      <th>stimsnr</th>\n",
       "      <th>area</th>\n",
       "      <th>goodtrials</th>\n",
       "      <th>respZ</th>\n",
       "      <th>respSNR</th>\n",
       "      <th>name</th>\n",
       "      <th>isolation</th>\n",
       "    </tr>\n",
       "  </thead>\n",
       "  <tbody>\n",
       "    <tr>\n",
       "      <th>0</th>\n",
       "      <td>160562</td>\n",
       "      <td>TNC018a-03-5</td>\n",
       "      <td>45727</td>\n",
       "      <td>144226</td>\n",
       "      <td>0</td>\n",
       "      <td>51</td>\n",
       "      <td>/auto/data/daq/Teonancatl/TNC018/sorted/</td>\n",
       "      <td>6082560</td>\n",
       "      <td>2</td>\n",
       "      <td>TNC018a20_p_NON.spk.mat</td>\n",
       "      <td>...</td>\n",
       "      <td>3</td>\n",
       "      <td>1</td>\n",
       "      <td>0</td>\n",
       "      <td>1000</td>\n",
       "      <td>A1</td>\n",
       "      <td></td>\n",
       "      <td>0.0</td>\n",
       "      <td>0.0</td>\n",
       "      <td>NON</td>\n",
       "      <td>100.0</td>\n",
       "    </tr>\n",
       "    <tr>\n",
       "      <th>1</th>\n",
       "      <td>160661</td>\n",
       "      <td>TNC018a-03-5</td>\n",
       "      <td>45727</td>\n",
       "      <td>144227</td>\n",
       "      <td>0</td>\n",
       "      <td>1</td>\n",
       "      <td>/auto/data/daq/Teonancatl/TNC018/sorted/</td>\n",
       "      <td>6142976</td>\n",
       "      <td>2</td>\n",
       "      <td>TNC018a21_p_TOR.spk.mat</td>\n",
       "      <td>...</td>\n",
       "      <td>3</td>\n",
       "      <td>1</td>\n",
       "      <td>0</td>\n",
       "      <td>1000</td>\n",
       "      <td>A1</td>\n",
       "      <td></td>\n",
       "      <td>0.0</td>\n",
       "      <td>0.0</td>\n",
       "      <td>TOR</td>\n",
       "      <td>100.0</td>\n",
       "    </tr>\n",
       "    <tr>\n",
       "      <th>2</th>\n",
       "      <td>160760</td>\n",
       "      <td>TNC018a-03-5</td>\n",
       "      <td>45727</td>\n",
       "      <td>144228</td>\n",
       "      <td>0</td>\n",
       "      <td>1</td>\n",
       "      <td>/auto/data/daq/Teonancatl/TNC018/sorted/</td>\n",
       "      <td>5765120</td>\n",
       "      <td>2</td>\n",
       "      <td>TNC018a22_p_TOR.spk.mat</td>\n",
       "      <td>...</td>\n",
       "      <td>3</td>\n",
       "      <td>1</td>\n",
       "      <td>0</td>\n",
       "      <td>1000</td>\n",
       "      <td>A1</td>\n",
       "      <td></td>\n",
       "      <td>0.0</td>\n",
       "      <td>0.0</td>\n",
       "      <td>TOR</td>\n",
       "      <td>100.0</td>\n",
       "    </tr>\n",
       "    <tr>\n",
       "      <th>3</th>\n",
       "      <td>160859</td>\n",
       "      <td>TNC018a-03-5</td>\n",
       "      <td>45727</td>\n",
       "      <td>144229</td>\n",
       "      <td>0</td>\n",
       "      <td>65</td>\n",
       "      <td>/auto/data/daq/Teonancatl/TNC018/sorted/</td>\n",
       "      <td>5540864</td>\n",
       "      <td>60</td>\n",
       "      <td>TNC018a23_p_BNB.spk.mat</td>\n",
       "      <td>...</td>\n",
       "      <td>3</td>\n",
       "      <td>1</td>\n",
       "      <td>0</td>\n",
       "      <td>1000</td>\n",
       "      <td>A1</td>\n",
       "      <td></td>\n",
       "      <td>0.0</td>\n",
       "      <td>0.0</td>\n",
       "      <td>BNB</td>\n",
       "      <td>100.0</td>\n",
       "    </tr>\n",
       "    <tr>\n",
       "      <th>4</th>\n",
       "      <td>160958</td>\n",
       "      <td>TNC018a-03-5</td>\n",
       "      <td>45727</td>\n",
       "      <td>144230</td>\n",
       "      <td>0</td>\n",
       "      <td>2</td>\n",
       "      <td>/auto/data/daq/Teonancatl/TNC018/sorted/</td>\n",
       "      <td>7538688</td>\n",
       "      <td>6</td>\n",
       "      <td>TNC018a24_p_FTC.spk.mat</td>\n",
       "      <td>...</td>\n",
       "      <td>3</td>\n",
       "      <td>1</td>\n",
       "      <td>0</td>\n",
       "      <td>1000</td>\n",
       "      <td>A1</td>\n",
       "      <td></td>\n",
       "      <td>0.0</td>\n",
       "      <td>0.0</td>\n",
       "      <td>FTC</td>\n",
       "      <td>100.0</td>\n",
       "    </tr>\n",
       "  </tbody>\n",
       "</table>\n",
       "<p>5 rows × 42 columns</p>\n",
       "</div>"
      ],
      "text/plain": [
       "       id        cellid  masterid   rawid  celldataid  runclassid  \\\n",
       "0  160562  TNC018a-03-5     45727  144226           0          51   \n",
       "1  160661  TNC018a-03-5     45727  144227           0           1   \n",
       "2  160760  TNC018a-03-5     45727  144228           0           1   \n",
       "3  160859  TNC018a-03-5     45727  144229           0          65   \n",
       "4  160958  TNC018a-03-5     45727  144230           0           2   \n",
       "\n",
       "                                       path  resplen  repcount  \\\n",
       "0  /auto/data/daq/Teonancatl/TNC018/sorted/  6082560         2   \n",
       "1  /auto/data/daq/Teonancatl/TNC018/sorted/  6142976         2   \n",
       "2  /auto/data/daq/Teonancatl/TNC018/sorted/  5765120         2   \n",
       "3  /auto/data/daq/Teonancatl/TNC018/sorted/  5540864        60   \n",
       "4  /auto/data/daq/Teonancatl/TNC018/sorted/  7538688         6   \n",
       "\n",
       "                  respfile  ... channum  sortidx  model stimsnr  area  \\\n",
       "0  TNC018a20_p_NON.spk.mat  ...       3        1      0    1000    A1   \n",
       "1  TNC018a21_p_TOR.spk.mat  ...       3        1      0    1000    A1   \n",
       "2  TNC018a22_p_TOR.spk.mat  ...       3        1      0    1000    A1   \n",
       "3  TNC018a23_p_BNB.spk.mat  ...       3        1      0    1000    A1   \n",
       "4  TNC018a24_p_FTC.spk.mat  ...       3        1      0    1000    A1   \n",
       "\n",
       "  goodtrials  respZ respSNR  name  isolation  \n",
       "0               0.0     0.0   NON      100.0  \n",
       "1               0.0     0.0   TOR      100.0  \n",
       "2               0.0     0.0   TOR      100.0  \n",
       "3               0.0     0.0   BNB      100.0  \n",
       "4               0.0     0.0   FTC      100.0  \n",
       "\n",
       "[5 rows x 42 columns]"
      ]
     },
     "execution_count": 48,
     "metadata": {},
     "output_type": "execute_result"
    }
   ],
   "source": [
    "d=nd.get_cell_files('TNC018a-03-5')\n",
    "d"
   ]
  },
  {
   "cell_type": "code",
   "execution_count": 49,
   "metadata": {},
   "outputs": [
    {
     "data": {
      "text/html": [
       "<div>\n",
       "<style scoped>\n",
       "    .dataframe tbody tr th:only-of-type {\n",
       "        vertical-align: middle;\n",
       "    }\n",
       "\n",
       "    .dataframe tbody tr th {\n",
       "        vertical-align: top;\n",
       "    }\n",
       "\n",
       "    .dataframe thead th {\n",
       "        text-align: right;\n",
       "    }\n",
       "</style>\n",
       "<table border=\"1\" class=\"dataframe\">\n",
       "  <thead>\n",
       "    <tr style=\"text-align: right;\">\n",
       "      <th></th>\n",
       "      <th>cellid</th>\n",
       "      <th>sw</th>\n",
       "      <th>ptr</th>\n",
       "      <th>fwhm</th>\n",
       "      <th>es</th>\n",
       "      <th>bs</th>\n",
       "      <th>trough</th>\n",
       "      <th>waveform</th>\n",
       "      <th>waveform_norm</th>\n",
       "    </tr>\n",
       "  </thead>\n",
       "  <tbody>\n",
       "    <tr>\n",
       "      <th>525</th>\n",
       "      <td>TNC018a-03-5</td>\n",
       "      <td>0.230693</td>\n",
       "      <td>0.257831</td>\n",
       "      <td>0.157167</td>\n",
       "      <td>0.400173</td>\n",
       "      <td>0.96842</td>\n",
       "      <td>4932.0</td>\n",
       "      <td>(8.680877412615978, 7.497912173739101, 4.75271...</td>\n",
       "      <td>(0.006005972278935233, 0.005982960918519372, 0...</td>\n",
       "    </tr>\n",
       "  </tbody>\n",
       "</table>\n",
       "</div>"
      ],
      "text/plain": [
       "           cellid        sw       ptr      fwhm        es       bs  trough  \\\n",
       "525  TNC018a-03-5  0.230693  0.257831  0.157167  0.400173  0.96842  4932.0   \n",
       "\n",
       "                                              waveform  \\\n",
       "525  (8.680877412615978, 7.497912173739101, 4.75271...   \n",
       "\n",
       "                                         waveform_norm  \n",
       "525  (0.006005972278935233, 0.005982960918519372, 0...  "
      ]
     },
     "execution_count": 49,
     "metadata": {},
     "output_type": "execute_result"
    }
   ],
   "source": [
    "DF.loc[DF.cellid=='TNC018a-03-5']"
   ]
  },
  {
   "cell_type": "code",
   "execution_count": 50,
   "metadata": {},
   "outputs": [
    {
     "data": {
      "text/plain": [
       "((579, 9), (579, 3))"
      ]
     },
     "execution_count": 50,
     "metadata": {},
     "output_type": "execute_result"
    }
   ],
   "source": [
    "DF.shape, tag_df.shape"
   ]
  },
  {
   "cell_type": "code",
   "execution_count": 51,
   "metadata": {},
   "outputs": [
    {
     "data": {
      "image/png": "[encoded data removed]",
      "text/plain": [
       "<Figure size 432x288 with 1 Axes>"
      ]
     },
     "metadata": {
      "needs_background": "light"
     },
     "output_type": "display_data"
    }
   ],
   "source": [
    "merge = pd.merge(DF, tag_df, how='inner', on='cellid', validate='1:1')\n",
    "bad=merge.loc[np.isnan(merge.sw)]\n",
    "plt.figure()\n",
    "plt.plot(bad.iloc[8]['waveform'])\n",
    "plt.title(bad.iloc[8]['cellid']);"
   ]
  },
  {
   "cell_type": "code",
   "execution_count": 52,
   "metadata": {
    "collapsed": false,
    "jupyter": {
     "outputs_hidden": false
    },
    "pycharm": {
     "name": "#%%\n"
    },
    "scrolled": true
   },
   "outputs": [
    {
     "data": {
      "text/plain": [
       "(529, 11)"
      ]
     },
     "execution_count": 52,
     "metadata": {},
     "output_type": "execute_result"
    }
   ],
   "source": [
    "merge = pd.merge(DF, tag_df, how='inner', on='cellid', validate='1:1').dropna()\n",
    "merge.shape"
   ]
  },
  {
   "cell_type": "code",
   "execution_count": 53,
   "metadata": {},
   "outputs": [
    {
     "data": {
      "text/html": [
       "<div>\n",
       "<style scoped>\n",
       "    .dataframe tbody tr th:only-of-type {\n",
       "        vertical-align: middle;\n",
       "    }\n",
       "\n",
       "    .dataframe tbody tr th {\n",
       "        vertical-align: top;\n",
       "    }\n",
       "\n",
       "    .dataframe thead th {\n",
       "        text-align: right;\n",
       "    }\n",
       "</style>\n",
       "<table border=\"1\" class=\"dataframe\">\n",
       "  <thead>\n",
       "    <tr style=\"text-align: right;\">\n",
       "      <th></th>\n",
       "      <th>cellid</th>\n",
       "      <th>sw</th>\n",
       "      <th>ptr</th>\n",
       "      <th>fwhm</th>\n",
       "      <th>es</th>\n",
       "      <th>bs</th>\n",
       "      <th>trough</th>\n",
       "      <th>waveform</th>\n",
       "      <th>waveform_norm</th>\n",
       "      <th>phototag</th>\n",
       "      <th>animal</th>\n",
       "    </tr>\n",
       "  </thead>\n",
       "  <tbody>\n",
       "    <tr>\n",
       "      <th>85</th>\n",
       "      <td>TNC017a-30-3</td>\n",
       "      <td>NaN</td>\n",
       "      <td>NaN</td>\n",
       "      <td>NaN</td>\n",
       "      <td>NaN</td>\n",
       "      <td>NaN</td>\n",
       "      <td>NaN</td>\n",
       "      <td>(20.697993767538673, 12.132017616226626, 10.65...</td>\n",
       "      <td>(0.11640589815555596, 0.11582768819256989, 0.1...</td>\n",
       "      <td>s</td>\n",
       "      <td>Teonancatl</td>\n",
       "    </tr>\n",
       "    <tr>\n",
       "      <th>453</th>\n",
       "      <td>TNC009a-41-3</td>\n",
       "      <td>NaN</td>\n",
       "      <td>NaN</td>\n",
       "      <td>NaN</td>\n",
       "      <td>NaN</td>\n",
       "      <td>NaN</td>\n",
       "      <td>NaN</td>\n",
       "      <td>(-28.28468167486775, -28.46279548655899, -30.2...</td>\n",
       "      <td>(-0.5651280109828521, -0.5650621601064953, -0....</td>\n",
       "      <td>s</td>\n",
       "      <td>Teonancatl</td>\n",
       "    </tr>\n",
       "    <tr>\n",
       "      <th>454</th>\n",
       "      <td>TNC009a-63-1</td>\n",
       "      <td>NaN</td>\n",
       "      <td>NaN</td>\n",
       "      <td>NaN</td>\n",
       "      <td>NaN</td>\n",
       "      <td>NaN</td>\n",
       "      <td>NaN</td>\n",
       "      <td>(-16.855030620263868, -23.889484138970538, -27...</td>\n",
       "      <td>(-0.44803861886559826, -0.4495600519201964, -0...</td>\n",
       "      <td>s</td>\n",
       "      <td>Teonancatl</td>\n",
       "    </tr>\n",
       "    <tr>\n",
       "      <th>455</th>\n",
       "      <td>TNC009a-09-1</td>\n",
       "      <td>NaN</td>\n",
       "      <td>NaN</td>\n",
       "      <td>NaN</td>\n",
       "      <td>NaN</td>\n",
       "      <td>NaN</td>\n",
       "      <td>NaN</td>\n",
       "      <td>(-22.951896781415897, -23.663802357965977, -35...</td>\n",
       "      <td>(-0.5341806382653086, -0.5316932346055524, -0....</td>\n",
       "      <td>s</td>\n",
       "      <td>Teonancatl</td>\n",
       "    </tr>\n",
       "    <tr>\n",
       "      <th>457</th>\n",
       "      <td>TNC009a-15-1</td>\n",
       "      <td>NaN</td>\n",
       "      <td>NaN</td>\n",
       "      <td>NaN</td>\n",
       "      <td>NaN</td>\n",
       "      <td>NaN</td>\n",
       "      <td>NaN</td>\n",
       "      <td>(9.512421344193516, 10.625209691345983, 10.449...</td>\n",
       "      <td>(0.06597612185538822, 0.06594026697512728, 0.0...</td>\n",
       "      <td>s</td>\n",
       "      <td>Teonancatl</td>\n",
       "    </tr>\n",
       "    <tr>\n",
       "      <th>518</th>\n",
       "      <td>TNC008a-33-1</td>\n",
       "      <td>NaN</td>\n",
       "      <td>NaN</td>\n",
       "      <td>NaN</td>\n",
       "      <td>NaN</td>\n",
       "      <td>NaN</td>\n",
       "      <td>NaN</td>\n",
       "      <td>(3.0176692662377733, 0.05551408574443535, -0.1...</td>\n",
       "      <td>(0.014356037459655758, 0.014239896060536604, 0...</td>\n",
       "      <td>s</td>\n",
       "      <td>Teonancatl</td>\n",
       "    </tr>\n",
       "    <tr>\n",
       "      <th>523</th>\n",
       "      <td>TNC018a-03-3</td>\n",
       "      <td>NaN</td>\n",
       "      <td>NaN</td>\n",
       "      <td>NaN</td>\n",
       "      <td>NaN</td>\n",
       "      <td>NaN</td>\n",
       "      <td>NaN</td>\n",
       "      <td>(-43.31578183169092, -38.45399826621038, -34.7...</td>\n",
       "      <td>(-0.26391723663698385, -0.2637078436081522, -0...</td>\n",
       "      <td>s</td>\n",
       "      <td>Teonancatl</td>\n",
       "    </tr>\n",
       "    <tr>\n",
       "      <th>532</th>\n",
       "      <td>TNC018a-10-4</td>\n",
       "      <td>NaN</td>\n",
       "      <td>NaN</td>\n",
       "      <td>NaN</td>\n",
       "      <td>NaN</td>\n",
       "      <td>NaN</td>\n",
       "      <td>NaN</td>\n",
       "      <td>(-17.992872567137667, -16.814310710417132, -14...</td>\n",
       "      <td>(-0.12211253709133639, -0.12188085454603885, -...</td>\n",
       "      <td>s</td>\n",
       "      <td>Teonancatl</td>\n",
       "    </tr>\n",
       "    <tr>\n",
       "      <th>570</th>\n",
       "      <td>TNC018a-39-2</td>\n",
       "      <td>NaN</td>\n",
       "      <td>NaN</td>\n",
       "      <td>NaN</td>\n",
       "      <td>NaN</td>\n",
       "      <td>NaN</td>\n",
       "      <td>NaN</td>\n",
       "      <td>(-30.441155849752285, -36.84419711729809, -40....</td>\n",
       "      <td>(-0.09486708843384896, -0.09502078721586242, -...</td>\n",
       "      <td>a</td>\n",
       "      <td>Teonancatl</td>\n",
       "    </tr>\n",
       "  </tbody>\n",
       "</table>\n",
       "</div>"
      ],
      "text/plain": [
       "           cellid  sw  ptr  fwhm  es  bs  trough  \\\n",
       "85   TNC017a-30-3 NaN  NaN   NaN NaN NaN     NaN   \n",
       "453  TNC009a-41-3 NaN  NaN   NaN NaN NaN     NaN   \n",
       "454  TNC009a-63-1 NaN  NaN   NaN NaN NaN     NaN   \n",
       "455  TNC009a-09-1 NaN  NaN   NaN NaN NaN     NaN   \n",
       "457  TNC009a-15-1 NaN  NaN   NaN NaN NaN     NaN   \n",
       "518  TNC008a-33-1 NaN  NaN   NaN NaN NaN     NaN   \n",
       "523  TNC018a-03-3 NaN  NaN   NaN NaN NaN     NaN   \n",
       "532  TNC018a-10-4 NaN  NaN   NaN NaN NaN     NaN   \n",
       "570  TNC018a-39-2 NaN  NaN   NaN NaN NaN     NaN   \n",
       "\n",
       "                                              waveform  \\\n",
       "85   (20.697993767538673, 12.132017616226626, 10.65...   \n",
       "453  (-28.28468167486775, -28.46279548655899, -30.2...   \n",
       "454  (-16.855030620263868, -23.889484138970538, -27...   \n",
       "455  (-22.951896781415897, -23.663802357965977, -35...   \n",
       "457  (9.512421344193516, 10.625209691345983, 10.449...   \n",
       "518  (3.0176692662377733, 0.05551408574443535, -0.1...   \n",
       "523  (-43.31578183169092, -38.45399826621038, -34.7...   \n",
       "532  (-17.992872567137667, -16.814310710417132, -14...   \n",
       "570  (-30.441155849752285, -36.84419711729809, -40....   \n",
       "\n",
       "                                         waveform_norm phototag      animal  \n",
       "85   (0.11640589815555596, 0.11582768819256989, 0.1...        s  Teonancatl  \n",
       "453  (-0.5651280109828521, -0.5650621601064953, -0....        s  Teonancatl  \n",
       "454  (-0.44803861886559826, -0.4495600519201964, -0...        s  Teonancatl  \n",
       "455  (-0.5341806382653086, -0.5316932346055524, -0....        s  Teonancatl  \n",
       "457  (0.06597612185538822, 0.06594026697512728, 0.0...        s  Teonancatl  \n",
       "518  (0.014356037459655758, 0.014239896060536604, 0...        s  Teonancatl  \n",
       "523  (-0.26391723663698385, -0.2637078436081522, -0...        s  Teonancatl  \n",
       "532  (-0.12211253709133639, -0.12188085454603885, -...        s  Teonancatl  \n",
       "570  (-0.09486708843384896, -0.09502078721586242, -...        a  Teonancatl  "
      ]
     },
     "execution_count": 53,
     "metadata": {},
     "output_type": "execute_result"
    }
   ],
   "source": [
    "bad"
   ]
  },
  {
   "cell_type": "markdown",
   "metadata": {
    "pycharm": {
     "name": "#%% md\n"
    }
   },
   "source": [
    "# Waveform analysis\n",
    "## activated neurons"
   ]
  },
  {
   "cell_type": "code",
   "execution_count": 54,
   "metadata": {},
   "outputs": [],
   "source": [
    "csw = merge['sw'].values  #csw -= csw.mean(); csw /= csw.std(); csw*=10\n",
    "cptr = merge['ptr'].values  #cptr -= cptr.mean(); cptr /= cptr.std()\n",
    "ces = merge['es'].values\n",
    "wf = merge['waveform_norm'].values\n",
    "trough = merge['trough'].values\n",
    "\n",
    "X = np.vstack((csw, cptr, ces)).T\n",
    "kmeans = KMeans(n_clusters=2, random_state=0).fit(X)\n",
    "gmm = GaussianMixture(n_components=2).fit(X)\n",
    "merge['labels'] = gmm.predict(X)\n",
    "merge['wshape'] = \"\"\n",
    "test_width = merge.groupby('labels')['sw'].mean()\n",
    "if test_width.loc[0]>test_width.loc[1]:\n",
    "    merge.loc[merge['labels']==0,'wshape']='RS'\n",
    "    merge.loc[merge['labels']==1,'wshape']='NS'\n",
    "else:\n",
    "    merge.loc[merge['labels']==0,'wshape']='NS'\n",
    "    merge.loc[merge['labels']==1,'wshape']='RS'\n",
    "   \n",
    "merge.drop(columns=['waveform_norm']).to_csv('phototag_waveform_labels.csv')"
   ]
  },
  {
   "cell_type": "code",
   "execution_count": 55,
   "metadata": {},
   "outputs": [
    {
     "data": {
      "text/plain": [
       "wshape\n",
       "NS    0.298987\n",
       "RS    0.722372\n",
       "Name: sw, dtype: float64"
      ]
     },
     "execution_count": 55,
     "metadata": {},
     "output_type": "execute_result"
    }
   ],
   "source": [
    "test_width = merge.groupby('wshape')['sw'].mean()\n",
    "test_width"
   ]
  },
  {
   "cell_type": "code",
   "execution_count": null,
   "metadata": {},
   "outputs": [],
   "source": []
  },
  {
   "cell_type": "code",
   "execution_count": 56,
   "metadata": {},
   "outputs": [
    {
     "data": {
      "text/html": [
       "<div>\n",
       "<style scoped>\n",
       "    .dataframe tbody tr th:only-of-type {\n",
       "        vertical-align: middle;\n",
       "    }\n",
       "\n",
       "    .dataframe tbody tr th {\n",
       "        vertical-align: top;\n",
       "    }\n",
       "\n",
       "    .dataframe thead th {\n",
       "        text-align: right;\n",
       "    }\n",
       "</style>\n",
       "<table border=\"1\" class=\"dataframe\">\n",
       "  <thead>\n",
       "    <tr style=\"text-align: right;\">\n",
       "      <th></th>\n",
       "      <th></th>\n",
       "      <th>cellid</th>\n",
       "      <th>sw</th>\n",
       "      <th>ptr</th>\n",
       "      <th>fwhm</th>\n",
       "      <th>es</th>\n",
       "      <th>bs</th>\n",
       "      <th>trough</th>\n",
       "      <th>waveform</th>\n",
       "      <th>waveform_norm</th>\n",
       "      <th>animal</th>\n",
       "      <th>wshape</th>\n",
       "    </tr>\n",
       "    <tr>\n",
       "      <th>phototag</th>\n",
       "      <th>labels</th>\n",
       "      <th></th>\n",
       "      <th></th>\n",
       "      <th></th>\n",
       "      <th></th>\n",
       "      <th></th>\n",
       "      <th></th>\n",
       "      <th></th>\n",
       "      <th></th>\n",
       "      <th></th>\n",
       "      <th></th>\n",
       "      <th></th>\n",
       "    </tr>\n",
       "  </thead>\n",
       "  <tbody>\n",
       "    <tr>\n",
       "      <th rowspan=\"2\" valign=\"top\">a</th>\n",
       "      <th>0</th>\n",
       "      <td>18</td>\n",
       "      <td>18</td>\n",
       "      <td>18</td>\n",
       "      <td>18</td>\n",
       "      <td>18</td>\n",
       "      <td>18</td>\n",
       "      <td>18</td>\n",
       "      <td>18</td>\n",
       "      <td>18</td>\n",
       "      <td>18</td>\n",
       "      <td>18</td>\n",
       "    </tr>\n",
       "    <tr>\n",
       "      <th>1</th>\n",
       "      <td>29</td>\n",
       "      <td>29</td>\n",
       "      <td>29</td>\n",
       "      <td>29</td>\n",
       "      <td>29</td>\n",
       "      <td>29</td>\n",
       "      <td>29</td>\n",
       "      <td>29</td>\n",
       "      <td>29</td>\n",
       "      <td>29</td>\n",
       "      <td>29</td>\n",
       "    </tr>\n",
       "    <tr>\n",
       "      <th rowspan=\"2\" valign=\"top\">s</th>\n",
       "      <th>0</th>\n",
       "      <td>395</td>\n",
       "      <td>395</td>\n",
       "      <td>395</td>\n",
       "      <td>395</td>\n",
       "      <td>395</td>\n",
       "      <td>395</td>\n",
       "      <td>395</td>\n",
       "      <td>395</td>\n",
       "      <td>395</td>\n",
       "      <td>395</td>\n",
       "      <td>395</td>\n",
       "    </tr>\n",
       "    <tr>\n",
       "      <th>1</th>\n",
       "      <td>87</td>\n",
       "      <td>87</td>\n",
       "      <td>87</td>\n",
       "      <td>87</td>\n",
       "      <td>87</td>\n",
       "      <td>87</td>\n",
       "      <td>87</td>\n",
       "      <td>87</td>\n",
       "      <td>87</td>\n",
       "      <td>87</td>\n",
       "      <td>87</td>\n",
       "    </tr>\n",
       "  </tbody>\n",
       "</table>\n",
       "</div>"
      ],
      "text/plain": [
       "                 cellid   sw  ptr  fwhm   es   bs  trough  waveform  \\\n",
       "phototag labels                                                       \n",
       "a        0           18   18   18    18   18   18      18        18   \n",
       "         1           29   29   29    29   29   29      29        29   \n",
       "s        0          395  395  395   395  395  395     395       395   \n",
       "         1           87   87   87    87   87   87      87        87   \n",
       "\n",
       "                 waveform_norm  animal  wshape  \n",
       "phototag labels                                 \n",
       "a        0                  18      18      18  \n",
       "         1                  29      29      29  \n",
       "s        0                 395     395     395  \n",
       "         1                  87      87      87  "
      ]
     },
     "execution_count": 56,
     "metadata": {},
     "output_type": "execute_result"
    }
   ],
   "source": [
    "merge.groupby(['phototag','labels']).count()\n"
   ]
  },
  {
   "cell_type": "code",
   "execution_count": 75,
   "metadata": {},
   "outputs": [
    {
     "data": {
      "text/html": [
       "<div>\n",
       "<style scoped>\n",
       "    .dataframe tbody tr th:only-of-type {\n",
       "        vertical-align: middle;\n",
       "    }\n",
       "\n",
       "    .dataframe tbody tr th {\n",
       "        vertical-align: top;\n",
       "    }\n",
       "\n",
       "    .dataframe thead th {\n",
       "        text-align: right;\n",
       "    }\n",
       "</style>\n",
       "<table border=\"1\" class=\"dataframe\">\n",
       "  <thead>\n",
       "    <tr style=\"text-align: right;\">\n",
       "      <th></th>\n",
       "      <th>cellid</th>\n",
       "      <th>labels</th>\n",
       "      <th>wshape</th>\n",
       "      <th>sw</th>\n",
       "      <th>phototag</th>\n",
       "    </tr>\n",
       "  </thead>\n",
       "  <tbody>\n",
       "    <tr>\n",
       "      <th>293</th>\n",
       "      <td>TNC018a-01-1</td>\n",
       "      <td>0</td>\n",
       "      <td>RS</td>\n",
       "      <td>0.757680</td>\n",
       "      <td>s</td>\n",
       "    </tr>\n",
       "    <tr>\n",
       "      <th>521</th>\n",
       "      <td>TNC018a-01-2</td>\n",
       "      <td>0</td>\n",
       "      <td>RS</td>\n",
       "      <td>0.791027</td>\n",
       "      <td>s</td>\n",
       "    </tr>\n",
       "    <tr>\n",
       "      <th>292</th>\n",
       "      <td>TNC018a-03-1</td>\n",
       "      <td>1</td>\n",
       "      <td>NS</td>\n",
       "      <td>0.235340</td>\n",
       "      <td>s</td>\n",
       "    </tr>\n",
       "    <tr>\n",
       "      <th>2</th>\n",
       "      <td>TNC018a-03-2</td>\n",
       "      <td>1</td>\n",
       "      <td>NS</td>\n",
       "      <td>0.270600</td>\n",
       "      <td>s</td>\n",
       "    </tr>\n",
       "    <tr>\n",
       "      <th>524</th>\n",
       "      <td>TNC018a-03-4</td>\n",
       "      <td>0</td>\n",
       "      <td>RS</td>\n",
       "      <td>0.777907</td>\n",
       "      <td>s</td>\n",
       "    </tr>\n",
       "    <tr>\n",
       "      <th>525</th>\n",
       "      <td>TNC018a-03-5</td>\n",
       "      <td>1</td>\n",
       "      <td>NS</td>\n",
       "      <td>0.230693</td>\n",
       "      <td>s</td>\n",
       "    </tr>\n",
       "    <tr>\n",
       "      <th>291</th>\n",
       "      <td>TNC018a-04-1</td>\n",
       "      <td>1</td>\n",
       "      <td>NS</td>\n",
       "      <td>0.335380</td>\n",
       "      <td>s</td>\n",
       "    </tr>\n",
       "    <tr>\n",
       "      <th>3</th>\n",
       "      <td>TNC018a-04-2</td>\n",
       "      <td>1</td>\n",
       "      <td>NS</td>\n",
       "      <td>0.318160</td>\n",
       "      <td>s</td>\n",
       "    </tr>\n",
       "    <tr>\n",
       "      <th>290</th>\n",
       "      <td>TNC018a-05-2</td>\n",
       "      <td>0</td>\n",
       "      <td>RS</td>\n",
       "      <td>0.682240</td>\n",
       "      <td>s</td>\n",
       "    </tr>\n",
       "    <tr>\n",
       "      <th>4</th>\n",
       "      <td>TNC018a-05-3</td>\n",
       "      <td>0</td>\n",
       "      <td>RS</td>\n",
       "      <td>0.648620</td>\n",
       "      <td>s</td>\n",
       "    </tr>\n",
       "    <tr>\n",
       "      <th>5</th>\n",
       "      <td>TNC018a-05-4</td>\n",
       "      <td>0</td>\n",
       "      <td>RS</td>\n",
       "      <td>0.611720</td>\n",
       "      <td>s</td>\n",
       "    </tr>\n",
       "    <tr>\n",
       "      <th>526</th>\n",
       "      <td>TNC018a-05-5</td>\n",
       "      <td>0</td>\n",
       "      <td>RS</td>\n",
       "      <td>0.642607</td>\n",
       "      <td>s</td>\n",
       "    </tr>\n",
       "    <tr>\n",
       "      <th>527</th>\n",
       "      <td>TNC018a-06-1</td>\n",
       "      <td>0</td>\n",
       "      <td>RS</td>\n",
       "      <td>0.939173</td>\n",
       "      <td>s</td>\n",
       "    </tr>\n",
       "    <tr>\n",
       "      <th>289</th>\n",
       "      <td>TNC018a-07-3</td>\n",
       "      <td>0</td>\n",
       "      <td>RS</td>\n",
       "      <td>0.791847</td>\n",
       "      <td>s</td>\n",
       "    </tr>\n",
       "    <tr>\n",
       "      <th>6</th>\n",
       "      <td>TNC018a-07-4</td>\n",
       "      <td>0</td>\n",
       "      <td>RS</td>\n",
       "      <td>0.728707</td>\n",
       "      <td>s</td>\n",
       "    </tr>\n",
       "    <tr>\n",
       "      <th>7</th>\n",
       "      <td>TNC018a-07-5</td>\n",
       "      <td>0</td>\n",
       "      <td>RS</td>\n",
       "      <td>0.751120</td>\n",
       "      <td>s</td>\n",
       "    </tr>\n",
       "    <tr>\n",
       "      <th>529</th>\n",
       "      <td>TNC018a-07-9</td>\n",
       "      <td>0</td>\n",
       "      <td>RS</td>\n",
       "      <td>0.661740</td>\n",
       "      <td>s</td>\n",
       "    </tr>\n",
       "    <tr>\n",
       "      <th>288</th>\n",
       "      <td>TNC018a-09-1</td>\n",
       "      <td>0</td>\n",
       "      <td>RS</td>\n",
       "      <td>0.741827</td>\n",
       "      <td>s</td>\n",
       "    </tr>\n",
       "    <tr>\n",
       "      <th>8</th>\n",
       "      <td>TNC018a-09-2</td>\n",
       "      <td>0</td>\n",
       "      <td>RS</td>\n",
       "      <td>0.655180</td>\n",
       "      <td>s</td>\n",
       "    </tr>\n",
       "    <tr>\n",
       "      <th>9</th>\n",
       "      <td>TNC018a-09-3</td>\n",
       "      <td>0</td>\n",
       "      <td>RS</td>\n",
       "      <td>0.739640</td>\n",
       "      <td>s</td>\n",
       "    </tr>\n",
       "    <tr>\n",
       "      <th>10</th>\n",
       "      <td>TNC018a-09-4</td>\n",
       "      <td>0</td>\n",
       "      <td>RS</td>\n",
       "      <td>0.984273</td>\n",
       "      <td>s</td>\n",
       "    </tr>\n",
       "    <tr>\n",
       "      <th>531</th>\n",
       "      <td>TNC018a-09-8</td>\n",
       "      <td>0</td>\n",
       "      <td>RS</td>\n",
       "      <td>0.680053</td>\n",
       "      <td>s</td>\n",
       "    </tr>\n",
       "  </tbody>\n",
       "</table>\n",
       "</div>"
      ],
      "text/plain": [
       "           cellid  labels wshape        sw phototag\n",
       "293  TNC018a-01-1       0     RS  0.757680        s\n",
       "521  TNC018a-01-2       0     RS  0.791027        s\n",
       "292  TNC018a-03-1       1     NS  0.235340        s\n",
       "2    TNC018a-03-2       1     NS  0.270600        s\n",
       "524  TNC018a-03-4       0     RS  0.777907        s\n",
       "525  TNC018a-03-5       1     NS  0.230693        s\n",
       "291  TNC018a-04-1       1     NS  0.335380        s\n",
       "3    TNC018a-04-2       1     NS  0.318160        s\n",
       "290  TNC018a-05-2       0     RS  0.682240        s\n",
       "4    TNC018a-05-3       0     RS  0.648620        s\n",
       "5    TNC018a-05-4       0     RS  0.611720        s\n",
       "526  TNC018a-05-5       0     RS  0.642607        s\n",
       "527  TNC018a-06-1       0     RS  0.939173        s\n",
       "289  TNC018a-07-3       0     RS  0.791847        s\n",
       "6    TNC018a-07-4       0     RS  0.728707        s\n",
       "7    TNC018a-07-5       0     RS  0.751120        s\n",
       "529  TNC018a-07-9       0     RS  0.661740        s\n",
       "288  TNC018a-09-1       0     RS  0.741827        s\n",
       "8    TNC018a-09-2       0     RS  0.655180        s\n",
       "9    TNC018a-09-3       0     RS  0.739640        s\n",
       "10   TNC018a-09-4       0     RS  0.984273        s\n",
       "531  TNC018a-09-8       0     RS  0.680053        s"
      ]
     },
     "execution_count": 75,
     "metadata": {},
     "output_type": "execute_result"
    }
   ],
   "source": [
    "merge.loc[(merge.cellid.str.startswith(\"TNC018a-0\")),['cellid','labels','wshape','sw','phototag']].sort_values(by=['cellid'])"
   ]
  },
  {
   "cell_type": "code",
   "execution_count": 60,
   "metadata": {
    "collapsed": false,
    "jupyter": {
     "outputs_hidden": false
    },
    "pycharm": {
     "name": "#%%\n"
    }
   },
   "outputs": [
    {
     "data": {
      "image/png": "[encoded data removed]",
      "text/plain": [
       "<Figure size 864x288 with 3 Axes>"
      ]
     },
     "metadata": {
      "needs_background": "light"
     },
     "output_type": "display_data"
    }
   ],
   "source": [
    "toplot = merge.loc[merge.phototag == 'a', ['cellid', 'sw', 'ptr', 'es', 'waveform_norm', 'trough']].dropna(axis=0)\n",
    "\n",
    "csw = toplot['sw'].values  #csw -= csw.mean(); csw /= csw.std(); csw*=10\n",
    "cptr = toplot['ptr'].values  #cptr -= cptr.mean(); cptr /= cptr.std()\n",
    "ces = toplot['es'].values\n",
    "wf = toplot['waveform_norm'].values\n",
    "trough = toplot['trough'].values\n",
    "\n",
    "X = np.vstack((csw, cptr, ces)).T\n",
    "kmeans = KMeans(n_clusters=2, random_state=0).fit(X)\n",
    "gmm = GaussianMixture(n_components=2).fit(X)\n",
    "labels = gmm.predict(X)\n",
    "\n",
    "\n",
    "f, ax = plt.subplots(1, 3, figsize=(12, 4))\n",
    "\n",
    "_i = (merge['phototag']=='s')\n",
    "_i1 = (merge['labels'] == 1) & (merge['phototag']=='a')\n",
    "_i0 = (merge['labels'] == 0) & (merge['phototag']=='a')\n",
    "ax[0].scatter(merge.loc[_i1,'sw'], merge.loc[_i1,'es'], s=10)\n",
    "ax[0].scatter(merge.loc[_i0,'sw'], merge.loc[_i0,'es'], s=10)\n",
    "ax[0].scatter(merge.loc[_i,'sw'], merge.loc[_i,'es'], s=10, color='lightgray')\n",
    "ax[0].set_xlabel('Spike width (ms)')\n",
    "ax[0].set_ylabel('Endslope')\n",
    "ax[0].set_title(f\"Group 1: {sum(merge['labels'] == 1)}, Group 2: {sum(merge['labels'] == 0)}\")\n",
    "\n",
    "ax[1].scatter(merge.loc[_i1,'sw'], merge.loc[_i1,'ptr'], s=10)\n",
    "ax[1].scatter(merge.loc[_i0,'sw'], merge.loc[_i0,'ptr'], s=10)\n",
    "ax[1].scatter(merge.loc[_i,'sw'], merge.loc[_i,'ptr'], s=10, color='lightgray')\n",
    "ax[1].set_xlabel('Spike width (ms)')\n",
    "ax[1].set_ylabel('Peak-trough ratio')\n",
    "\n",
    "centered = []\n",
    "fs = 10000 / (82 / 30000)\n",
    "for w, wave in enumerate(wf):\n",
    "    wave = np.asarray(wave)\n",
    "    t = int(trough[w])\n",
    "    wave = wave[t - int(fs * 0.0005):t + int(fs * 0.001)]\n",
    "    time = np.linspace(-.5, 1, wave.shape[0])\n",
    "\n",
    "    if labels[w] == 0:\n",
    "        color = 'moccasin'\n",
    "    else:\n",
    "        color = 'tab:blue'\n",
    "    centered.append(wave)\n",
    "    ax[2].plot(time, wave, color=color, alpha=0.4)\n",
    "\n",
    "ax[2].plot(time, np.stack(centered)[labels == 0, :].mean(axis=0), color='darkorange', lw=3, zorder=500)\n",
    "ax[2].plot(time, np.stack(centered)[labels == 1, :].mean(axis=0), color='navy', lw=3, zorder=500)\n",
    "\n",
    "# categorize as NS / RS -- force Narrow to be label==1\n",
    "if csw[labels == 1].mean() < csw[labels == 0].mean():\n",
    "    ax[2].set_title(f\"NS: {sum(labels == 1)}, RS: {sum(labels == 0)}\")\n",
    "else:\n",
    "    ax[2].set_title(f\"NS: {sum(labels == 0)}, RS: {sum(labels == 1)}\")\n",
    "\n",
    "f.tight_layout()\n",
    "\n",
    "plt.show()"
   ]
  },
  {
   "cell_type": "code",
   "execution_count": null,
   "metadata": {},
   "outputs": [],
   "source": []
  },
  {
   "cell_type": "markdown",
   "metadata": {
    "pycharm": {
     "name": "#%% md\n"
    }
   },
   "source": [
    "## suppresed neurons"
   ]
  },
  {
   "cell_type": "code",
   "execution_count": 61,
   "metadata": {
    "collapsed": false,
    "jupyter": {
     "outputs_hidden": false
    },
    "pycharm": {
     "name": "#%%\n"
    }
   },
   "outputs": [
    {
     "data": {
      "image/png": "[encoded data removed]",
      "text/plain": [
       "<Figure size 864x288 with 3 Axes>"
      ]
     },
     "metadata": {
      "needs_background": "light"
     },
     "output_type": "display_data"
    }
   ],
   "source": [
    "toplot = merge.loc[merge.phototag == 's', ['cellid', 'sw', 'ptr', 'es', 'waveform_norm', 'trough']].dropna(axis=0)\n",
    "\n",
    "csw = toplot['sw'].values  #csw -= csw.mean(); csw /= csw.std(); csw*=10\n",
    "cptr = toplot['ptr'].values  #cptr -= cptr.mean(); cptr /= cptr.std()\n",
    "ces = toplot['es'].values\n",
    "wf = toplot['waveform_norm'].values\n",
    "trough = toplot['trough'].values\n",
    "\n",
    "X = np.vstack((csw, cptr, ces)).T\n",
    "kmeans = KMeans(n_clusters=2, random_state=0).fit(X)\n",
    "gmm = GaussianMixture(n_components=2).fit(X)\n",
    "labels = gmm.predict(X)\n",
    "f, ax = plt.subplots(1, 3, figsize=(12, 4))\n",
    "\n",
    "ax[0].scatter(csw[labels == 1], ces[labels == 1], s=10)\n",
    "ax[0].scatter(csw[labels == 0], ces[labels == 0], s=10)\n",
    "ax[0].set_xlabel('Spike width (ms)')\n",
    "ax[0].set_ylabel('Endslope')\n",
    "ax[0].set_title(f\"Group 1: {sum(labels == 1)}, Group 2: {sum(labels == 0)}\")\n",
    "\n",
    "ax[1].scatter(csw[labels == 1], cptr[labels == 1], s=10)\n",
    "ax[1].scatter(csw[labels == 0], cptr[labels == 0], s=10)\n",
    "ax[1].set_xlabel('Spike width (ms)')\n",
    "ax[1].set_ylabel('Peak-trough ratio')\n",
    "\n",
    "centered = []\n",
    "fs = 10000 / (82 / 30000)\n",
    "for w, wave in enumerate(wf):\n",
    "    wave = np.asarray(wave)\n",
    "    t = int(trough[w])\n",
    "    wave = wave[t - int(fs * 0.0005):t + int(fs * 0.001)]\n",
    "    time = np.linspace(-.5, 1, wave.shape[0])\n",
    "\n",
    "    if labels[w] == 0:\n",
    "        color = 'moccasin'\n",
    "    else:\n",
    "        color = 'tab:blue'\n",
    "    centered.append(wave)\n",
    "    ax[2].plot(time, wave, color=color, alpha=0.4)\n",
    "\n",
    "ax[2].plot(time, np.stack(centered)[labels == 0, :].mean(axis=0), color='darkorange', lw=3, zorder=500)\n",
    "ax[2].plot(time, np.stack(centered)[labels == 1, :].mean(axis=0), color='navy', lw=3, zorder=500)\n",
    "\n",
    "# categorize as NS / RS -- force Narrow to be label==1\n",
    "if csw[labels == 1].mean() < csw[labels == 0].mean():\n",
    "    ax[2].set_title(f\"NS: {sum(labels == 1)}, RS: {sum(labels == 0)}\")\n",
    "else:\n",
    "    ax[2].set_title(f\"NS: {sum(labels == 0)}, RS: {sum(labels == 1)}\")\n",
    "\n",
    "f.tight_layout()\n",
    "\n",
    "plt.show()"
   ]
  },
  {
   "cell_type": "code",
   "execution_count": 128,
   "metadata": {
    "collapsed": false,
    "jupyter": {
     "outputs_hidden": false
    },
    "pycharm": {
     "name": "#%%\n"
    }
   },
   "outputs": [],
   "source": []
  }
 ],
 "metadata": {
  "kernelspec": {
   "display_name": "Python 3",
   "language": "python",
   "name": "python3"
  },
  "language_info": {
   "codemirror_mode": {
    "name": "ipython",
    "version": 3
   },
   "file_extension": ".py",
   "mimetype": "text/x-python",
   "name": "python",
   "nbconvert_exporter": "python",
   "pygments_lexer": "ipython3",
   "version": "3.7.6"
  }
 },
 "nbformat": 4,
 "nbformat_minor": 4
}
