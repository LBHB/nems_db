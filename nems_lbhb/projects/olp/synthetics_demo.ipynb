{
 "cells": [
  {
   "cell_type": "code",
   "execution_count": 1,
   "id": "71410c50-1b31-4678-8e01-aed334498590",
   "metadata": {},
   "outputs": [
    {
     "name": "stderr",
     "output_type": "stream",
     "text": [
      "[numexpr.utils INFO] Note: NumExpr detected 20 cores but \"NUMEXPR_MAX_THREADS\" not set, so enforcing safe limit of 8.\n",
      "[numexpr.utils INFO] NumExpr defaulting to 8 threads.\n"
     ]
    }
   ],
   "source": [
    "import os, glob\n",
    "import matplotlib.pyplot as plt\n",
    "\n",
    "from nems0 import db, recording\n",
    "import nems0.epoch as ep\n",
    "from nems_lbhb import baphy_experiment"
   ]
  },
  {
   "cell_type": "code",
   "execution_count": 2,
   "id": "88fa33ed-122f-4a82-a80a-504124c02224",
   "metadata": {},
   "outputs": [],
   "source": [
    "basepath = '/auto/users/svd/projects/synthesis/OLP_synth_data'\n",
    "filelist = glob.glob(os.path.join(basepath,'*'))"
   ]
  },
  {
   "cell_type": "code",
   "execution_count": 4,
   "id": "c572486d-6d74-43bd-8bee-288e0bdc3b93",
   "metadata": {},
   "outputs": [
    {
     "name": "stdout",
     "output_type": "stream",
     "text": [
      "/auto/users/svd/projects/synthesis/OLP_synth_data/CLT027c_8608f652f7300566e229857fe22377058f96ace9.tgz\n"
     ]
    }
   ],
   "source": [
    "filepath = filelist[0]\n",
    "print(filepath)"
   ]
  },
  {
   "cell_type": "code",
   "execution_count": 5,
   "id": "564aaf92-7325-40d0-ade5-7d4731b1af8c",
   "metadata": {},
   "outputs": [],
   "source": [
    "rec = recording.load_recording(filepath)"
   ]
  },
  {
   "cell_type": "code",
   "execution_count": 6,
   "id": "d8b51d73-3aaf-4230-be15-1541c83d8870",
   "metadata": {},
   "outputs": [
    {
     "data": {
      "text/html": [
       "<div>\n",
       "<style scoped>\n",
       "    .dataframe tbody tr th:only-of-type {\n",
       "        vertical-align: middle;\n",
       "    }\n",
       "\n",
       "    .dataframe tbody tr th {\n",
       "        vertical-align: top;\n",
       "    }\n",
       "\n",
       "    .dataframe thead th {\n",
       "        text-align: right;\n",
       "    }\n",
       "</style>\n",
       "<table border=\"1\" class=\"dataframe\">\n",
       "  <thead>\n",
       "    <tr style=\"text-align: right;\">\n",
       "      <th></th>\n",
       "      <th>name</th>\n",
       "      <th>start</th>\n",
       "      <th>end</th>\n",
       "    </tr>\n",
       "  </thead>\n",
       "  <tbody>\n",
       "    <tr>\n",
       "      <th>0</th>\n",
       "      <td>PASSIVE_EXPERIMENT</td>\n",
       "      <td>0.00</td>\n",
       "      <td>1689.410</td>\n",
       "    </tr>\n",
       "    <tr>\n",
       "      <th>1</th>\n",
       "      <td>FILE_CLT027c12_p_OLP</td>\n",
       "      <td>0.00</td>\n",
       "      <td>1689.410</td>\n",
       "    </tr>\n",
       "    <tr>\n",
       "      <th>2</th>\n",
       "      <td>TRIAL</td>\n",
       "      <td>0.00</td>\n",
       "      <td>10.101</td>\n",
       "    </tr>\n",
       "    <tr>\n",
       "      <th>3</th>\n",
       "      <td>BAPHYTRIAL1_FILE1</td>\n",
       "      <td>0.00</td>\n",
       "      <td>10.101</td>\n",
       "    </tr>\n",
       "    <tr>\n",
       "      <th>4</th>\n",
       "      <td>STIM_27Chainsaw-0-1-1-A_01FightSqueak-0-1-1-A</td>\n",
       "      <td>0.00</td>\n",
       "      <td>2.000</td>\n",
       "    </tr>\n",
       "    <tr>\n",
       "      <th>...</th>\n",
       "      <td>...</td>\n",
       "      <td>...</td>\n",
       "      <td>...</td>\n",
       "    </tr>\n",
       "    <tr>\n",
       "      <th>3397</th>\n",
       "      <td>PostStimSilence</td>\n",
       "      <td>1686.81</td>\n",
       "      <td>1687.310</td>\n",
       "    </tr>\n",
       "    <tr>\n",
       "      <th>3398</th>\n",
       "      <td>STIM_08Waterfall-0-1-1-T_null</td>\n",
       "      <td>1687.31</td>\n",
       "      <td>1689.310</td>\n",
       "    </tr>\n",
       "    <tr>\n",
       "      <th>3399</th>\n",
       "      <td>REFERENCE</td>\n",
       "      <td>1687.31</td>\n",
       "      <td>1689.310</td>\n",
       "    </tr>\n",
       "    <tr>\n",
       "      <th>3400</th>\n",
       "      <td>PreStimSilence</td>\n",
       "      <td>1687.31</td>\n",
       "      <td>1687.810</td>\n",
       "    </tr>\n",
       "    <tr>\n",
       "      <th>3401</th>\n",
       "      <td>PostStimSilence</td>\n",
       "      <td>1688.81</td>\n",
       "      <td>1689.310</td>\n",
       "    </tr>\n",
       "  </tbody>\n",
       "</table>\n",
       "<p>3402 rows × 3 columns</p>\n",
       "</div>"
      ],
      "text/plain": [
       "                                               name    start       end\n",
       "0                                PASSIVE_EXPERIMENT     0.00  1689.410\n",
       "1                              FILE_CLT027c12_p_OLP     0.00  1689.410\n",
       "2                                             TRIAL     0.00    10.101\n",
       "3                                 BAPHYTRIAL1_FILE1     0.00    10.101\n",
       "4     STIM_27Chainsaw-0-1-1-A_01FightSqueak-0-1-1-A     0.00     2.000\n",
       "...                                             ...      ...       ...\n",
       "3397                                PostStimSilence  1686.81  1687.310\n",
       "3398                  STIM_08Waterfall-0-1-1-T_null  1687.31  1689.310\n",
       "3399                                      REFERENCE  1687.31  1689.310\n",
       "3400                                 PreStimSilence  1687.31  1687.810\n",
       "3401                                PostStimSilence  1688.81  1689.310\n",
       "\n",
       "[3402 rows x 3 columns]"
      ]
     },
     "execution_count": 6,
     "metadata": {},
     "output_type": "execute_result"
    }
   ],
   "source": [
    "resp=rec['resp'].rasterize()\n",
    "stim=rec['stim'].rasterize()\n",
    "resp.epochs"
   ]
  },
  {
   "cell_type": "code",
   "execution_count": 11,
   "id": "a97deba3-cb96-4047-abe5-6095c6f31c75",
   "metadata": {},
   "outputs": [
    {
     "name": "stdout",
     "output_type": "stream",
     "text": [
      "['STIM_08Waterfall-0-1-1-A_01FightSqueak-0-1-1-A', 'STIM_08Waterfall-0-1-1-A_34Castinets-0-1-1-A', 'STIM_08Waterfall-0-1-1-A_38ManA-0-1-1-A', 'STIM_08Waterfall-0-1-1-A_null', 'STIM_08Waterfall-0-1-1-C_01FightSqueak-0-1-1-C', 'STIM_08Waterfall-0-1-1-C_34Castinets-0-1-1-C', 'STIM_08Waterfall-0-1-1-C_38ManA-0-1-1-C', 'STIM_08Waterfall-0-1-1-C_null', 'STIM_08Waterfall-0-1-1-M_01FightSqueak-0-1-1-M', 'STIM_08Waterfall-0-1-1-M_34Castinets-0-1-1-M', 'STIM_08Waterfall-0-1-1-M_38ManA-0-1-1-M', 'STIM_08Waterfall-0-1-1-M_null', 'STIM_08Waterfall-0-1-1-N_01FightSqueak-0-1-1-N', 'STIM_08Waterfall-0-1-1-N_34Castinets-0-1-1-N', 'STIM_08Waterfall-0-1-1-N_38ManA-0-1-1-N', 'STIM_08Waterfall-0-1-1-N_null', 'STIM_08Waterfall-0-1-1-S_01FightSqueak-0-1-1-S', 'STIM_08Waterfall-0-1-1-S_34Castinets-0-1-1-S', 'STIM_08Waterfall-0-1-1-S_38ManA-0-1-1-S', 'STIM_08Waterfall-0-1-1-S_null', 'STIM_08Waterfall-0-1-1-T_01FightSqueak-0-1-1-T', 'STIM_08Waterfall-0-1-1-T_34Castinets-0-1-1-T', 'STIM_08Waterfall-0-1-1-T_38ManA-0-1-1-T', 'STIM_08Waterfall-0-1-1-T_null', 'STIM_08Waterfall-0-1-1-U_01FightSqueak-0-1-1-U', 'STIM_08Waterfall-0-1-1-U_34Castinets-0-1-1-U', 'STIM_08Waterfall-0-1-1-U_38ManA-0-1-1-U', 'STIM_08Waterfall-0-1-1-U_null', 'STIM_27Chainsaw-0-1-1-A_01FightSqueak-0-1-1-A', 'STIM_27Chainsaw-0-1-1-A_34Castinets-0-1-1-A', 'STIM_27Chainsaw-0-1-1-A_38ManA-0-1-1-A', 'STIM_27Chainsaw-0-1-1-A_null', 'STIM_27Chainsaw-0-1-1-C_01FightSqueak-0-1-1-C', 'STIM_27Chainsaw-0-1-1-C_34Castinets-0-1-1-C', 'STIM_27Chainsaw-0-1-1-C_38ManA-0-1-1-C', 'STIM_27Chainsaw-0-1-1-C_null', 'STIM_27Chainsaw-0-1-1-M_01FightSqueak-0-1-1-M', 'STIM_27Chainsaw-0-1-1-M_34Castinets-0-1-1-M', 'STIM_27Chainsaw-0-1-1-M_38ManA-0-1-1-M', 'STIM_27Chainsaw-0-1-1-M_null', 'STIM_27Chainsaw-0-1-1-N_01FightSqueak-0-1-1-N', 'STIM_27Chainsaw-0-1-1-N_34Castinets-0-1-1-N', 'STIM_27Chainsaw-0-1-1-N_38ManA-0-1-1-N', 'STIM_27Chainsaw-0-1-1-N_null', 'STIM_27Chainsaw-0-1-1-S_01FightSqueak-0-1-1-S', 'STIM_27Chainsaw-0-1-1-S_34Castinets-0-1-1-S', 'STIM_27Chainsaw-0-1-1-S_38ManA-0-1-1-S', 'STIM_27Chainsaw-0-1-1-S_null', 'STIM_27Chainsaw-0-1-1-T_01FightSqueak-0-1-1-T', 'STIM_27Chainsaw-0-1-1-T_34Castinets-0-1-1-T', 'STIM_27Chainsaw-0-1-1-T_38ManA-0-1-1-T', 'STIM_27Chainsaw-0-1-1-T_null', 'STIM_27Chainsaw-0-1-1-U_01FightSqueak-0-1-1-U', 'STIM_27Chainsaw-0-1-1-U_34Castinets-0-1-1-U', 'STIM_27Chainsaw-0-1-1-U_38ManA-0-1-1-U', 'STIM_27Chainsaw-0-1-1-U_null', 'STIM_null_01FightSqueak-0-1-1-A', 'STIM_null_01FightSqueak-0-1-1-C', 'STIM_null_01FightSqueak-0-1-1-M', 'STIM_null_01FightSqueak-0-1-1-N', 'STIM_null_01FightSqueak-0-1-1-S', 'STIM_null_01FightSqueak-0-1-1-T', 'STIM_null_01FightSqueak-0-1-1-U', 'STIM_null_34Castinets-0-1-1-A', 'STIM_null_34Castinets-0-1-1-C', 'STIM_null_34Castinets-0-1-1-M', 'STIM_null_34Castinets-0-1-1-N', 'STIM_null_34Castinets-0-1-1-S', 'STIM_null_34Castinets-0-1-1-T', 'STIM_null_34Castinets-0-1-1-U', 'STIM_null_38ManA-0-1-1-A', 'STIM_null_38ManA-0-1-1-C', 'STIM_null_38ManA-0-1-1-M', 'STIM_null_38ManA-0-1-1-N', 'STIM_null_38ManA-0-1-1-S', 'STIM_null_38ManA-0-1-1-T', 'STIM_null_38ManA-0-1-1-U']\n"
     ]
    }
   ],
   "source": [
    "stim_epochs = ep.epoch_names_matching(resp.epochs,\"^STIM_\")\n",
    "print(stim_epochs)"
   ]
  },
  {
   "cell_type": "code",
   "execution_count": 24,
   "id": "82e0f226-da46-42a9-b934-4b23000ea899",
   "metadata": {},
   "outputs": [
    {
     "data": {
      "text/plain": [
       "((10, 30, 200), (32, 200))"
      ]
     },
     "execution_count": 24,
     "metadata": {},
     "output_type": "execute_result"
    }
   ],
   "source": [
    "e1 = 'STIM_null_01FightSqueak-0-1-1-A'\n",
    "e2 = 'STIM_null_01FightSqueak-0-1-1-S'\n",
    "e3 = 'STIM_null_01FightSqueak-0-1-1-C'\n",
    "r1 = resp.extract_epoch(e1)\n",
    "s1 = stim.extract_epoch(e1)[0]  # only need one copy of the stimulus spectrogram\n",
    "r2 = resp.extract_epoch(e2)\n",
    "s2 = stim.extract_epoch(e2)[0]  # only need one copy of the stimulus spectrogram\n",
    "r3 = resp.extract_epoch(e3)\n",
    "s3 = stim.extract_epoch(e3)[0]  # only need one copy of the stimulus spectrogram\n",
    "r1.shape, s1.shape\n"
   ]
  },
  {
   "cell_type": "code",
   "execution_count": 27,
   "id": "8d2bb3a0-1f3b-45f3-bc9c-f1cf175bf0b5",
   "metadata": {},
   "outputs": [
    {
     "data": {
      "text/plain": [
       "Text(0, 0.5, 'spikes/sec')"
      ]
     },
     "execution_count": 27,
     "metadata": {},
     "output_type": "execute_result"
    },
    {
     "data": {
      "image/png": "[encoded data removed]",
      "text/plain": [
       "<Figure size 800x300 with 6 Axes>"
      ]
     },
     "metadata": {},
     "output_type": "display_data"
    }
   ],
   "source": [
    "ri = 10\n",
    "fs = resp.fs\n",
    "f,ax = plt.subplots(2,3, figsize=(8,3), \n",
    "                    sharex=True, sharey='row')\n",
    "ax[0,0].imshow(s1, origin='lower', cmap='gray_r')\n",
    "ax[0,0].set_title(f\"stim {e1}, unit={ri}\", fontsize=8)\n",
    "ax[0,1].imshow(s2, origin='lower', cmap='gray_r')\n",
    "ax[0,1].set_title(f\"stim {e2}, unit={ri}\", fontsize=8);\n",
    "ax[0,2].imshow(s3, origin='lower', cmap='gray_r')\n",
    "ax[0,2].set_title(f\"stim {e3}, unit={ri}\", fontsize=8);\n",
    "\n",
    "ax[1,0].plot(r1[:,ri,:].mean(axis=0)*fs)\n",
    "ax[1,1].plot(r2[:,ri,:].mean(axis=0)*fs)\n",
    "ax[1,2].plot(r3[:,ri,:].mean(axis=0)*fs)\n",
    "ax[1,0].set_ylabel('spikes/sec')"
   ]
  },
  {
   "cell_type": "code",
   "execution_count": null,
   "id": "8ce5866a-895f-47fa-b8b0-e314bf87926c",
   "metadata": {},
   "outputs": [],
   "source": []
  }
 ],
 "metadata": {
  "kernelspec": {
   "display_name": "Python 3 (ipykernel)",
   "language": "python",
   "name": "python3"
  },
  "language_info": {
   "codemirror_mode": {
    "name": "ipython",
    "version": 3
   },
   "file_extension": ".py",
   "mimetype": "text/x-python",
   "name": "python",
   "nbconvert_exporter": "python",
   "pygments_lexer": "ipython3",
   "version": "3.9.16"
  }
 },
 "nbformat": 4,
 "nbformat_minor": 5
}
